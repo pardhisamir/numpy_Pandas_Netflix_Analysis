{
 "cells": [
  {
   "cell_type": "markdown",
   "id": "fdc69556",
   "metadata": {},
   "source": [
    "## Importing libaries and Data"
   ]
  },
  {
   "cell_type": "code",
   "execution_count": 37,
   "id": "8412bd01",
   "metadata": {},
   "outputs": [],
   "source": [
    "import numpy as np\n",
    "import pandas as pd\n",
    "import warnings\n",
    "import plotly.express as ps\n",
    "from textblob import TextBlob"
   ]
  },
  {
   "cell_type": "code",
   "execution_count": 21,
   "id": "f5950010",
   "metadata": {},
   "outputs": [],
   "source": [
    "df=pd.read_csv(r'C:\\Users\\Ravindra\\Downloads\\sp\\netflix_titles.csv')"
   ]
  },
  {
   "cell_type": "markdown",
   "id": "c6ddc800",
   "metadata": {},
   "source": [
    "## checking the number of rows and columns of data"
   ]
  },
  {
   "cell_type": "code",
   "execution_count": 113,
   "id": "b3607b08",
   "metadata": {},
   "outputs": [
    {
     "data": {
      "text/plain": [
       "(8807, 12)"
      ]
     },
     "execution_count": 113,
     "metadata": {},
     "output_type": "execute_result"
    }
   ],
   "source": [
    "df.shape"
   ]
  },
  {
   "cell_type": "code",
   "execution_count": 22,
   "id": "28853fb1",
   "metadata": {},
   "outputs": [
    {
     "data": {
      "text/html": [
       "<div>\n",
       "<style scoped>\n",
       "    .dataframe tbody tr th:only-of-type {\n",
       "        vertical-align: middle;\n",
       "    }\n",
       "\n",
       "    .dataframe tbody tr th {\n",
       "        vertical-align: top;\n",
       "    }\n",
       "\n",
       "    .dataframe thead th {\n",
       "        text-align: right;\n",
       "    }\n",
       "</style>\n",
       "<table border=\"1\" class=\"dataframe\">\n",
       "  <thead>\n",
       "    <tr style=\"text-align: right;\">\n",
       "      <th></th>\n",
       "      <th>show_id</th>\n",
       "      <th>type</th>\n",
       "      <th>title</th>\n",
       "      <th>director</th>\n",
       "      <th>cast</th>\n",
       "      <th>country</th>\n",
       "      <th>date_added</th>\n",
       "      <th>release_year</th>\n",
       "      <th>rating</th>\n",
       "      <th>duration</th>\n",
       "      <th>listed_in</th>\n",
       "      <th>description</th>\n",
       "    </tr>\n",
       "  </thead>\n",
       "  <tbody>\n",
       "    <tr>\n",
       "      <th>0</th>\n",
       "      <td>s1</td>\n",
       "      <td>Movie</td>\n",
       "      <td>Dick Johnson Is Dead</td>\n",
       "      <td>Kirsten Johnson</td>\n",
       "      <td>NaN</td>\n",
       "      <td>United States</td>\n",
       "      <td>September 25, 2021</td>\n",
       "      <td>2020</td>\n",
       "      <td>PG-13</td>\n",
       "      <td>90 min</td>\n",
       "      <td>Documentaries</td>\n",
       "      <td>As her father nears the end of his life, filmm...</td>\n",
       "    </tr>\n",
       "    <tr>\n",
       "      <th>1</th>\n",
       "      <td>s2</td>\n",
       "      <td>TV Show</td>\n",
       "      <td>Blood &amp; Water</td>\n",
       "      <td>NaN</td>\n",
       "      <td>Ama Qamata, Khosi Ngema, Gail Mabalane, Thaban...</td>\n",
       "      <td>South Africa</td>\n",
       "      <td>September 24, 2021</td>\n",
       "      <td>2021</td>\n",
       "      <td>TV-MA</td>\n",
       "      <td>2 Seasons</td>\n",
       "      <td>International TV Shows, TV Dramas, TV Mysteries</td>\n",
       "      <td>After crossing paths at a party, a Cape Town t...</td>\n",
       "    </tr>\n",
       "    <tr>\n",
       "      <th>2</th>\n",
       "      <td>s3</td>\n",
       "      <td>TV Show</td>\n",
       "      <td>Ganglands</td>\n",
       "      <td>Julien Leclercq</td>\n",
       "      <td>Sami Bouajila, Tracy Gotoas, Samuel Jouy, Nabi...</td>\n",
       "      <td>NaN</td>\n",
       "      <td>September 24, 2021</td>\n",
       "      <td>2021</td>\n",
       "      <td>TV-MA</td>\n",
       "      <td>1 Season</td>\n",
       "      <td>Crime TV Shows, International TV Shows, TV Act...</td>\n",
       "      <td>To protect his family from a powerful drug lor...</td>\n",
       "    </tr>\n",
       "    <tr>\n",
       "      <th>3</th>\n",
       "      <td>s4</td>\n",
       "      <td>TV Show</td>\n",
       "      <td>Jailbirds New Orleans</td>\n",
       "      <td>NaN</td>\n",
       "      <td>NaN</td>\n",
       "      <td>NaN</td>\n",
       "      <td>September 24, 2021</td>\n",
       "      <td>2021</td>\n",
       "      <td>TV-MA</td>\n",
       "      <td>1 Season</td>\n",
       "      <td>Docuseries, Reality TV</td>\n",
       "      <td>Feuds, flirtations and toilet talk go down amo...</td>\n",
       "    </tr>\n",
       "    <tr>\n",
       "      <th>4</th>\n",
       "      <td>s5</td>\n",
       "      <td>TV Show</td>\n",
       "      <td>Kota Factory</td>\n",
       "      <td>NaN</td>\n",
       "      <td>Mayur More, Jitendra Kumar, Ranjan Raj, Alam K...</td>\n",
       "      <td>India</td>\n",
       "      <td>September 24, 2021</td>\n",
       "      <td>2021</td>\n",
       "      <td>TV-MA</td>\n",
       "      <td>2 Seasons</td>\n",
       "      <td>International TV Shows, Romantic TV Shows, TV ...</td>\n",
       "      <td>In a city of coaching centers known to train I...</td>\n",
       "    </tr>\n",
       "    <tr>\n",
       "      <th>...</th>\n",
       "      <td>...</td>\n",
       "      <td>...</td>\n",
       "      <td>...</td>\n",
       "      <td>...</td>\n",
       "      <td>...</td>\n",
       "      <td>...</td>\n",
       "      <td>...</td>\n",
       "      <td>...</td>\n",
       "      <td>...</td>\n",
       "      <td>...</td>\n",
       "      <td>...</td>\n",
       "      <td>...</td>\n",
       "    </tr>\n",
       "    <tr>\n",
       "      <th>8802</th>\n",
       "      <td>s8803</td>\n",
       "      <td>Movie</td>\n",
       "      <td>Zodiac</td>\n",
       "      <td>David Fincher</td>\n",
       "      <td>Mark Ruffalo, Jake Gyllenhaal, Robert Downey J...</td>\n",
       "      <td>United States</td>\n",
       "      <td>November 20, 2019</td>\n",
       "      <td>2007</td>\n",
       "      <td>R</td>\n",
       "      <td>158 min</td>\n",
       "      <td>Cult Movies, Dramas, Thrillers</td>\n",
       "      <td>A political cartoonist, a crime reporter and a...</td>\n",
       "    </tr>\n",
       "    <tr>\n",
       "      <th>8803</th>\n",
       "      <td>s8804</td>\n",
       "      <td>TV Show</td>\n",
       "      <td>Zombie Dumb</td>\n",
       "      <td>NaN</td>\n",
       "      <td>NaN</td>\n",
       "      <td>NaN</td>\n",
       "      <td>July 1, 2019</td>\n",
       "      <td>2018</td>\n",
       "      <td>TV-Y7</td>\n",
       "      <td>2 Seasons</td>\n",
       "      <td>Kids' TV, Korean TV Shows, TV Comedies</td>\n",
       "      <td>While living alone in a spooky town, a young g...</td>\n",
       "    </tr>\n",
       "    <tr>\n",
       "      <th>8804</th>\n",
       "      <td>s8805</td>\n",
       "      <td>Movie</td>\n",
       "      <td>Zombieland</td>\n",
       "      <td>Ruben Fleischer</td>\n",
       "      <td>Jesse Eisenberg, Woody Harrelson, Emma Stone, ...</td>\n",
       "      <td>United States</td>\n",
       "      <td>November 1, 2019</td>\n",
       "      <td>2009</td>\n",
       "      <td>R</td>\n",
       "      <td>88 min</td>\n",
       "      <td>Comedies, Horror Movies</td>\n",
       "      <td>Looking to survive in a world taken over by zo...</td>\n",
       "    </tr>\n",
       "    <tr>\n",
       "      <th>8805</th>\n",
       "      <td>s8806</td>\n",
       "      <td>Movie</td>\n",
       "      <td>Zoom</td>\n",
       "      <td>Peter Hewitt</td>\n",
       "      <td>Tim Allen, Courteney Cox, Chevy Chase, Kate Ma...</td>\n",
       "      <td>United States</td>\n",
       "      <td>January 11, 2020</td>\n",
       "      <td>2006</td>\n",
       "      <td>PG</td>\n",
       "      <td>88 min</td>\n",
       "      <td>Children &amp; Family Movies, Comedies</td>\n",
       "      <td>Dragged from civilian life, a former superhero...</td>\n",
       "    </tr>\n",
       "    <tr>\n",
       "      <th>8806</th>\n",
       "      <td>s8807</td>\n",
       "      <td>Movie</td>\n",
       "      <td>Zubaan</td>\n",
       "      <td>Mozez Singh</td>\n",
       "      <td>Vicky Kaushal, Sarah-Jane Dias, Raaghav Chanan...</td>\n",
       "      <td>India</td>\n",
       "      <td>March 2, 2019</td>\n",
       "      <td>2015</td>\n",
       "      <td>TV-14</td>\n",
       "      <td>111 min</td>\n",
       "      <td>Dramas, International Movies, Music &amp; Musicals</td>\n",
       "      <td>A scrappy but poor boy worms his way into a ty...</td>\n",
       "    </tr>\n",
       "  </tbody>\n",
       "</table>\n",
       "<p>8807 rows × 12 columns</p>\n",
       "</div>"
      ],
      "text/plain": [
       "     show_id     type                  title         director  \\\n",
       "0         s1    Movie   Dick Johnson Is Dead  Kirsten Johnson   \n",
       "1         s2  TV Show          Blood & Water              NaN   \n",
       "2         s3  TV Show              Ganglands  Julien Leclercq   \n",
       "3         s4  TV Show  Jailbirds New Orleans              NaN   \n",
       "4         s5  TV Show           Kota Factory              NaN   \n",
       "...      ...      ...                    ...              ...   \n",
       "8802   s8803    Movie                 Zodiac    David Fincher   \n",
       "8803   s8804  TV Show            Zombie Dumb              NaN   \n",
       "8804   s8805    Movie             Zombieland  Ruben Fleischer   \n",
       "8805   s8806    Movie                   Zoom     Peter Hewitt   \n",
       "8806   s8807    Movie                 Zubaan      Mozez Singh   \n",
       "\n",
       "                                                   cast        country  \\\n",
       "0                                                   NaN  United States   \n",
       "1     Ama Qamata, Khosi Ngema, Gail Mabalane, Thaban...   South Africa   \n",
       "2     Sami Bouajila, Tracy Gotoas, Samuel Jouy, Nabi...            NaN   \n",
       "3                                                   NaN            NaN   \n",
       "4     Mayur More, Jitendra Kumar, Ranjan Raj, Alam K...          India   \n",
       "...                                                 ...            ...   \n",
       "8802  Mark Ruffalo, Jake Gyllenhaal, Robert Downey J...  United States   \n",
       "8803                                                NaN            NaN   \n",
       "8804  Jesse Eisenberg, Woody Harrelson, Emma Stone, ...  United States   \n",
       "8805  Tim Allen, Courteney Cox, Chevy Chase, Kate Ma...  United States   \n",
       "8806  Vicky Kaushal, Sarah-Jane Dias, Raaghav Chanan...          India   \n",
       "\n",
       "              date_added  release_year rating   duration  \\\n",
       "0     September 25, 2021          2020  PG-13     90 min   \n",
       "1     September 24, 2021          2021  TV-MA  2 Seasons   \n",
       "2     September 24, 2021          2021  TV-MA   1 Season   \n",
       "3     September 24, 2021          2021  TV-MA   1 Season   \n",
       "4     September 24, 2021          2021  TV-MA  2 Seasons   \n",
       "...                  ...           ...    ...        ...   \n",
       "8802   November 20, 2019          2007      R    158 min   \n",
       "8803        July 1, 2019          2018  TV-Y7  2 Seasons   \n",
       "8804    November 1, 2019          2009      R     88 min   \n",
       "8805    January 11, 2020          2006     PG     88 min   \n",
       "8806       March 2, 2019          2015  TV-14    111 min   \n",
       "\n",
       "                                              listed_in  \\\n",
       "0                                         Documentaries   \n",
       "1       International TV Shows, TV Dramas, TV Mysteries   \n",
       "2     Crime TV Shows, International TV Shows, TV Act...   \n",
       "3                                Docuseries, Reality TV   \n",
       "4     International TV Shows, Romantic TV Shows, TV ...   \n",
       "...                                                 ...   \n",
       "8802                     Cult Movies, Dramas, Thrillers   \n",
       "8803             Kids' TV, Korean TV Shows, TV Comedies   \n",
       "8804                            Comedies, Horror Movies   \n",
       "8805                 Children & Family Movies, Comedies   \n",
       "8806     Dramas, International Movies, Music & Musicals   \n",
       "\n",
       "                                            description  \n",
       "0     As her father nears the end of his life, filmm...  \n",
       "1     After crossing paths at a party, a Cape Town t...  \n",
       "2     To protect his family from a powerful drug lor...  \n",
       "3     Feuds, flirtations and toilet talk go down amo...  \n",
       "4     In a city of coaching centers known to train I...  \n",
       "...                                                 ...  \n",
       "8802  A political cartoonist, a crime reporter and a...  \n",
       "8803  While living alone in a spooky town, a young g...  \n",
       "8804  Looking to survive in a world taken over by zo...  \n",
       "8805  Dragged from civilian life, a former superhero...  \n",
       "8806  A scrappy but poor boy worms his way into a ty...  \n",
       "\n",
       "[8807 rows x 12 columns]"
      ]
     },
     "execution_count": 22,
     "metadata": {},
     "output_type": "execute_result"
    }
   ],
   "source": [
    "df"
   ]
  },
  {
   "cell_type": "code",
   "execution_count": 24,
   "id": "9e5a48cc",
   "metadata": {},
   "outputs": [
    {
     "data": {
      "text/html": [
       "<div>\n",
       "<style scoped>\n",
       "    .dataframe tbody tr th:only-of-type {\n",
       "        vertical-align: middle;\n",
       "    }\n",
       "\n",
       "    .dataframe tbody tr th {\n",
       "        vertical-align: top;\n",
       "    }\n",
       "\n",
       "    .dataframe thead th {\n",
       "        text-align: right;\n",
       "    }\n",
       "</style>\n",
       "<table border=\"1\" class=\"dataframe\">\n",
       "  <thead>\n",
       "    <tr style=\"text-align: right;\">\n",
       "      <th></th>\n",
       "      <th>show_id</th>\n",
       "      <th>type</th>\n",
       "      <th>title</th>\n",
       "      <th>director</th>\n",
       "      <th>cast</th>\n",
       "      <th>country</th>\n",
       "      <th>date_added</th>\n",
       "      <th>release_year</th>\n",
       "      <th>rating</th>\n",
       "      <th>duration</th>\n",
       "      <th>listed_in</th>\n",
       "      <th>description</th>\n",
       "    </tr>\n",
       "  </thead>\n",
       "  <tbody>\n",
       "    <tr>\n",
       "      <th>0</th>\n",
       "      <td>s1</td>\n",
       "      <td>Movie</td>\n",
       "      <td>Dick Johnson Is Dead</td>\n",
       "      <td>Kirsten Johnson</td>\n",
       "      <td>NaN</td>\n",
       "      <td>United States</td>\n",
       "      <td>September 25, 2021</td>\n",
       "      <td>2020</td>\n",
       "      <td>PG-13</td>\n",
       "      <td>90 min</td>\n",
       "      <td>Documentaries</td>\n",
       "      <td>As her father nears the end of his life, filmm...</td>\n",
       "    </tr>\n",
       "    <tr>\n",
       "      <th>1</th>\n",
       "      <td>s2</td>\n",
       "      <td>TV Show</td>\n",
       "      <td>Blood &amp; Water</td>\n",
       "      <td>NaN</td>\n",
       "      <td>Ama Qamata, Khosi Ngema, Gail Mabalane, Thaban...</td>\n",
       "      <td>South Africa</td>\n",
       "      <td>September 24, 2021</td>\n",
       "      <td>2021</td>\n",
       "      <td>TV-MA</td>\n",
       "      <td>2 Seasons</td>\n",
       "      <td>International TV Shows, TV Dramas, TV Mysteries</td>\n",
       "      <td>After crossing paths at a party, a Cape Town t...</td>\n",
       "    </tr>\n",
       "    <tr>\n",
       "      <th>2</th>\n",
       "      <td>s3</td>\n",
       "      <td>TV Show</td>\n",
       "      <td>Ganglands</td>\n",
       "      <td>Julien Leclercq</td>\n",
       "      <td>Sami Bouajila, Tracy Gotoas, Samuel Jouy, Nabi...</td>\n",
       "      <td>NaN</td>\n",
       "      <td>September 24, 2021</td>\n",
       "      <td>2021</td>\n",
       "      <td>TV-MA</td>\n",
       "      <td>1 Season</td>\n",
       "      <td>Crime TV Shows, International TV Shows, TV Act...</td>\n",
       "      <td>To protect his family from a powerful drug lor...</td>\n",
       "    </tr>\n",
       "    <tr>\n",
       "      <th>3</th>\n",
       "      <td>s4</td>\n",
       "      <td>TV Show</td>\n",
       "      <td>Jailbirds New Orleans</td>\n",
       "      <td>NaN</td>\n",
       "      <td>NaN</td>\n",
       "      <td>NaN</td>\n",
       "      <td>September 24, 2021</td>\n",
       "      <td>2021</td>\n",
       "      <td>TV-MA</td>\n",
       "      <td>1 Season</td>\n",
       "      <td>Docuseries, Reality TV</td>\n",
       "      <td>Feuds, flirtations and toilet talk go down amo...</td>\n",
       "    </tr>\n",
       "    <tr>\n",
       "      <th>4</th>\n",
       "      <td>s5</td>\n",
       "      <td>TV Show</td>\n",
       "      <td>Kota Factory</td>\n",
       "      <td>NaN</td>\n",
       "      <td>Mayur More, Jitendra Kumar, Ranjan Raj, Alam K...</td>\n",
       "      <td>India</td>\n",
       "      <td>September 24, 2021</td>\n",
       "      <td>2021</td>\n",
       "      <td>TV-MA</td>\n",
       "      <td>2 Seasons</td>\n",
       "      <td>International TV Shows, Romantic TV Shows, TV ...</td>\n",
       "      <td>In a city of coaching centers known to train I...</td>\n",
       "    </tr>\n",
       "  </tbody>\n",
       "</table>\n",
       "</div>"
      ],
      "text/plain": [
       "  show_id     type                  title         director  \\\n",
       "0      s1    Movie   Dick Johnson Is Dead  Kirsten Johnson   \n",
       "1      s2  TV Show          Blood & Water              NaN   \n",
       "2      s3  TV Show              Ganglands  Julien Leclercq   \n",
       "3      s4  TV Show  Jailbirds New Orleans              NaN   \n",
       "4      s5  TV Show           Kota Factory              NaN   \n",
       "\n",
       "                                                cast        country  \\\n",
       "0                                                NaN  United States   \n",
       "1  Ama Qamata, Khosi Ngema, Gail Mabalane, Thaban...   South Africa   \n",
       "2  Sami Bouajila, Tracy Gotoas, Samuel Jouy, Nabi...            NaN   \n",
       "3                                                NaN            NaN   \n",
       "4  Mayur More, Jitendra Kumar, Ranjan Raj, Alam K...          India   \n",
       "\n",
       "           date_added  release_year rating   duration  \\\n",
       "0  September 25, 2021          2020  PG-13     90 min   \n",
       "1  September 24, 2021          2021  TV-MA  2 Seasons   \n",
       "2  September 24, 2021          2021  TV-MA   1 Season   \n",
       "3  September 24, 2021          2021  TV-MA   1 Season   \n",
       "4  September 24, 2021          2021  TV-MA  2 Seasons   \n",
       "\n",
       "                                           listed_in  \\\n",
       "0                                      Documentaries   \n",
       "1    International TV Shows, TV Dramas, TV Mysteries   \n",
       "2  Crime TV Shows, International TV Shows, TV Act...   \n",
       "3                             Docuseries, Reality TV   \n",
       "4  International TV Shows, Romantic TV Shows, TV ...   \n",
       "\n",
       "                                         description  \n",
       "0  As her father nears the end of his life, filmm...  \n",
       "1  After crossing paths at a party, a Cape Town t...  \n",
       "2  To protect his family from a powerful drug lor...  \n",
       "3  Feuds, flirtations and toilet talk go down amo...  \n",
       "4  In a city of coaching centers known to train I...  "
      ]
     },
     "execution_count": 24,
     "metadata": {},
     "output_type": "execute_result"
    }
   ],
   "source": [
    "df.head()"
   ]
  },
  {
   "cell_type": "code",
   "execution_count": 25,
   "id": "2b664d81",
   "metadata": {},
   "outputs": [
    {
     "data": {
      "text/plain": [
       "Index(['show_id', 'type', 'title', 'director', 'cast', 'country', 'date_added',\n",
       "       'release_year', 'rating', 'duration', 'listed_in', 'description'],\n",
       "      dtype='object')"
      ]
     },
     "execution_count": 25,
     "metadata": {},
     "output_type": "execute_result"
    }
   ],
   "source": [
    "df.columns"
   ]
  },
  {
   "cell_type": "markdown",
   "id": "d8788bec",
   "metadata": {},
   "source": [
    "#### copying the original dataset for analysis"
   ]
  },
  {
   "cell_type": "code",
   "execution_count": 26,
   "id": "88f1deb9",
   "metadata": {},
   "outputs": [],
   "source": [
    "data=df.copy()"
   ]
  },
  {
   "cell_type": "markdown",
   "id": "6b62d97f",
   "metadata": {},
   "source": [
    "## Creating a pie chart based on content ratings"
   ]
  },
  {
   "cell_type": "code",
   "execution_count": 27,
   "id": "b2ef398c",
   "metadata": {},
   "outputs": [],
   "source": [
    "x=data.groupby(['rating']).size().reset_index(name='counts')"
   ]
  },
  {
   "cell_type": "code",
   "execution_count": 28,
   "id": "e9a1cc8c",
   "metadata": {},
   "outputs": [
    {
     "data": {
      "text/html": [
       "<div>\n",
       "<style scoped>\n",
       "    .dataframe tbody tr th:only-of-type {\n",
       "        vertical-align: middle;\n",
       "    }\n",
       "\n",
       "    .dataframe tbody tr th {\n",
       "        vertical-align: top;\n",
       "    }\n",
       "\n",
       "    .dataframe thead th {\n",
       "        text-align: right;\n",
       "    }\n",
       "</style>\n",
       "<table border=\"1\" class=\"dataframe\">\n",
       "  <thead>\n",
       "    <tr style=\"text-align: right;\">\n",
       "      <th></th>\n",
       "      <th>rating</th>\n",
       "      <th>counts</th>\n",
       "    </tr>\n",
       "  </thead>\n",
       "  <tbody>\n",
       "    <tr>\n",
       "      <th>0</th>\n",
       "      <td>66 min</td>\n",
       "      <td>1</td>\n",
       "    </tr>\n",
       "    <tr>\n",
       "      <th>1</th>\n",
       "      <td>74 min</td>\n",
       "      <td>1</td>\n",
       "    </tr>\n",
       "    <tr>\n",
       "      <th>2</th>\n",
       "      <td>84 min</td>\n",
       "      <td>1</td>\n",
       "    </tr>\n",
       "    <tr>\n",
       "      <th>3</th>\n",
       "      <td>G</td>\n",
       "      <td>41</td>\n",
       "    </tr>\n",
       "    <tr>\n",
       "      <th>4</th>\n",
       "      <td>NC-17</td>\n",
       "      <td>3</td>\n",
       "    </tr>\n",
       "    <tr>\n",
       "      <th>5</th>\n",
       "      <td>NR</td>\n",
       "      <td>80</td>\n",
       "    </tr>\n",
       "    <tr>\n",
       "      <th>6</th>\n",
       "      <td>PG</td>\n",
       "      <td>287</td>\n",
       "    </tr>\n",
       "    <tr>\n",
       "      <th>7</th>\n",
       "      <td>PG-13</td>\n",
       "      <td>490</td>\n",
       "    </tr>\n",
       "    <tr>\n",
       "      <th>8</th>\n",
       "      <td>R</td>\n",
       "      <td>799</td>\n",
       "    </tr>\n",
       "    <tr>\n",
       "      <th>9</th>\n",
       "      <td>TV-14</td>\n",
       "      <td>2160</td>\n",
       "    </tr>\n",
       "    <tr>\n",
       "      <th>10</th>\n",
       "      <td>TV-G</td>\n",
       "      <td>220</td>\n",
       "    </tr>\n",
       "    <tr>\n",
       "      <th>11</th>\n",
       "      <td>TV-MA</td>\n",
       "      <td>3207</td>\n",
       "    </tr>\n",
       "    <tr>\n",
       "      <th>12</th>\n",
       "      <td>TV-PG</td>\n",
       "      <td>863</td>\n",
       "    </tr>\n",
       "    <tr>\n",
       "      <th>13</th>\n",
       "      <td>TV-Y</td>\n",
       "      <td>307</td>\n",
       "    </tr>\n",
       "    <tr>\n",
       "      <th>14</th>\n",
       "      <td>TV-Y7</td>\n",
       "      <td>334</td>\n",
       "    </tr>\n",
       "    <tr>\n",
       "      <th>15</th>\n",
       "      <td>TV-Y7-FV</td>\n",
       "      <td>6</td>\n",
       "    </tr>\n",
       "    <tr>\n",
       "      <th>16</th>\n",
       "      <td>UR</td>\n",
       "      <td>3</td>\n",
       "    </tr>\n",
       "  </tbody>\n",
       "</table>\n",
       "</div>"
      ],
      "text/plain": [
       "      rating  counts\n",
       "0     66 min       1\n",
       "1     74 min       1\n",
       "2     84 min       1\n",
       "3          G      41\n",
       "4      NC-17       3\n",
       "5         NR      80\n",
       "6         PG     287\n",
       "7      PG-13     490\n",
       "8          R     799\n",
       "9      TV-14    2160\n",
       "10      TV-G     220\n",
       "11     TV-MA    3207\n",
       "12     TV-PG     863\n",
       "13      TV-Y     307\n",
       "14     TV-Y7     334\n",
       "15  TV-Y7-FV       6\n",
       "16        UR       3"
      ]
     },
     "execution_count": 28,
     "metadata": {},
     "output_type": "execute_result"
    }
   ],
   "source": [
    "x"
   ]
  },
  {
   "cell_type": "code",
   "execution_count": 29,
   "id": "d28b0ed8",
   "metadata": {},
   "outputs": [],
   "source": [
    "import matplotlib.pyplot as plt"
   ]
  },
  {
   "cell_type": "code",
   "execution_count": 71,
   "id": "0ea4a04b",
   "metadata": {},
   "outputs": [
    {
     "data": {
      "application/vnd.plotly.v1+json": {
       "config": {
        "plotlyServerURL": "https://plot.ly"
       },
       "data": [
        {
         "domain": {
          "x": [
           0,
           1
          ],
          "y": [
           0,
           1
          ]
         },
         "hovertemplate": "rating=%{label}<br>counts=%{value}<extra></extra>",
         "labels": [
          "66 min",
          "74 min",
          "84 min",
          "G",
          "NC-17",
          "NR",
          "PG",
          "PG-13",
          "R",
          "TV-14",
          "TV-G",
          "TV-MA",
          "TV-PG",
          "TV-Y",
          "TV-Y7",
          "TV-Y7-FV",
          "UR"
         ],
         "legendgroup": "",
         "name": "",
         "showlegend": true,
         "type": "pie",
         "values": [
          1,
          1,
          1,
          41,
          3,
          80,
          287,
          490,
          799,
          2160,
          220,
          3207,
          863,
          307,
          334,
          6,
          3
         ]
        }
       ],
       "layout": {
        "legend": {
         "tracegroupgap": 0
        },
        "template": {
         "data": {
          "bar": [
           {
            "error_x": {
             "color": "#2a3f5f"
            },
            "error_y": {
             "color": "#2a3f5f"
            },
            "marker": {
             "line": {
              "color": "#E5ECF6",
              "width": 0.5
             },
             "pattern": {
              "fillmode": "overlay",
              "size": 10,
              "solidity": 0.2
             }
            },
            "type": "bar"
           }
          ],
          "barpolar": [
           {
            "marker": {
             "line": {
              "color": "#E5ECF6",
              "width": 0.5
             },
             "pattern": {
              "fillmode": "overlay",
              "size": 10,
              "solidity": 0.2
             }
            },
            "type": "barpolar"
           }
          ],
          "carpet": [
           {
            "aaxis": {
             "endlinecolor": "#2a3f5f",
             "gridcolor": "white",
             "linecolor": "white",
             "minorgridcolor": "white",
             "startlinecolor": "#2a3f5f"
            },
            "baxis": {
             "endlinecolor": "#2a3f5f",
             "gridcolor": "white",
             "linecolor": "white",
             "minorgridcolor": "white",
             "startlinecolor": "#2a3f5f"
            },
            "type": "carpet"
           }
          ],
          "choropleth": [
           {
            "colorbar": {
             "outlinewidth": 0,
             "ticks": ""
            },
            "type": "choropleth"
           }
          ],
          "contour": [
           {
            "colorbar": {
             "outlinewidth": 0,
             "ticks": ""
            },
            "colorscale": [
             [
              0,
              "#0d0887"
             ],
             [
              0.1111111111111111,
              "#46039f"
             ],
             [
              0.2222222222222222,
              "#7201a8"
             ],
             [
              0.3333333333333333,
              "#9c179e"
             ],
             [
              0.4444444444444444,
              "#bd3786"
             ],
             [
              0.5555555555555556,
              "#d8576b"
             ],
             [
              0.6666666666666666,
              "#ed7953"
             ],
             [
              0.7777777777777778,
              "#fb9f3a"
             ],
             [
              0.8888888888888888,
              "#fdca26"
             ],
             [
              1,
              "#f0f921"
             ]
            ],
            "type": "contour"
           }
          ],
          "contourcarpet": [
           {
            "colorbar": {
             "outlinewidth": 0,
             "ticks": ""
            },
            "type": "contourcarpet"
           }
          ],
          "heatmap": [
           {
            "colorbar": {
             "outlinewidth": 0,
             "ticks": ""
            },
            "colorscale": [
             [
              0,
              "#0d0887"
             ],
             [
              0.1111111111111111,
              "#46039f"
             ],
             [
              0.2222222222222222,
              "#7201a8"
             ],
             [
              0.3333333333333333,
              "#9c179e"
             ],
             [
              0.4444444444444444,
              "#bd3786"
             ],
             [
              0.5555555555555556,
              "#d8576b"
             ],
             [
              0.6666666666666666,
              "#ed7953"
             ],
             [
              0.7777777777777778,
              "#fb9f3a"
             ],
             [
              0.8888888888888888,
              "#fdca26"
             ],
             [
              1,
              "#f0f921"
             ]
            ],
            "type": "heatmap"
           }
          ],
          "heatmapgl": [
           {
            "colorbar": {
             "outlinewidth": 0,
             "ticks": ""
            },
            "colorscale": [
             [
              0,
              "#0d0887"
             ],
             [
              0.1111111111111111,
              "#46039f"
             ],
             [
              0.2222222222222222,
              "#7201a8"
             ],
             [
              0.3333333333333333,
              "#9c179e"
             ],
             [
              0.4444444444444444,
              "#bd3786"
             ],
             [
              0.5555555555555556,
              "#d8576b"
             ],
             [
              0.6666666666666666,
              "#ed7953"
             ],
             [
              0.7777777777777778,
              "#fb9f3a"
             ],
             [
              0.8888888888888888,
              "#fdca26"
             ],
             [
              1,
              "#f0f921"
             ]
            ],
            "type": "heatmapgl"
           }
          ],
          "histogram": [
           {
            "marker": {
             "pattern": {
              "fillmode": "overlay",
              "size": 10,
              "solidity": 0.2
             }
            },
            "type": "histogram"
           }
          ],
          "histogram2d": [
           {
            "colorbar": {
             "outlinewidth": 0,
             "ticks": ""
            },
            "colorscale": [
             [
              0,
              "#0d0887"
             ],
             [
              0.1111111111111111,
              "#46039f"
             ],
             [
              0.2222222222222222,
              "#7201a8"
             ],
             [
              0.3333333333333333,
              "#9c179e"
             ],
             [
              0.4444444444444444,
              "#bd3786"
             ],
             [
              0.5555555555555556,
              "#d8576b"
             ],
             [
              0.6666666666666666,
              "#ed7953"
             ],
             [
              0.7777777777777778,
              "#fb9f3a"
             ],
             [
              0.8888888888888888,
              "#fdca26"
             ],
             [
              1,
              "#f0f921"
             ]
            ],
            "type": "histogram2d"
           }
          ],
          "histogram2dcontour": [
           {
            "colorbar": {
             "outlinewidth": 0,
             "ticks": ""
            },
            "colorscale": [
             [
              0,
              "#0d0887"
             ],
             [
              0.1111111111111111,
              "#46039f"
             ],
             [
              0.2222222222222222,
              "#7201a8"
             ],
             [
              0.3333333333333333,
              "#9c179e"
             ],
             [
              0.4444444444444444,
              "#bd3786"
             ],
             [
              0.5555555555555556,
              "#d8576b"
             ],
             [
              0.6666666666666666,
              "#ed7953"
             ],
             [
              0.7777777777777778,
              "#fb9f3a"
             ],
             [
              0.8888888888888888,
              "#fdca26"
             ],
             [
              1,
              "#f0f921"
             ]
            ],
            "type": "histogram2dcontour"
           }
          ],
          "mesh3d": [
           {
            "colorbar": {
             "outlinewidth": 0,
             "ticks": ""
            },
            "type": "mesh3d"
           }
          ],
          "parcoords": [
           {
            "line": {
             "colorbar": {
              "outlinewidth": 0,
              "ticks": ""
             }
            },
            "type": "parcoords"
           }
          ],
          "pie": [
           {
            "automargin": true,
            "type": "pie"
           }
          ],
          "scatter": [
           {
            "fillpattern": {
             "fillmode": "overlay",
             "size": 10,
             "solidity": 0.2
            },
            "type": "scatter"
           }
          ],
          "scatter3d": [
           {
            "line": {
             "colorbar": {
              "outlinewidth": 0,
              "ticks": ""
             }
            },
            "marker": {
             "colorbar": {
              "outlinewidth": 0,
              "ticks": ""
             }
            },
            "type": "scatter3d"
           }
          ],
          "scattercarpet": [
           {
            "marker": {
             "colorbar": {
              "outlinewidth": 0,
              "ticks": ""
             }
            },
            "type": "scattercarpet"
           }
          ],
          "scattergeo": [
           {
            "marker": {
             "colorbar": {
              "outlinewidth": 0,
              "ticks": ""
             }
            },
            "type": "scattergeo"
           }
          ],
          "scattergl": [
           {
            "marker": {
             "colorbar": {
              "outlinewidth": 0,
              "ticks": ""
             }
            },
            "type": "scattergl"
           }
          ],
          "scattermapbox": [
           {
            "marker": {
             "colorbar": {
              "outlinewidth": 0,
              "ticks": ""
             }
            },
            "type": "scattermapbox"
           }
          ],
          "scatterpolar": [
           {
            "marker": {
             "colorbar": {
              "outlinewidth": 0,
              "ticks": ""
             }
            },
            "type": "scatterpolar"
           }
          ],
          "scatterpolargl": [
           {
            "marker": {
             "colorbar": {
              "outlinewidth": 0,
              "ticks": ""
             }
            },
            "type": "scatterpolargl"
           }
          ],
          "scatterternary": [
           {
            "marker": {
             "colorbar": {
              "outlinewidth": 0,
              "ticks": ""
             }
            },
            "type": "scatterternary"
           }
          ],
          "surface": [
           {
            "colorbar": {
             "outlinewidth": 0,
             "ticks": ""
            },
            "colorscale": [
             [
              0,
              "#0d0887"
             ],
             [
              0.1111111111111111,
              "#46039f"
             ],
             [
              0.2222222222222222,
              "#7201a8"
             ],
             [
              0.3333333333333333,
              "#9c179e"
             ],
             [
              0.4444444444444444,
              "#bd3786"
             ],
             [
              0.5555555555555556,
              "#d8576b"
             ],
             [
              0.6666666666666666,
              "#ed7953"
             ],
             [
              0.7777777777777778,
              "#fb9f3a"
             ],
             [
              0.8888888888888888,
              "#fdca26"
             ],
             [
              1,
              "#f0f921"
             ]
            ],
            "type": "surface"
           }
          ],
          "table": [
           {
            "cells": {
             "fill": {
              "color": "#EBF0F8"
             },
             "line": {
              "color": "white"
             }
            },
            "header": {
             "fill": {
              "color": "#C8D4E3"
             },
             "line": {
              "color": "white"
             }
            },
            "type": "table"
           }
          ]
         },
         "layout": {
          "annotationdefaults": {
           "arrowcolor": "#2a3f5f",
           "arrowhead": 0,
           "arrowwidth": 1
          },
          "autotypenumbers": "strict",
          "coloraxis": {
           "colorbar": {
            "outlinewidth": 0,
            "ticks": ""
           }
          },
          "colorscale": {
           "diverging": [
            [
             0,
             "#8e0152"
            ],
            [
             0.1,
             "#c51b7d"
            ],
            [
             0.2,
             "#de77ae"
            ],
            [
             0.3,
             "#f1b6da"
            ],
            [
             0.4,
             "#fde0ef"
            ],
            [
             0.5,
             "#f7f7f7"
            ],
            [
             0.6,
             "#e6f5d0"
            ],
            [
             0.7,
             "#b8e186"
            ],
            [
             0.8,
             "#7fbc41"
            ],
            [
             0.9,
             "#4d9221"
            ],
            [
             1,
             "#276419"
            ]
           ],
           "sequential": [
            [
             0,
             "#0d0887"
            ],
            [
             0.1111111111111111,
             "#46039f"
            ],
            [
             0.2222222222222222,
             "#7201a8"
            ],
            [
             0.3333333333333333,
             "#9c179e"
            ],
            [
             0.4444444444444444,
             "#bd3786"
            ],
            [
             0.5555555555555556,
             "#d8576b"
            ],
            [
             0.6666666666666666,
             "#ed7953"
            ],
            [
             0.7777777777777778,
             "#fb9f3a"
            ],
            [
             0.8888888888888888,
             "#fdca26"
            ],
            [
             1,
             "#f0f921"
            ]
           ],
           "sequentialminus": [
            [
             0,
             "#0d0887"
            ],
            [
             0.1111111111111111,
             "#46039f"
            ],
            [
             0.2222222222222222,
             "#7201a8"
            ],
            [
             0.3333333333333333,
             "#9c179e"
            ],
            [
             0.4444444444444444,
             "#bd3786"
            ],
            [
             0.5555555555555556,
             "#d8576b"
            ],
            [
             0.6666666666666666,
             "#ed7953"
            ],
            [
             0.7777777777777778,
             "#fb9f3a"
            ],
            [
             0.8888888888888888,
             "#fdca26"
            ],
            [
             1,
             "#f0f921"
            ]
           ]
          },
          "colorway": [
           "#636efa",
           "#EF553B",
           "#00cc96",
           "#ab63fa",
           "#FFA15A",
           "#19d3f3",
           "#FF6692",
           "#B6E880",
           "#FF97FF",
           "#FECB52"
          ],
          "font": {
           "color": "#2a3f5f"
          },
          "geo": {
           "bgcolor": "white",
           "lakecolor": "white",
           "landcolor": "#E5ECF6",
           "showlakes": true,
           "showland": true,
           "subunitcolor": "white"
          },
          "hoverlabel": {
           "align": "left"
          },
          "hovermode": "closest",
          "mapbox": {
           "style": "light"
          },
          "paper_bgcolor": "white",
          "plot_bgcolor": "#E5ECF6",
          "polar": {
           "angularaxis": {
            "gridcolor": "white",
            "linecolor": "white",
            "ticks": ""
           },
           "bgcolor": "#E5ECF6",
           "radialaxis": {
            "gridcolor": "white",
            "linecolor": "white",
            "ticks": ""
           }
          },
          "scene": {
           "xaxis": {
            "backgroundcolor": "#E5ECF6",
            "gridcolor": "white",
            "gridwidth": 2,
            "linecolor": "white",
            "showbackground": true,
            "ticks": "",
            "zerolinecolor": "white"
           },
           "yaxis": {
            "backgroundcolor": "#E5ECF6",
            "gridcolor": "white",
            "gridwidth": 2,
            "linecolor": "white",
            "showbackground": true,
            "ticks": "",
            "zerolinecolor": "white"
           },
           "zaxis": {
            "backgroundcolor": "#E5ECF6",
            "gridcolor": "white",
            "gridwidth": 2,
            "linecolor": "white",
            "showbackground": true,
            "ticks": "",
            "zerolinecolor": "white"
           }
          },
          "shapedefaults": {
           "line": {
            "color": "#2a3f5f"
           }
          },
          "ternary": {
           "aaxis": {
            "gridcolor": "white",
            "linecolor": "white",
            "ticks": ""
           },
           "baxis": {
            "gridcolor": "white",
            "linecolor": "white",
            "ticks": ""
           },
           "bgcolor": "#E5ECF6",
           "caxis": {
            "gridcolor": "white",
            "linecolor": "white",
            "ticks": ""
           }
          },
          "title": {
           "x": 0.05
          },
          "xaxis": {
           "automargin": true,
           "gridcolor": "white",
           "linecolor": "white",
           "ticks": "",
           "title": {
            "standoff": 15
           },
           "zerolinecolor": "white",
           "zerolinewidth": 2
          },
          "yaxis": {
           "automargin": true,
           "gridcolor": "white",
           "linecolor": "white",
           "ticks": "",
           "title": {
            "standoff": 15
           },
           "zerolinecolor": "white",
           "zerolinewidth": 2
          }
         }
        },
        "title": {
         "text": "Distribution of cntent rating on Netflx"
        }
       }
      },
      "text/html": [
       "<div>                            <div id=\"ca2a6b97-f562-40ad-bc4d-d0da8cc51e50\" class=\"plotly-graph-div\" style=\"height:525px; width:100%;\"></div>            <script type=\"text/javascript\">                require([\"plotly\"], function(Plotly) {                    window.PLOTLYENV=window.PLOTLYENV || {};                                    if (document.getElementById(\"ca2a6b97-f562-40ad-bc4d-d0da8cc51e50\")) {                    Plotly.newPlot(                        \"ca2a6b97-f562-40ad-bc4d-d0da8cc51e50\",                        [{\"domain\":{\"x\":[0.0,1.0],\"y\":[0.0,1.0]},\"hovertemplate\":\"rating=%{label}<br>counts=%{value}<extra></extra>\",\"labels\":[\"66 min\",\"74 min\",\"84 min\",\"G\",\"NC-17\",\"NR\",\"PG\",\"PG-13\",\"R\",\"TV-14\",\"TV-G\",\"TV-MA\",\"TV-PG\",\"TV-Y\",\"TV-Y7\",\"TV-Y7-FV\",\"UR\"],\"legendgroup\":\"\",\"name\":\"\",\"showlegend\":true,\"values\":[1,1,1,41,3,80,287,490,799,2160,220,3207,863,307,334,6,3],\"type\":\"pie\"}],                        {\"template\":{\"data\":{\"histogram2dcontour\":[{\"type\":\"histogram2dcontour\",\"colorbar\":{\"outlinewidth\":0,\"ticks\":\"\"},\"colorscale\":[[0.0,\"#0d0887\"],[0.1111111111111111,\"#46039f\"],[0.2222222222222222,\"#7201a8\"],[0.3333333333333333,\"#9c179e\"],[0.4444444444444444,\"#bd3786\"],[0.5555555555555556,\"#d8576b\"],[0.6666666666666666,\"#ed7953\"],[0.7777777777777778,\"#fb9f3a\"],[0.8888888888888888,\"#fdca26\"],[1.0,\"#f0f921\"]]}],\"choropleth\":[{\"type\":\"choropleth\",\"colorbar\":{\"outlinewidth\":0,\"ticks\":\"\"}}],\"histogram2d\":[{\"type\":\"histogram2d\",\"colorbar\":{\"outlinewidth\":0,\"ticks\":\"\"},\"colorscale\":[[0.0,\"#0d0887\"],[0.1111111111111111,\"#46039f\"],[0.2222222222222222,\"#7201a8\"],[0.3333333333333333,\"#9c179e\"],[0.4444444444444444,\"#bd3786\"],[0.5555555555555556,\"#d8576b\"],[0.6666666666666666,\"#ed7953\"],[0.7777777777777778,\"#fb9f3a\"],[0.8888888888888888,\"#fdca26\"],[1.0,\"#f0f921\"]]}],\"heatmap\":[{\"type\":\"heatmap\",\"colorbar\":{\"outlinewidth\":0,\"ticks\":\"\"},\"colorscale\":[[0.0,\"#0d0887\"],[0.1111111111111111,\"#46039f\"],[0.2222222222222222,\"#7201a8\"],[0.3333333333333333,\"#9c179e\"],[0.4444444444444444,\"#bd3786\"],[0.5555555555555556,\"#d8576b\"],[0.6666666666666666,\"#ed7953\"],[0.7777777777777778,\"#fb9f3a\"],[0.8888888888888888,\"#fdca26\"],[1.0,\"#f0f921\"]]}],\"heatmapgl\":[{\"type\":\"heatmapgl\",\"colorbar\":{\"outlinewidth\":0,\"ticks\":\"\"},\"colorscale\":[[0.0,\"#0d0887\"],[0.1111111111111111,\"#46039f\"],[0.2222222222222222,\"#7201a8\"],[0.3333333333333333,\"#9c179e\"],[0.4444444444444444,\"#bd3786\"],[0.5555555555555556,\"#d8576b\"],[0.6666666666666666,\"#ed7953\"],[0.7777777777777778,\"#fb9f3a\"],[0.8888888888888888,\"#fdca26\"],[1.0,\"#f0f921\"]]}],\"contourcarpet\":[{\"type\":\"contourcarpet\",\"colorbar\":{\"outlinewidth\":0,\"ticks\":\"\"}}],\"contour\":[{\"type\":\"contour\",\"colorbar\":{\"outlinewidth\":0,\"ticks\":\"\"},\"colorscale\":[[0.0,\"#0d0887\"],[0.1111111111111111,\"#46039f\"],[0.2222222222222222,\"#7201a8\"],[0.3333333333333333,\"#9c179e\"],[0.4444444444444444,\"#bd3786\"],[0.5555555555555556,\"#d8576b\"],[0.6666666666666666,\"#ed7953\"],[0.7777777777777778,\"#fb9f3a\"],[0.8888888888888888,\"#fdca26\"],[1.0,\"#f0f921\"]]}],\"surface\":[{\"type\":\"surface\",\"colorbar\":{\"outlinewidth\":0,\"ticks\":\"\"},\"colorscale\":[[0.0,\"#0d0887\"],[0.1111111111111111,\"#46039f\"],[0.2222222222222222,\"#7201a8\"],[0.3333333333333333,\"#9c179e\"],[0.4444444444444444,\"#bd3786\"],[0.5555555555555556,\"#d8576b\"],[0.6666666666666666,\"#ed7953\"],[0.7777777777777778,\"#fb9f3a\"],[0.8888888888888888,\"#fdca26\"],[1.0,\"#f0f921\"]]}],\"mesh3d\":[{\"type\":\"mesh3d\",\"colorbar\":{\"outlinewidth\":0,\"ticks\":\"\"}}],\"scatter\":[{\"fillpattern\":{\"fillmode\":\"overlay\",\"size\":10,\"solidity\":0.2},\"type\":\"scatter\"}],\"parcoords\":[{\"type\":\"parcoords\",\"line\":{\"colorbar\":{\"outlinewidth\":0,\"ticks\":\"\"}}}],\"scatterpolargl\":[{\"type\":\"scatterpolargl\",\"marker\":{\"colorbar\":{\"outlinewidth\":0,\"ticks\":\"\"}}}],\"bar\":[{\"error_x\":{\"color\":\"#2a3f5f\"},\"error_y\":{\"color\":\"#2a3f5f\"},\"marker\":{\"line\":{\"color\":\"#E5ECF6\",\"width\":0.5},\"pattern\":{\"fillmode\":\"overlay\",\"size\":10,\"solidity\":0.2}},\"type\":\"bar\"}],\"scattergeo\":[{\"type\":\"scattergeo\",\"marker\":{\"colorbar\":{\"outlinewidth\":0,\"ticks\":\"\"}}}],\"scatterpolar\":[{\"type\":\"scatterpolar\",\"marker\":{\"colorbar\":{\"outlinewidth\":0,\"ticks\":\"\"}}}],\"histogram\":[{\"marker\":{\"pattern\":{\"fillmode\":\"overlay\",\"size\":10,\"solidity\":0.2}},\"type\":\"histogram\"}],\"scattergl\":[{\"type\":\"scattergl\",\"marker\":{\"colorbar\":{\"outlinewidth\":0,\"ticks\":\"\"}}}],\"scatter3d\":[{\"type\":\"scatter3d\",\"line\":{\"colorbar\":{\"outlinewidth\":0,\"ticks\":\"\"}},\"marker\":{\"colorbar\":{\"outlinewidth\":0,\"ticks\":\"\"}}}],\"scattermapbox\":[{\"type\":\"scattermapbox\",\"marker\":{\"colorbar\":{\"outlinewidth\":0,\"ticks\":\"\"}}}],\"scatterternary\":[{\"type\":\"scatterternary\",\"marker\":{\"colorbar\":{\"outlinewidth\":0,\"ticks\":\"\"}}}],\"scattercarpet\":[{\"type\":\"scattercarpet\",\"marker\":{\"colorbar\":{\"outlinewidth\":0,\"ticks\":\"\"}}}],\"carpet\":[{\"aaxis\":{\"endlinecolor\":\"#2a3f5f\",\"gridcolor\":\"white\",\"linecolor\":\"white\",\"minorgridcolor\":\"white\",\"startlinecolor\":\"#2a3f5f\"},\"baxis\":{\"endlinecolor\":\"#2a3f5f\",\"gridcolor\":\"white\",\"linecolor\":\"white\",\"minorgridcolor\":\"white\",\"startlinecolor\":\"#2a3f5f\"},\"type\":\"carpet\"}],\"table\":[{\"cells\":{\"fill\":{\"color\":\"#EBF0F8\"},\"line\":{\"color\":\"white\"}},\"header\":{\"fill\":{\"color\":\"#C8D4E3\"},\"line\":{\"color\":\"white\"}},\"type\":\"table\"}],\"barpolar\":[{\"marker\":{\"line\":{\"color\":\"#E5ECF6\",\"width\":0.5},\"pattern\":{\"fillmode\":\"overlay\",\"size\":10,\"solidity\":0.2}},\"type\":\"barpolar\"}],\"pie\":[{\"automargin\":true,\"type\":\"pie\"}]},\"layout\":{\"autotypenumbers\":\"strict\",\"colorway\":[\"#636efa\",\"#EF553B\",\"#00cc96\",\"#ab63fa\",\"#FFA15A\",\"#19d3f3\",\"#FF6692\",\"#B6E880\",\"#FF97FF\",\"#FECB52\"],\"font\":{\"color\":\"#2a3f5f\"},\"hovermode\":\"closest\",\"hoverlabel\":{\"align\":\"left\"},\"paper_bgcolor\":\"white\",\"plot_bgcolor\":\"#E5ECF6\",\"polar\":{\"bgcolor\":\"#E5ECF6\",\"angularaxis\":{\"gridcolor\":\"white\",\"linecolor\":\"white\",\"ticks\":\"\"},\"radialaxis\":{\"gridcolor\":\"white\",\"linecolor\":\"white\",\"ticks\":\"\"}},\"ternary\":{\"bgcolor\":\"#E5ECF6\",\"aaxis\":{\"gridcolor\":\"white\",\"linecolor\":\"white\",\"ticks\":\"\"},\"baxis\":{\"gridcolor\":\"white\",\"linecolor\":\"white\",\"ticks\":\"\"},\"caxis\":{\"gridcolor\":\"white\",\"linecolor\":\"white\",\"ticks\":\"\"}},\"coloraxis\":{\"colorbar\":{\"outlinewidth\":0,\"ticks\":\"\"}},\"colorscale\":{\"sequential\":[[0.0,\"#0d0887\"],[0.1111111111111111,\"#46039f\"],[0.2222222222222222,\"#7201a8\"],[0.3333333333333333,\"#9c179e\"],[0.4444444444444444,\"#bd3786\"],[0.5555555555555556,\"#d8576b\"],[0.6666666666666666,\"#ed7953\"],[0.7777777777777778,\"#fb9f3a\"],[0.8888888888888888,\"#fdca26\"],[1.0,\"#f0f921\"]],\"sequentialminus\":[[0.0,\"#0d0887\"],[0.1111111111111111,\"#46039f\"],[0.2222222222222222,\"#7201a8\"],[0.3333333333333333,\"#9c179e\"],[0.4444444444444444,\"#bd3786\"],[0.5555555555555556,\"#d8576b\"],[0.6666666666666666,\"#ed7953\"],[0.7777777777777778,\"#fb9f3a\"],[0.8888888888888888,\"#fdca26\"],[1.0,\"#f0f921\"]],\"diverging\":[[0,\"#8e0152\"],[0.1,\"#c51b7d\"],[0.2,\"#de77ae\"],[0.3,\"#f1b6da\"],[0.4,\"#fde0ef\"],[0.5,\"#f7f7f7\"],[0.6,\"#e6f5d0\"],[0.7,\"#b8e186\"],[0.8,\"#7fbc41\"],[0.9,\"#4d9221\"],[1,\"#276419\"]]},\"xaxis\":{\"gridcolor\":\"white\",\"linecolor\":\"white\",\"ticks\":\"\",\"title\":{\"standoff\":15},\"zerolinecolor\":\"white\",\"automargin\":true,\"zerolinewidth\":2},\"yaxis\":{\"gridcolor\":\"white\",\"linecolor\":\"white\",\"ticks\":\"\",\"title\":{\"standoff\":15},\"zerolinecolor\":\"white\",\"automargin\":true,\"zerolinewidth\":2},\"scene\":{\"xaxis\":{\"backgroundcolor\":\"#E5ECF6\",\"gridcolor\":\"white\",\"linecolor\":\"white\",\"showbackground\":true,\"ticks\":\"\",\"zerolinecolor\":\"white\",\"gridwidth\":2},\"yaxis\":{\"backgroundcolor\":\"#E5ECF6\",\"gridcolor\":\"white\",\"linecolor\":\"white\",\"showbackground\":true,\"ticks\":\"\",\"zerolinecolor\":\"white\",\"gridwidth\":2},\"zaxis\":{\"backgroundcolor\":\"#E5ECF6\",\"gridcolor\":\"white\",\"linecolor\":\"white\",\"showbackground\":true,\"ticks\":\"\",\"zerolinecolor\":\"white\",\"gridwidth\":2}},\"shapedefaults\":{\"line\":{\"color\":\"#2a3f5f\"}},\"annotationdefaults\":{\"arrowcolor\":\"#2a3f5f\",\"arrowhead\":0,\"arrowwidth\":1},\"geo\":{\"bgcolor\":\"white\",\"landcolor\":\"#E5ECF6\",\"subunitcolor\":\"white\",\"showland\":true,\"showlakes\":true,\"lakecolor\":\"white\"},\"title\":{\"x\":0.05},\"mapbox\":{\"style\":\"light\"}}},\"legend\":{\"tracegroupgap\":0},\"title\":{\"text\":\"Distribution of cntent rating on Netflx\"}},                        {\"responsive\": true}                    ).then(function(){\n",
       "                            \n",
       "var gd = document.getElementById('ca2a6b97-f562-40ad-bc4d-d0da8cc51e50');\n",
       "var x = new MutationObserver(function (mutations, observer) {{\n",
       "        var display = window.getComputedStyle(gd).display;\n",
       "        if (!display || display === 'none') {{\n",
       "            console.log([gd, 'removed!']);\n",
       "            Plotly.purge(gd);\n",
       "            observer.disconnect();\n",
       "        }}\n",
       "}});\n",
       "\n",
       "// Listen for the removal of the full notebook cells\n",
       "var notebookContainer = gd.closest('#notebook-container');\n",
       "if (notebookContainer) {{\n",
       "    x.observe(notebookContainer, {childList: true});\n",
       "}}\n",
       "\n",
       "// Listen for the clearing of the current output cell\n",
       "var outputEl = gd.closest('.output');\n",
       "if (outputEl) {{\n",
       "    x.observe(outputEl, {childList: true});\n",
       "}}\n",
       "\n",
       "                        })                };                });            </script>        </div>"
      ]
     },
     "metadata": {},
     "output_type": "display_data"
    },
    {
     "data": {
      "text/plain": [
       "<Figure size 900x900 with 0 Axes>"
      ]
     },
     "metadata": {},
     "output_type": "display_data"
    }
   ],
   "source": [
    "plt.figure(figsize=(9,9))\n",
    "pieChart=ps.pie(x,values='counts',names='rating',title='Distribution of cntent rating on Netflx')\n",
    "pieChart.show()"
   ]
  },
  {
   "cell_type": "markdown",
   "id": "313d1b1c",
   "metadata": {},
   "source": [
    "## Fill the directors name wich is not specified"
   ]
  },
  {
   "cell_type": "code",
   "execution_count": 72,
   "id": "85fb275f",
   "metadata": {},
   "outputs": [],
   "source": [
    "data['director']=data['director'].fillna('director not specified')"
   ]
  },
  {
   "cell_type": "code",
   "execution_count": 73,
   "id": "8e49118f",
   "metadata": {},
   "outputs": [
    {
     "data": {
      "text/html": [
       "<div>\n",
       "<style scoped>\n",
       "    .dataframe tbody tr th:only-of-type {\n",
       "        vertical-align: middle;\n",
       "    }\n",
       "\n",
       "    .dataframe tbody tr th {\n",
       "        vertical-align: top;\n",
       "    }\n",
       "\n",
       "    .dataframe thead th {\n",
       "        text-align: right;\n",
       "    }\n",
       "</style>\n",
       "<table border=\"1\" class=\"dataframe\">\n",
       "  <thead>\n",
       "    <tr style=\"text-align: right;\">\n",
       "      <th></th>\n",
       "      <th>show_id</th>\n",
       "      <th>type</th>\n",
       "      <th>title</th>\n",
       "      <th>director</th>\n",
       "      <th>cast</th>\n",
       "      <th>country</th>\n",
       "      <th>date_added</th>\n",
       "      <th>release_year</th>\n",
       "      <th>rating</th>\n",
       "      <th>duration</th>\n",
       "      <th>listed_in</th>\n",
       "      <th>description</th>\n",
       "    </tr>\n",
       "  </thead>\n",
       "  <tbody>\n",
       "    <tr>\n",
       "      <th>0</th>\n",
       "      <td>s1</td>\n",
       "      <td>Movie</td>\n",
       "      <td>Dick Johnson Is Dead</td>\n",
       "      <td>Kirsten Johnson</td>\n",
       "      <td>NaN</td>\n",
       "      <td>United States</td>\n",
       "      <td>September 25, 2021</td>\n",
       "      <td>2020</td>\n",
       "      <td>PG-13</td>\n",
       "      <td>90 min</td>\n",
       "      <td>Documentaries</td>\n",
       "      <td>As her father nears the end of his life, filmm...</td>\n",
       "    </tr>\n",
       "    <tr>\n",
       "      <th>1</th>\n",
       "      <td>s2</td>\n",
       "      <td>TV Show</td>\n",
       "      <td>Blood &amp; Water</td>\n",
       "      <td>director not specified</td>\n",
       "      <td>Ama Qamata, Khosi Ngema, Gail Mabalane, Thaban...</td>\n",
       "      <td>South Africa</td>\n",
       "      <td>September 24, 2021</td>\n",
       "      <td>2021</td>\n",
       "      <td>TV-MA</td>\n",
       "      <td>2 Seasons</td>\n",
       "      <td>International TV Shows, TV Dramas, TV Mysteries</td>\n",
       "      <td>After crossing paths at a party, a Cape Town t...</td>\n",
       "    </tr>\n",
       "    <tr>\n",
       "      <th>2</th>\n",
       "      <td>s3</td>\n",
       "      <td>TV Show</td>\n",
       "      <td>Ganglands</td>\n",
       "      <td>Julien Leclercq</td>\n",
       "      <td>Sami Bouajila, Tracy Gotoas, Samuel Jouy, Nabi...</td>\n",
       "      <td>NaN</td>\n",
       "      <td>September 24, 2021</td>\n",
       "      <td>2021</td>\n",
       "      <td>TV-MA</td>\n",
       "      <td>1 Season</td>\n",
       "      <td>Crime TV Shows, International TV Shows, TV Act...</td>\n",
       "      <td>To protect his family from a powerful drug lor...</td>\n",
       "    </tr>\n",
       "    <tr>\n",
       "      <th>3</th>\n",
       "      <td>s4</td>\n",
       "      <td>TV Show</td>\n",
       "      <td>Jailbirds New Orleans</td>\n",
       "      <td>director not specified</td>\n",
       "      <td>NaN</td>\n",
       "      <td>NaN</td>\n",
       "      <td>September 24, 2021</td>\n",
       "      <td>2021</td>\n",
       "      <td>TV-MA</td>\n",
       "      <td>1 Season</td>\n",
       "      <td>Docuseries, Reality TV</td>\n",
       "      <td>Feuds, flirtations and toilet talk go down amo...</td>\n",
       "    </tr>\n",
       "    <tr>\n",
       "      <th>4</th>\n",
       "      <td>s5</td>\n",
       "      <td>TV Show</td>\n",
       "      <td>Kota Factory</td>\n",
       "      <td>director not specified</td>\n",
       "      <td>Mayur More, Jitendra Kumar, Ranjan Raj, Alam K...</td>\n",
       "      <td>India</td>\n",
       "      <td>September 24, 2021</td>\n",
       "      <td>2021</td>\n",
       "      <td>TV-MA</td>\n",
       "      <td>2 Seasons</td>\n",
       "      <td>International TV Shows, Romantic TV Shows, TV ...</td>\n",
       "      <td>In a city of coaching centers known to train I...</td>\n",
       "    </tr>\n",
       "    <tr>\n",
       "      <th>5</th>\n",
       "      <td>s6</td>\n",
       "      <td>TV Show</td>\n",
       "      <td>Midnight Mass</td>\n",
       "      <td>Mike Flanagan</td>\n",
       "      <td>Kate Siegel, Zach Gilford, Hamish Linklater, H...</td>\n",
       "      <td>NaN</td>\n",
       "      <td>September 24, 2021</td>\n",
       "      <td>2021</td>\n",
       "      <td>TV-MA</td>\n",
       "      <td>1 Season</td>\n",
       "      <td>TV Dramas, TV Horror, TV Mysteries</td>\n",
       "      <td>The arrival of a charismatic young priest brin...</td>\n",
       "    </tr>\n",
       "    <tr>\n",
       "      <th>6</th>\n",
       "      <td>s7</td>\n",
       "      <td>Movie</td>\n",
       "      <td>My Little Pony: A New Generation</td>\n",
       "      <td>Robert Cullen, José Luis Ucha</td>\n",
       "      <td>Vanessa Hudgens, Kimiko Glenn, James Marsden, ...</td>\n",
       "      <td>NaN</td>\n",
       "      <td>September 24, 2021</td>\n",
       "      <td>2021</td>\n",
       "      <td>PG</td>\n",
       "      <td>91 min</td>\n",
       "      <td>Children &amp; Family Movies</td>\n",
       "      <td>Equestria's divided. But a bright-eyed hero be...</td>\n",
       "    </tr>\n",
       "    <tr>\n",
       "      <th>7</th>\n",
       "      <td>s8</td>\n",
       "      <td>Movie</td>\n",
       "      <td>Sankofa</td>\n",
       "      <td>Haile Gerima</td>\n",
       "      <td>Kofi Ghanaba, Oyafunmike Ogunlano, Alexandra D...</td>\n",
       "      <td>United States, Ghana, Burkina Faso, United Kin...</td>\n",
       "      <td>September 24, 2021</td>\n",
       "      <td>1993</td>\n",
       "      <td>TV-MA</td>\n",
       "      <td>125 min</td>\n",
       "      <td>Dramas, Independent Movies, International Movies</td>\n",
       "      <td>On a photo shoot in Ghana, an American model s...</td>\n",
       "    </tr>\n",
       "    <tr>\n",
       "      <th>8</th>\n",
       "      <td>s9</td>\n",
       "      <td>TV Show</td>\n",
       "      <td>The Great British Baking Show</td>\n",
       "      <td>Andy Devonshire</td>\n",
       "      <td>Mel Giedroyc, Sue Perkins, Mary Berry, Paul Ho...</td>\n",
       "      <td>United Kingdom</td>\n",
       "      <td>September 24, 2021</td>\n",
       "      <td>2021</td>\n",
       "      <td>TV-14</td>\n",
       "      <td>9 Seasons</td>\n",
       "      <td>British TV Shows, Reality TV</td>\n",
       "      <td>A talented batch of amateur bakers face off in...</td>\n",
       "    </tr>\n",
       "    <tr>\n",
       "      <th>9</th>\n",
       "      <td>s10</td>\n",
       "      <td>Movie</td>\n",
       "      <td>The Starling</td>\n",
       "      <td>Theodore Melfi</td>\n",
       "      <td>Melissa McCarthy, Chris O'Dowd, Kevin Kline, T...</td>\n",
       "      <td>United States</td>\n",
       "      <td>September 24, 2021</td>\n",
       "      <td>2021</td>\n",
       "      <td>PG-13</td>\n",
       "      <td>104 min</td>\n",
       "      <td>Comedies, Dramas</td>\n",
       "      <td>A woman adjusting to life after a loss contend...</td>\n",
       "    </tr>\n",
       "  </tbody>\n",
       "</table>\n",
       "</div>"
      ],
      "text/plain": [
       "  show_id     type                             title  \\\n",
       "0      s1    Movie              Dick Johnson Is Dead   \n",
       "1      s2  TV Show                     Blood & Water   \n",
       "2      s3  TV Show                         Ganglands   \n",
       "3      s4  TV Show             Jailbirds New Orleans   \n",
       "4      s5  TV Show                      Kota Factory   \n",
       "5      s6  TV Show                     Midnight Mass   \n",
       "6      s7    Movie  My Little Pony: A New Generation   \n",
       "7      s8    Movie                           Sankofa   \n",
       "8      s9  TV Show     The Great British Baking Show   \n",
       "9     s10    Movie                      The Starling   \n",
       "\n",
       "                        director  \\\n",
       "0                Kirsten Johnson   \n",
       "1         director not specified   \n",
       "2                Julien Leclercq   \n",
       "3         director not specified   \n",
       "4         director not specified   \n",
       "5                  Mike Flanagan   \n",
       "6  Robert Cullen, José Luis Ucha   \n",
       "7                   Haile Gerima   \n",
       "8                Andy Devonshire   \n",
       "9                 Theodore Melfi   \n",
       "\n",
       "                                                cast  \\\n",
       "0                                                NaN   \n",
       "1  Ama Qamata, Khosi Ngema, Gail Mabalane, Thaban...   \n",
       "2  Sami Bouajila, Tracy Gotoas, Samuel Jouy, Nabi...   \n",
       "3                                                NaN   \n",
       "4  Mayur More, Jitendra Kumar, Ranjan Raj, Alam K...   \n",
       "5  Kate Siegel, Zach Gilford, Hamish Linklater, H...   \n",
       "6  Vanessa Hudgens, Kimiko Glenn, James Marsden, ...   \n",
       "7  Kofi Ghanaba, Oyafunmike Ogunlano, Alexandra D...   \n",
       "8  Mel Giedroyc, Sue Perkins, Mary Berry, Paul Ho...   \n",
       "9  Melissa McCarthy, Chris O'Dowd, Kevin Kline, T...   \n",
       "\n",
       "                                             country          date_added  \\\n",
       "0                                      United States  September 25, 2021   \n",
       "1                                       South Africa  September 24, 2021   \n",
       "2                                                NaN  September 24, 2021   \n",
       "3                                                NaN  September 24, 2021   \n",
       "4                                              India  September 24, 2021   \n",
       "5                                                NaN  September 24, 2021   \n",
       "6                                                NaN  September 24, 2021   \n",
       "7  United States, Ghana, Burkina Faso, United Kin...  September 24, 2021   \n",
       "8                                     United Kingdom  September 24, 2021   \n",
       "9                                      United States  September 24, 2021   \n",
       "\n",
       "   release_year rating   duration  \\\n",
       "0          2020  PG-13     90 min   \n",
       "1          2021  TV-MA  2 Seasons   \n",
       "2          2021  TV-MA   1 Season   \n",
       "3          2021  TV-MA   1 Season   \n",
       "4          2021  TV-MA  2 Seasons   \n",
       "5          2021  TV-MA   1 Season   \n",
       "6          2021     PG     91 min   \n",
       "7          1993  TV-MA    125 min   \n",
       "8          2021  TV-14  9 Seasons   \n",
       "9          2021  PG-13    104 min   \n",
       "\n",
       "                                           listed_in  \\\n",
       "0                                      Documentaries   \n",
       "1    International TV Shows, TV Dramas, TV Mysteries   \n",
       "2  Crime TV Shows, International TV Shows, TV Act...   \n",
       "3                             Docuseries, Reality TV   \n",
       "4  International TV Shows, Romantic TV Shows, TV ...   \n",
       "5                 TV Dramas, TV Horror, TV Mysteries   \n",
       "6                           Children & Family Movies   \n",
       "7   Dramas, Independent Movies, International Movies   \n",
       "8                       British TV Shows, Reality TV   \n",
       "9                                   Comedies, Dramas   \n",
       "\n",
       "                                         description  \n",
       "0  As her father nears the end of his life, filmm...  \n",
       "1  After crossing paths at a party, a Cape Town t...  \n",
       "2  To protect his family from a powerful drug lor...  \n",
       "3  Feuds, flirtations and toilet talk go down amo...  \n",
       "4  In a city of coaching centers known to train I...  \n",
       "5  The arrival of a charismatic young priest brin...  \n",
       "6  Equestria's divided. But a bright-eyed hero be...  \n",
       "7  On a photo shoot in Ghana, an American model s...  \n",
       "8  A talented batch of amateur bakers face off in...  \n",
       "9  A woman adjusting to life after a loss contend...  "
      ]
     },
     "execution_count": 73,
     "metadata": {},
     "output_type": "execute_result"
    }
   ],
   "source": [
    "data.head(10)"
   ]
  },
  {
   "cell_type": "code",
   "execution_count": 75,
   "id": "b643223e",
   "metadata": {},
   "outputs": [],
   "source": [
    "directors_list=pd.DataFrame()"
   ]
  },
  {
   "cell_type": "code",
   "execution_count": 77,
   "id": "acff51fd",
   "metadata": {},
   "outputs": [],
   "source": [
    "directors_list=data['director'].str.split(',',expand=True).stack()"
   ]
  },
  {
   "cell_type": "code",
   "execution_count": 78,
   "id": "92ea2e05",
   "metadata": {},
   "outputs": [
    {
     "data": {
      "text/plain": [
       "0     0           Kirsten Johnson\n",
       "1     0    director not specified\n",
       "2     0           Julien Leclercq\n",
       "3     0    director not specified\n",
       "4     0    director not specified\n",
       "                    ...          \n",
       "8802  0             David Fincher\n",
       "8803  0    director not specified\n",
       "8804  0           Ruben Fleischer\n",
       "8805  0              Peter Hewitt\n",
       "8806  0               Mozez Singh\n",
       "Length: 9612, dtype: object"
      ]
     },
     "execution_count": 78,
     "metadata": {},
     "output_type": "execute_result"
    }
   ],
   "source": [
    "directors_list"
   ]
  },
  {
   "cell_type": "code",
   "execution_count": 80,
   "id": "536c1837",
   "metadata": {},
   "outputs": [],
   "source": [
    "directors_list=directors_list.to_frame()"
   ]
  },
  {
   "cell_type": "code",
   "execution_count": 81,
   "id": "d7a39304",
   "metadata": {},
   "outputs": [
    {
     "data": {
      "text/html": [
       "<div>\n",
       "<style scoped>\n",
       "    .dataframe tbody tr th:only-of-type {\n",
       "        vertical-align: middle;\n",
       "    }\n",
       "\n",
       "    .dataframe tbody tr th {\n",
       "        vertical-align: top;\n",
       "    }\n",
       "\n",
       "    .dataframe thead th {\n",
       "        text-align: right;\n",
       "    }\n",
       "</style>\n",
       "<table border=\"1\" class=\"dataframe\">\n",
       "  <thead>\n",
       "    <tr style=\"text-align: right;\">\n",
       "      <th></th>\n",
       "      <th></th>\n",
       "      <th>0</th>\n",
       "    </tr>\n",
       "  </thead>\n",
       "  <tbody>\n",
       "    <tr>\n",
       "      <th>0</th>\n",
       "      <th>0</th>\n",
       "      <td>Kirsten Johnson</td>\n",
       "    </tr>\n",
       "    <tr>\n",
       "      <th>1</th>\n",
       "      <th>0</th>\n",
       "      <td>director not specified</td>\n",
       "    </tr>\n",
       "    <tr>\n",
       "      <th>2</th>\n",
       "      <th>0</th>\n",
       "      <td>Julien Leclercq</td>\n",
       "    </tr>\n",
       "    <tr>\n",
       "      <th>3</th>\n",
       "      <th>0</th>\n",
       "      <td>director not specified</td>\n",
       "    </tr>\n",
       "    <tr>\n",
       "      <th>4</th>\n",
       "      <th>0</th>\n",
       "      <td>director not specified</td>\n",
       "    </tr>\n",
       "    <tr>\n",
       "      <th>...</th>\n",
       "      <th>...</th>\n",
       "      <td>...</td>\n",
       "    </tr>\n",
       "    <tr>\n",
       "      <th>8802</th>\n",
       "      <th>0</th>\n",
       "      <td>David Fincher</td>\n",
       "    </tr>\n",
       "    <tr>\n",
       "      <th>8803</th>\n",
       "      <th>0</th>\n",
       "      <td>director not specified</td>\n",
       "    </tr>\n",
       "    <tr>\n",
       "      <th>8804</th>\n",
       "      <th>0</th>\n",
       "      <td>Ruben Fleischer</td>\n",
       "    </tr>\n",
       "    <tr>\n",
       "      <th>8805</th>\n",
       "      <th>0</th>\n",
       "      <td>Peter Hewitt</td>\n",
       "    </tr>\n",
       "    <tr>\n",
       "      <th>8806</th>\n",
       "      <th>0</th>\n",
       "      <td>Mozez Singh</td>\n",
       "    </tr>\n",
       "  </tbody>\n",
       "</table>\n",
       "<p>9612 rows × 1 columns</p>\n",
       "</div>"
      ],
      "text/plain": [
       "                             0\n",
       "0    0         Kirsten Johnson\n",
       "1    0  director not specified\n",
       "2    0         Julien Leclercq\n",
       "3    0  director not specified\n",
       "4    0  director not specified\n",
       "...                        ...\n",
       "8802 0           David Fincher\n",
       "8803 0  director not specified\n",
       "8804 0         Ruben Fleischer\n",
       "8805 0            Peter Hewitt\n",
       "8806 0             Mozez Singh\n",
       "\n",
       "[9612 rows x 1 columns]"
      ]
     },
     "execution_count": 81,
     "metadata": {},
     "output_type": "execute_result"
    }
   ],
   "source": [
    "directors_list"
   ]
  },
  {
   "cell_type": "code",
   "execution_count": 82,
   "id": "92b88458",
   "metadata": {},
   "outputs": [],
   "source": [
    "directors_list.columns=['Director']"
   ]
  },
  {
   "cell_type": "code",
   "execution_count": 83,
   "id": "1b8c3c2b",
   "metadata": {},
   "outputs": [
    {
     "data": {
      "text/html": [
       "<div>\n",
       "<style scoped>\n",
       "    .dataframe tbody tr th:only-of-type {\n",
       "        vertical-align: middle;\n",
       "    }\n",
       "\n",
       "    .dataframe tbody tr th {\n",
       "        vertical-align: top;\n",
       "    }\n",
       "\n",
       "    .dataframe thead th {\n",
       "        text-align: right;\n",
       "    }\n",
       "</style>\n",
       "<table border=\"1\" class=\"dataframe\">\n",
       "  <thead>\n",
       "    <tr style=\"text-align: right;\">\n",
       "      <th></th>\n",
       "      <th></th>\n",
       "      <th>Director</th>\n",
       "    </tr>\n",
       "  </thead>\n",
       "  <tbody>\n",
       "    <tr>\n",
       "      <th>0</th>\n",
       "      <th>0</th>\n",
       "      <td>Kirsten Johnson</td>\n",
       "    </tr>\n",
       "    <tr>\n",
       "      <th>1</th>\n",
       "      <th>0</th>\n",
       "      <td>director not specified</td>\n",
       "    </tr>\n",
       "    <tr>\n",
       "      <th>2</th>\n",
       "      <th>0</th>\n",
       "      <td>Julien Leclercq</td>\n",
       "    </tr>\n",
       "    <tr>\n",
       "      <th>3</th>\n",
       "      <th>0</th>\n",
       "      <td>director not specified</td>\n",
       "    </tr>\n",
       "    <tr>\n",
       "      <th>4</th>\n",
       "      <th>0</th>\n",
       "      <td>director not specified</td>\n",
       "    </tr>\n",
       "    <tr>\n",
       "      <th>...</th>\n",
       "      <th>...</th>\n",
       "      <td>...</td>\n",
       "    </tr>\n",
       "    <tr>\n",
       "      <th>8802</th>\n",
       "      <th>0</th>\n",
       "      <td>David Fincher</td>\n",
       "    </tr>\n",
       "    <tr>\n",
       "      <th>8803</th>\n",
       "      <th>0</th>\n",
       "      <td>director not specified</td>\n",
       "    </tr>\n",
       "    <tr>\n",
       "      <th>8804</th>\n",
       "      <th>0</th>\n",
       "      <td>Ruben Fleischer</td>\n",
       "    </tr>\n",
       "    <tr>\n",
       "      <th>8805</th>\n",
       "      <th>0</th>\n",
       "      <td>Peter Hewitt</td>\n",
       "    </tr>\n",
       "    <tr>\n",
       "      <th>8806</th>\n",
       "      <th>0</th>\n",
       "      <td>Mozez Singh</td>\n",
       "    </tr>\n",
       "  </tbody>\n",
       "</table>\n",
       "<p>9612 rows × 1 columns</p>\n",
       "</div>"
      ],
      "text/plain": [
       "                      Director\n",
       "0    0         Kirsten Johnson\n",
       "1    0  director not specified\n",
       "2    0         Julien Leclercq\n",
       "3    0  director not specified\n",
       "4    0  director not specified\n",
       "...                        ...\n",
       "8802 0           David Fincher\n",
       "8803 0  director not specified\n",
       "8804 0         Ruben Fleischer\n",
       "8805 0            Peter Hewitt\n",
       "8806 0             Mozez Singh\n",
       "\n",
       "[9612 rows x 1 columns]"
      ]
     },
     "execution_count": 83,
     "metadata": {},
     "output_type": "execute_result"
    }
   ],
   "source": [
    "directors_list"
   ]
  },
  {
   "cell_type": "markdown",
   "id": "69695b09",
   "metadata": {},
   "source": [
    "## Directors and how many movies they have made"
   ]
  },
  {
   "cell_type": "code",
   "execution_count": 87,
   "id": "461c5c41",
   "metadata": {},
   "outputs": [],
   "source": [
    "directors=directors_list.groupby(['Director']).size().reset_index(name='total count')"
   ]
  },
  {
   "cell_type": "code",
   "execution_count": 88,
   "id": "eb7d4b44",
   "metadata": {},
   "outputs": [
    {
     "data": {
      "text/html": [
       "<div>\n",
       "<style scoped>\n",
       "    .dataframe tbody tr th:only-of-type {\n",
       "        vertical-align: middle;\n",
       "    }\n",
       "\n",
       "    .dataframe tbody tr th {\n",
       "        vertical-align: top;\n",
       "    }\n",
       "\n",
       "    .dataframe thead th {\n",
       "        text-align: right;\n",
       "    }\n",
       "</style>\n",
       "<table border=\"1\" class=\"dataframe\">\n",
       "  <thead>\n",
       "    <tr style=\"text-align: right;\">\n",
       "      <th></th>\n",
       "      <th>Director</th>\n",
       "      <th>total count</th>\n",
       "    </tr>\n",
       "  </thead>\n",
       "  <tbody>\n",
       "    <tr>\n",
       "      <th>0</th>\n",
       "      <td>Aaron Moorhead</td>\n",
       "      <td>2</td>\n",
       "    </tr>\n",
       "    <tr>\n",
       "      <th>1</th>\n",
       "      <td>Aaron Woolf</td>\n",
       "      <td>1</td>\n",
       "    </tr>\n",
       "    <tr>\n",
       "      <th>2</th>\n",
       "      <td>Abbas Alibhai Burmawalla</td>\n",
       "      <td>1</td>\n",
       "    </tr>\n",
       "    <tr>\n",
       "      <th>3</th>\n",
       "      <td>Abdullah Al Noor</td>\n",
       "      <td>1</td>\n",
       "    </tr>\n",
       "    <tr>\n",
       "      <th>4</th>\n",
       "      <td>Abhinav Shiv Tiwari</td>\n",
       "      <td>1</td>\n",
       "    </tr>\n",
       "    <tr>\n",
       "      <th>...</th>\n",
       "      <td>...</td>\n",
       "      <td>...</td>\n",
       "    </tr>\n",
       "    <tr>\n",
       "      <th>5116</th>\n",
       "      <td>Çagan Irmak</td>\n",
       "      <td>1</td>\n",
       "    </tr>\n",
       "    <tr>\n",
       "      <th>5117</th>\n",
       "      <td>Ísold Uggadóttir</td>\n",
       "      <td>1</td>\n",
       "    </tr>\n",
       "    <tr>\n",
       "      <th>5118</th>\n",
       "      <td>Óskar Thór Axelsson</td>\n",
       "      <td>1</td>\n",
       "    </tr>\n",
       "    <tr>\n",
       "      <th>5119</th>\n",
       "      <td>Ömer Faruk Sorak</td>\n",
       "      <td>2</td>\n",
       "    </tr>\n",
       "    <tr>\n",
       "      <th>5120</th>\n",
       "      <td>Şenol Sönmez</td>\n",
       "      <td>2</td>\n",
       "    </tr>\n",
       "  </tbody>\n",
       "</table>\n",
       "<p>5121 rows × 2 columns</p>\n",
       "</div>"
      ],
      "text/plain": [
       "                       Director  total count\n",
       "0                Aaron Moorhead            2\n",
       "1                   Aaron Woolf            1\n",
       "2      Abbas Alibhai Burmawalla            1\n",
       "3              Abdullah Al Noor            1\n",
       "4           Abhinav Shiv Tiwari            1\n",
       "...                         ...          ...\n",
       "5116                Çagan Irmak            1\n",
       "5117           Ísold Uggadóttir            1\n",
       "5118        Óskar Thór Axelsson            1\n",
       "5119           Ömer Faruk Sorak            2\n",
       "5120               Şenol Sönmez            2\n",
       "\n",
       "[5121 rows x 2 columns]"
      ]
     },
     "execution_count": 88,
     "metadata": {},
     "output_type": "execute_result"
    }
   ],
   "source": [
    "directors"
   ]
  },
  {
   "cell_type": "code",
   "execution_count": 90,
   "id": "0e14927e",
   "metadata": {},
   "outputs": [],
   "source": [
    "directors=directors[directors.Director !='director not specified']"
   ]
  },
  {
   "cell_type": "code",
   "execution_count": 91,
   "id": "e5758090",
   "metadata": {},
   "outputs": [
    {
     "data": {
      "text/html": [
       "<div>\n",
       "<style scoped>\n",
       "    .dataframe tbody tr th:only-of-type {\n",
       "        vertical-align: middle;\n",
       "    }\n",
       "\n",
       "    .dataframe tbody tr th {\n",
       "        vertical-align: top;\n",
       "    }\n",
       "\n",
       "    .dataframe thead th {\n",
       "        text-align: right;\n",
       "    }\n",
       "</style>\n",
       "<table border=\"1\" class=\"dataframe\">\n",
       "  <thead>\n",
       "    <tr style=\"text-align: right;\">\n",
       "      <th></th>\n",
       "      <th>Director</th>\n",
       "      <th>total count</th>\n",
       "    </tr>\n",
       "  </thead>\n",
       "  <tbody>\n",
       "    <tr>\n",
       "      <th>0</th>\n",
       "      <td>Aaron Moorhead</td>\n",
       "      <td>2</td>\n",
       "    </tr>\n",
       "    <tr>\n",
       "      <th>1</th>\n",
       "      <td>Aaron Woolf</td>\n",
       "      <td>1</td>\n",
       "    </tr>\n",
       "    <tr>\n",
       "      <th>2</th>\n",
       "      <td>Abbas Alibhai Burmawalla</td>\n",
       "      <td>1</td>\n",
       "    </tr>\n",
       "    <tr>\n",
       "      <th>3</th>\n",
       "      <td>Abdullah Al Noor</td>\n",
       "      <td>1</td>\n",
       "    </tr>\n",
       "    <tr>\n",
       "      <th>4</th>\n",
       "      <td>Abhinav Shiv Tiwari</td>\n",
       "      <td>1</td>\n",
       "    </tr>\n",
       "    <tr>\n",
       "      <th>...</th>\n",
       "      <td>...</td>\n",
       "      <td>...</td>\n",
       "    </tr>\n",
       "    <tr>\n",
       "      <th>5116</th>\n",
       "      <td>Çagan Irmak</td>\n",
       "      <td>1</td>\n",
       "    </tr>\n",
       "    <tr>\n",
       "      <th>5117</th>\n",
       "      <td>Ísold Uggadóttir</td>\n",
       "      <td>1</td>\n",
       "    </tr>\n",
       "    <tr>\n",
       "      <th>5118</th>\n",
       "      <td>Óskar Thór Axelsson</td>\n",
       "      <td>1</td>\n",
       "    </tr>\n",
       "    <tr>\n",
       "      <th>5119</th>\n",
       "      <td>Ömer Faruk Sorak</td>\n",
       "      <td>2</td>\n",
       "    </tr>\n",
       "    <tr>\n",
       "      <th>5120</th>\n",
       "      <td>Şenol Sönmez</td>\n",
       "      <td>2</td>\n",
       "    </tr>\n",
       "  </tbody>\n",
       "</table>\n",
       "<p>5120 rows × 2 columns</p>\n",
       "</div>"
      ],
      "text/plain": [
       "                       Director  total count\n",
       "0                Aaron Moorhead            2\n",
       "1                   Aaron Woolf            1\n",
       "2      Abbas Alibhai Burmawalla            1\n",
       "3              Abdullah Al Noor            1\n",
       "4           Abhinav Shiv Tiwari            1\n",
       "...                         ...          ...\n",
       "5116                Çagan Irmak            1\n",
       "5117           Ísold Uggadóttir            1\n",
       "5118        Óskar Thór Axelsson            1\n",
       "5119           Ömer Faruk Sorak            2\n",
       "5120               Şenol Sönmez            2\n",
       "\n",
       "[5120 rows x 2 columns]"
      ]
     },
     "execution_count": 91,
     "metadata": {},
     "output_type": "execute_result"
    }
   ],
   "source": [
    "directors"
   ]
  },
  {
   "cell_type": "code",
   "execution_count": 94,
   "id": "51b430ab",
   "metadata": {},
   "outputs": [],
   "source": [
    "directors=directors.sort_values(by='total count',ascending=False)"
   ]
  },
  {
   "cell_type": "code",
   "execution_count": 95,
   "id": "5b3efbc7",
   "metadata": {},
   "outputs": [
    {
     "data": {
      "text/html": [
       "<div>\n",
       "<style scoped>\n",
       "    .dataframe tbody tr th:only-of-type {\n",
       "        vertical-align: middle;\n",
       "    }\n",
       "\n",
       "    .dataframe tbody tr th {\n",
       "        vertical-align: top;\n",
       "    }\n",
       "\n",
       "    .dataframe thead th {\n",
       "        text-align: right;\n",
       "    }\n",
       "</style>\n",
       "<table border=\"1\" class=\"dataframe\">\n",
       "  <thead>\n",
       "    <tr style=\"text-align: right;\">\n",
       "      <th></th>\n",
       "      <th>Director</th>\n",
       "      <th>total count</th>\n",
       "    </tr>\n",
       "  </thead>\n",
       "  <tbody>\n",
       "    <tr>\n",
       "      <th>4020</th>\n",
       "      <td>Rajiv Chilaka</td>\n",
       "      <td>22</td>\n",
       "    </tr>\n",
       "    <tr>\n",
       "      <th>261</th>\n",
       "      <td>Jan Suter</td>\n",
       "      <td>18</td>\n",
       "    </tr>\n",
       "    <tr>\n",
       "      <th>4067</th>\n",
       "      <td>Raúl Campos</td>\n",
       "      <td>18</td>\n",
       "    </tr>\n",
       "    <tr>\n",
       "      <th>3235</th>\n",
       "      <td>Marcus Raboy</td>\n",
       "      <td>16</td>\n",
       "    </tr>\n",
       "    <tr>\n",
       "      <th>4651</th>\n",
       "      <td>Suhas Kadav</td>\n",
       "      <td>16</td>\n",
       "    </tr>\n",
       "    <tr>\n",
       "      <th>...</th>\n",
       "      <td>...</td>\n",
       "      <td>...</td>\n",
       "    </tr>\n",
       "    <tr>\n",
       "      <th>3217</th>\n",
       "      <td>Marc Meyers</td>\n",
       "      <td>1</td>\n",
       "    </tr>\n",
       "    <tr>\n",
       "      <th>3216</th>\n",
       "      <td>Marc Levin</td>\n",
       "      <td>1</td>\n",
       "    </tr>\n",
       "    <tr>\n",
       "      <th>3215</th>\n",
       "      <td>Marc Francis</td>\n",
       "      <td>1</td>\n",
       "    </tr>\n",
       "    <tr>\n",
       "      <th>3214</th>\n",
       "      <td>Marc Fouchard</td>\n",
       "      <td>1</td>\n",
       "    </tr>\n",
       "    <tr>\n",
       "      <th>5013</th>\n",
       "      <td>Will Lovelace</td>\n",
       "      <td>1</td>\n",
       "    </tr>\n",
       "  </tbody>\n",
       "</table>\n",
       "<p>5120 rows × 2 columns</p>\n",
       "</div>"
      ],
      "text/plain": [
       "           Director  total count\n",
       "4020  Rajiv Chilaka           22\n",
       "261       Jan Suter           18\n",
       "4067    Raúl Campos           18\n",
       "3235   Marcus Raboy           16\n",
       "4651    Suhas Kadav           16\n",
       "...             ...          ...\n",
       "3217    Marc Meyers            1\n",
       "3216     Marc Levin            1\n",
       "3215   Marc Francis            1\n",
       "3214  Marc Fouchard            1\n",
       "5013  Will Lovelace            1\n",
       "\n",
       "[5120 rows x 2 columns]"
      ]
     },
     "execution_count": 95,
     "metadata": {},
     "output_type": "execute_result"
    }
   ],
   "source": [
    "directors"
   ]
  },
  {
   "cell_type": "code",
   "execution_count": 97,
   "id": "36b5aa06",
   "metadata": {},
   "outputs": [],
   "source": [
    "top5_directors=directors.head(5)"
   ]
  },
  {
   "cell_type": "code",
   "execution_count": 98,
   "id": "b368515c",
   "metadata": {},
   "outputs": [
    {
     "data": {
      "text/html": [
       "<div>\n",
       "<style scoped>\n",
       "    .dataframe tbody tr th:only-of-type {\n",
       "        vertical-align: middle;\n",
       "    }\n",
       "\n",
       "    .dataframe tbody tr th {\n",
       "        vertical-align: top;\n",
       "    }\n",
       "\n",
       "    .dataframe thead th {\n",
       "        text-align: right;\n",
       "    }\n",
       "</style>\n",
       "<table border=\"1\" class=\"dataframe\">\n",
       "  <thead>\n",
       "    <tr style=\"text-align: right;\">\n",
       "      <th></th>\n",
       "      <th>Director</th>\n",
       "      <th>total count</th>\n",
       "    </tr>\n",
       "  </thead>\n",
       "  <tbody>\n",
       "    <tr>\n",
       "      <th>4020</th>\n",
       "      <td>Rajiv Chilaka</td>\n",
       "      <td>22</td>\n",
       "    </tr>\n",
       "    <tr>\n",
       "      <th>261</th>\n",
       "      <td>Jan Suter</td>\n",
       "      <td>18</td>\n",
       "    </tr>\n",
       "    <tr>\n",
       "      <th>4067</th>\n",
       "      <td>Raúl Campos</td>\n",
       "      <td>18</td>\n",
       "    </tr>\n",
       "    <tr>\n",
       "      <th>3235</th>\n",
       "      <td>Marcus Raboy</td>\n",
       "      <td>16</td>\n",
       "    </tr>\n",
       "    <tr>\n",
       "      <th>4651</th>\n",
       "      <td>Suhas Kadav</td>\n",
       "      <td>16</td>\n",
       "    </tr>\n",
       "  </tbody>\n",
       "</table>\n",
       "</div>"
      ],
      "text/plain": [
       "           Director  total count\n",
       "4020  Rajiv Chilaka           22\n",
       "261       Jan Suter           18\n",
       "4067    Raúl Campos           18\n",
       "3235   Marcus Raboy           16\n",
       "4651    Suhas Kadav           16"
      ]
     },
     "execution_count": 98,
     "metadata": {},
     "output_type": "execute_result"
    }
   ],
   "source": [
    "top5_directors"
   ]
  },
  {
   "cell_type": "markdown",
   "id": "83bb2822",
   "metadata": {},
   "source": [
    "##  Creating a Barchart for top 5 directors "
   ]
  },
  {
   "cell_type": "code",
   "execution_count": 112,
   "id": "00e187fb",
   "metadata": {},
   "outputs": [
    {
     "data": {
      "application/vnd.plotly.v1+json": {
       "config": {
        "plotlyServerURL": "https://plot.ly"
       },
       "data": [
        {
         "alignmentgroup": "True",
         "hovertemplate": "total count=%{x}<br>Director=%{y}<extra></extra>",
         "legendgroup": "",
         "marker": {
          "color": "#636efa",
          "pattern": {
           "shape": ""
          }
         },
         "name": "",
         "offsetgroup": "",
         "orientation": "h",
         "showlegend": false,
         "textposition": "auto",
         "type": "bar",
         "x": [
          22,
          18,
          18,
          16,
          16
         ],
         "xaxis": "x",
         "y": [
          "Rajiv Chilaka",
          " Jan Suter",
          "Raúl Campos",
          "Marcus Raboy",
          "Suhas Kadav"
         ],
         "yaxis": "y"
        }
       ],
       "layout": {
        "barmode": "relative",
        "legend": {
         "tracegroupgap": 0
        },
        "template": {
         "data": {
          "bar": [
           {
            "error_x": {
             "color": "#2a3f5f"
            },
            "error_y": {
             "color": "#2a3f5f"
            },
            "marker": {
             "line": {
              "color": "#E5ECF6",
              "width": 0.5
             },
             "pattern": {
              "fillmode": "overlay",
              "size": 10,
              "solidity": 0.2
             }
            },
            "type": "bar"
           }
          ],
          "barpolar": [
           {
            "marker": {
             "line": {
              "color": "#E5ECF6",
              "width": 0.5
             },
             "pattern": {
              "fillmode": "overlay",
              "size": 10,
              "solidity": 0.2
             }
            },
            "type": "barpolar"
           }
          ],
          "carpet": [
           {
            "aaxis": {
             "endlinecolor": "#2a3f5f",
             "gridcolor": "white",
             "linecolor": "white",
             "minorgridcolor": "white",
             "startlinecolor": "#2a3f5f"
            },
            "baxis": {
             "endlinecolor": "#2a3f5f",
             "gridcolor": "white",
             "linecolor": "white",
             "minorgridcolor": "white",
             "startlinecolor": "#2a3f5f"
            },
            "type": "carpet"
           }
          ],
          "choropleth": [
           {
            "colorbar": {
             "outlinewidth": 0,
             "ticks": ""
            },
            "type": "choropleth"
           }
          ],
          "contour": [
           {
            "colorbar": {
             "outlinewidth": 0,
             "ticks": ""
            },
            "colorscale": [
             [
              0,
              "#0d0887"
             ],
             [
              0.1111111111111111,
              "#46039f"
             ],
             [
              0.2222222222222222,
              "#7201a8"
             ],
             [
              0.3333333333333333,
              "#9c179e"
             ],
             [
              0.4444444444444444,
              "#bd3786"
             ],
             [
              0.5555555555555556,
              "#d8576b"
             ],
             [
              0.6666666666666666,
              "#ed7953"
             ],
             [
              0.7777777777777778,
              "#fb9f3a"
             ],
             [
              0.8888888888888888,
              "#fdca26"
             ],
             [
              1,
              "#f0f921"
             ]
            ],
            "type": "contour"
           }
          ],
          "contourcarpet": [
           {
            "colorbar": {
             "outlinewidth": 0,
             "ticks": ""
            },
            "type": "contourcarpet"
           }
          ],
          "heatmap": [
           {
            "colorbar": {
             "outlinewidth": 0,
             "ticks": ""
            },
            "colorscale": [
             [
              0,
              "#0d0887"
             ],
             [
              0.1111111111111111,
              "#46039f"
             ],
             [
              0.2222222222222222,
              "#7201a8"
             ],
             [
              0.3333333333333333,
              "#9c179e"
             ],
             [
              0.4444444444444444,
              "#bd3786"
             ],
             [
              0.5555555555555556,
              "#d8576b"
             ],
             [
              0.6666666666666666,
              "#ed7953"
             ],
             [
              0.7777777777777778,
              "#fb9f3a"
             ],
             [
              0.8888888888888888,
              "#fdca26"
             ],
             [
              1,
              "#f0f921"
             ]
            ],
            "type": "heatmap"
           }
          ],
          "heatmapgl": [
           {
            "colorbar": {
             "outlinewidth": 0,
             "ticks": ""
            },
            "colorscale": [
             [
              0,
              "#0d0887"
             ],
             [
              0.1111111111111111,
              "#46039f"
             ],
             [
              0.2222222222222222,
              "#7201a8"
             ],
             [
              0.3333333333333333,
              "#9c179e"
             ],
             [
              0.4444444444444444,
              "#bd3786"
             ],
             [
              0.5555555555555556,
              "#d8576b"
             ],
             [
              0.6666666666666666,
              "#ed7953"
             ],
             [
              0.7777777777777778,
              "#fb9f3a"
             ],
             [
              0.8888888888888888,
              "#fdca26"
             ],
             [
              1,
              "#f0f921"
             ]
            ],
            "type": "heatmapgl"
           }
          ],
          "histogram": [
           {
            "marker": {
             "pattern": {
              "fillmode": "overlay",
              "size": 10,
              "solidity": 0.2
             }
            },
            "type": "histogram"
           }
          ],
          "histogram2d": [
           {
            "colorbar": {
             "outlinewidth": 0,
             "ticks": ""
            },
            "colorscale": [
             [
              0,
              "#0d0887"
             ],
             [
              0.1111111111111111,
              "#46039f"
             ],
             [
              0.2222222222222222,
              "#7201a8"
             ],
             [
              0.3333333333333333,
              "#9c179e"
             ],
             [
              0.4444444444444444,
              "#bd3786"
             ],
             [
              0.5555555555555556,
              "#d8576b"
             ],
             [
              0.6666666666666666,
              "#ed7953"
             ],
             [
              0.7777777777777778,
              "#fb9f3a"
             ],
             [
              0.8888888888888888,
              "#fdca26"
             ],
             [
              1,
              "#f0f921"
             ]
            ],
            "type": "histogram2d"
           }
          ],
          "histogram2dcontour": [
           {
            "colorbar": {
             "outlinewidth": 0,
             "ticks": ""
            },
            "colorscale": [
             [
              0,
              "#0d0887"
             ],
             [
              0.1111111111111111,
              "#46039f"
             ],
             [
              0.2222222222222222,
              "#7201a8"
             ],
             [
              0.3333333333333333,
              "#9c179e"
             ],
             [
              0.4444444444444444,
              "#bd3786"
             ],
             [
              0.5555555555555556,
              "#d8576b"
             ],
             [
              0.6666666666666666,
              "#ed7953"
             ],
             [
              0.7777777777777778,
              "#fb9f3a"
             ],
             [
              0.8888888888888888,
              "#fdca26"
             ],
             [
              1,
              "#f0f921"
             ]
            ],
            "type": "histogram2dcontour"
           }
          ],
          "mesh3d": [
           {
            "colorbar": {
             "outlinewidth": 0,
             "ticks": ""
            },
            "type": "mesh3d"
           }
          ],
          "parcoords": [
           {
            "line": {
             "colorbar": {
              "outlinewidth": 0,
              "ticks": ""
             }
            },
            "type": "parcoords"
           }
          ],
          "pie": [
           {
            "automargin": true,
            "type": "pie"
           }
          ],
          "scatter": [
           {
            "fillpattern": {
             "fillmode": "overlay",
             "size": 10,
             "solidity": 0.2
            },
            "type": "scatter"
           }
          ],
          "scatter3d": [
           {
            "line": {
             "colorbar": {
              "outlinewidth": 0,
              "ticks": ""
             }
            },
            "marker": {
             "colorbar": {
              "outlinewidth": 0,
              "ticks": ""
             }
            },
            "type": "scatter3d"
           }
          ],
          "scattercarpet": [
           {
            "marker": {
             "colorbar": {
              "outlinewidth": 0,
              "ticks": ""
             }
            },
            "type": "scattercarpet"
           }
          ],
          "scattergeo": [
           {
            "marker": {
             "colorbar": {
              "outlinewidth": 0,
              "ticks": ""
             }
            },
            "type": "scattergeo"
           }
          ],
          "scattergl": [
           {
            "marker": {
             "colorbar": {
              "outlinewidth": 0,
              "ticks": ""
             }
            },
            "type": "scattergl"
           }
          ],
          "scattermapbox": [
           {
            "marker": {
             "colorbar": {
              "outlinewidth": 0,
              "ticks": ""
             }
            },
            "type": "scattermapbox"
           }
          ],
          "scatterpolar": [
           {
            "marker": {
             "colorbar": {
              "outlinewidth": 0,
              "ticks": ""
             }
            },
            "type": "scatterpolar"
           }
          ],
          "scatterpolargl": [
           {
            "marker": {
             "colorbar": {
              "outlinewidth": 0,
              "ticks": ""
             }
            },
            "type": "scatterpolargl"
           }
          ],
          "scatterternary": [
           {
            "marker": {
             "colorbar": {
              "outlinewidth": 0,
              "ticks": ""
             }
            },
            "type": "scatterternary"
           }
          ],
          "surface": [
           {
            "colorbar": {
             "outlinewidth": 0,
             "ticks": ""
            },
            "colorscale": [
             [
              0,
              "#0d0887"
             ],
             [
              0.1111111111111111,
              "#46039f"
             ],
             [
              0.2222222222222222,
              "#7201a8"
             ],
             [
              0.3333333333333333,
              "#9c179e"
             ],
             [
              0.4444444444444444,
              "#bd3786"
             ],
             [
              0.5555555555555556,
              "#d8576b"
             ],
             [
              0.6666666666666666,
              "#ed7953"
             ],
             [
              0.7777777777777778,
              "#fb9f3a"
             ],
             [
              0.8888888888888888,
              "#fdca26"
             ],
             [
              1,
              "#f0f921"
             ]
            ],
            "type": "surface"
           }
          ],
          "table": [
           {
            "cells": {
             "fill": {
              "color": "#EBF0F8"
             },
             "line": {
              "color": "white"
             }
            },
            "header": {
             "fill": {
              "color": "#C8D4E3"
             },
             "line": {
              "color": "white"
             }
            },
            "type": "table"
           }
          ]
         },
         "layout": {
          "annotationdefaults": {
           "arrowcolor": "#2a3f5f",
           "arrowhead": 0,
           "arrowwidth": 1
          },
          "autotypenumbers": "strict",
          "coloraxis": {
           "colorbar": {
            "outlinewidth": 0,
            "ticks": ""
           }
          },
          "colorscale": {
           "diverging": [
            [
             0,
             "#8e0152"
            ],
            [
             0.1,
             "#c51b7d"
            ],
            [
             0.2,
             "#de77ae"
            ],
            [
             0.3,
             "#f1b6da"
            ],
            [
             0.4,
             "#fde0ef"
            ],
            [
             0.5,
             "#f7f7f7"
            ],
            [
             0.6,
             "#e6f5d0"
            ],
            [
             0.7,
             "#b8e186"
            ],
            [
             0.8,
             "#7fbc41"
            ],
            [
             0.9,
             "#4d9221"
            ],
            [
             1,
             "#276419"
            ]
           ],
           "sequential": [
            [
             0,
             "#0d0887"
            ],
            [
             0.1111111111111111,
             "#46039f"
            ],
            [
             0.2222222222222222,
             "#7201a8"
            ],
            [
             0.3333333333333333,
             "#9c179e"
            ],
            [
             0.4444444444444444,
             "#bd3786"
            ],
            [
             0.5555555555555556,
             "#d8576b"
            ],
            [
             0.6666666666666666,
             "#ed7953"
            ],
            [
             0.7777777777777778,
             "#fb9f3a"
            ],
            [
             0.8888888888888888,
             "#fdca26"
            ],
            [
             1,
             "#f0f921"
            ]
           ],
           "sequentialminus": [
            [
             0,
             "#0d0887"
            ],
            [
             0.1111111111111111,
             "#46039f"
            ],
            [
             0.2222222222222222,
             "#7201a8"
            ],
            [
             0.3333333333333333,
             "#9c179e"
            ],
            [
             0.4444444444444444,
             "#bd3786"
            ],
            [
             0.5555555555555556,
             "#d8576b"
            ],
            [
             0.6666666666666666,
             "#ed7953"
            ],
            [
             0.7777777777777778,
             "#fb9f3a"
            ],
            [
             0.8888888888888888,
             "#fdca26"
            ],
            [
             1,
             "#f0f921"
            ]
           ]
          },
          "colorway": [
           "#636efa",
           "#EF553B",
           "#00cc96",
           "#ab63fa",
           "#FFA15A",
           "#19d3f3",
           "#FF6692",
           "#B6E880",
           "#FF97FF",
           "#FECB52"
          ],
          "font": {
           "color": "#2a3f5f"
          },
          "geo": {
           "bgcolor": "white",
           "lakecolor": "white",
           "landcolor": "#E5ECF6",
           "showlakes": true,
           "showland": true,
           "subunitcolor": "white"
          },
          "hoverlabel": {
           "align": "left"
          },
          "hovermode": "closest",
          "mapbox": {
           "style": "light"
          },
          "paper_bgcolor": "white",
          "plot_bgcolor": "#E5ECF6",
          "polar": {
           "angularaxis": {
            "gridcolor": "white",
            "linecolor": "white",
            "ticks": ""
           },
           "bgcolor": "#E5ECF6",
           "radialaxis": {
            "gridcolor": "white",
            "linecolor": "white",
            "ticks": ""
           }
          },
          "scene": {
           "xaxis": {
            "backgroundcolor": "#E5ECF6",
            "gridcolor": "white",
            "gridwidth": 2,
            "linecolor": "white",
            "showbackground": true,
            "ticks": "",
            "zerolinecolor": "white"
           },
           "yaxis": {
            "backgroundcolor": "#E5ECF6",
            "gridcolor": "white",
            "gridwidth": 2,
            "linecolor": "white",
            "showbackground": true,
            "ticks": "",
            "zerolinecolor": "white"
           },
           "zaxis": {
            "backgroundcolor": "#E5ECF6",
            "gridcolor": "white",
            "gridwidth": 2,
            "linecolor": "white",
            "showbackground": true,
            "ticks": "",
            "zerolinecolor": "white"
           }
          },
          "shapedefaults": {
           "line": {
            "color": "#2a3f5f"
           }
          },
          "ternary": {
           "aaxis": {
            "gridcolor": "white",
            "linecolor": "white",
            "ticks": ""
           },
           "baxis": {
            "gridcolor": "white",
            "linecolor": "white",
            "ticks": ""
           },
           "bgcolor": "#E5ECF6",
           "caxis": {
            "gridcolor": "white",
            "linecolor": "white",
            "ticks": ""
           }
          },
          "title": {
           "x": 0.05
          },
          "xaxis": {
           "automargin": true,
           "gridcolor": "white",
           "linecolor": "white",
           "ticks": "",
           "title": {
            "standoff": 15
           },
           "zerolinecolor": "white",
           "zerolinewidth": 2
          },
          "yaxis": {
           "automargin": true,
           "gridcolor": "white",
           "linecolor": "white",
           "ticks": "",
           "title": {
            "standoff": 15
           },
           "zerolinecolor": "white",
           "zerolinewidth": 2
          }
         }
        },
        "title": {
         "text": "Top 5 Directors on Netflix"
        },
        "xaxis": {
         "anchor": "y",
         "domain": [
          0,
          1
         ],
         "title": {
          "text": "total count"
         }
        },
        "yaxis": {
         "anchor": "x",
         "domain": [
          0,
          1
         ],
         "title": {
          "text": "Director"
         }
        }
       }
      },
      "text/html": [
       "<div>                            <div id=\"5a709e2c-c811-4351-99dd-bda63ebd36b7\" class=\"plotly-graph-div\" style=\"height:525px; width:100%;\"></div>            <script type=\"text/javascript\">                require([\"plotly\"], function(Plotly) {                    window.PLOTLYENV=window.PLOTLYENV || {};                                    if (document.getElementById(\"5a709e2c-c811-4351-99dd-bda63ebd36b7\")) {                    Plotly.newPlot(                        \"5a709e2c-c811-4351-99dd-bda63ebd36b7\",                        [{\"alignmentgroup\":\"True\",\"hovertemplate\":\"total count=%{x}<br>Director=%{y}<extra></extra>\",\"legendgroup\":\"\",\"marker\":{\"color\":\"#636efa\",\"pattern\":{\"shape\":\"\"}},\"name\":\"\",\"offsetgroup\":\"\",\"orientation\":\"h\",\"showlegend\":false,\"textposition\":\"auto\",\"x\":[22,18,18,16,16],\"xaxis\":\"x\",\"y\":[\"Rajiv Chilaka\",\" Jan Suter\",\"Ra\\u00fal Campos\",\"Marcus Raboy\",\"Suhas Kadav\"],\"yaxis\":\"y\",\"type\":\"bar\"}],                        {\"template\":{\"data\":{\"histogram2dcontour\":[{\"type\":\"histogram2dcontour\",\"colorbar\":{\"outlinewidth\":0,\"ticks\":\"\"},\"colorscale\":[[0.0,\"#0d0887\"],[0.1111111111111111,\"#46039f\"],[0.2222222222222222,\"#7201a8\"],[0.3333333333333333,\"#9c179e\"],[0.4444444444444444,\"#bd3786\"],[0.5555555555555556,\"#d8576b\"],[0.6666666666666666,\"#ed7953\"],[0.7777777777777778,\"#fb9f3a\"],[0.8888888888888888,\"#fdca26\"],[1.0,\"#f0f921\"]]}],\"choropleth\":[{\"type\":\"choropleth\",\"colorbar\":{\"outlinewidth\":0,\"ticks\":\"\"}}],\"histogram2d\":[{\"type\":\"histogram2d\",\"colorbar\":{\"outlinewidth\":0,\"ticks\":\"\"},\"colorscale\":[[0.0,\"#0d0887\"],[0.1111111111111111,\"#46039f\"],[0.2222222222222222,\"#7201a8\"],[0.3333333333333333,\"#9c179e\"],[0.4444444444444444,\"#bd3786\"],[0.5555555555555556,\"#d8576b\"],[0.6666666666666666,\"#ed7953\"],[0.7777777777777778,\"#fb9f3a\"],[0.8888888888888888,\"#fdca26\"],[1.0,\"#f0f921\"]]}],\"heatmap\":[{\"type\":\"heatmap\",\"colorbar\":{\"outlinewidth\":0,\"ticks\":\"\"},\"colorscale\":[[0.0,\"#0d0887\"],[0.1111111111111111,\"#46039f\"],[0.2222222222222222,\"#7201a8\"],[0.3333333333333333,\"#9c179e\"],[0.4444444444444444,\"#bd3786\"],[0.5555555555555556,\"#d8576b\"],[0.6666666666666666,\"#ed7953\"],[0.7777777777777778,\"#fb9f3a\"],[0.8888888888888888,\"#fdca26\"],[1.0,\"#f0f921\"]]}],\"heatmapgl\":[{\"type\":\"heatmapgl\",\"colorbar\":{\"outlinewidth\":0,\"ticks\":\"\"},\"colorscale\":[[0.0,\"#0d0887\"],[0.1111111111111111,\"#46039f\"],[0.2222222222222222,\"#7201a8\"],[0.3333333333333333,\"#9c179e\"],[0.4444444444444444,\"#bd3786\"],[0.5555555555555556,\"#d8576b\"],[0.6666666666666666,\"#ed7953\"],[0.7777777777777778,\"#fb9f3a\"],[0.8888888888888888,\"#fdca26\"],[1.0,\"#f0f921\"]]}],\"contourcarpet\":[{\"type\":\"contourcarpet\",\"colorbar\":{\"outlinewidth\":0,\"ticks\":\"\"}}],\"contour\":[{\"type\":\"contour\",\"colorbar\":{\"outlinewidth\":0,\"ticks\":\"\"},\"colorscale\":[[0.0,\"#0d0887\"],[0.1111111111111111,\"#46039f\"],[0.2222222222222222,\"#7201a8\"],[0.3333333333333333,\"#9c179e\"],[0.4444444444444444,\"#bd3786\"],[0.5555555555555556,\"#d8576b\"],[0.6666666666666666,\"#ed7953\"],[0.7777777777777778,\"#fb9f3a\"],[0.8888888888888888,\"#fdca26\"],[1.0,\"#f0f921\"]]}],\"surface\":[{\"type\":\"surface\",\"colorbar\":{\"outlinewidth\":0,\"ticks\":\"\"},\"colorscale\":[[0.0,\"#0d0887\"],[0.1111111111111111,\"#46039f\"],[0.2222222222222222,\"#7201a8\"],[0.3333333333333333,\"#9c179e\"],[0.4444444444444444,\"#bd3786\"],[0.5555555555555556,\"#d8576b\"],[0.6666666666666666,\"#ed7953\"],[0.7777777777777778,\"#fb9f3a\"],[0.8888888888888888,\"#fdca26\"],[1.0,\"#f0f921\"]]}],\"mesh3d\":[{\"type\":\"mesh3d\",\"colorbar\":{\"outlinewidth\":0,\"ticks\":\"\"}}],\"scatter\":[{\"fillpattern\":{\"fillmode\":\"overlay\",\"size\":10,\"solidity\":0.2},\"type\":\"scatter\"}],\"parcoords\":[{\"type\":\"parcoords\",\"line\":{\"colorbar\":{\"outlinewidth\":0,\"ticks\":\"\"}}}],\"scatterpolargl\":[{\"type\":\"scatterpolargl\",\"marker\":{\"colorbar\":{\"outlinewidth\":0,\"ticks\":\"\"}}}],\"bar\":[{\"error_x\":{\"color\":\"#2a3f5f\"},\"error_y\":{\"color\":\"#2a3f5f\"},\"marker\":{\"line\":{\"color\":\"#E5ECF6\",\"width\":0.5},\"pattern\":{\"fillmode\":\"overlay\",\"size\":10,\"solidity\":0.2}},\"type\":\"bar\"}],\"scattergeo\":[{\"type\":\"scattergeo\",\"marker\":{\"colorbar\":{\"outlinewidth\":0,\"ticks\":\"\"}}}],\"scatterpolar\":[{\"type\":\"scatterpolar\",\"marker\":{\"colorbar\":{\"outlinewidth\":0,\"ticks\":\"\"}}}],\"histogram\":[{\"marker\":{\"pattern\":{\"fillmode\":\"overlay\",\"size\":10,\"solidity\":0.2}},\"type\":\"histogram\"}],\"scattergl\":[{\"type\":\"scattergl\",\"marker\":{\"colorbar\":{\"outlinewidth\":0,\"ticks\":\"\"}}}],\"scatter3d\":[{\"type\":\"scatter3d\",\"line\":{\"colorbar\":{\"outlinewidth\":0,\"ticks\":\"\"}},\"marker\":{\"colorbar\":{\"outlinewidth\":0,\"ticks\":\"\"}}}],\"scattermapbox\":[{\"type\":\"scattermapbox\",\"marker\":{\"colorbar\":{\"outlinewidth\":0,\"ticks\":\"\"}}}],\"scatterternary\":[{\"type\":\"scatterternary\",\"marker\":{\"colorbar\":{\"outlinewidth\":0,\"ticks\":\"\"}}}],\"scattercarpet\":[{\"type\":\"scattercarpet\",\"marker\":{\"colorbar\":{\"outlinewidth\":0,\"ticks\":\"\"}}}],\"carpet\":[{\"aaxis\":{\"endlinecolor\":\"#2a3f5f\",\"gridcolor\":\"white\",\"linecolor\":\"white\",\"minorgridcolor\":\"white\",\"startlinecolor\":\"#2a3f5f\"},\"baxis\":{\"endlinecolor\":\"#2a3f5f\",\"gridcolor\":\"white\",\"linecolor\":\"white\",\"minorgridcolor\":\"white\",\"startlinecolor\":\"#2a3f5f\"},\"type\":\"carpet\"}],\"table\":[{\"cells\":{\"fill\":{\"color\":\"#EBF0F8\"},\"line\":{\"color\":\"white\"}},\"header\":{\"fill\":{\"color\":\"#C8D4E3\"},\"line\":{\"color\":\"white\"}},\"type\":\"table\"}],\"barpolar\":[{\"marker\":{\"line\":{\"color\":\"#E5ECF6\",\"width\":0.5},\"pattern\":{\"fillmode\":\"overlay\",\"size\":10,\"solidity\":0.2}},\"type\":\"barpolar\"}],\"pie\":[{\"automargin\":true,\"type\":\"pie\"}]},\"layout\":{\"autotypenumbers\":\"strict\",\"colorway\":[\"#636efa\",\"#EF553B\",\"#00cc96\",\"#ab63fa\",\"#FFA15A\",\"#19d3f3\",\"#FF6692\",\"#B6E880\",\"#FF97FF\",\"#FECB52\"],\"font\":{\"color\":\"#2a3f5f\"},\"hovermode\":\"closest\",\"hoverlabel\":{\"align\":\"left\"},\"paper_bgcolor\":\"white\",\"plot_bgcolor\":\"#E5ECF6\",\"polar\":{\"bgcolor\":\"#E5ECF6\",\"angularaxis\":{\"gridcolor\":\"white\",\"linecolor\":\"white\",\"ticks\":\"\"},\"radialaxis\":{\"gridcolor\":\"white\",\"linecolor\":\"white\",\"ticks\":\"\"}},\"ternary\":{\"bgcolor\":\"#E5ECF6\",\"aaxis\":{\"gridcolor\":\"white\",\"linecolor\":\"white\",\"ticks\":\"\"},\"baxis\":{\"gridcolor\":\"white\",\"linecolor\":\"white\",\"ticks\":\"\"},\"caxis\":{\"gridcolor\":\"white\",\"linecolor\":\"white\",\"ticks\":\"\"}},\"coloraxis\":{\"colorbar\":{\"outlinewidth\":0,\"ticks\":\"\"}},\"colorscale\":{\"sequential\":[[0.0,\"#0d0887\"],[0.1111111111111111,\"#46039f\"],[0.2222222222222222,\"#7201a8\"],[0.3333333333333333,\"#9c179e\"],[0.4444444444444444,\"#bd3786\"],[0.5555555555555556,\"#d8576b\"],[0.6666666666666666,\"#ed7953\"],[0.7777777777777778,\"#fb9f3a\"],[0.8888888888888888,\"#fdca26\"],[1.0,\"#f0f921\"]],\"sequentialminus\":[[0.0,\"#0d0887\"],[0.1111111111111111,\"#46039f\"],[0.2222222222222222,\"#7201a8\"],[0.3333333333333333,\"#9c179e\"],[0.4444444444444444,\"#bd3786\"],[0.5555555555555556,\"#d8576b\"],[0.6666666666666666,\"#ed7953\"],[0.7777777777777778,\"#fb9f3a\"],[0.8888888888888888,\"#fdca26\"],[1.0,\"#f0f921\"]],\"diverging\":[[0,\"#8e0152\"],[0.1,\"#c51b7d\"],[0.2,\"#de77ae\"],[0.3,\"#f1b6da\"],[0.4,\"#fde0ef\"],[0.5,\"#f7f7f7\"],[0.6,\"#e6f5d0\"],[0.7,\"#b8e186\"],[0.8,\"#7fbc41\"],[0.9,\"#4d9221\"],[1,\"#276419\"]]},\"xaxis\":{\"gridcolor\":\"white\",\"linecolor\":\"white\",\"ticks\":\"\",\"title\":{\"standoff\":15},\"zerolinecolor\":\"white\",\"automargin\":true,\"zerolinewidth\":2},\"yaxis\":{\"gridcolor\":\"white\",\"linecolor\":\"white\",\"ticks\":\"\",\"title\":{\"standoff\":15},\"zerolinecolor\":\"white\",\"automargin\":true,\"zerolinewidth\":2},\"scene\":{\"xaxis\":{\"backgroundcolor\":\"#E5ECF6\",\"gridcolor\":\"white\",\"linecolor\":\"white\",\"showbackground\":true,\"ticks\":\"\",\"zerolinecolor\":\"white\",\"gridwidth\":2},\"yaxis\":{\"backgroundcolor\":\"#E5ECF6\",\"gridcolor\":\"white\",\"linecolor\":\"white\",\"showbackground\":true,\"ticks\":\"\",\"zerolinecolor\":\"white\",\"gridwidth\":2},\"zaxis\":{\"backgroundcolor\":\"#E5ECF6\",\"gridcolor\":\"white\",\"linecolor\":\"white\",\"showbackground\":true,\"ticks\":\"\",\"zerolinecolor\":\"white\",\"gridwidth\":2}},\"shapedefaults\":{\"line\":{\"color\":\"#2a3f5f\"}},\"annotationdefaults\":{\"arrowcolor\":\"#2a3f5f\",\"arrowhead\":0,\"arrowwidth\":1},\"geo\":{\"bgcolor\":\"white\",\"landcolor\":\"#E5ECF6\",\"subunitcolor\":\"white\",\"showland\":true,\"showlakes\":true,\"lakecolor\":\"white\"},\"title\":{\"x\":0.05},\"mapbox\":{\"style\":\"light\"}}},\"xaxis\":{\"anchor\":\"y\",\"domain\":[0.0,1.0],\"title\":{\"text\":\"total count\"}},\"yaxis\":{\"anchor\":\"x\",\"domain\":[0.0,1.0],\"title\":{\"text\":\"Director\"}},\"legend\":{\"tracegroupgap\":0},\"title\":{\"text\":\"Top 5 Directors on Netflix\"},\"barmode\":\"relative\"},                        {\"responsive\": true}                    ).then(function(){\n",
       "                            \n",
       "var gd = document.getElementById('5a709e2c-c811-4351-99dd-bda63ebd36b7');\n",
       "var x = new MutationObserver(function (mutations, observer) {{\n",
       "        var display = window.getComputedStyle(gd).display;\n",
       "        if (!display || display === 'none') {{\n",
       "            console.log([gd, 'removed!']);\n",
       "            Plotly.purge(gd);\n",
       "            observer.disconnect();\n",
       "        }}\n",
       "}});\n",
       "\n",
       "// Listen for the removal of the full notebook cells\n",
       "var notebookContainer = gd.closest('#notebook-container');\n",
       "if (notebookContainer) {{\n",
       "    x.observe(notebookContainer, {childList: true});\n",
       "}}\n",
       "\n",
       "// Listen for the clearing of the current output cell\n",
       "var outputEl = gd.closest('.output');\n",
       "if (outputEl) {{\n",
       "    x.observe(outputEl, {childList: true});\n",
       "}}\n",
       "\n",
       "                        })                };                });            </script>        </div>"
      ]
     },
     "metadata": {},
     "output_type": "display_data"
    },
    {
     "data": {
      "text/plain": [
       "<Figure size 800x800 with 0 Axes>"
      ]
     },
     "metadata": {},
     "output_type": "display_data"
    }
   ],
   "source": [
    "top5directors=top5_directors.sort_values(by='total count')\n",
    "plt.figure(figsize=(8,8))\n",
    "barChart=ps.bar(top5_directors,x='total count',y='Director',title='Top 5 Directors on Netflix')\n",
    "barChart.show()"
   ]
  },
  {
   "cell_type": "markdown",
   "id": "4f7b61f5",
   "metadata": {},
   "source": [
    "## Analysing the top 10 actors in dataset"
   ]
  },
  {
   "cell_type": "code",
   "execution_count": 126,
   "id": "626e0ddd",
   "metadata": {},
   "outputs": [],
   "source": [
    "data['cast']=data['cast'].fillna('No cast specified')\n",
    "cast_df=pd.DataFrame()\n",
    "cast_df=data['cast'].str.split(',',expand=True).stack()\n",
    "cast_df=cast_df.to_frame()\n",
    "cast_df.columns=['Actors']\n",
    "actors=cast_df.groupby(['Actors']).size().reset_index(name='Total count')"
   ]
  },
  {
   "cell_type": "code",
   "execution_count": 127,
   "id": "452cc25f",
   "metadata": {},
   "outputs": [
    {
     "data": {
      "text/html": [
       "<div>\n",
       "<style scoped>\n",
       "    .dataframe tbody tr th:only-of-type {\n",
       "        vertical-align: middle;\n",
       "    }\n",
       "\n",
       "    .dataframe tbody tr th {\n",
       "        vertical-align: top;\n",
       "    }\n",
       "\n",
       "    .dataframe thead th {\n",
       "        text-align: right;\n",
       "    }\n",
       "</style>\n",
       "<table border=\"1\" class=\"dataframe\">\n",
       "  <thead>\n",
       "    <tr style=\"text-align: right;\">\n",
       "      <th></th>\n",
       "      <th></th>\n",
       "      <th>Actors</th>\n",
       "    </tr>\n",
       "  </thead>\n",
       "  <tbody>\n",
       "    <tr>\n",
       "      <th>0</th>\n",
       "      <th>0</th>\n",
       "      <td>No cast specified</td>\n",
       "    </tr>\n",
       "    <tr>\n",
       "      <th rowspan=\"4\" valign=\"top\">1</th>\n",
       "      <th>0</th>\n",
       "      <td>Ama Qamata</td>\n",
       "    </tr>\n",
       "    <tr>\n",
       "      <th>1</th>\n",
       "      <td>Khosi Ngema</td>\n",
       "    </tr>\n",
       "    <tr>\n",
       "      <th>2</th>\n",
       "      <td>Gail Mabalane</td>\n",
       "    </tr>\n",
       "    <tr>\n",
       "      <th>3</th>\n",
       "      <td>Thabang Molaba</td>\n",
       "    </tr>\n",
       "    <tr>\n",
       "      <th>...</th>\n",
       "      <th>...</th>\n",
       "      <td>...</td>\n",
       "    </tr>\n",
       "    <tr>\n",
       "      <th rowspan=\"5\" valign=\"top\">8806</th>\n",
       "      <th>3</th>\n",
       "      <td>Manish Chaudhary</td>\n",
       "    </tr>\n",
       "    <tr>\n",
       "      <th>4</th>\n",
       "      <td>Meghna Malik</td>\n",
       "    </tr>\n",
       "    <tr>\n",
       "      <th>5</th>\n",
       "      <td>Malkeet Rauni</td>\n",
       "    </tr>\n",
       "    <tr>\n",
       "      <th>6</th>\n",
       "      <td>Anita Shabdish</td>\n",
       "    </tr>\n",
       "    <tr>\n",
       "      <th>7</th>\n",
       "      <td>Chittaranjan Tripathy</td>\n",
       "    </tr>\n",
       "  </tbody>\n",
       "</table>\n",
       "<p>64951 rows × 1 columns</p>\n",
       "</div>"
      ],
      "text/plain": [
       "                        Actors\n",
       "0    0       No cast specified\n",
       "1    0              Ama Qamata\n",
       "     1             Khosi Ngema\n",
       "     2           Gail Mabalane\n",
       "     3          Thabang Molaba\n",
       "...                        ...\n",
       "8806 3        Manish Chaudhary\n",
       "     4            Meghna Malik\n",
       "     5           Malkeet Rauni\n",
       "     6          Anita Shabdish\n",
       "     7   Chittaranjan Tripathy\n",
       "\n",
       "[64951 rows x 1 columns]"
      ]
     },
     "execution_count": 127,
     "metadata": {},
     "output_type": "execute_result"
    }
   ],
   "source": [
    "cast_df"
   ]
  },
  {
   "cell_type": "code",
   "execution_count": 128,
   "id": "ce941aad",
   "metadata": {},
   "outputs": [
    {
     "data": {
      "text/html": [
       "<div>\n",
       "<style scoped>\n",
       "    .dataframe tbody tr th:only-of-type {\n",
       "        vertical-align: middle;\n",
       "    }\n",
       "\n",
       "    .dataframe tbody tr th {\n",
       "        vertical-align: top;\n",
       "    }\n",
       "\n",
       "    .dataframe thead th {\n",
       "        text-align: right;\n",
       "    }\n",
       "</style>\n",
       "<table border=\"1\" class=\"dataframe\">\n",
       "  <thead>\n",
       "    <tr style=\"text-align: right;\">\n",
       "      <th></th>\n",
       "      <th>Actors</th>\n",
       "      <th>Total count</th>\n",
       "    </tr>\n",
       "  </thead>\n",
       "  <tbody>\n",
       "    <tr>\n",
       "      <th>0</th>\n",
       "      <td>Jr.</td>\n",
       "      <td>2</td>\n",
       "    </tr>\n",
       "    <tr>\n",
       "      <th>1</th>\n",
       "      <td>\"Riley\" Lakdhar Dridi</td>\n",
       "      <td>1</td>\n",
       "    </tr>\n",
       "    <tr>\n",
       "      <th>2</th>\n",
       "      <td>'Najite Dede</td>\n",
       "      <td>1</td>\n",
       "    </tr>\n",
       "    <tr>\n",
       "      <th>3</th>\n",
       "      <td>2 Chainz</td>\n",
       "      <td>1</td>\n",
       "    </tr>\n",
       "    <tr>\n",
       "      <th>4</th>\n",
       "      <td>2Mex</td>\n",
       "      <td>1</td>\n",
       "    </tr>\n",
       "    <tr>\n",
       "      <th>...</th>\n",
       "      <td>...</td>\n",
       "      <td>...</td>\n",
       "    </tr>\n",
       "    <tr>\n",
       "      <th>39292</th>\n",
       "      <td>İbrahim Büyükak</td>\n",
       "      <td>1</td>\n",
       "    </tr>\n",
       "    <tr>\n",
       "      <th>39293</th>\n",
       "      <td>İbrahim Çelikkol</td>\n",
       "      <td>1</td>\n",
       "    </tr>\n",
       "    <tr>\n",
       "      <th>39294</th>\n",
       "      <td>Şahin Irmak</td>\n",
       "      <td>1</td>\n",
       "    </tr>\n",
       "    <tr>\n",
       "      <th>39295</th>\n",
       "      <td>Şükrü Özyıldız</td>\n",
       "      <td>1</td>\n",
       "    </tr>\n",
       "    <tr>\n",
       "      <th>39296</th>\n",
       "      <td>Ṣọpẹ́ Dìrísù</td>\n",
       "      <td>1</td>\n",
       "    </tr>\n",
       "  </tbody>\n",
       "</table>\n",
       "<p>39297 rows × 2 columns</p>\n",
       "</div>"
      ],
      "text/plain": [
       "                       Actors  Total count\n",
       "0                         Jr.            2\n",
       "1       \"Riley\" Lakdhar Dridi            1\n",
       "2                'Najite Dede            1\n",
       "3                    2 Chainz            1\n",
       "4                        2Mex            1\n",
       "...                       ...          ...\n",
       "39292         İbrahim Büyükak            1\n",
       "39293        İbrahim Çelikkol            1\n",
       "39294             Şahin Irmak            1\n",
       "39295          Şükrü Özyıldız            1\n",
       "39296            Ṣọpẹ́ Dìrísù            1\n",
       "\n",
       "[39297 rows x 2 columns]"
      ]
     },
     "execution_count": 128,
     "metadata": {},
     "output_type": "execute_result"
    }
   ],
   "source": [
    "actors"
   ]
  },
  {
   "cell_type": "markdown",
   "id": "7485ff86",
   "metadata": {},
   "source": [
    "#### Ceaning the data of actors whose not specified"
   ]
  },
  {
   "cell_type": "code",
   "execution_count": 139,
   "id": "1e6d9d92",
   "metadata": {},
   "outputs": [
    {
     "data": {
      "text/html": [
       "<div>\n",
       "<style scoped>\n",
       "    .dataframe tbody tr th:only-of-type {\n",
       "        vertical-align: middle;\n",
       "    }\n",
       "\n",
       "    .dataframe tbody tr th {\n",
       "        vertical-align: top;\n",
       "    }\n",
       "\n",
       "    .dataframe thead th {\n",
       "        text-align: right;\n",
       "    }\n",
       "</style>\n",
       "<table border=\"1\" class=\"dataframe\">\n",
       "  <thead>\n",
       "    <tr style=\"text-align: right;\">\n",
       "      <th></th>\n",
       "      <th>Actors</th>\n",
       "      <th>Total count</th>\n",
       "    </tr>\n",
       "  </thead>\n",
       "  <tbody>\n",
       "    <tr>\n",
       "      <th>2612</th>\n",
       "      <td>Anupam Kher</td>\n",
       "      <td>39</td>\n",
       "    </tr>\n",
       "    <tr>\n",
       "      <th>26941</th>\n",
       "      <td>Rupa Bhimani</td>\n",
       "      <td>31</td>\n",
       "    </tr>\n",
       "    <tr>\n",
       "      <th>30303</th>\n",
       "      <td>Takahiro Sakurai</td>\n",
       "      <td>30</td>\n",
       "    </tr>\n",
       "    <tr>\n",
       "      <th>15541</th>\n",
       "      <td>Julie Tejwani</td>\n",
       "      <td>28</td>\n",
       "    </tr>\n",
       "    <tr>\n",
       "      <th>23624</th>\n",
       "      <td>Om Puri</td>\n",
       "      <td>27</td>\n",
       "    </tr>\n",
       "    <tr>\n",
       "      <th>...</th>\n",
       "      <td>...</td>\n",
       "      <td>...</td>\n",
       "    </tr>\n",
       "    <tr>\n",
       "      <th>28611</th>\n",
       "      <td>Shen Hai-jung</td>\n",
       "      <td>1</td>\n",
       "    </tr>\n",
       "    <tr>\n",
       "      <th>35764</th>\n",
       "      <td>Hedi Bouchenafa</td>\n",
       "      <td>1</td>\n",
       "    </tr>\n",
       "    <tr>\n",
       "      <th>35773</th>\n",
       "      <td>Helena Zengel</td>\n",
       "      <td>1</td>\n",
       "    </tr>\n",
       "    <tr>\n",
       "      <th>28609</th>\n",
       "      <td>Shen Chang Hung</td>\n",
       "      <td>1</td>\n",
       "    </tr>\n",
       "    <tr>\n",
       "      <th>39296</th>\n",
       "      <td>Ṣọpẹ́ Dìrísù</td>\n",
       "      <td>1</td>\n",
       "    </tr>\n",
       "  </tbody>\n",
       "</table>\n",
       "<p>39296 rows × 2 columns</p>\n",
       "</div>"
      ],
      "text/plain": [
       "                  Actors  Total count\n",
       "2612         Anupam Kher           39\n",
       "26941       Rupa Bhimani           31\n",
       "30303   Takahiro Sakurai           30\n",
       "15541      Julie Tejwani           28\n",
       "23624            Om Puri           27\n",
       "...                  ...          ...\n",
       "28611      Shen Hai-jung            1\n",
       "35764    Hedi Bouchenafa            1\n",
       "35773      Helena Zengel            1\n",
       "28609    Shen Chang Hung            1\n",
       "39296       Ṣọpẹ́ Dìrísù            1\n",
       "\n",
       "[39296 rows x 2 columns]"
      ]
     },
     "execution_count": 139,
     "metadata": {},
     "output_type": "execute_result"
    }
   ],
   "source": [
    "actors=actors[actors.Actors!='No cast specified']\n",
    "actors=actors.sort_values(by='Total count',ascending=False)\n",
    "actors"
   ]
  },
  {
   "cell_type": "markdown",
   "id": "3dcc1b38",
   "metadata": {},
   "source": [
    "#### printing top 10 actors "
   ]
  },
  {
   "cell_type": "code",
   "execution_count": 148,
   "id": "ace3cc43",
   "metadata": {},
   "outputs": [],
   "source": [
    "top10_actors=actors.head(10)"
   ]
  },
  {
   "cell_type": "code",
   "execution_count": 149,
   "id": "5aab2ab7",
   "metadata": {},
   "outputs": [
    {
     "data": {
      "text/html": [
       "<div>\n",
       "<style scoped>\n",
       "    .dataframe tbody tr th:only-of-type {\n",
       "        vertical-align: middle;\n",
       "    }\n",
       "\n",
       "    .dataframe tbody tr th {\n",
       "        vertical-align: top;\n",
       "    }\n",
       "\n",
       "    .dataframe thead th {\n",
       "        text-align: right;\n",
       "    }\n",
       "</style>\n",
       "<table border=\"1\" class=\"dataframe\">\n",
       "  <thead>\n",
       "    <tr style=\"text-align: right;\">\n",
       "      <th></th>\n",
       "      <th>Actors</th>\n",
       "      <th>Total count</th>\n",
       "    </tr>\n",
       "  </thead>\n",
       "  <tbody>\n",
       "    <tr>\n",
       "      <th>2612</th>\n",
       "      <td>Anupam Kher</td>\n",
       "      <td>39</td>\n",
       "    </tr>\n",
       "    <tr>\n",
       "      <th>26941</th>\n",
       "      <td>Rupa Bhimani</td>\n",
       "      <td>31</td>\n",
       "    </tr>\n",
       "    <tr>\n",
       "      <th>30303</th>\n",
       "      <td>Takahiro Sakurai</td>\n",
       "      <td>30</td>\n",
       "    </tr>\n",
       "    <tr>\n",
       "      <th>15541</th>\n",
       "      <td>Julie Tejwani</td>\n",
       "      <td>28</td>\n",
       "    </tr>\n",
       "    <tr>\n",
       "      <th>23624</th>\n",
       "      <td>Om Puri</td>\n",
       "      <td>27</td>\n",
       "    </tr>\n",
       "    <tr>\n",
       "      <th>38446</th>\n",
       "      <td>Shah Rukh Khan</td>\n",
       "      <td>26</td>\n",
       "    </tr>\n",
       "    <tr>\n",
       "      <th>25410</th>\n",
       "      <td>Rajesh Kava</td>\n",
       "      <td>26</td>\n",
       "    </tr>\n",
       "    <tr>\n",
       "      <th>4186</th>\n",
       "      <td>Boman Irani</td>\n",
       "      <td>25</td>\n",
       "    </tr>\n",
       "    <tr>\n",
       "      <th>33367</th>\n",
       "      <td>Yuki Kaji</td>\n",
       "      <td>25</td>\n",
       "    </tr>\n",
       "    <tr>\n",
       "      <th>1905</th>\n",
       "      <td>Andrea Libman</td>\n",
       "      <td>25</td>\n",
       "    </tr>\n",
       "  </tbody>\n",
       "</table>\n",
       "</div>"
      ],
      "text/plain": [
       "                  Actors  Total count\n",
       "2612         Anupam Kher           39\n",
       "26941       Rupa Bhimani           31\n",
       "30303   Takahiro Sakurai           30\n",
       "15541      Julie Tejwani           28\n",
       "23624            Om Puri           27\n",
       "38446     Shah Rukh Khan           26\n",
       "25410        Rajesh Kava           26\n",
       "4186         Boman Irani           25\n",
       "33367          Yuki Kaji           25\n",
       "1905       Andrea Libman           25"
      ]
     },
     "execution_count": 149,
     "metadata": {},
     "output_type": "execute_result"
    }
   ],
   "source": [
    "top10_actors"
   ]
  },
  {
   "cell_type": "code",
   "execution_count": 150,
   "id": "8f149937",
   "metadata": {},
   "outputs": [
    {
     "data": {
      "application/vnd.plotly.v1+json": {
       "config": {
        "plotlyServerURL": "https://plot.ly"
       },
       "data": [
        {
         "alignmentgroup": "True",
         "hovertemplate": "Actors=%{x}<br>Total count=%{y}<extra></extra>",
         "legendgroup": "",
         "marker": {
          "color": "#636efa",
          "pattern": {
           "shape": ""
          }
         },
         "name": "",
         "offsetgroup": "",
         "orientation": "v",
         "showlegend": false,
         "textposition": "auto",
         "type": "bar",
         "x": [
          " Anupam Kher",
          " Rupa Bhimani",
          " Takahiro Sakurai",
          " Julie Tejwani",
          " Om Puri",
          "Shah Rukh Khan",
          " Rajesh Kava",
          " Boman Irani",
          " Yuki Kaji",
          " Andrea Libman"
         ],
         "xaxis": "x",
         "y": [
          39,
          31,
          30,
          28,
          27,
          26,
          26,
          25,
          25,
          25
         ],
         "yaxis": "y"
        }
       ],
       "layout": {
        "barmode": "relative",
        "legend": {
         "tracegroupgap": 0
        },
        "template": {
         "data": {
          "bar": [
           {
            "error_x": {
             "color": "#2a3f5f"
            },
            "error_y": {
             "color": "#2a3f5f"
            },
            "marker": {
             "line": {
              "color": "#E5ECF6",
              "width": 0.5
             },
             "pattern": {
              "fillmode": "overlay",
              "size": 10,
              "solidity": 0.2
             }
            },
            "type": "bar"
           }
          ],
          "barpolar": [
           {
            "marker": {
             "line": {
              "color": "#E5ECF6",
              "width": 0.5
             },
             "pattern": {
              "fillmode": "overlay",
              "size": 10,
              "solidity": 0.2
             }
            },
            "type": "barpolar"
           }
          ],
          "carpet": [
           {
            "aaxis": {
             "endlinecolor": "#2a3f5f",
             "gridcolor": "white",
             "linecolor": "white",
             "minorgridcolor": "white",
             "startlinecolor": "#2a3f5f"
            },
            "baxis": {
             "endlinecolor": "#2a3f5f",
             "gridcolor": "white",
             "linecolor": "white",
             "minorgridcolor": "white",
             "startlinecolor": "#2a3f5f"
            },
            "type": "carpet"
           }
          ],
          "choropleth": [
           {
            "colorbar": {
             "outlinewidth": 0,
             "ticks": ""
            },
            "type": "choropleth"
           }
          ],
          "contour": [
           {
            "colorbar": {
             "outlinewidth": 0,
             "ticks": ""
            },
            "colorscale": [
             [
              0,
              "#0d0887"
             ],
             [
              0.1111111111111111,
              "#46039f"
             ],
             [
              0.2222222222222222,
              "#7201a8"
             ],
             [
              0.3333333333333333,
              "#9c179e"
             ],
             [
              0.4444444444444444,
              "#bd3786"
             ],
             [
              0.5555555555555556,
              "#d8576b"
             ],
             [
              0.6666666666666666,
              "#ed7953"
             ],
             [
              0.7777777777777778,
              "#fb9f3a"
             ],
             [
              0.8888888888888888,
              "#fdca26"
             ],
             [
              1,
              "#f0f921"
             ]
            ],
            "type": "contour"
           }
          ],
          "contourcarpet": [
           {
            "colorbar": {
             "outlinewidth": 0,
             "ticks": ""
            },
            "type": "contourcarpet"
           }
          ],
          "heatmap": [
           {
            "colorbar": {
             "outlinewidth": 0,
             "ticks": ""
            },
            "colorscale": [
             [
              0,
              "#0d0887"
             ],
             [
              0.1111111111111111,
              "#46039f"
             ],
             [
              0.2222222222222222,
              "#7201a8"
             ],
             [
              0.3333333333333333,
              "#9c179e"
             ],
             [
              0.4444444444444444,
              "#bd3786"
             ],
             [
              0.5555555555555556,
              "#d8576b"
             ],
             [
              0.6666666666666666,
              "#ed7953"
             ],
             [
              0.7777777777777778,
              "#fb9f3a"
             ],
             [
              0.8888888888888888,
              "#fdca26"
             ],
             [
              1,
              "#f0f921"
             ]
            ],
            "type": "heatmap"
           }
          ],
          "heatmapgl": [
           {
            "colorbar": {
             "outlinewidth": 0,
             "ticks": ""
            },
            "colorscale": [
             [
              0,
              "#0d0887"
             ],
             [
              0.1111111111111111,
              "#46039f"
             ],
             [
              0.2222222222222222,
              "#7201a8"
             ],
             [
              0.3333333333333333,
              "#9c179e"
             ],
             [
              0.4444444444444444,
              "#bd3786"
             ],
             [
              0.5555555555555556,
              "#d8576b"
             ],
             [
              0.6666666666666666,
              "#ed7953"
             ],
             [
              0.7777777777777778,
              "#fb9f3a"
             ],
             [
              0.8888888888888888,
              "#fdca26"
             ],
             [
              1,
              "#f0f921"
             ]
            ],
            "type": "heatmapgl"
           }
          ],
          "histogram": [
           {
            "marker": {
             "pattern": {
              "fillmode": "overlay",
              "size": 10,
              "solidity": 0.2
             }
            },
            "type": "histogram"
           }
          ],
          "histogram2d": [
           {
            "colorbar": {
             "outlinewidth": 0,
             "ticks": ""
            },
            "colorscale": [
             [
              0,
              "#0d0887"
             ],
             [
              0.1111111111111111,
              "#46039f"
             ],
             [
              0.2222222222222222,
              "#7201a8"
             ],
             [
              0.3333333333333333,
              "#9c179e"
             ],
             [
              0.4444444444444444,
              "#bd3786"
             ],
             [
              0.5555555555555556,
              "#d8576b"
             ],
             [
              0.6666666666666666,
              "#ed7953"
             ],
             [
              0.7777777777777778,
              "#fb9f3a"
             ],
             [
              0.8888888888888888,
              "#fdca26"
             ],
             [
              1,
              "#f0f921"
             ]
            ],
            "type": "histogram2d"
           }
          ],
          "histogram2dcontour": [
           {
            "colorbar": {
             "outlinewidth": 0,
             "ticks": ""
            },
            "colorscale": [
             [
              0,
              "#0d0887"
             ],
             [
              0.1111111111111111,
              "#46039f"
             ],
             [
              0.2222222222222222,
              "#7201a8"
             ],
             [
              0.3333333333333333,
              "#9c179e"
             ],
             [
              0.4444444444444444,
              "#bd3786"
             ],
             [
              0.5555555555555556,
              "#d8576b"
             ],
             [
              0.6666666666666666,
              "#ed7953"
             ],
             [
              0.7777777777777778,
              "#fb9f3a"
             ],
             [
              0.8888888888888888,
              "#fdca26"
             ],
             [
              1,
              "#f0f921"
             ]
            ],
            "type": "histogram2dcontour"
           }
          ],
          "mesh3d": [
           {
            "colorbar": {
             "outlinewidth": 0,
             "ticks": ""
            },
            "type": "mesh3d"
           }
          ],
          "parcoords": [
           {
            "line": {
             "colorbar": {
              "outlinewidth": 0,
              "ticks": ""
             }
            },
            "type": "parcoords"
           }
          ],
          "pie": [
           {
            "automargin": true,
            "type": "pie"
           }
          ],
          "scatter": [
           {
            "fillpattern": {
             "fillmode": "overlay",
             "size": 10,
             "solidity": 0.2
            },
            "type": "scatter"
           }
          ],
          "scatter3d": [
           {
            "line": {
             "colorbar": {
              "outlinewidth": 0,
              "ticks": ""
             }
            },
            "marker": {
             "colorbar": {
              "outlinewidth": 0,
              "ticks": ""
             }
            },
            "type": "scatter3d"
           }
          ],
          "scattercarpet": [
           {
            "marker": {
             "colorbar": {
              "outlinewidth": 0,
              "ticks": ""
             }
            },
            "type": "scattercarpet"
           }
          ],
          "scattergeo": [
           {
            "marker": {
             "colorbar": {
              "outlinewidth": 0,
              "ticks": ""
             }
            },
            "type": "scattergeo"
           }
          ],
          "scattergl": [
           {
            "marker": {
             "colorbar": {
              "outlinewidth": 0,
              "ticks": ""
             }
            },
            "type": "scattergl"
           }
          ],
          "scattermapbox": [
           {
            "marker": {
             "colorbar": {
              "outlinewidth": 0,
              "ticks": ""
             }
            },
            "type": "scattermapbox"
           }
          ],
          "scatterpolar": [
           {
            "marker": {
             "colorbar": {
              "outlinewidth": 0,
              "ticks": ""
             }
            },
            "type": "scatterpolar"
           }
          ],
          "scatterpolargl": [
           {
            "marker": {
             "colorbar": {
              "outlinewidth": 0,
              "ticks": ""
             }
            },
            "type": "scatterpolargl"
           }
          ],
          "scatterternary": [
           {
            "marker": {
             "colorbar": {
              "outlinewidth": 0,
              "ticks": ""
             }
            },
            "type": "scatterternary"
           }
          ],
          "surface": [
           {
            "colorbar": {
             "outlinewidth": 0,
             "ticks": ""
            },
            "colorscale": [
             [
              0,
              "#0d0887"
             ],
             [
              0.1111111111111111,
              "#46039f"
             ],
             [
              0.2222222222222222,
              "#7201a8"
             ],
             [
              0.3333333333333333,
              "#9c179e"
             ],
             [
              0.4444444444444444,
              "#bd3786"
             ],
             [
              0.5555555555555556,
              "#d8576b"
             ],
             [
              0.6666666666666666,
              "#ed7953"
             ],
             [
              0.7777777777777778,
              "#fb9f3a"
             ],
             [
              0.8888888888888888,
              "#fdca26"
             ],
             [
              1,
              "#f0f921"
             ]
            ],
            "type": "surface"
           }
          ],
          "table": [
           {
            "cells": {
             "fill": {
              "color": "#EBF0F8"
             },
             "line": {
              "color": "white"
             }
            },
            "header": {
             "fill": {
              "color": "#C8D4E3"
             },
             "line": {
              "color": "white"
             }
            },
            "type": "table"
           }
          ]
         },
         "layout": {
          "annotationdefaults": {
           "arrowcolor": "#2a3f5f",
           "arrowhead": 0,
           "arrowwidth": 1
          },
          "autotypenumbers": "strict",
          "coloraxis": {
           "colorbar": {
            "outlinewidth": 0,
            "ticks": ""
           }
          },
          "colorscale": {
           "diverging": [
            [
             0,
             "#8e0152"
            ],
            [
             0.1,
             "#c51b7d"
            ],
            [
             0.2,
             "#de77ae"
            ],
            [
             0.3,
             "#f1b6da"
            ],
            [
             0.4,
             "#fde0ef"
            ],
            [
             0.5,
             "#f7f7f7"
            ],
            [
             0.6,
             "#e6f5d0"
            ],
            [
             0.7,
             "#b8e186"
            ],
            [
             0.8,
             "#7fbc41"
            ],
            [
             0.9,
             "#4d9221"
            ],
            [
             1,
             "#276419"
            ]
           ],
           "sequential": [
            [
             0,
             "#0d0887"
            ],
            [
             0.1111111111111111,
             "#46039f"
            ],
            [
             0.2222222222222222,
             "#7201a8"
            ],
            [
             0.3333333333333333,
             "#9c179e"
            ],
            [
             0.4444444444444444,
             "#bd3786"
            ],
            [
             0.5555555555555556,
             "#d8576b"
            ],
            [
             0.6666666666666666,
             "#ed7953"
            ],
            [
             0.7777777777777778,
             "#fb9f3a"
            ],
            [
             0.8888888888888888,
             "#fdca26"
            ],
            [
             1,
             "#f0f921"
            ]
           ],
           "sequentialminus": [
            [
             0,
             "#0d0887"
            ],
            [
             0.1111111111111111,
             "#46039f"
            ],
            [
             0.2222222222222222,
             "#7201a8"
            ],
            [
             0.3333333333333333,
             "#9c179e"
            ],
            [
             0.4444444444444444,
             "#bd3786"
            ],
            [
             0.5555555555555556,
             "#d8576b"
            ],
            [
             0.6666666666666666,
             "#ed7953"
            ],
            [
             0.7777777777777778,
             "#fb9f3a"
            ],
            [
             0.8888888888888888,
             "#fdca26"
            ],
            [
             1,
             "#f0f921"
            ]
           ]
          },
          "colorway": [
           "#636efa",
           "#EF553B",
           "#00cc96",
           "#ab63fa",
           "#FFA15A",
           "#19d3f3",
           "#FF6692",
           "#B6E880",
           "#FF97FF",
           "#FECB52"
          ],
          "font": {
           "color": "#2a3f5f"
          },
          "geo": {
           "bgcolor": "white",
           "lakecolor": "white",
           "landcolor": "#E5ECF6",
           "showlakes": true,
           "showland": true,
           "subunitcolor": "white"
          },
          "hoverlabel": {
           "align": "left"
          },
          "hovermode": "closest",
          "mapbox": {
           "style": "light"
          },
          "paper_bgcolor": "white",
          "plot_bgcolor": "#E5ECF6",
          "polar": {
           "angularaxis": {
            "gridcolor": "white",
            "linecolor": "white",
            "ticks": ""
           },
           "bgcolor": "#E5ECF6",
           "radialaxis": {
            "gridcolor": "white",
            "linecolor": "white",
            "ticks": ""
           }
          },
          "scene": {
           "xaxis": {
            "backgroundcolor": "#E5ECF6",
            "gridcolor": "white",
            "gridwidth": 2,
            "linecolor": "white",
            "showbackground": true,
            "ticks": "",
            "zerolinecolor": "white"
           },
           "yaxis": {
            "backgroundcolor": "#E5ECF6",
            "gridcolor": "white",
            "gridwidth": 2,
            "linecolor": "white",
            "showbackground": true,
            "ticks": "",
            "zerolinecolor": "white"
           },
           "zaxis": {
            "backgroundcolor": "#E5ECF6",
            "gridcolor": "white",
            "gridwidth": 2,
            "linecolor": "white",
            "showbackground": true,
            "ticks": "",
            "zerolinecolor": "white"
           }
          },
          "shapedefaults": {
           "line": {
            "color": "#2a3f5f"
           }
          },
          "ternary": {
           "aaxis": {
            "gridcolor": "white",
            "linecolor": "white",
            "ticks": ""
           },
           "baxis": {
            "gridcolor": "white",
            "linecolor": "white",
            "ticks": ""
           },
           "bgcolor": "#E5ECF6",
           "caxis": {
            "gridcolor": "white",
            "linecolor": "white",
            "ticks": ""
           }
          },
          "title": {
           "x": 0.05
          },
          "xaxis": {
           "automargin": true,
           "gridcolor": "white",
           "linecolor": "white",
           "ticks": "",
           "title": {
            "standoff": 15
           },
           "zerolinecolor": "white",
           "zerolinewidth": 2
          },
          "yaxis": {
           "automargin": true,
           "gridcolor": "white",
           "linecolor": "white",
           "ticks": "",
           "title": {
            "standoff": 15
           },
           "zerolinecolor": "white",
           "zerolinewidth": 2
          }
         }
        },
        "title": {
         "text": "Top 10 Actors onn Netflix"
        },
        "xaxis": {
         "anchor": "y",
         "domain": [
          0,
          1
         ],
         "title": {
          "text": "Actors"
         }
        },
        "yaxis": {
         "anchor": "x",
         "domain": [
          0,
          1
         ],
         "title": {
          "text": "Total count"
         }
        }
       }
      },
      "text/html": [
       "<div>                            <div id=\"04e0c56b-e7c4-4d56-9f24-fde6bde1245f\" class=\"plotly-graph-div\" style=\"height:525px; width:100%;\"></div>            <script type=\"text/javascript\">                require([\"plotly\"], function(Plotly) {                    window.PLOTLYENV=window.PLOTLYENV || {};                                    if (document.getElementById(\"04e0c56b-e7c4-4d56-9f24-fde6bde1245f\")) {                    Plotly.newPlot(                        \"04e0c56b-e7c4-4d56-9f24-fde6bde1245f\",                        [{\"alignmentgroup\":\"True\",\"hovertemplate\":\"Actors=%{x}<br>Total count=%{y}<extra></extra>\",\"legendgroup\":\"\",\"marker\":{\"color\":\"#636efa\",\"pattern\":{\"shape\":\"\"}},\"name\":\"\",\"offsetgroup\":\"\",\"orientation\":\"v\",\"showlegend\":false,\"textposition\":\"auto\",\"x\":[\" Anupam Kher\",\" Rupa Bhimani\",\" Takahiro Sakurai\",\" Julie Tejwani\",\" Om Puri\",\"Shah Rukh Khan\",\" Rajesh Kava\",\" Boman Irani\",\" Yuki Kaji\",\" Andrea Libman\"],\"xaxis\":\"x\",\"y\":[39,31,30,28,27,26,26,25,25,25],\"yaxis\":\"y\",\"type\":\"bar\"}],                        {\"template\":{\"data\":{\"histogram2dcontour\":[{\"type\":\"histogram2dcontour\",\"colorbar\":{\"outlinewidth\":0,\"ticks\":\"\"},\"colorscale\":[[0.0,\"#0d0887\"],[0.1111111111111111,\"#46039f\"],[0.2222222222222222,\"#7201a8\"],[0.3333333333333333,\"#9c179e\"],[0.4444444444444444,\"#bd3786\"],[0.5555555555555556,\"#d8576b\"],[0.6666666666666666,\"#ed7953\"],[0.7777777777777778,\"#fb9f3a\"],[0.8888888888888888,\"#fdca26\"],[1.0,\"#f0f921\"]]}],\"choropleth\":[{\"type\":\"choropleth\",\"colorbar\":{\"outlinewidth\":0,\"ticks\":\"\"}}],\"histogram2d\":[{\"type\":\"histogram2d\",\"colorbar\":{\"outlinewidth\":0,\"ticks\":\"\"},\"colorscale\":[[0.0,\"#0d0887\"],[0.1111111111111111,\"#46039f\"],[0.2222222222222222,\"#7201a8\"],[0.3333333333333333,\"#9c179e\"],[0.4444444444444444,\"#bd3786\"],[0.5555555555555556,\"#d8576b\"],[0.6666666666666666,\"#ed7953\"],[0.7777777777777778,\"#fb9f3a\"],[0.8888888888888888,\"#fdca26\"],[1.0,\"#f0f921\"]]}],\"heatmap\":[{\"type\":\"heatmap\",\"colorbar\":{\"outlinewidth\":0,\"ticks\":\"\"},\"colorscale\":[[0.0,\"#0d0887\"],[0.1111111111111111,\"#46039f\"],[0.2222222222222222,\"#7201a8\"],[0.3333333333333333,\"#9c179e\"],[0.4444444444444444,\"#bd3786\"],[0.5555555555555556,\"#d8576b\"],[0.6666666666666666,\"#ed7953\"],[0.7777777777777778,\"#fb9f3a\"],[0.8888888888888888,\"#fdca26\"],[1.0,\"#f0f921\"]]}],\"heatmapgl\":[{\"type\":\"heatmapgl\",\"colorbar\":{\"outlinewidth\":0,\"ticks\":\"\"},\"colorscale\":[[0.0,\"#0d0887\"],[0.1111111111111111,\"#46039f\"],[0.2222222222222222,\"#7201a8\"],[0.3333333333333333,\"#9c179e\"],[0.4444444444444444,\"#bd3786\"],[0.5555555555555556,\"#d8576b\"],[0.6666666666666666,\"#ed7953\"],[0.7777777777777778,\"#fb9f3a\"],[0.8888888888888888,\"#fdca26\"],[1.0,\"#f0f921\"]]}],\"contourcarpet\":[{\"type\":\"contourcarpet\",\"colorbar\":{\"outlinewidth\":0,\"ticks\":\"\"}}],\"contour\":[{\"type\":\"contour\",\"colorbar\":{\"outlinewidth\":0,\"ticks\":\"\"},\"colorscale\":[[0.0,\"#0d0887\"],[0.1111111111111111,\"#46039f\"],[0.2222222222222222,\"#7201a8\"],[0.3333333333333333,\"#9c179e\"],[0.4444444444444444,\"#bd3786\"],[0.5555555555555556,\"#d8576b\"],[0.6666666666666666,\"#ed7953\"],[0.7777777777777778,\"#fb9f3a\"],[0.8888888888888888,\"#fdca26\"],[1.0,\"#f0f921\"]]}],\"surface\":[{\"type\":\"surface\",\"colorbar\":{\"outlinewidth\":0,\"ticks\":\"\"},\"colorscale\":[[0.0,\"#0d0887\"],[0.1111111111111111,\"#46039f\"],[0.2222222222222222,\"#7201a8\"],[0.3333333333333333,\"#9c179e\"],[0.4444444444444444,\"#bd3786\"],[0.5555555555555556,\"#d8576b\"],[0.6666666666666666,\"#ed7953\"],[0.7777777777777778,\"#fb9f3a\"],[0.8888888888888888,\"#fdca26\"],[1.0,\"#f0f921\"]]}],\"mesh3d\":[{\"type\":\"mesh3d\",\"colorbar\":{\"outlinewidth\":0,\"ticks\":\"\"}}],\"scatter\":[{\"fillpattern\":{\"fillmode\":\"overlay\",\"size\":10,\"solidity\":0.2},\"type\":\"scatter\"}],\"parcoords\":[{\"type\":\"parcoords\",\"line\":{\"colorbar\":{\"outlinewidth\":0,\"ticks\":\"\"}}}],\"scatterpolargl\":[{\"type\":\"scatterpolargl\",\"marker\":{\"colorbar\":{\"outlinewidth\":0,\"ticks\":\"\"}}}],\"bar\":[{\"error_x\":{\"color\":\"#2a3f5f\"},\"error_y\":{\"color\":\"#2a3f5f\"},\"marker\":{\"line\":{\"color\":\"#E5ECF6\",\"width\":0.5},\"pattern\":{\"fillmode\":\"overlay\",\"size\":10,\"solidity\":0.2}},\"type\":\"bar\"}],\"scattergeo\":[{\"type\":\"scattergeo\",\"marker\":{\"colorbar\":{\"outlinewidth\":0,\"ticks\":\"\"}}}],\"scatterpolar\":[{\"type\":\"scatterpolar\",\"marker\":{\"colorbar\":{\"outlinewidth\":0,\"ticks\":\"\"}}}],\"histogram\":[{\"marker\":{\"pattern\":{\"fillmode\":\"overlay\",\"size\":10,\"solidity\":0.2}},\"type\":\"histogram\"}],\"scattergl\":[{\"type\":\"scattergl\",\"marker\":{\"colorbar\":{\"outlinewidth\":0,\"ticks\":\"\"}}}],\"scatter3d\":[{\"type\":\"scatter3d\",\"line\":{\"colorbar\":{\"outlinewidth\":0,\"ticks\":\"\"}},\"marker\":{\"colorbar\":{\"outlinewidth\":0,\"ticks\":\"\"}}}],\"scattermapbox\":[{\"type\":\"scattermapbox\",\"marker\":{\"colorbar\":{\"outlinewidth\":0,\"ticks\":\"\"}}}],\"scatterternary\":[{\"type\":\"scatterternary\",\"marker\":{\"colorbar\":{\"outlinewidth\":0,\"ticks\":\"\"}}}],\"scattercarpet\":[{\"type\":\"scattercarpet\",\"marker\":{\"colorbar\":{\"outlinewidth\":0,\"ticks\":\"\"}}}],\"carpet\":[{\"aaxis\":{\"endlinecolor\":\"#2a3f5f\",\"gridcolor\":\"white\",\"linecolor\":\"white\",\"minorgridcolor\":\"white\",\"startlinecolor\":\"#2a3f5f\"},\"baxis\":{\"endlinecolor\":\"#2a3f5f\",\"gridcolor\":\"white\",\"linecolor\":\"white\",\"minorgridcolor\":\"white\",\"startlinecolor\":\"#2a3f5f\"},\"type\":\"carpet\"}],\"table\":[{\"cells\":{\"fill\":{\"color\":\"#EBF0F8\"},\"line\":{\"color\":\"white\"}},\"header\":{\"fill\":{\"color\":\"#C8D4E3\"},\"line\":{\"color\":\"white\"}},\"type\":\"table\"}],\"barpolar\":[{\"marker\":{\"line\":{\"color\":\"#E5ECF6\",\"width\":0.5},\"pattern\":{\"fillmode\":\"overlay\",\"size\":10,\"solidity\":0.2}},\"type\":\"barpolar\"}],\"pie\":[{\"automargin\":true,\"type\":\"pie\"}]},\"layout\":{\"autotypenumbers\":\"strict\",\"colorway\":[\"#636efa\",\"#EF553B\",\"#00cc96\",\"#ab63fa\",\"#FFA15A\",\"#19d3f3\",\"#FF6692\",\"#B6E880\",\"#FF97FF\",\"#FECB52\"],\"font\":{\"color\":\"#2a3f5f\"},\"hovermode\":\"closest\",\"hoverlabel\":{\"align\":\"left\"},\"paper_bgcolor\":\"white\",\"plot_bgcolor\":\"#E5ECF6\",\"polar\":{\"bgcolor\":\"#E5ECF6\",\"angularaxis\":{\"gridcolor\":\"white\",\"linecolor\":\"white\",\"ticks\":\"\"},\"radialaxis\":{\"gridcolor\":\"white\",\"linecolor\":\"white\",\"ticks\":\"\"}},\"ternary\":{\"bgcolor\":\"#E5ECF6\",\"aaxis\":{\"gridcolor\":\"white\",\"linecolor\":\"white\",\"ticks\":\"\"},\"baxis\":{\"gridcolor\":\"white\",\"linecolor\":\"white\",\"ticks\":\"\"},\"caxis\":{\"gridcolor\":\"white\",\"linecolor\":\"white\",\"ticks\":\"\"}},\"coloraxis\":{\"colorbar\":{\"outlinewidth\":0,\"ticks\":\"\"}},\"colorscale\":{\"sequential\":[[0.0,\"#0d0887\"],[0.1111111111111111,\"#46039f\"],[0.2222222222222222,\"#7201a8\"],[0.3333333333333333,\"#9c179e\"],[0.4444444444444444,\"#bd3786\"],[0.5555555555555556,\"#d8576b\"],[0.6666666666666666,\"#ed7953\"],[0.7777777777777778,\"#fb9f3a\"],[0.8888888888888888,\"#fdca26\"],[1.0,\"#f0f921\"]],\"sequentialminus\":[[0.0,\"#0d0887\"],[0.1111111111111111,\"#46039f\"],[0.2222222222222222,\"#7201a8\"],[0.3333333333333333,\"#9c179e\"],[0.4444444444444444,\"#bd3786\"],[0.5555555555555556,\"#d8576b\"],[0.6666666666666666,\"#ed7953\"],[0.7777777777777778,\"#fb9f3a\"],[0.8888888888888888,\"#fdca26\"],[1.0,\"#f0f921\"]],\"diverging\":[[0,\"#8e0152\"],[0.1,\"#c51b7d\"],[0.2,\"#de77ae\"],[0.3,\"#f1b6da\"],[0.4,\"#fde0ef\"],[0.5,\"#f7f7f7\"],[0.6,\"#e6f5d0\"],[0.7,\"#b8e186\"],[0.8,\"#7fbc41\"],[0.9,\"#4d9221\"],[1,\"#276419\"]]},\"xaxis\":{\"gridcolor\":\"white\",\"linecolor\":\"white\",\"ticks\":\"\",\"title\":{\"standoff\":15},\"zerolinecolor\":\"white\",\"automargin\":true,\"zerolinewidth\":2},\"yaxis\":{\"gridcolor\":\"white\",\"linecolor\":\"white\",\"ticks\":\"\",\"title\":{\"standoff\":15},\"zerolinecolor\":\"white\",\"automargin\":true,\"zerolinewidth\":2},\"scene\":{\"xaxis\":{\"backgroundcolor\":\"#E5ECF6\",\"gridcolor\":\"white\",\"linecolor\":\"white\",\"showbackground\":true,\"ticks\":\"\",\"zerolinecolor\":\"white\",\"gridwidth\":2},\"yaxis\":{\"backgroundcolor\":\"#E5ECF6\",\"gridcolor\":\"white\",\"linecolor\":\"white\",\"showbackground\":true,\"ticks\":\"\",\"zerolinecolor\":\"white\",\"gridwidth\":2},\"zaxis\":{\"backgroundcolor\":\"#E5ECF6\",\"gridcolor\":\"white\",\"linecolor\":\"white\",\"showbackground\":true,\"ticks\":\"\",\"zerolinecolor\":\"white\",\"gridwidth\":2}},\"shapedefaults\":{\"line\":{\"color\":\"#2a3f5f\"}},\"annotationdefaults\":{\"arrowcolor\":\"#2a3f5f\",\"arrowhead\":0,\"arrowwidth\":1},\"geo\":{\"bgcolor\":\"white\",\"landcolor\":\"#E5ECF6\",\"subunitcolor\":\"white\",\"showland\":true,\"showlakes\":true,\"lakecolor\":\"white\"},\"title\":{\"x\":0.05},\"mapbox\":{\"style\":\"light\"}}},\"xaxis\":{\"anchor\":\"y\",\"domain\":[0.0,1.0],\"title\":{\"text\":\"Actors\"}},\"yaxis\":{\"anchor\":\"x\",\"domain\":[0.0,1.0],\"title\":{\"text\":\"Total count\"}},\"legend\":{\"tracegroupgap\":0},\"title\":{\"text\":\"Top 10 Actors onn Netflix\"},\"barmode\":\"relative\"},                        {\"responsive\": true}                    ).then(function(){\n",
       "                            \n",
       "var gd = document.getElementById('04e0c56b-e7c4-4d56-9f24-fde6bde1245f');\n",
       "var x = new MutationObserver(function (mutations, observer) {{\n",
       "        var display = window.getComputedStyle(gd).display;\n",
       "        if (!display || display === 'none') {{\n",
       "            console.log([gd, 'removed!']);\n",
       "            Plotly.purge(gd);\n",
       "            observer.disconnect();\n",
       "        }}\n",
       "}});\n",
       "\n",
       "// Listen for the removal of the full notebook cells\n",
       "var notebookContainer = gd.closest('#notebook-container');\n",
       "if (notebookContainer) {{\n",
       "    x.observe(notebookContainer, {childList: true});\n",
       "}}\n",
       "\n",
       "// Listen for the clearing of the current output cell\n",
       "var outputEl = gd.closest('.output');\n",
       "if (outputEl) {{\n",
       "    x.observe(outputEl, {childList: true});\n",
       "}}\n",
       "\n",
       "                        })                };                });            </script>        </div>"
      ]
     },
     "metadata": {},
     "output_type": "display_data"
    }
   ],
   "source": [
    "Barchart2=ps.bar(top10_actors,x='Actors',y='Total count',title='Top 10 Actors onn Netflix')\n",
    "Barchart2.show()"
   ]
  },
  {
   "cell_type": "markdown",
   "id": "65d5420c",
   "metadata": {},
   "source": [
    "#### Analyzing content produced on netflix based on years"
   ]
  },
  {
   "cell_type": "code",
   "execution_count": 153,
   "id": "d4975b04",
   "metadata": {},
   "outputs": [
    {
     "data": {
      "text/html": [
       "<div>\n",
       "<style scoped>\n",
       "    .dataframe tbody tr th:only-of-type {\n",
       "        vertical-align: middle;\n",
       "    }\n",
       "\n",
       "    .dataframe tbody tr th {\n",
       "        vertical-align: top;\n",
       "    }\n",
       "\n",
       "    .dataframe thead th {\n",
       "        text-align: right;\n",
       "    }\n",
       "</style>\n",
       "<table border=\"1\" class=\"dataframe\">\n",
       "  <thead>\n",
       "    <tr style=\"text-align: right;\">\n",
       "      <th></th>\n",
       "      <th>Release Years</th>\n",
       "      <th>Type</th>\n",
       "      <th>total count</th>\n",
       "    </tr>\n",
       "  </thead>\n",
       "  <tbody>\n",
       "    <tr>\n",
       "      <th>0</th>\n",
       "      <td>1925</td>\n",
       "      <td>TV Show</td>\n",
       "      <td>1</td>\n",
       "    </tr>\n",
       "    <tr>\n",
       "      <th>1</th>\n",
       "      <td>1942</td>\n",
       "      <td>Movie</td>\n",
       "      <td>2</td>\n",
       "    </tr>\n",
       "    <tr>\n",
       "      <th>2</th>\n",
       "      <td>1943</td>\n",
       "      <td>Movie</td>\n",
       "      <td>3</td>\n",
       "    </tr>\n",
       "    <tr>\n",
       "      <th>3</th>\n",
       "      <td>1944</td>\n",
       "      <td>Movie</td>\n",
       "      <td>3</td>\n",
       "    </tr>\n",
       "    <tr>\n",
       "      <th>4</th>\n",
       "      <td>1945</td>\n",
       "      <td>Movie</td>\n",
       "      <td>3</td>\n",
       "    </tr>\n",
       "    <tr>\n",
       "      <th>...</th>\n",
       "      <td>...</td>\n",
       "      <td>...</td>\n",
       "      <td>...</td>\n",
       "    </tr>\n",
       "    <tr>\n",
       "      <th>114</th>\n",
       "      <td>2019</td>\n",
       "      <td>TV Show</td>\n",
       "      <td>397</td>\n",
       "    </tr>\n",
       "    <tr>\n",
       "      <th>115</th>\n",
       "      <td>2020</td>\n",
       "      <td>Movie</td>\n",
       "      <td>517</td>\n",
       "    </tr>\n",
       "    <tr>\n",
       "      <th>116</th>\n",
       "      <td>2020</td>\n",
       "      <td>TV Show</td>\n",
       "      <td>436</td>\n",
       "    </tr>\n",
       "    <tr>\n",
       "      <th>117</th>\n",
       "      <td>2021</td>\n",
       "      <td>Movie</td>\n",
       "      <td>277</td>\n",
       "    </tr>\n",
       "    <tr>\n",
       "      <th>118</th>\n",
       "      <td>2021</td>\n",
       "      <td>TV Show</td>\n",
       "      <td>315</td>\n",
       "    </tr>\n",
       "  </tbody>\n",
       "</table>\n",
       "<p>119 rows × 3 columns</p>\n",
       "</div>"
      ],
      "text/plain": [
       "     Release Years     Type  total count\n",
       "0             1925  TV Show            1\n",
       "1             1942    Movie            2\n",
       "2             1943    Movie            3\n",
       "3             1944    Movie            3\n",
       "4             1945    Movie            3\n",
       "..             ...      ...          ...\n",
       "114           2019  TV Show          397\n",
       "115           2020    Movie          517\n",
       "116           2020  TV Show          436\n",
       "117           2021    Movie          277\n",
       "118           2021  TV Show          315\n",
       "\n",
       "[119 rows x 3 columns]"
      ]
     },
     "execution_count": 153,
     "metadata": {},
     "output_type": "execute_result"
    }
   ],
   "source": [
    "df1=df[['type','release_year']]\n",
    "df1=df1.rename(columns={'release_year':'Release Years','type':'Type'})\n",
    "df2=df1.groupby(['Release Years','Type']).size().reset_index(name='total count')\n",
    "df2"
   ]
  },
  {
   "cell_type": "code",
   "execution_count": 156,
   "id": "e7fe9150",
   "metadata": {},
   "outputs": [
    {
     "data": {
      "application/vnd.plotly.v1+json": {
       "config": {
        "plotlyServerURL": "https://plot.ly"
       },
       "data": [
        {
         "hovertemplate": "Type=TV Show<br>Release Years=%{x}<br>total count=%{y}<extra></extra>",
         "legendgroup": "TV Show",
         "line": {
          "color": "#636efa",
          "dash": "solid"
         },
         "marker": {
          "symbol": "circle"
         },
         "mode": "lines",
         "name": "TV Show",
         "orientation": "v",
         "showlegend": true,
         "type": "scatter",
         "x": [
          1925,
          1945,
          1946,
          1963,
          1967,
          1972,
          1974,
          1977,
          1979,
          1981,
          1985,
          1986,
          1988,
          1989,
          1990,
          1991,
          1992,
          1993,
          1994,
          1995,
          1996,
          1997,
          1998,
          1999,
          2000,
          2001,
          2002,
          2003,
          2004,
          2005,
          2006,
          2007,
          2008,
          2009,
          2010,
          2011,
          2012,
          2013,
          2014,
          2015,
          2016,
          2017,
          2018,
          2019,
          2020,
          2021
         ],
         "xaxis": "x",
         "y": [
          1,
          1,
          1,
          1,
          1,
          1,
          1,
          1,
          1,
          1,
          1,
          2,
          2,
          1,
          3,
          1,
          3,
          4,
          2,
          2,
          3,
          4,
          4,
          7,
          4,
          5,
          7,
          10,
          9,
          13,
          14,
          14,
          23,
          34,
          40,
          40,
          64,
          63,
          88,
          162,
          244,
          265,
          380,
          397,
          436,
          315
         ],
         "yaxis": "y"
        },
        {
         "hovertemplate": "Type=Movie<br>Release Years=%{x}<br>total count=%{y}<extra></extra>",
         "legendgroup": "Movie",
         "line": {
          "color": "#EF553B",
          "dash": "solid"
         },
         "marker": {
          "symbol": "circle"
         },
         "mode": "lines",
         "name": "Movie",
         "orientation": "v",
         "showlegend": true,
         "type": "scatter",
         "x": [
          1942,
          1943,
          1944,
          1945,
          1946,
          1947,
          1954,
          1955,
          1956,
          1958,
          1959,
          1960,
          1961,
          1962,
          1963,
          1964,
          1965,
          1966,
          1967,
          1968,
          1969,
          1970,
          1971,
          1972,
          1973,
          1974,
          1975,
          1976,
          1977,
          1978,
          1979,
          1980,
          1981,
          1982,
          1983,
          1984,
          1985,
          1986,
          1987,
          1988,
          1989,
          1990,
          1991,
          1992,
          1993,
          1994,
          1995,
          1996,
          1997,
          1998,
          1999,
          2000,
          2001,
          2002,
          2003,
          2004,
          2005,
          2006,
          2007,
          2008,
          2009,
          2010,
          2011,
          2012,
          2013,
          2014,
          2015,
          2016,
          2017,
          2018,
          2019,
          2020,
          2021
         ],
         "xaxis": "x",
         "y": [
          2,
          3,
          3,
          3,
          1,
          1,
          2,
          3,
          2,
          3,
          1,
          4,
          1,
          3,
          1,
          2,
          2,
          1,
          4,
          3,
          2,
          2,
          5,
          4,
          10,
          6,
          7,
          9,
          6,
          7,
          10,
          11,
          12,
          17,
          11,
          12,
          9,
          11,
          8,
          16,
          15,
          19,
          16,
          20,
          24,
          20,
          23,
          21,
          34,
          32,
          32,
          33,
          40,
          44,
          51,
          55,
          67,
          82,
          74,
          113,
          118,
          154,
          145,
          173,
          225,
          264,
          398,
          658,
          767,
          767,
          633,
          517,
          277
         ],
         "yaxis": "y"
        }
       ],
       "layout": {
        "legend": {
         "title": {
          "text": "Type"
         },
         "tracegroupgap": 0
        },
        "template": {
         "data": {
          "bar": [
           {
            "error_x": {
             "color": "#2a3f5f"
            },
            "error_y": {
             "color": "#2a3f5f"
            },
            "marker": {
             "line": {
              "color": "#E5ECF6",
              "width": 0.5
             },
             "pattern": {
              "fillmode": "overlay",
              "size": 10,
              "solidity": 0.2
             }
            },
            "type": "bar"
           }
          ],
          "barpolar": [
           {
            "marker": {
             "line": {
              "color": "#E5ECF6",
              "width": 0.5
             },
             "pattern": {
              "fillmode": "overlay",
              "size": 10,
              "solidity": 0.2
             }
            },
            "type": "barpolar"
           }
          ],
          "carpet": [
           {
            "aaxis": {
             "endlinecolor": "#2a3f5f",
             "gridcolor": "white",
             "linecolor": "white",
             "minorgridcolor": "white",
             "startlinecolor": "#2a3f5f"
            },
            "baxis": {
             "endlinecolor": "#2a3f5f",
             "gridcolor": "white",
             "linecolor": "white",
             "minorgridcolor": "white",
             "startlinecolor": "#2a3f5f"
            },
            "type": "carpet"
           }
          ],
          "choropleth": [
           {
            "colorbar": {
             "outlinewidth": 0,
             "ticks": ""
            },
            "type": "choropleth"
           }
          ],
          "contour": [
           {
            "colorbar": {
             "outlinewidth": 0,
             "ticks": ""
            },
            "colorscale": [
             [
              0,
              "#0d0887"
             ],
             [
              0.1111111111111111,
              "#46039f"
             ],
             [
              0.2222222222222222,
              "#7201a8"
             ],
             [
              0.3333333333333333,
              "#9c179e"
             ],
             [
              0.4444444444444444,
              "#bd3786"
             ],
             [
              0.5555555555555556,
              "#d8576b"
             ],
             [
              0.6666666666666666,
              "#ed7953"
             ],
             [
              0.7777777777777778,
              "#fb9f3a"
             ],
             [
              0.8888888888888888,
              "#fdca26"
             ],
             [
              1,
              "#f0f921"
             ]
            ],
            "type": "contour"
           }
          ],
          "contourcarpet": [
           {
            "colorbar": {
             "outlinewidth": 0,
             "ticks": ""
            },
            "type": "contourcarpet"
           }
          ],
          "heatmap": [
           {
            "colorbar": {
             "outlinewidth": 0,
             "ticks": ""
            },
            "colorscale": [
             [
              0,
              "#0d0887"
             ],
             [
              0.1111111111111111,
              "#46039f"
             ],
             [
              0.2222222222222222,
              "#7201a8"
             ],
             [
              0.3333333333333333,
              "#9c179e"
             ],
             [
              0.4444444444444444,
              "#bd3786"
             ],
             [
              0.5555555555555556,
              "#d8576b"
             ],
             [
              0.6666666666666666,
              "#ed7953"
             ],
             [
              0.7777777777777778,
              "#fb9f3a"
             ],
             [
              0.8888888888888888,
              "#fdca26"
             ],
             [
              1,
              "#f0f921"
             ]
            ],
            "type": "heatmap"
           }
          ],
          "heatmapgl": [
           {
            "colorbar": {
             "outlinewidth": 0,
             "ticks": ""
            },
            "colorscale": [
             [
              0,
              "#0d0887"
             ],
             [
              0.1111111111111111,
              "#46039f"
             ],
             [
              0.2222222222222222,
              "#7201a8"
             ],
             [
              0.3333333333333333,
              "#9c179e"
             ],
             [
              0.4444444444444444,
              "#bd3786"
             ],
             [
              0.5555555555555556,
              "#d8576b"
             ],
             [
              0.6666666666666666,
              "#ed7953"
             ],
             [
              0.7777777777777778,
              "#fb9f3a"
             ],
             [
              0.8888888888888888,
              "#fdca26"
             ],
             [
              1,
              "#f0f921"
             ]
            ],
            "type": "heatmapgl"
           }
          ],
          "histogram": [
           {
            "marker": {
             "pattern": {
              "fillmode": "overlay",
              "size": 10,
              "solidity": 0.2
             }
            },
            "type": "histogram"
           }
          ],
          "histogram2d": [
           {
            "colorbar": {
             "outlinewidth": 0,
             "ticks": ""
            },
            "colorscale": [
             [
              0,
              "#0d0887"
             ],
             [
              0.1111111111111111,
              "#46039f"
             ],
             [
              0.2222222222222222,
              "#7201a8"
             ],
             [
              0.3333333333333333,
              "#9c179e"
             ],
             [
              0.4444444444444444,
              "#bd3786"
             ],
             [
              0.5555555555555556,
              "#d8576b"
             ],
             [
              0.6666666666666666,
              "#ed7953"
             ],
             [
              0.7777777777777778,
              "#fb9f3a"
             ],
             [
              0.8888888888888888,
              "#fdca26"
             ],
             [
              1,
              "#f0f921"
             ]
            ],
            "type": "histogram2d"
           }
          ],
          "histogram2dcontour": [
           {
            "colorbar": {
             "outlinewidth": 0,
             "ticks": ""
            },
            "colorscale": [
             [
              0,
              "#0d0887"
             ],
             [
              0.1111111111111111,
              "#46039f"
             ],
             [
              0.2222222222222222,
              "#7201a8"
             ],
             [
              0.3333333333333333,
              "#9c179e"
             ],
             [
              0.4444444444444444,
              "#bd3786"
             ],
             [
              0.5555555555555556,
              "#d8576b"
             ],
             [
              0.6666666666666666,
              "#ed7953"
             ],
             [
              0.7777777777777778,
              "#fb9f3a"
             ],
             [
              0.8888888888888888,
              "#fdca26"
             ],
             [
              1,
              "#f0f921"
             ]
            ],
            "type": "histogram2dcontour"
           }
          ],
          "mesh3d": [
           {
            "colorbar": {
             "outlinewidth": 0,
             "ticks": ""
            },
            "type": "mesh3d"
           }
          ],
          "parcoords": [
           {
            "line": {
             "colorbar": {
              "outlinewidth": 0,
              "ticks": ""
             }
            },
            "type": "parcoords"
           }
          ],
          "pie": [
           {
            "automargin": true,
            "type": "pie"
           }
          ],
          "scatter": [
           {
            "fillpattern": {
             "fillmode": "overlay",
             "size": 10,
             "solidity": 0.2
            },
            "type": "scatter"
           }
          ],
          "scatter3d": [
           {
            "line": {
             "colorbar": {
              "outlinewidth": 0,
              "ticks": ""
             }
            },
            "marker": {
             "colorbar": {
              "outlinewidth": 0,
              "ticks": ""
             }
            },
            "type": "scatter3d"
           }
          ],
          "scattercarpet": [
           {
            "marker": {
             "colorbar": {
              "outlinewidth": 0,
              "ticks": ""
             }
            },
            "type": "scattercarpet"
           }
          ],
          "scattergeo": [
           {
            "marker": {
             "colorbar": {
              "outlinewidth": 0,
              "ticks": ""
             }
            },
            "type": "scattergeo"
           }
          ],
          "scattergl": [
           {
            "marker": {
             "colorbar": {
              "outlinewidth": 0,
              "ticks": ""
             }
            },
            "type": "scattergl"
           }
          ],
          "scattermapbox": [
           {
            "marker": {
             "colorbar": {
              "outlinewidth": 0,
              "ticks": ""
             }
            },
            "type": "scattermapbox"
           }
          ],
          "scatterpolar": [
           {
            "marker": {
             "colorbar": {
              "outlinewidth": 0,
              "ticks": ""
             }
            },
            "type": "scatterpolar"
           }
          ],
          "scatterpolargl": [
           {
            "marker": {
             "colorbar": {
              "outlinewidth": 0,
              "ticks": ""
             }
            },
            "type": "scatterpolargl"
           }
          ],
          "scatterternary": [
           {
            "marker": {
             "colorbar": {
              "outlinewidth": 0,
              "ticks": ""
             }
            },
            "type": "scatterternary"
           }
          ],
          "surface": [
           {
            "colorbar": {
             "outlinewidth": 0,
             "ticks": ""
            },
            "colorscale": [
             [
              0,
              "#0d0887"
             ],
             [
              0.1111111111111111,
              "#46039f"
             ],
             [
              0.2222222222222222,
              "#7201a8"
             ],
             [
              0.3333333333333333,
              "#9c179e"
             ],
             [
              0.4444444444444444,
              "#bd3786"
             ],
             [
              0.5555555555555556,
              "#d8576b"
             ],
             [
              0.6666666666666666,
              "#ed7953"
             ],
             [
              0.7777777777777778,
              "#fb9f3a"
             ],
             [
              0.8888888888888888,
              "#fdca26"
             ],
             [
              1,
              "#f0f921"
             ]
            ],
            "type": "surface"
           }
          ],
          "table": [
           {
            "cells": {
             "fill": {
              "color": "#EBF0F8"
             },
             "line": {
              "color": "white"
             }
            },
            "header": {
             "fill": {
              "color": "#C8D4E3"
             },
             "line": {
              "color": "white"
             }
            },
            "type": "table"
           }
          ]
         },
         "layout": {
          "annotationdefaults": {
           "arrowcolor": "#2a3f5f",
           "arrowhead": 0,
           "arrowwidth": 1
          },
          "autotypenumbers": "strict",
          "coloraxis": {
           "colorbar": {
            "outlinewidth": 0,
            "ticks": ""
           }
          },
          "colorscale": {
           "diverging": [
            [
             0,
             "#8e0152"
            ],
            [
             0.1,
             "#c51b7d"
            ],
            [
             0.2,
             "#de77ae"
            ],
            [
             0.3,
             "#f1b6da"
            ],
            [
             0.4,
             "#fde0ef"
            ],
            [
             0.5,
             "#f7f7f7"
            ],
            [
             0.6,
             "#e6f5d0"
            ],
            [
             0.7,
             "#b8e186"
            ],
            [
             0.8,
             "#7fbc41"
            ],
            [
             0.9,
             "#4d9221"
            ],
            [
             1,
             "#276419"
            ]
           ],
           "sequential": [
            [
             0,
             "#0d0887"
            ],
            [
             0.1111111111111111,
             "#46039f"
            ],
            [
             0.2222222222222222,
             "#7201a8"
            ],
            [
             0.3333333333333333,
             "#9c179e"
            ],
            [
             0.4444444444444444,
             "#bd3786"
            ],
            [
             0.5555555555555556,
             "#d8576b"
            ],
            [
             0.6666666666666666,
             "#ed7953"
            ],
            [
             0.7777777777777778,
             "#fb9f3a"
            ],
            [
             0.8888888888888888,
             "#fdca26"
            ],
            [
             1,
             "#f0f921"
            ]
           ],
           "sequentialminus": [
            [
             0,
             "#0d0887"
            ],
            [
             0.1111111111111111,
             "#46039f"
            ],
            [
             0.2222222222222222,
             "#7201a8"
            ],
            [
             0.3333333333333333,
             "#9c179e"
            ],
            [
             0.4444444444444444,
             "#bd3786"
            ],
            [
             0.5555555555555556,
             "#d8576b"
            ],
            [
             0.6666666666666666,
             "#ed7953"
            ],
            [
             0.7777777777777778,
             "#fb9f3a"
            ],
            [
             0.8888888888888888,
             "#fdca26"
            ],
            [
             1,
             "#f0f921"
            ]
           ]
          },
          "colorway": [
           "#636efa",
           "#EF553B",
           "#00cc96",
           "#ab63fa",
           "#FFA15A",
           "#19d3f3",
           "#FF6692",
           "#B6E880",
           "#FF97FF",
           "#FECB52"
          ],
          "font": {
           "color": "#2a3f5f"
          },
          "geo": {
           "bgcolor": "white",
           "lakecolor": "white",
           "landcolor": "#E5ECF6",
           "showlakes": true,
           "showland": true,
           "subunitcolor": "white"
          },
          "hoverlabel": {
           "align": "left"
          },
          "hovermode": "closest",
          "mapbox": {
           "style": "light"
          },
          "paper_bgcolor": "white",
          "plot_bgcolor": "#E5ECF6",
          "polar": {
           "angularaxis": {
            "gridcolor": "white",
            "linecolor": "white",
            "ticks": ""
           },
           "bgcolor": "#E5ECF6",
           "radialaxis": {
            "gridcolor": "white",
            "linecolor": "white",
            "ticks": ""
           }
          },
          "scene": {
           "xaxis": {
            "backgroundcolor": "#E5ECF6",
            "gridcolor": "white",
            "gridwidth": 2,
            "linecolor": "white",
            "showbackground": true,
            "ticks": "",
            "zerolinecolor": "white"
           },
           "yaxis": {
            "backgroundcolor": "#E5ECF6",
            "gridcolor": "white",
            "gridwidth": 2,
            "linecolor": "white",
            "showbackground": true,
            "ticks": "",
            "zerolinecolor": "white"
           },
           "zaxis": {
            "backgroundcolor": "#E5ECF6",
            "gridcolor": "white",
            "gridwidth": 2,
            "linecolor": "white",
            "showbackground": true,
            "ticks": "",
            "zerolinecolor": "white"
           }
          },
          "shapedefaults": {
           "line": {
            "color": "#2a3f5f"
           }
          },
          "ternary": {
           "aaxis": {
            "gridcolor": "white",
            "linecolor": "white",
            "ticks": ""
           },
           "baxis": {
            "gridcolor": "white",
            "linecolor": "white",
            "ticks": ""
           },
           "bgcolor": "#E5ECF6",
           "caxis": {
            "gridcolor": "white",
            "linecolor": "white",
            "ticks": ""
           }
          },
          "title": {
           "x": 0.05
          },
          "xaxis": {
           "automargin": true,
           "gridcolor": "white",
           "linecolor": "white",
           "ticks": "",
           "title": {
            "standoff": 15
           },
           "zerolinecolor": "white",
           "zerolinewidth": 2
          },
          "yaxis": {
           "automargin": true,
           "gridcolor": "white",
           "linecolor": "white",
           "ticks": "",
           "title": {
            "standoff": 15
           },
           "zerolinecolor": "white",
           "zerolinewidth": 2
          }
         }
        },
        "title": {
         "text": "Trend of content produced on netflix every year"
        },
        "xaxis": {
         "anchor": "y",
         "domain": [
          0,
          1
         ],
         "title": {
          "text": "Release Years"
         }
        },
        "yaxis": {
         "anchor": "x",
         "domain": [
          0,
          1
         ],
         "title": {
          "text": "total count"
         }
        }
       }
      },
      "text/html": [
       "<div>                            <div id=\"1b210f17-1510-4e45-84c3-6e311ca791df\" class=\"plotly-graph-div\" style=\"height:525px; width:100%;\"></div>            <script type=\"text/javascript\">                require([\"plotly\"], function(Plotly) {                    window.PLOTLYENV=window.PLOTLYENV || {};                                    if (document.getElementById(\"1b210f17-1510-4e45-84c3-6e311ca791df\")) {                    Plotly.newPlot(                        \"1b210f17-1510-4e45-84c3-6e311ca791df\",                        [{\"hovertemplate\":\"Type=TV Show<br>Release Years=%{x}<br>total count=%{y}<extra></extra>\",\"legendgroup\":\"TV Show\",\"line\":{\"color\":\"#636efa\",\"dash\":\"solid\"},\"marker\":{\"symbol\":\"circle\"},\"mode\":\"lines\",\"name\":\"TV Show\",\"orientation\":\"v\",\"showlegend\":true,\"x\":[1925,1945,1946,1963,1967,1972,1974,1977,1979,1981,1985,1986,1988,1989,1990,1991,1992,1993,1994,1995,1996,1997,1998,1999,2000,2001,2002,2003,2004,2005,2006,2007,2008,2009,2010,2011,2012,2013,2014,2015,2016,2017,2018,2019,2020,2021],\"xaxis\":\"x\",\"y\":[1,1,1,1,1,1,1,1,1,1,1,2,2,1,3,1,3,4,2,2,3,4,4,7,4,5,7,10,9,13,14,14,23,34,40,40,64,63,88,162,244,265,380,397,436,315],\"yaxis\":\"y\",\"type\":\"scatter\"},{\"hovertemplate\":\"Type=Movie<br>Release Years=%{x}<br>total count=%{y}<extra></extra>\",\"legendgroup\":\"Movie\",\"line\":{\"color\":\"#EF553B\",\"dash\":\"solid\"},\"marker\":{\"symbol\":\"circle\"},\"mode\":\"lines\",\"name\":\"Movie\",\"orientation\":\"v\",\"showlegend\":true,\"x\":[1942,1943,1944,1945,1946,1947,1954,1955,1956,1958,1959,1960,1961,1962,1963,1964,1965,1966,1967,1968,1969,1970,1971,1972,1973,1974,1975,1976,1977,1978,1979,1980,1981,1982,1983,1984,1985,1986,1987,1988,1989,1990,1991,1992,1993,1994,1995,1996,1997,1998,1999,2000,2001,2002,2003,2004,2005,2006,2007,2008,2009,2010,2011,2012,2013,2014,2015,2016,2017,2018,2019,2020,2021],\"xaxis\":\"x\",\"y\":[2,3,3,3,1,1,2,3,2,3,1,4,1,3,1,2,2,1,4,3,2,2,5,4,10,6,7,9,6,7,10,11,12,17,11,12,9,11,8,16,15,19,16,20,24,20,23,21,34,32,32,33,40,44,51,55,67,82,74,113,118,154,145,173,225,264,398,658,767,767,633,517,277],\"yaxis\":\"y\",\"type\":\"scatter\"}],                        {\"template\":{\"data\":{\"histogram2dcontour\":[{\"type\":\"histogram2dcontour\",\"colorbar\":{\"outlinewidth\":0,\"ticks\":\"\"},\"colorscale\":[[0.0,\"#0d0887\"],[0.1111111111111111,\"#46039f\"],[0.2222222222222222,\"#7201a8\"],[0.3333333333333333,\"#9c179e\"],[0.4444444444444444,\"#bd3786\"],[0.5555555555555556,\"#d8576b\"],[0.6666666666666666,\"#ed7953\"],[0.7777777777777778,\"#fb9f3a\"],[0.8888888888888888,\"#fdca26\"],[1.0,\"#f0f921\"]]}],\"choropleth\":[{\"type\":\"choropleth\",\"colorbar\":{\"outlinewidth\":0,\"ticks\":\"\"}}],\"histogram2d\":[{\"type\":\"histogram2d\",\"colorbar\":{\"outlinewidth\":0,\"ticks\":\"\"},\"colorscale\":[[0.0,\"#0d0887\"],[0.1111111111111111,\"#46039f\"],[0.2222222222222222,\"#7201a8\"],[0.3333333333333333,\"#9c179e\"],[0.4444444444444444,\"#bd3786\"],[0.5555555555555556,\"#d8576b\"],[0.6666666666666666,\"#ed7953\"],[0.7777777777777778,\"#fb9f3a\"],[0.8888888888888888,\"#fdca26\"],[1.0,\"#f0f921\"]]}],\"heatmap\":[{\"type\":\"heatmap\",\"colorbar\":{\"outlinewidth\":0,\"ticks\":\"\"},\"colorscale\":[[0.0,\"#0d0887\"],[0.1111111111111111,\"#46039f\"],[0.2222222222222222,\"#7201a8\"],[0.3333333333333333,\"#9c179e\"],[0.4444444444444444,\"#bd3786\"],[0.5555555555555556,\"#d8576b\"],[0.6666666666666666,\"#ed7953\"],[0.7777777777777778,\"#fb9f3a\"],[0.8888888888888888,\"#fdca26\"],[1.0,\"#f0f921\"]]}],\"heatmapgl\":[{\"type\":\"heatmapgl\",\"colorbar\":{\"outlinewidth\":0,\"ticks\":\"\"},\"colorscale\":[[0.0,\"#0d0887\"],[0.1111111111111111,\"#46039f\"],[0.2222222222222222,\"#7201a8\"],[0.3333333333333333,\"#9c179e\"],[0.4444444444444444,\"#bd3786\"],[0.5555555555555556,\"#d8576b\"],[0.6666666666666666,\"#ed7953\"],[0.7777777777777778,\"#fb9f3a\"],[0.8888888888888888,\"#fdca26\"],[1.0,\"#f0f921\"]]}],\"contourcarpet\":[{\"type\":\"contourcarpet\",\"colorbar\":{\"outlinewidth\":0,\"ticks\":\"\"}}],\"contour\":[{\"type\":\"contour\",\"colorbar\":{\"outlinewidth\":0,\"ticks\":\"\"},\"colorscale\":[[0.0,\"#0d0887\"],[0.1111111111111111,\"#46039f\"],[0.2222222222222222,\"#7201a8\"],[0.3333333333333333,\"#9c179e\"],[0.4444444444444444,\"#bd3786\"],[0.5555555555555556,\"#d8576b\"],[0.6666666666666666,\"#ed7953\"],[0.7777777777777778,\"#fb9f3a\"],[0.8888888888888888,\"#fdca26\"],[1.0,\"#f0f921\"]]}],\"surface\":[{\"type\":\"surface\",\"colorbar\":{\"outlinewidth\":0,\"ticks\":\"\"},\"colorscale\":[[0.0,\"#0d0887\"],[0.1111111111111111,\"#46039f\"],[0.2222222222222222,\"#7201a8\"],[0.3333333333333333,\"#9c179e\"],[0.4444444444444444,\"#bd3786\"],[0.5555555555555556,\"#d8576b\"],[0.6666666666666666,\"#ed7953\"],[0.7777777777777778,\"#fb9f3a\"],[0.8888888888888888,\"#fdca26\"],[1.0,\"#f0f921\"]]}],\"mesh3d\":[{\"type\":\"mesh3d\",\"colorbar\":{\"outlinewidth\":0,\"ticks\":\"\"}}],\"scatter\":[{\"fillpattern\":{\"fillmode\":\"overlay\",\"size\":10,\"solidity\":0.2},\"type\":\"scatter\"}],\"parcoords\":[{\"type\":\"parcoords\",\"line\":{\"colorbar\":{\"outlinewidth\":0,\"ticks\":\"\"}}}],\"scatterpolargl\":[{\"type\":\"scatterpolargl\",\"marker\":{\"colorbar\":{\"outlinewidth\":0,\"ticks\":\"\"}}}],\"bar\":[{\"error_x\":{\"color\":\"#2a3f5f\"},\"error_y\":{\"color\":\"#2a3f5f\"},\"marker\":{\"line\":{\"color\":\"#E5ECF6\",\"width\":0.5},\"pattern\":{\"fillmode\":\"overlay\",\"size\":10,\"solidity\":0.2}},\"type\":\"bar\"}],\"scattergeo\":[{\"type\":\"scattergeo\",\"marker\":{\"colorbar\":{\"outlinewidth\":0,\"ticks\":\"\"}}}],\"scatterpolar\":[{\"type\":\"scatterpolar\",\"marker\":{\"colorbar\":{\"outlinewidth\":0,\"ticks\":\"\"}}}],\"histogram\":[{\"marker\":{\"pattern\":{\"fillmode\":\"overlay\",\"size\":10,\"solidity\":0.2}},\"type\":\"histogram\"}],\"scattergl\":[{\"type\":\"scattergl\",\"marker\":{\"colorbar\":{\"outlinewidth\":0,\"ticks\":\"\"}}}],\"scatter3d\":[{\"type\":\"scatter3d\",\"line\":{\"colorbar\":{\"outlinewidth\":0,\"ticks\":\"\"}},\"marker\":{\"colorbar\":{\"outlinewidth\":0,\"ticks\":\"\"}}}],\"scattermapbox\":[{\"type\":\"scattermapbox\",\"marker\":{\"colorbar\":{\"outlinewidth\":0,\"ticks\":\"\"}}}],\"scatterternary\":[{\"type\":\"scatterternary\",\"marker\":{\"colorbar\":{\"outlinewidth\":0,\"ticks\":\"\"}}}],\"scattercarpet\":[{\"type\":\"scattercarpet\",\"marker\":{\"colorbar\":{\"outlinewidth\":0,\"ticks\":\"\"}}}],\"carpet\":[{\"aaxis\":{\"endlinecolor\":\"#2a3f5f\",\"gridcolor\":\"white\",\"linecolor\":\"white\",\"minorgridcolor\":\"white\",\"startlinecolor\":\"#2a3f5f\"},\"baxis\":{\"endlinecolor\":\"#2a3f5f\",\"gridcolor\":\"white\",\"linecolor\":\"white\",\"minorgridcolor\":\"white\",\"startlinecolor\":\"#2a3f5f\"},\"type\":\"carpet\"}],\"table\":[{\"cells\":{\"fill\":{\"color\":\"#EBF0F8\"},\"line\":{\"color\":\"white\"}},\"header\":{\"fill\":{\"color\":\"#C8D4E3\"},\"line\":{\"color\":\"white\"}},\"type\":\"table\"}],\"barpolar\":[{\"marker\":{\"line\":{\"color\":\"#E5ECF6\",\"width\":0.5},\"pattern\":{\"fillmode\":\"overlay\",\"size\":10,\"solidity\":0.2}},\"type\":\"barpolar\"}],\"pie\":[{\"automargin\":true,\"type\":\"pie\"}]},\"layout\":{\"autotypenumbers\":\"strict\",\"colorway\":[\"#636efa\",\"#EF553B\",\"#00cc96\",\"#ab63fa\",\"#FFA15A\",\"#19d3f3\",\"#FF6692\",\"#B6E880\",\"#FF97FF\",\"#FECB52\"],\"font\":{\"color\":\"#2a3f5f\"},\"hovermode\":\"closest\",\"hoverlabel\":{\"align\":\"left\"},\"paper_bgcolor\":\"white\",\"plot_bgcolor\":\"#E5ECF6\",\"polar\":{\"bgcolor\":\"#E5ECF6\",\"angularaxis\":{\"gridcolor\":\"white\",\"linecolor\":\"white\",\"ticks\":\"\"},\"radialaxis\":{\"gridcolor\":\"white\",\"linecolor\":\"white\",\"ticks\":\"\"}},\"ternary\":{\"bgcolor\":\"#E5ECF6\",\"aaxis\":{\"gridcolor\":\"white\",\"linecolor\":\"white\",\"ticks\":\"\"},\"baxis\":{\"gridcolor\":\"white\",\"linecolor\":\"white\",\"ticks\":\"\"},\"caxis\":{\"gridcolor\":\"white\",\"linecolor\":\"white\",\"ticks\":\"\"}},\"coloraxis\":{\"colorbar\":{\"outlinewidth\":0,\"ticks\":\"\"}},\"colorscale\":{\"sequential\":[[0.0,\"#0d0887\"],[0.1111111111111111,\"#46039f\"],[0.2222222222222222,\"#7201a8\"],[0.3333333333333333,\"#9c179e\"],[0.4444444444444444,\"#bd3786\"],[0.5555555555555556,\"#d8576b\"],[0.6666666666666666,\"#ed7953\"],[0.7777777777777778,\"#fb9f3a\"],[0.8888888888888888,\"#fdca26\"],[1.0,\"#f0f921\"]],\"sequentialminus\":[[0.0,\"#0d0887\"],[0.1111111111111111,\"#46039f\"],[0.2222222222222222,\"#7201a8\"],[0.3333333333333333,\"#9c179e\"],[0.4444444444444444,\"#bd3786\"],[0.5555555555555556,\"#d8576b\"],[0.6666666666666666,\"#ed7953\"],[0.7777777777777778,\"#fb9f3a\"],[0.8888888888888888,\"#fdca26\"],[1.0,\"#f0f921\"]],\"diverging\":[[0,\"#8e0152\"],[0.1,\"#c51b7d\"],[0.2,\"#de77ae\"],[0.3,\"#f1b6da\"],[0.4,\"#fde0ef\"],[0.5,\"#f7f7f7\"],[0.6,\"#e6f5d0\"],[0.7,\"#b8e186\"],[0.8,\"#7fbc41\"],[0.9,\"#4d9221\"],[1,\"#276419\"]]},\"xaxis\":{\"gridcolor\":\"white\",\"linecolor\":\"white\",\"ticks\":\"\",\"title\":{\"standoff\":15},\"zerolinecolor\":\"white\",\"automargin\":true,\"zerolinewidth\":2},\"yaxis\":{\"gridcolor\":\"white\",\"linecolor\":\"white\",\"ticks\":\"\",\"title\":{\"standoff\":15},\"zerolinecolor\":\"white\",\"automargin\":true,\"zerolinewidth\":2},\"scene\":{\"xaxis\":{\"backgroundcolor\":\"#E5ECF6\",\"gridcolor\":\"white\",\"linecolor\":\"white\",\"showbackground\":true,\"ticks\":\"\",\"zerolinecolor\":\"white\",\"gridwidth\":2},\"yaxis\":{\"backgroundcolor\":\"#E5ECF6\",\"gridcolor\":\"white\",\"linecolor\":\"white\",\"showbackground\":true,\"ticks\":\"\",\"zerolinecolor\":\"white\",\"gridwidth\":2},\"zaxis\":{\"backgroundcolor\":\"#E5ECF6\",\"gridcolor\":\"white\",\"linecolor\":\"white\",\"showbackground\":true,\"ticks\":\"\",\"zerolinecolor\":\"white\",\"gridwidth\":2}},\"shapedefaults\":{\"line\":{\"color\":\"#2a3f5f\"}},\"annotationdefaults\":{\"arrowcolor\":\"#2a3f5f\",\"arrowhead\":0,\"arrowwidth\":1},\"geo\":{\"bgcolor\":\"white\",\"landcolor\":\"#E5ECF6\",\"subunitcolor\":\"white\",\"showland\":true,\"showlakes\":true,\"lakecolor\":\"white\"},\"title\":{\"x\":0.05},\"mapbox\":{\"style\":\"light\"}}},\"xaxis\":{\"anchor\":\"y\",\"domain\":[0.0,1.0],\"title\":{\"text\":\"Release Years\"}},\"yaxis\":{\"anchor\":\"x\",\"domain\":[0.0,1.0],\"title\":{\"text\":\"total count\"}},\"legend\":{\"title\":{\"text\":\"Type\"},\"tracegroupgap\":0},\"title\":{\"text\":\"Trend of content produced on netflix every year\"}},                        {\"responsive\": true}                    ).then(function(){\n",
       "                            \n",
       "var gd = document.getElementById('1b210f17-1510-4e45-84c3-6e311ca791df');\n",
       "var x = new MutationObserver(function (mutations, observer) {{\n",
       "        var display = window.getComputedStyle(gd).display;\n",
       "        if (!display || display === 'none') {{\n",
       "            console.log([gd, 'removed!']);\n",
       "            Plotly.purge(gd);\n",
       "            observer.disconnect();\n",
       "        }}\n",
       "}});\n",
       "\n",
       "// Listen for the removal of the full notebook cells\n",
       "var notebookContainer = gd.closest('#notebook-container');\n",
       "if (notebookContainer) {{\n",
       "    x.observe(notebookContainer, {childList: true});\n",
       "}}\n",
       "\n",
       "// Listen for the clearing of the current output cell\n",
       "var outputEl = gd.closest('.output');\n",
       "if (outputEl) {{\n",
       "    x.observe(outputEl, {childList: true});\n",
       "}}\n",
       "\n",
       "                        })                };                });            </script>        </div>"
      ]
     },
     "metadata": {},
     "output_type": "display_data"
    }
   ],
   "source": [
    "graph=ps.line(df2,x='Release Years',y='total count',color='Type',title='Trend of content produced on netflix every year')\n",
    "graph.show()"
   ]
  },
  {
   "cell_type": "code",
   "execution_count": 158,
   "id": "d4348505",
   "metadata": {},
   "outputs": [
    {
     "data": {
      "application/vnd.plotly.v1+json": {
       "config": {
        "plotlyServerURL": "https://plot.ly"
       },
       "data": [
        {
         "hovertemplate": "Type=Movie<br>Release Years=%{x}<br>total count=%{y}<extra></extra>",
         "legendgroup": "Movie",
         "line": {
          "color": "#636efa",
          "dash": "solid"
         },
         "marker": {
          "symbol": "circle"
         },
         "mode": "lines",
         "name": "Movie",
         "orientation": "v",
         "showlegend": true,
         "type": "scatter",
         "x": [
          2000,
          2001,
          2002,
          2003,
          2004,
          2005,
          2006,
          2007,
          2008,
          2009,
          2010,
          2011,
          2012,
          2013,
          2014,
          2015,
          2016,
          2017,
          2018,
          2019,
          2020,
          2021
         ],
         "xaxis": "x",
         "y": [
          33,
          40,
          44,
          51,
          55,
          67,
          82,
          74,
          113,
          118,
          154,
          145,
          173,
          225,
          264,
          398,
          658,
          767,
          767,
          633,
          517,
          277
         ],
         "yaxis": "y"
        },
        {
         "hovertemplate": "Type=TV Show<br>Release Years=%{x}<br>total count=%{y}<extra></extra>",
         "legendgroup": "TV Show",
         "line": {
          "color": "#EF553B",
          "dash": "solid"
         },
         "marker": {
          "symbol": "circle"
         },
         "mode": "lines",
         "name": "TV Show",
         "orientation": "v",
         "showlegend": true,
         "type": "scatter",
         "x": [
          2000,
          2001,
          2002,
          2003,
          2004,
          2005,
          2006,
          2007,
          2008,
          2009,
          2010,
          2011,
          2012,
          2013,
          2014,
          2015,
          2016,
          2017,
          2018,
          2019,
          2020,
          2021
         ],
         "xaxis": "x",
         "y": [
          4,
          5,
          7,
          10,
          9,
          13,
          14,
          14,
          23,
          34,
          40,
          40,
          64,
          63,
          88,
          162,
          244,
          265,
          380,
          397,
          436,
          315
         ],
         "yaxis": "y"
        }
       ],
       "layout": {
        "legend": {
         "title": {
          "text": "Type"
         },
         "tracegroupgap": 0
        },
        "template": {
         "data": {
          "bar": [
           {
            "error_x": {
             "color": "#2a3f5f"
            },
            "error_y": {
             "color": "#2a3f5f"
            },
            "marker": {
             "line": {
              "color": "#E5ECF6",
              "width": 0.5
             },
             "pattern": {
              "fillmode": "overlay",
              "size": 10,
              "solidity": 0.2
             }
            },
            "type": "bar"
           }
          ],
          "barpolar": [
           {
            "marker": {
             "line": {
              "color": "#E5ECF6",
              "width": 0.5
             },
             "pattern": {
              "fillmode": "overlay",
              "size": 10,
              "solidity": 0.2
             }
            },
            "type": "barpolar"
           }
          ],
          "carpet": [
           {
            "aaxis": {
             "endlinecolor": "#2a3f5f",
             "gridcolor": "white",
             "linecolor": "white",
             "minorgridcolor": "white",
             "startlinecolor": "#2a3f5f"
            },
            "baxis": {
             "endlinecolor": "#2a3f5f",
             "gridcolor": "white",
             "linecolor": "white",
             "minorgridcolor": "white",
             "startlinecolor": "#2a3f5f"
            },
            "type": "carpet"
           }
          ],
          "choropleth": [
           {
            "colorbar": {
             "outlinewidth": 0,
             "ticks": ""
            },
            "type": "choropleth"
           }
          ],
          "contour": [
           {
            "colorbar": {
             "outlinewidth": 0,
             "ticks": ""
            },
            "colorscale": [
             [
              0,
              "#0d0887"
             ],
             [
              0.1111111111111111,
              "#46039f"
             ],
             [
              0.2222222222222222,
              "#7201a8"
             ],
             [
              0.3333333333333333,
              "#9c179e"
             ],
             [
              0.4444444444444444,
              "#bd3786"
             ],
             [
              0.5555555555555556,
              "#d8576b"
             ],
             [
              0.6666666666666666,
              "#ed7953"
             ],
             [
              0.7777777777777778,
              "#fb9f3a"
             ],
             [
              0.8888888888888888,
              "#fdca26"
             ],
             [
              1,
              "#f0f921"
             ]
            ],
            "type": "contour"
           }
          ],
          "contourcarpet": [
           {
            "colorbar": {
             "outlinewidth": 0,
             "ticks": ""
            },
            "type": "contourcarpet"
           }
          ],
          "heatmap": [
           {
            "colorbar": {
             "outlinewidth": 0,
             "ticks": ""
            },
            "colorscale": [
             [
              0,
              "#0d0887"
             ],
             [
              0.1111111111111111,
              "#46039f"
             ],
             [
              0.2222222222222222,
              "#7201a8"
             ],
             [
              0.3333333333333333,
              "#9c179e"
             ],
             [
              0.4444444444444444,
              "#bd3786"
             ],
             [
              0.5555555555555556,
              "#d8576b"
             ],
             [
              0.6666666666666666,
              "#ed7953"
             ],
             [
              0.7777777777777778,
              "#fb9f3a"
             ],
             [
              0.8888888888888888,
              "#fdca26"
             ],
             [
              1,
              "#f0f921"
             ]
            ],
            "type": "heatmap"
           }
          ],
          "heatmapgl": [
           {
            "colorbar": {
             "outlinewidth": 0,
             "ticks": ""
            },
            "colorscale": [
             [
              0,
              "#0d0887"
             ],
             [
              0.1111111111111111,
              "#46039f"
             ],
             [
              0.2222222222222222,
              "#7201a8"
             ],
             [
              0.3333333333333333,
              "#9c179e"
             ],
             [
              0.4444444444444444,
              "#bd3786"
             ],
             [
              0.5555555555555556,
              "#d8576b"
             ],
             [
              0.6666666666666666,
              "#ed7953"
             ],
             [
              0.7777777777777778,
              "#fb9f3a"
             ],
             [
              0.8888888888888888,
              "#fdca26"
             ],
             [
              1,
              "#f0f921"
             ]
            ],
            "type": "heatmapgl"
           }
          ],
          "histogram": [
           {
            "marker": {
             "pattern": {
              "fillmode": "overlay",
              "size": 10,
              "solidity": 0.2
             }
            },
            "type": "histogram"
           }
          ],
          "histogram2d": [
           {
            "colorbar": {
             "outlinewidth": 0,
             "ticks": ""
            },
            "colorscale": [
             [
              0,
              "#0d0887"
             ],
             [
              0.1111111111111111,
              "#46039f"
             ],
             [
              0.2222222222222222,
              "#7201a8"
             ],
             [
              0.3333333333333333,
              "#9c179e"
             ],
             [
              0.4444444444444444,
              "#bd3786"
             ],
             [
              0.5555555555555556,
              "#d8576b"
             ],
             [
              0.6666666666666666,
              "#ed7953"
             ],
             [
              0.7777777777777778,
              "#fb9f3a"
             ],
             [
              0.8888888888888888,
              "#fdca26"
             ],
             [
              1,
              "#f0f921"
             ]
            ],
            "type": "histogram2d"
           }
          ],
          "histogram2dcontour": [
           {
            "colorbar": {
             "outlinewidth": 0,
             "ticks": ""
            },
            "colorscale": [
             [
              0,
              "#0d0887"
             ],
             [
              0.1111111111111111,
              "#46039f"
             ],
             [
              0.2222222222222222,
              "#7201a8"
             ],
             [
              0.3333333333333333,
              "#9c179e"
             ],
             [
              0.4444444444444444,
              "#bd3786"
             ],
             [
              0.5555555555555556,
              "#d8576b"
             ],
             [
              0.6666666666666666,
              "#ed7953"
             ],
             [
              0.7777777777777778,
              "#fb9f3a"
             ],
             [
              0.8888888888888888,
              "#fdca26"
             ],
             [
              1,
              "#f0f921"
             ]
            ],
            "type": "histogram2dcontour"
           }
          ],
          "mesh3d": [
           {
            "colorbar": {
             "outlinewidth": 0,
             "ticks": ""
            },
            "type": "mesh3d"
           }
          ],
          "parcoords": [
           {
            "line": {
             "colorbar": {
              "outlinewidth": 0,
              "ticks": ""
             }
            },
            "type": "parcoords"
           }
          ],
          "pie": [
           {
            "automargin": true,
            "type": "pie"
           }
          ],
          "scatter": [
           {
            "fillpattern": {
             "fillmode": "overlay",
             "size": 10,
             "solidity": 0.2
            },
            "type": "scatter"
           }
          ],
          "scatter3d": [
           {
            "line": {
             "colorbar": {
              "outlinewidth": 0,
              "ticks": ""
             }
            },
            "marker": {
             "colorbar": {
              "outlinewidth": 0,
              "ticks": ""
             }
            },
            "type": "scatter3d"
           }
          ],
          "scattercarpet": [
           {
            "marker": {
             "colorbar": {
              "outlinewidth": 0,
              "ticks": ""
             }
            },
            "type": "scattercarpet"
           }
          ],
          "scattergeo": [
           {
            "marker": {
             "colorbar": {
              "outlinewidth": 0,
              "ticks": ""
             }
            },
            "type": "scattergeo"
           }
          ],
          "scattergl": [
           {
            "marker": {
             "colorbar": {
              "outlinewidth": 0,
              "ticks": ""
             }
            },
            "type": "scattergl"
           }
          ],
          "scattermapbox": [
           {
            "marker": {
             "colorbar": {
              "outlinewidth": 0,
              "ticks": ""
             }
            },
            "type": "scattermapbox"
           }
          ],
          "scatterpolar": [
           {
            "marker": {
             "colorbar": {
              "outlinewidth": 0,
              "ticks": ""
             }
            },
            "type": "scatterpolar"
           }
          ],
          "scatterpolargl": [
           {
            "marker": {
             "colorbar": {
              "outlinewidth": 0,
              "ticks": ""
             }
            },
            "type": "scatterpolargl"
           }
          ],
          "scatterternary": [
           {
            "marker": {
             "colorbar": {
              "outlinewidth": 0,
              "ticks": ""
             }
            },
            "type": "scatterternary"
           }
          ],
          "surface": [
           {
            "colorbar": {
             "outlinewidth": 0,
             "ticks": ""
            },
            "colorscale": [
             [
              0,
              "#0d0887"
             ],
             [
              0.1111111111111111,
              "#46039f"
             ],
             [
              0.2222222222222222,
              "#7201a8"
             ],
             [
              0.3333333333333333,
              "#9c179e"
             ],
             [
              0.4444444444444444,
              "#bd3786"
             ],
             [
              0.5555555555555556,
              "#d8576b"
             ],
             [
              0.6666666666666666,
              "#ed7953"
             ],
             [
              0.7777777777777778,
              "#fb9f3a"
             ],
             [
              0.8888888888888888,
              "#fdca26"
             ],
             [
              1,
              "#f0f921"
             ]
            ],
            "type": "surface"
           }
          ],
          "table": [
           {
            "cells": {
             "fill": {
              "color": "#EBF0F8"
             },
             "line": {
              "color": "white"
             }
            },
            "header": {
             "fill": {
              "color": "#C8D4E3"
             },
             "line": {
              "color": "white"
             }
            },
            "type": "table"
           }
          ]
         },
         "layout": {
          "annotationdefaults": {
           "arrowcolor": "#2a3f5f",
           "arrowhead": 0,
           "arrowwidth": 1
          },
          "autotypenumbers": "strict",
          "coloraxis": {
           "colorbar": {
            "outlinewidth": 0,
            "ticks": ""
           }
          },
          "colorscale": {
           "diverging": [
            [
             0,
             "#8e0152"
            ],
            [
             0.1,
             "#c51b7d"
            ],
            [
             0.2,
             "#de77ae"
            ],
            [
             0.3,
             "#f1b6da"
            ],
            [
             0.4,
             "#fde0ef"
            ],
            [
             0.5,
             "#f7f7f7"
            ],
            [
             0.6,
             "#e6f5d0"
            ],
            [
             0.7,
             "#b8e186"
            ],
            [
             0.8,
             "#7fbc41"
            ],
            [
             0.9,
             "#4d9221"
            ],
            [
             1,
             "#276419"
            ]
           ],
           "sequential": [
            [
             0,
             "#0d0887"
            ],
            [
             0.1111111111111111,
             "#46039f"
            ],
            [
             0.2222222222222222,
             "#7201a8"
            ],
            [
             0.3333333333333333,
             "#9c179e"
            ],
            [
             0.4444444444444444,
             "#bd3786"
            ],
            [
             0.5555555555555556,
             "#d8576b"
            ],
            [
             0.6666666666666666,
             "#ed7953"
            ],
            [
             0.7777777777777778,
             "#fb9f3a"
            ],
            [
             0.8888888888888888,
             "#fdca26"
            ],
            [
             1,
             "#f0f921"
            ]
           ],
           "sequentialminus": [
            [
             0,
             "#0d0887"
            ],
            [
             0.1111111111111111,
             "#46039f"
            ],
            [
             0.2222222222222222,
             "#7201a8"
            ],
            [
             0.3333333333333333,
             "#9c179e"
            ],
            [
             0.4444444444444444,
             "#bd3786"
            ],
            [
             0.5555555555555556,
             "#d8576b"
            ],
            [
             0.6666666666666666,
             "#ed7953"
            ],
            [
             0.7777777777777778,
             "#fb9f3a"
            ],
            [
             0.8888888888888888,
             "#fdca26"
            ],
            [
             1,
             "#f0f921"
            ]
           ]
          },
          "colorway": [
           "#636efa",
           "#EF553B",
           "#00cc96",
           "#ab63fa",
           "#FFA15A",
           "#19d3f3",
           "#FF6692",
           "#B6E880",
           "#FF97FF",
           "#FECB52"
          ],
          "font": {
           "color": "#2a3f5f"
          },
          "geo": {
           "bgcolor": "white",
           "lakecolor": "white",
           "landcolor": "#E5ECF6",
           "showlakes": true,
           "showland": true,
           "subunitcolor": "white"
          },
          "hoverlabel": {
           "align": "left"
          },
          "hovermode": "closest",
          "mapbox": {
           "style": "light"
          },
          "paper_bgcolor": "white",
          "plot_bgcolor": "#E5ECF6",
          "polar": {
           "angularaxis": {
            "gridcolor": "white",
            "linecolor": "white",
            "ticks": ""
           },
           "bgcolor": "#E5ECF6",
           "radialaxis": {
            "gridcolor": "white",
            "linecolor": "white",
            "ticks": ""
           }
          },
          "scene": {
           "xaxis": {
            "backgroundcolor": "#E5ECF6",
            "gridcolor": "white",
            "gridwidth": 2,
            "linecolor": "white",
            "showbackground": true,
            "ticks": "",
            "zerolinecolor": "white"
           },
           "yaxis": {
            "backgroundcolor": "#E5ECF6",
            "gridcolor": "white",
            "gridwidth": 2,
            "linecolor": "white",
            "showbackground": true,
            "ticks": "",
            "zerolinecolor": "white"
           },
           "zaxis": {
            "backgroundcolor": "#E5ECF6",
            "gridcolor": "white",
            "gridwidth": 2,
            "linecolor": "white",
            "showbackground": true,
            "ticks": "",
            "zerolinecolor": "white"
           }
          },
          "shapedefaults": {
           "line": {
            "color": "#2a3f5f"
           }
          },
          "ternary": {
           "aaxis": {
            "gridcolor": "white",
            "linecolor": "white",
            "ticks": ""
           },
           "baxis": {
            "gridcolor": "white",
            "linecolor": "white",
            "ticks": ""
           },
           "bgcolor": "#E5ECF6",
           "caxis": {
            "gridcolor": "white",
            "linecolor": "white",
            "ticks": ""
           }
          },
          "title": {
           "x": 0.05
          },
          "xaxis": {
           "automargin": true,
           "gridcolor": "white",
           "linecolor": "white",
           "ticks": "",
           "title": {
            "standoff": 15
           },
           "zerolinecolor": "white",
           "zerolinewidth": 2
          },
          "yaxis": {
           "automargin": true,
           "gridcolor": "white",
           "linecolor": "white",
           "ticks": "",
           "title": {
            "standoff": 15
           },
           "zerolinecolor": "white",
           "zerolinewidth": 2
          }
         }
        },
        "title": {
         "text": "Trend of content produced on netflix every year"
        },
        "xaxis": {
         "anchor": "y",
         "domain": [
          0,
          1
         ],
         "title": {
          "text": "Release Years"
         }
        },
        "yaxis": {
         "anchor": "x",
         "domain": [
          0,
          1
         ],
         "title": {
          "text": "total count"
         }
        }
       }
      },
      "text/html": [
       "<div>                            <div id=\"de0e67e4-d5ae-476b-80ef-bc2b5ccac5ee\" class=\"plotly-graph-div\" style=\"height:525px; width:100%;\"></div>            <script type=\"text/javascript\">                require([\"plotly\"], function(Plotly) {                    window.PLOTLYENV=window.PLOTLYENV || {};                                    if (document.getElementById(\"de0e67e4-d5ae-476b-80ef-bc2b5ccac5ee\")) {                    Plotly.newPlot(                        \"de0e67e4-d5ae-476b-80ef-bc2b5ccac5ee\",                        [{\"hovertemplate\":\"Type=Movie<br>Release Years=%{x}<br>total count=%{y}<extra></extra>\",\"legendgroup\":\"Movie\",\"line\":{\"color\":\"#636efa\",\"dash\":\"solid\"},\"marker\":{\"symbol\":\"circle\"},\"mode\":\"lines\",\"name\":\"Movie\",\"orientation\":\"v\",\"showlegend\":true,\"x\":[2000,2001,2002,2003,2004,2005,2006,2007,2008,2009,2010,2011,2012,2013,2014,2015,2016,2017,2018,2019,2020,2021],\"xaxis\":\"x\",\"y\":[33,40,44,51,55,67,82,74,113,118,154,145,173,225,264,398,658,767,767,633,517,277],\"yaxis\":\"y\",\"type\":\"scatter\"},{\"hovertemplate\":\"Type=TV Show<br>Release Years=%{x}<br>total count=%{y}<extra></extra>\",\"legendgroup\":\"TV Show\",\"line\":{\"color\":\"#EF553B\",\"dash\":\"solid\"},\"marker\":{\"symbol\":\"circle\"},\"mode\":\"lines\",\"name\":\"TV Show\",\"orientation\":\"v\",\"showlegend\":true,\"x\":[2000,2001,2002,2003,2004,2005,2006,2007,2008,2009,2010,2011,2012,2013,2014,2015,2016,2017,2018,2019,2020,2021],\"xaxis\":\"x\",\"y\":[4,5,7,10,9,13,14,14,23,34,40,40,64,63,88,162,244,265,380,397,436,315],\"yaxis\":\"y\",\"type\":\"scatter\"}],                        {\"template\":{\"data\":{\"histogram2dcontour\":[{\"type\":\"histogram2dcontour\",\"colorbar\":{\"outlinewidth\":0,\"ticks\":\"\"},\"colorscale\":[[0.0,\"#0d0887\"],[0.1111111111111111,\"#46039f\"],[0.2222222222222222,\"#7201a8\"],[0.3333333333333333,\"#9c179e\"],[0.4444444444444444,\"#bd3786\"],[0.5555555555555556,\"#d8576b\"],[0.6666666666666666,\"#ed7953\"],[0.7777777777777778,\"#fb9f3a\"],[0.8888888888888888,\"#fdca26\"],[1.0,\"#f0f921\"]]}],\"choropleth\":[{\"type\":\"choropleth\",\"colorbar\":{\"outlinewidth\":0,\"ticks\":\"\"}}],\"histogram2d\":[{\"type\":\"histogram2d\",\"colorbar\":{\"outlinewidth\":0,\"ticks\":\"\"},\"colorscale\":[[0.0,\"#0d0887\"],[0.1111111111111111,\"#46039f\"],[0.2222222222222222,\"#7201a8\"],[0.3333333333333333,\"#9c179e\"],[0.4444444444444444,\"#bd3786\"],[0.5555555555555556,\"#d8576b\"],[0.6666666666666666,\"#ed7953\"],[0.7777777777777778,\"#fb9f3a\"],[0.8888888888888888,\"#fdca26\"],[1.0,\"#f0f921\"]]}],\"heatmap\":[{\"type\":\"heatmap\",\"colorbar\":{\"outlinewidth\":0,\"ticks\":\"\"},\"colorscale\":[[0.0,\"#0d0887\"],[0.1111111111111111,\"#46039f\"],[0.2222222222222222,\"#7201a8\"],[0.3333333333333333,\"#9c179e\"],[0.4444444444444444,\"#bd3786\"],[0.5555555555555556,\"#d8576b\"],[0.6666666666666666,\"#ed7953\"],[0.7777777777777778,\"#fb9f3a\"],[0.8888888888888888,\"#fdca26\"],[1.0,\"#f0f921\"]]}],\"heatmapgl\":[{\"type\":\"heatmapgl\",\"colorbar\":{\"outlinewidth\":0,\"ticks\":\"\"},\"colorscale\":[[0.0,\"#0d0887\"],[0.1111111111111111,\"#46039f\"],[0.2222222222222222,\"#7201a8\"],[0.3333333333333333,\"#9c179e\"],[0.4444444444444444,\"#bd3786\"],[0.5555555555555556,\"#d8576b\"],[0.6666666666666666,\"#ed7953\"],[0.7777777777777778,\"#fb9f3a\"],[0.8888888888888888,\"#fdca26\"],[1.0,\"#f0f921\"]]}],\"contourcarpet\":[{\"type\":\"contourcarpet\",\"colorbar\":{\"outlinewidth\":0,\"ticks\":\"\"}}],\"contour\":[{\"type\":\"contour\",\"colorbar\":{\"outlinewidth\":0,\"ticks\":\"\"},\"colorscale\":[[0.0,\"#0d0887\"],[0.1111111111111111,\"#46039f\"],[0.2222222222222222,\"#7201a8\"],[0.3333333333333333,\"#9c179e\"],[0.4444444444444444,\"#bd3786\"],[0.5555555555555556,\"#d8576b\"],[0.6666666666666666,\"#ed7953\"],[0.7777777777777778,\"#fb9f3a\"],[0.8888888888888888,\"#fdca26\"],[1.0,\"#f0f921\"]]}],\"surface\":[{\"type\":\"surface\",\"colorbar\":{\"outlinewidth\":0,\"ticks\":\"\"},\"colorscale\":[[0.0,\"#0d0887\"],[0.1111111111111111,\"#46039f\"],[0.2222222222222222,\"#7201a8\"],[0.3333333333333333,\"#9c179e\"],[0.4444444444444444,\"#bd3786\"],[0.5555555555555556,\"#d8576b\"],[0.6666666666666666,\"#ed7953\"],[0.7777777777777778,\"#fb9f3a\"],[0.8888888888888888,\"#fdca26\"],[1.0,\"#f0f921\"]]}],\"mesh3d\":[{\"type\":\"mesh3d\",\"colorbar\":{\"outlinewidth\":0,\"ticks\":\"\"}}],\"scatter\":[{\"fillpattern\":{\"fillmode\":\"overlay\",\"size\":10,\"solidity\":0.2},\"type\":\"scatter\"}],\"parcoords\":[{\"type\":\"parcoords\",\"line\":{\"colorbar\":{\"outlinewidth\":0,\"ticks\":\"\"}}}],\"scatterpolargl\":[{\"type\":\"scatterpolargl\",\"marker\":{\"colorbar\":{\"outlinewidth\":0,\"ticks\":\"\"}}}],\"bar\":[{\"error_x\":{\"color\":\"#2a3f5f\"},\"error_y\":{\"color\":\"#2a3f5f\"},\"marker\":{\"line\":{\"color\":\"#E5ECF6\",\"width\":0.5},\"pattern\":{\"fillmode\":\"overlay\",\"size\":10,\"solidity\":0.2}},\"type\":\"bar\"}],\"scattergeo\":[{\"type\":\"scattergeo\",\"marker\":{\"colorbar\":{\"outlinewidth\":0,\"ticks\":\"\"}}}],\"scatterpolar\":[{\"type\":\"scatterpolar\",\"marker\":{\"colorbar\":{\"outlinewidth\":0,\"ticks\":\"\"}}}],\"histogram\":[{\"marker\":{\"pattern\":{\"fillmode\":\"overlay\",\"size\":10,\"solidity\":0.2}},\"type\":\"histogram\"}],\"scattergl\":[{\"type\":\"scattergl\",\"marker\":{\"colorbar\":{\"outlinewidth\":0,\"ticks\":\"\"}}}],\"scatter3d\":[{\"type\":\"scatter3d\",\"line\":{\"colorbar\":{\"outlinewidth\":0,\"ticks\":\"\"}},\"marker\":{\"colorbar\":{\"outlinewidth\":0,\"ticks\":\"\"}}}],\"scattermapbox\":[{\"type\":\"scattermapbox\",\"marker\":{\"colorbar\":{\"outlinewidth\":0,\"ticks\":\"\"}}}],\"scatterternary\":[{\"type\":\"scatterternary\",\"marker\":{\"colorbar\":{\"outlinewidth\":0,\"ticks\":\"\"}}}],\"scattercarpet\":[{\"type\":\"scattercarpet\",\"marker\":{\"colorbar\":{\"outlinewidth\":0,\"ticks\":\"\"}}}],\"carpet\":[{\"aaxis\":{\"endlinecolor\":\"#2a3f5f\",\"gridcolor\":\"white\",\"linecolor\":\"white\",\"minorgridcolor\":\"white\",\"startlinecolor\":\"#2a3f5f\"},\"baxis\":{\"endlinecolor\":\"#2a3f5f\",\"gridcolor\":\"white\",\"linecolor\":\"white\",\"minorgridcolor\":\"white\",\"startlinecolor\":\"#2a3f5f\"},\"type\":\"carpet\"}],\"table\":[{\"cells\":{\"fill\":{\"color\":\"#EBF0F8\"},\"line\":{\"color\":\"white\"}},\"header\":{\"fill\":{\"color\":\"#C8D4E3\"},\"line\":{\"color\":\"white\"}},\"type\":\"table\"}],\"barpolar\":[{\"marker\":{\"line\":{\"color\":\"#E5ECF6\",\"width\":0.5},\"pattern\":{\"fillmode\":\"overlay\",\"size\":10,\"solidity\":0.2}},\"type\":\"barpolar\"}],\"pie\":[{\"automargin\":true,\"type\":\"pie\"}]},\"layout\":{\"autotypenumbers\":\"strict\",\"colorway\":[\"#636efa\",\"#EF553B\",\"#00cc96\",\"#ab63fa\",\"#FFA15A\",\"#19d3f3\",\"#FF6692\",\"#B6E880\",\"#FF97FF\",\"#FECB52\"],\"font\":{\"color\":\"#2a3f5f\"},\"hovermode\":\"closest\",\"hoverlabel\":{\"align\":\"left\"},\"paper_bgcolor\":\"white\",\"plot_bgcolor\":\"#E5ECF6\",\"polar\":{\"bgcolor\":\"#E5ECF6\",\"angularaxis\":{\"gridcolor\":\"white\",\"linecolor\":\"white\",\"ticks\":\"\"},\"radialaxis\":{\"gridcolor\":\"white\",\"linecolor\":\"white\",\"ticks\":\"\"}},\"ternary\":{\"bgcolor\":\"#E5ECF6\",\"aaxis\":{\"gridcolor\":\"white\",\"linecolor\":\"white\",\"ticks\":\"\"},\"baxis\":{\"gridcolor\":\"white\",\"linecolor\":\"white\",\"ticks\":\"\"},\"caxis\":{\"gridcolor\":\"white\",\"linecolor\":\"white\",\"ticks\":\"\"}},\"coloraxis\":{\"colorbar\":{\"outlinewidth\":0,\"ticks\":\"\"}},\"colorscale\":{\"sequential\":[[0.0,\"#0d0887\"],[0.1111111111111111,\"#46039f\"],[0.2222222222222222,\"#7201a8\"],[0.3333333333333333,\"#9c179e\"],[0.4444444444444444,\"#bd3786\"],[0.5555555555555556,\"#d8576b\"],[0.6666666666666666,\"#ed7953\"],[0.7777777777777778,\"#fb9f3a\"],[0.8888888888888888,\"#fdca26\"],[1.0,\"#f0f921\"]],\"sequentialminus\":[[0.0,\"#0d0887\"],[0.1111111111111111,\"#46039f\"],[0.2222222222222222,\"#7201a8\"],[0.3333333333333333,\"#9c179e\"],[0.4444444444444444,\"#bd3786\"],[0.5555555555555556,\"#d8576b\"],[0.6666666666666666,\"#ed7953\"],[0.7777777777777778,\"#fb9f3a\"],[0.8888888888888888,\"#fdca26\"],[1.0,\"#f0f921\"]],\"diverging\":[[0,\"#8e0152\"],[0.1,\"#c51b7d\"],[0.2,\"#de77ae\"],[0.3,\"#f1b6da\"],[0.4,\"#fde0ef\"],[0.5,\"#f7f7f7\"],[0.6,\"#e6f5d0\"],[0.7,\"#b8e186\"],[0.8,\"#7fbc41\"],[0.9,\"#4d9221\"],[1,\"#276419\"]]},\"xaxis\":{\"gridcolor\":\"white\",\"linecolor\":\"white\",\"ticks\":\"\",\"title\":{\"standoff\":15},\"zerolinecolor\":\"white\",\"automargin\":true,\"zerolinewidth\":2},\"yaxis\":{\"gridcolor\":\"white\",\"linecolor\":\"white\",\"ticks\":\"\",\"title\":{\"standoff\":15},\"zerolinecolor\":\"white\",\"automargin\":true,\"zerolinewidth\":2},\"scene\":{\"xaxis\":{\"backgroundcolor\":\"#E5ECF6\",\"gridcolor\":\"white\",\"linecolor\":\"white\",\"showbackground\":true,\"ticks\":\"\",\"zerolinecolor\":\"white\",\"gridwidth\":2},\"yaxis\":{\"backgroundcolor\":\"#E5ECF6\",\"gridcolor\":\"white\",\"linecolor\":\"white\",\"showbackground\":true,\"ticks\":\"\",\"zerolinecolor\":\"white\",\"gridwidth\":2},\"zaxis\":{\"backgroundcolor\":\"#E5ECF6\",\"gridcolor\":\"white\",\"linecolor\":\"white\",\"showbackground\":true,\"ticks\":\"\",\"zerolinecolor\":\"white\",\"gridwidth\":2}},\"shapedefaults\":{\"line\":{\"color\":\"#2a3f5f\"}},\"annotationdefaults\":{\"arrowcolor\":\"#2a3f5f\",\"arrowhead\":0,\"arrowwidth\":1},\"geo\":{\"bgcolor\":\"white\",\"landcolor\":\"#E5ECF6\",\"subunitcolor\":\"white\",\"showland\":true,\"showlakes\":true,\"lakecolor\":\"white\"},\"title\":{\"x\":0.05},\"mapbox\":{\"style\":\"light\"}}},\"xaxis\":{\"anchor\":\"y\",\"domain\":[0.0,1.0],\"title\":{\"text\":\"Release Years\"}},\"yaxis\":{\"anchor\":\"x\",\"domain\":[0.0,1.0],\"title\":{\"text\":\"total count\"}},\"legend\":{\"title\":{\"text\":\"Type\"},\"tracegroupgap\":0},\"title\":{\"text\":\"Trend of content produced on netflix every year\"}},                        {\"responsive\": true}                    ).then(function(){\n",
       "                            \n",
       "var gd = document.getElementById('de0e67e4-d5ae-476b-80ef-bc2b5ccac5ee');\n",
       "var x = new MutationObserver(function (mutations, observer) {{\n",
       "        var display = window.getComputedStyle(gd).display;\n",
       "        if (!display || display === 'none') {{\n",
       "            console.log([gd, 'removed!']);\n",
       "            Plotly.purge(gd);\n",
       "            observer.disconnect();\n",
       "        }}\n",
       "}});\n",
       "\n",
       "// Listen for the removal of the full notebook cells\n",
       "var notebookContainer = gd.closest('#notebook-container');\n",
       "if (notebookContainer) {{\n",
       "    x.observe(notebookContainer, {childList: true});\n",
       "}}\n",
       "\n",
       "// Listen for the clearing of the current output cell\n",
       "var outputEl = gd.closest('.output');\n",
       "if (outputEl) {{\n",
       "    x.observe(outputEl, {childList: true});\n",
       "}}\n",
       "\n",
       "                        })                };                });            </script>        </div>"
      ]
     },
     "metadata": {},
     "output_type": "display_data"
    }
   ],
   "source": [
    "df12=df2[df2['Release Years']>=2000]\n",
    "graph=ps.line(df12,x='Release Years',y='total count',color='Type',title='Trend of content produced on netflix every year')\n",
    "graph.show()"
   ]
  },
  {
   "cell_type": "code",
   "execution_count": 161,
   "id": "b081f601",
   "metadata": {},
   "outputs": [
    {
     "data": {
      "text/html": [
       "<div>\n",
       "<style scoped>\n",
       "    .dataframe tbody tr th:only-of-type {\n",
       "        vertical-align: middle;\n",
       "    }\n",
       "\n",
       "    .dataframe tbody tr th {\n",
       "        vertical-align: top;\n",
       "    }\n",
       "\n",
       "    .dataframe thead th {\n",
       "        text-align: right;\n",
       "    }\n",
       "</style>\n",
       "<table border=\"1\" class=\"dataframe\">\n",
       "  <thead>\n",
       "    <tr style=\"text-align: right;\">\n",
       "      <th></th>\n",
       "      <th>show_id</th>\n",
       "      <th>type</th>\n",
       "      <th>title</th>\n",
       "      <th>director</th>\n",
       "      <th>cast</th>\n",
       "      <th>country</th>\n",
       "      <th>date_added</th>\n",
       "      <th>release_year</th>\n",
       "      <th>rating</th>\n",
       "      <th>duration</th>\n",
       "      <th>listed_in</th>\n",
       "      <th>description</th>\n",
       "    </tr>\n",
       "  </thead>\n",
       "  <tbody>\n",
       "    <tr>\n",
       "      <th>0</th>\n",
       "      <td>s1</td>\n",
       "      <td>Movie</td>\n",
       "      <td>Dick Johnson Is Dead</td>\n",
       "      <td>Kirsten Johnson</td>\n",
       "      <td>No cast specified</td>\n",
       "      <td>United States</td>\n",
       "      <td>September 25, 2021</td>\n",
       "      <td>2020</td>\n",
       "      <td>PG-13</td>\n",
       "      <td>90 min</td>\n",
       "      <td>Documentaries</td>\n",
       "      <td>As her father nears the end of his life, filmm...</td>\n",
       "    </tr>\n",
       "    <tr>\n",
       "      <th>1</th>\n",
       "      <td>s2</td>\n",
       "      <td>TV Show</td>\n",
       "      <td>Blood &amp; Water</td>\n",
       "      <td>director not specified</td>\n",
       "      <td>Ama Qamata, Khosi Ngema, Gail Mabalane, Thaban...</td>\n",
       "      <td>South Africa</td>\n",
       "      <td>September 24, 2021</td>\n",
       "      <td>2021</td>\n",
       "      <td>TV-MA</td>\n",
       "      <td>2 Seasons</td>\n",
       "      <td>International TV Shows, TV Dramas, TV Mysteries</td>\n",
       "      <td>After crossing paths at a party, a Cape Town t...</td>\n",
       "    </tr>\n",
       "    <tr>\n",
       "      <th>2</th>\n",
       "      <td>s3</td>\n",
       "      <td>TV Show</td>\n",
       "      <td>Ganglands</td>\n",
       "      <td>Julien Leclercq</td>\n",
       "      <td>Sami Bouajila, Tracy Gotoas, Samuel Jouy, Nabi...</td>\n",
       "      <td>NaN</td>\n",
       "      <td>September 24, 2021</td>\n",
       "      <td>2021</td>\n",
       "      <td>TV-MA</td>\n",
       "      <td>1 Season</td>\n",
       "      <td>Crime TV Shows, International TV Shows, TV Act...</td>\n",
       "      <td>To protect his family from a powerful drug lor...</td>\n",
       "    </tr>\n",
       "    <tr>\n",
       "      <th>3</th>\n",
       "      <td>s4</td>\n",
       "      <td>TV Show</td>\n",
       "      <td>Jailbirds New Orleans</td>\n",
       "      <td>director not specified</td>\n",
       "      <td>No cast specified</td>\n",
       "      <td>NaN</td>\n",
       "      <td>September 24, 2021</td>\n",
       "      <td>2021</td>\n",
       "      <td>TV-MA</td>\n",
       "      <td>1 Season</td>\n",
       "      <td>Docuseries, Reality TV</td>\n",
       "      <td>Feuds, flirtations and toilet talk go down amo...</td>\n",
       "    </tr>\n",
       "    <tr>\n",
       "      <th>4</th>\n",
       "      <td>s5</td>\n",
       "      <td>TV Show</td>\n",
       "      <td>Kota Factory</td>\n",
       "      <td>director not specified</td>\n",
       "      <td>Mayur More, Jitendra Kumar, Ranjan Raj, Alam K...</td>\n",
       "      <td>India</td>\n",
       "      <td>September 24, 2021</td>\n",
       "      <td>2021</td>\n",
       "      <td>TV-MA</td>\n",
       "      <td>2 Seasons</td>\n",
       "      <td>International TV Shows, Romantic TV Shows, TV ...</td>\n",
       "      <td>In a city of coaching centers known to train I...</td>\n",
       "    </tr>\n",
       "    <tr>\n",
       "      <th>...</th>\n",
       "      <td>...</td>\n",
       "      <td>...</td>\n",
       "      <td>...</td>\n",
       "      <td>...</td>\n",
       "      <td>...</td>\n",
       "      <td>...</td>\n",
       "      <td>...</td>\n",
       "      <td>...</td>\n",
       "      <td>...</td>\n",
       "      <td>...</td>\n",
       "      <td>...</td>\n",
       "      <td>...</td>\n",
       "    </tr>\n",
       "    <tr>\n",
       "      <th>8802</th>\n",
       "      <td>s8803</td>\n",
       "      <td>Movie</td>\n",
       "      <td>Zodiac</td>\n",
       "      <td>David Fincher</td>\n",
       "      <td>Mark Ruffalo, Jake Gyllenhaal, Robert Downey J...</td>\n",
       "      <td>United States</td>\n",
       "      <td>November 20, 2019</td>\n",
       "      <td>2007</td>\n",
       "      <td>R</td>\n",
       "      <td>158 min</td>\n",
       "      <td>Cult Movies, Dramas, Thrillers</td>\n",
       "      <td>A political cartoonist, a crime reporter and a...</td>\n",
       "    </tr>\n",
       "    <tr>\n",
       "      <th>8803</th>\n",
       "      <td>s8804</td>\n",
       "      <td>TV Show</td>\n",
       "      <td>Zombie Dumb</td>\n",
       "      <td>director not specified</td>\n",
       "      <td>No cast specified</td>\n",
       "      <td>NaN</td>\n",
       "      <td>July 1, 2019</td>\n",
       "      <td>2018</td>\n",
       "      <td>TV-Y7</td>\n",
       "      <td>2 Seasons</td>\n",
       "      <td>Kids' TV, Korean TV Shows, TV Comedies</td>\n",
       "      <td>While living alone in a spooky town, a young g...</td>\n",
       "    </tr>\n",
       "    <tr>\n",
       "      <th>8804</th>\n",
       "      <td>s8805</td>\n",
       "      <td>Movie</td>\n",
       "      <td>Zombieland</td>\n",
       "      <td>Ruben Fleischer</td>\n",
       "      <td>Jesse Eisenberg, Woody Harrelson, Emma Stone, ...</td>\n",
       "      <td>United States</td>\n",
       "      <td>November 1, 2019</td>\n",
       "      <td>2009</td>\n",
       "      <td>R</td>\n",
       "      <td>88 min</td>\n",
       "      <td>Comedies, Horror Movies</td>\n",
       "      <td>Looking to survive in a world taken over by zo...</td>\n",
       "    </tr>\n",
       "    <tr>\n",
       "      <th>8805</th>\n",
       "      <td>s8806</td>\n",
       "      <td>Movie</td>\n",
       "      <td>Zoom</td>\n",
       "      <td>Peter Hewitt</td>\n",
       "      <td>Tim Allen, Courteney Cox, Chevy Chase, Kate Ma...</td>\n",
       "      <td>United States</td>\n",
       "      <td>January 11, 2020</td>\n",
       "      <td>2006</td>\n",
       "      <td>PG</td>\n",
       "      <td>88 min</td>\n",
       "      <td>Children &amp; Family Movies, Comedies</td>\n",
       "      <td>Dragged from civilian life, a former superhero...</td>\n",
       "    </tr>\n",
       "    <tr>\n",
       "      <th>8806</th>\n",
       "      <td>s8807</td>\n",
       "      <td>Movie</td>\n",
       "      <td>Zubaan</td>\n",
       "      <td>Mozez Singh</td>\n",
       "      <td>Vicky Kaushal, Sarah-Jane Dias, Raaghav Chanan...</td>\n",
       "      <td>India</td>\n",
       "      <td>March 2, 2019</td>\n",
       "      <td>2015</td>\n",
       "      <td>TV-14</td>\n",
       "      <td>111 min</td>\n",
       "      <td>Dramas, International Movies, Music &amp; Musicals</td>\n",
       "      <td>A scrappy but poor boy worms his way into a ty...</td>\n",
       "    </tr>\n",
       "  </tbody>\n",
       "</table>\n",
       "<p>8807 rows × 12 columns</p>\n",
       "</div>"
      ],
      "text/plain": [
       "     show_id     type                  title                director  \\\n",
       "0         s1    Movie   Dick Johnson Is Dead         Kirsten Johnson   \n",
       "1         s2  TV Show          Blood & Water  director not specified   \n",
       "2         s3  TV Show              Ganglands         Julien Leclercq   \n",
       "3         s4  TV Show  Jailbirds New Orleans  director not specified   \n",
       "4         s5  TV Show           Kota Factory  director not specified   \n",
       "...      ...      ...                    ...                     ...   \n",
       "8802   s8803    Movie                 Zodiac           David Fincher   \n",
       "8803   s8804  TV Show            Zombie Dumb  director not specified   \n",
       "8804   s8805    Movie             Zombieland         Ruben Fleischer   \n",
       "8805   s8806    Movie                   Zoom            Peter Hewitt   \n",
       "8806   s8807    Movie                 Zubaan             Mozez Singh   \n",
       "\n",
       "                                                   cast        country  \\\n",
       "0                                     No cast specified  United States   \n",
       "1     Ama Qamata, Khosi Ngema, Gail Mabalane, Thaban...   South Africa   \n",
       "2     Sami Bouajila, Tracy Gotoas, Samuel Jouy, Nabi...            NaN   \n",
       "3                                     No cast specified            NaN   \n",
       "4     Mayur More, Jitendra Kumar, Ranjan Raj, Alam K...          India   \n",
       "...                                                 ...            ...   \n",
       "8802  Mark Ruffalo, Jake Gyllenhaal, Robert Downey J...  United States   \n",
       "8803                                  No cast specified            NaN   \n",
       "8804  Jesse Eisenberg, Woody Harrelson, Emma Stone, ...  United States   \n",
       "8805  Tim Allen, Courteney Cox, Chevy Chase, Kate Ma...  United States   \n",
       "8806  Vicky Kaushal, Sarah-Jane Dias, Raaghav Chanan...          India   \n",
       "\n",
       "              date_added  release_year rating   duration  \\\n",
       "0     September 25, 2021          2020  PG-13     90 min   \n",
       "1     September 24, 2021          2021  TV-MA  2 Seasons   \n",
       "2     September 24, 2021          2021  TV-MA   1 Season   \n",
       "3     September 24, 2021          2021  TV-MA   1 Season   \n",
       "4     September 24, 2021          2021  TV-MA  2 Seasons   \n",
       "...                  ...           ...    ...        ...   \n",
       "8802   November 20, 2019          2007      R    158 min   \n",
       "8803        July 1, 2019          2018  TV-Y7  2 Seasons   \n",
       "8804    November 1, 2019          2009      R     88 min   \n",
       "8805    January 11, 2020          2006     PG     88 min   \n",
       "8806       March 2, 2019          2015  TV-14    111 min   \n",
       "\n",
       "                                              listed_in  \\\n",
       "0                                         Documentaries   \n",
       "1       International TV Shows, TV Dramas, TV Mysteries   \n",
       "2     Crime TV Shows, International TV Shows, TV Act...   \n",
       "3                                Docuseries, Reality TV   \n",
       "4     International TV Shows, Romantic TV Shows, TV ...   \n",
       "...                                                 ...   \n",
       "8802                     Cult Movies, Dramas, Thrillers   \n",
       "8803             Kids' TV, Korean TV Shows, TV Comedies   \n",
       "8804                            Comedies, Horror Movies   \n",
       "8805                 Children & Family Movies, Comedies   \n",
       "8806     Dramas, International Movies, Music & Musicals   \n",
       "\n",
       "                                            description  \n",
       "0     As her father nears the end of his life, filmm...  \n",
       "1     After crossing paths at a party, a Cape Town t...  \n",
       "2     To protect his family from a powerful drug lor...  \n",
       "3     Feuds, flirtations and toilet talk go down amo...  \n",
       "4     In a city of coaching centers known to train I...  \n",
       "...                                                 ...  \n",
       "8802  A political cartoonist, a crime reporter and a...  \n",
       "8803  While living alone in a spooky town, a young g...  \n",
       "8804  Looking to survive in a world taken over by zo...  \n",
       "8805  Dragged from civilian life, a former superhero...  \n",
       "8806  A scrappy but poor boy worms his way into a ty...  \n",
       "\n",
       "[8807 rows x 12 columns]"
      ]
     },
     "execution_count": 161,
     "metadata": {},
     "output_type": "execute_result"
    }
   ],
   "source": [
    "data"
   ]
  },
  {
   "cell_type": "markdown",
   "id": "b0325295",
   "metadata": {},
   "source": [
    "## Analyzing content produced by a country on netflix based on year"
   ]
  },
  {
   "cell_type": "code",
   "execution_count": 174,
   "id": "a25a3821",
   "metadata": {},
   "outputs": [
    {
     "data": {
      "text/html": [
       "<div>\n",
       "<style scoped>\n",
       "    .dataframe tbody tr th:only-of-type {\n",
       "        vertical-align: middle;\n",
       "    }\n",
       "\n",
       "    .dataframe tbody tr th {\n",
       "        vertical-align: top;\n",
       "    }\n",
       "\n",
       "    .dataframe thead th {\n",
       "        text-align: right;\n",
       "    }\n",
       "</style>\n",
       "<table border=\"1\" class=\"dataframe\">\n",
       "  <thead>\n",
       "    <tr style=\"text-align: right;\">\n",
       "      <th></th>\n",
       "      <th>country</th>\n",
       "      <th>release_year</th>\n",
       "      <th>type</th>\n",
       "      <th>total count</th>\n",
       "    </tr>\n",
       "  </thead>\n",
       "  <tbody>\n",
       "    <tr>\n",
       "      <th>0</th>\n",
       "      <td>, France, Algeria</td>\n",
       "      <td>2014</td>\n",
       "      <td>Movie</td>\n",
       "      <td>1</td>\n",
       "    </tr>\n",
       "    <tr>\n",
       "      <th>1</th>\n",
       "      <td>, South Korea</td>\n",
       "      <td>2021</td>\n",
       "      <td>TV Show</td>\n",
       "      <td>1</td>\n",
       "    </tr>\n",
       "    <tr>\n",
       "      <th>2</th>\n",
       "      <td>Argentina</td>\n",
       "      <td>1985</td>\n",
       "      <td>Movie</td>\n",
       "      <td>2</td>\n",
       "    </tr>\n",
       "    <tr>\n",
       "      <th>3</th>\n",
       "      <td>Argentina</td>\n",
       "      <td>1998</td>\n",
       "      <td>Movie</td>\n",
       "      <td>1</td>\n",
       "    </tr>\n",
       "    <tr>\n",
       "      <th>4</th>\n",
       "      <td>Argentina</td>\n",
       "      <td>2004</td>\n",
       "      <td>Movie</td>\n",
       "      <td>1</td>\n",
       "    </tr>\n",
       "    <tr>\n",
       "      <th>...</th>\n",
       "      <td>...</td>\n",
       "      <td>...</td>\n",
       "      <td>...</td>\n",
       "      <td>...</td>\n",
       "    </tr>\n",
       "    <tr>\n",
       "      <th>2044</th>\n",
       "      <td>Vietnam</td>\n",
       "      <td>2019</td>\n",
       "      <td>Movie</td>\n",
       "      <td>2</td>\n",
       "    </tr>\n",
       "    <tr>\n",
       "      <th>2045</th>\n",
       "      <td>Vietnam</td>\n",
       "      <td>2020</td>\n",
       "      <td>Movie</td>\n",
       "      <td>1</td>\n",
       "    </tr>\n",
       "    <tr>\n",
       "      <th>2046</th>\n",
       "      <td>Vietnam</td>\n",
       "      <td>2021</td>\n",
       "      <td>Movie</td>\n",
       "      <td>1</td>\n",
       "    </tr>\n",
       "    <tr>\n",
       "      <th>2047</th>\n",
       "      <td>West Germany</td>\n",
       "      <td>1977</td>\n",
       "      <td>Movie</td>\n",
       "      <td>1</td>\n",
       "    </tr>\n",
       "    <tr>\n",
       "      <th>2048</th>\n",
       "      <td>Zimbabwe</td>\n",
       "      <td>2017</td>\n",
       "      <td>Movie</td>\n",
       "      <td>1</td>\n",
       "    </tr>\n",
       "  </tbody>\n",
       "</table>\n",
       "<p>2049 rows × 4 columns</p>\n",
       "</div>"
      ],
      "text/plain": [
       "                country  release_year     type  total count\n",
       "0     , France, Algeria          2014    Movie            1\n",
       "1         , South Korea          2021  TV Show            1\n",
       "2             Argentina          1985    Movie            2\n",
       "3             Argentina          1998    Movie            1\n",
       "4             Argentina          2004    Movie            1\n",
       "...                 ...           ...      ...          ...\n",
       "2044            Vietnam          2019    Movie            2\n",
       "2045            Vietnam          2020    Movie            1\n",
       "2046            Vietnam          2021    Movie            1\n",
       "2047       West Germany          1977    Movie            1\n",
       "2048           Zimbabwe          2017    Movie            1\n",
       "\n",
       "[2049 rows x 4 columns]"
      ]
     },
     "execution_count": 174,
     "metadata": {},
     "output_type": "execute_result"
    }
   ],
   "source": [
    "dff=df[['release_year','country','type']]\n",
    "dff1=dff.groupby(['country','release_year','type']).size().reset_index(name='total count')\n",
    "dff1"
   ]
  },
  {
   "cell_type": "code",
   "execution_count": 175,
   "id": "d5d10707",
   "metadata": {},
   "outputs": [
    {
     "data": {
      "application/vnd.plotly.v1+json": {
       "config": {
        "plotlyServerURL": "https://plot.ly"
       },
       "data": [
        {
         "hovertemplate": "release_year=2014<br>total count=%{x}<br>country=%{y}<extra></extra>",
         "legendgroup": "2014",
         "line": {
          "color": "#636efa",
          "dash": "solid"
         },
         "marker": {
          "symbol": "circle"
         },
         "mode": "lines",
         "name": "2014",
         "showlegend": true,
         "type": "scattergl",
         "x": [
          1,
          1,
          1,
          1,
          2,
          1,
          1,
          1,
          7,
          4,
          1,
          1,
          1,
          1,
          1,
          1,
          1,
          1,
          1,
          1,
          1,
          1,
          1,
          4,
          4,
          2,
          1,
          1,
          1,
          5,
          1,
          1,
          2,
          1,
          1,
          46,
          5,
          1,
          1,
          1,
          1,
          2,
          12,
          1,
          1,
          1,
          3,
          1,
          3,
          1,
          1,
          1,
          1,
          1,
          4,
          1,
          1,
          1,
          1,
          1,
          5,
          7,
          1,
          3,
          1,
          1,
          1,
          10,
          5,
          1,
          1,
          1,
          15,
          9,
          1,
          1,
          1,
          1,
          1,
          2,
          1,
          76,
          18,
          1,
          1,
          2,
          2,
          1,
          1,
          1,
          1,
          1,
          1,
          1,
          4,
          1,
          1,
          1
         ],
         "xaxis": "x",
         "y": [
          ", France, Algeria",
          "Argentina, Venezuela",
          "Australia, United Kingdom, Canada",
          "Australia, United Kingdom, United States, New Zealand, Italy, France",
          "Australia, United States",
          "Austria, Czech Republic",
          "Brazil",
          "Bulgaria, United States, Spain, Canada",
          "Canada",
          "Canada",
          "Canada, France, Italy, Morocco, United States",
          "Canada, Germany, France, United States",
          "Canada, India",
          "Canada, Luxembourg",
          "Canada, South Korea, United States",
          "Canada, United Kingdom, United States",
          "Canada, United States",
          "Canada, United States, Denmark",
          "China, Hong Kong",
          "Denmark, Brazil, France, Portugal, Sweden",
          "Denmark, Indonesia, Finland, Norway, United Kingdom, Israel, France, United States, Germany, Netherlands",
          "Denmark, United Kingdom, South Africa, Sweden, Belgium",
          "Denmark, Zimbabwe",
          "Egypt",
          "France",
          "France",
          "France, Belgium",
          "France, Canada, United States, Spain",
          "France, Germany, Switzerland",
          "Germany",
          "Germany, United Kingdom",
          "Germany, United States, Italy",
          "Hong Kong",
          "Hong Kong, China",
          "Hong Kong, United States",
          "India",
          "India",
          "India, Canada",
          "India, France",
          "Indonesia",
          "Israel",
          "Japan",
          "Japan",
          "Kenya, United States",
          "Lebanon, United Arab Emirates, France, Switzerland, Germany",
          "Malaysia",
          "Mexico",
          "Mexico, United States",
          "Nigeria",
          "Norway, Denmark, Sweden",
          "Norway, United Kingdom, France, Ireland",
          "Norway, United States",
          "Pakistan",
          "Pakistan, Norway, United States",
          "Philippines",
          "Poland",
          "Romania",
          "Russia",
          "Saudi Arabia",
          "Singapore",
          "Singapore",
          "South Korea",
          "Spain",
          "Taiwan",
          "Thailand",
          "Thailand",
          "Thailand, Canada, United States",
          "Turkey",
          "Turkey",
          "United Arab Emirates",
          "United Arab Emirates, Jordan, Lebanon, Saudi Arabia",
          "United Arab Emirates, United States",
          "United Kingdom",
          "United Kingdom",
          "United Kingdom,",
          "United Kingdom, Brazil, Germany",
          "United Kingdom, China, United States",
          "United Kingdom, France, Canada, Belgium, United States",
          "United Kingdom, Japan",
          "United Kingdom, United States",
          "United Kingdom, United States, Morocco",
          "United States",
          "United States",
          "United States, Bermuda, Ecuador",
          "United States, Bulgaria",
          "United States, Canada",
          "United States, France",
          "United States, France, Canada, Lebanon, Qatar",
          "United States, France, Serbia",
          "United States, Greece, United Kingdom",
          "United States, India",
          "United States, India, United Arab Emirates",
          "United States, Japan, Canada",
          "United States, Russia",
          "United States, United Kingdom",
          "United States, United Kingdom, Canada, China",
          "United States, United Kingdom, Denmark, Sweden",
          "Vietnam"
         ],
         "yaxis": "y"
        },
        {
         "hovertemplate": "release_year=2021<br>total count=%{x}<br>country=%{y}<extra></extra>",
         "legendgroup": "2021",
         "line": {
          "color": "#EF553B",
          "dash": "solid"
         },
         "marker": {
          "symbol": "circle"
         },
         "mode": "lines",
         "name": "2021",
         "showlegend": true,
         "type": "scattergl",
         "x": [
          1,
          1,
          1,
          2,
          5,
          1,
          1,
          2,
          1,
          1,
          1,
          3,
          1,
          3,
          1,
          1,
          1,
          1,
          4,
          1,
          1,
          1,
          2,
          1,
          1,
          1,
          5,
          2,
          1,
          2,
          1,
          4,
          1,
          1,
          1,
          1,
          22,
          9,
          1,
          1,
          4,
          2,
          1,
          4,
          2,
          1,
          1,
          2,
          10,
          1,
          1,
          3,
          6,
          1,
          1,
          1,
          2,
          1,
          2,
          2,
          1,
          1,
          2,
          2,
          1,
          1,
          4,
          1,
          6,
          13,
          5,
          9,
          1,
          2,
          1,
          2,
          2,
          2,
          3,
          1,
          1,
          6,
          16,
          1,
          4,
          49,
          89,
          1,
          1,
          1,
          2,
          1,
          1,
          1,
          1,
          1,
          1,
          1,
          3,
          1,
          1
         ],
         "xaxis": "x",
         "y": [
          ", South Korea",
          "Argentina",
          "Argentina",
          "Australia",
          "Australia",
          "Australia, United Kingdom",
          "Australia, United States",
          "Belgium",
          "Belgium, France",
          "Belgium, Netherlands",
          "Belgium, United Kingdom",
          "Brazil",
          "Brazil",
          "Canada",
          "Canada, United States",
          "Canada, United States",
          "Canada, United States, Cayman Islands",
          "Canada, United States, Ireland",
          "China",
          "China, Taiwan",
          "China, United Kingdom",
          "China, United States, Canada",
          "Colombia",
          "Colombia",
          "Egypt",
          "Egypt, Denmark, Germany",
          "France",
          "France",
          "France, United States",
          "France, United States",
          "Germany",
          "Germany",
          "Germany, Czech Republic",
          "Germany, United States",
          "Hungary, United States",
          "Iceland",
          "India",
          "India",
          "India, United Kingdom, France, Qatar",
          "India, United States",
          "Indonesia",
          "Israel",
          "Israel, United States",
          "Italy",
          "Italy",
          "Italy, Brazil, Greece",
          "Italy, United Kingdom",
          "Japan",
          "Japan",
          "Jordan",
          "Mauritius",
          "Mexico",
          "Mexico",
          "Mexico, Brazil",
          "Mexico, France, Colombia",
          "Mexico, United States",
          "Netherlands",
          "New Zealand",
          "Nigeria",
          "Nigeria",
          "Norway, Denmark",
          "Philippines, Singapore, Indonesia",
          "Poland",
          "Poland",
          "Russia, United States",
          "Saudi Arabia",
          "South Africa",
          "South Africa",
          "South Korea",
          "South Korea",
          "Spain",
          "Spain",
          "Spain, Argentina",
          "Sweden",
          "Sweden",
          "Thailand",
          "Thailand",
          "Turkey",
          "Turkey",
          "United Arab Emirates",
          "United Arab Emirates",
          "United Kingdom",
          "United Kingdom",
          "United Kingdom, Canada, United States",
          "United Kingdom, United States",
          "United States",
          "United States",
          "United States, Australia",
          "United States, Brazil, Japan, Spain, India",
          "United States, Canada",
          "United States, Canada",
          "United States, Czech Republic",
          "United States, India",
          "United States, Japan",
          "United States, Japan",
          "United States, Mexico",
          "United States, Singapore",
          "United States, United Kingdom",
          "United States, United Kingdom",
          "Uruguay, Germany",
          "Vietnam"
         ],
         "yaxis": "y"
        },
        {
         "hovertemplate": "release_year=1985<br>total count=%{x}<br>country=%{y}<extra></extra>",
         "legendgroup": "1985",
         "line": {
          "color": "#00cc96",
          "dash": "solid"
         },
         "marker": {
          "symbol": "circle"
         },
         "mode": "lines",
         "name": "1985",
         "showlegend": true,
         "type": "scattergl",
         "x": [
          2,
          2,
          2,
          1,
          1,
          1
         ],
         "xaxis": "x",
         "y": [
          "Argentina",
          "Hong Kong",
          "India",
          "Poland, West Germany",
          "United States",
          "United States, Japan"
         ],
         "yaxis": "y"
        },
        {
         "hovertemplate": "release_year=1998<br>total count=%{x}<br>country=%{y}<extra></extra>",
         "legendgroup": "1998",
         "line": {
          "color": "#ab63fa",
          "dash": "solid"
         },
         "marker": {
          "symbol": "circle"
         },
         "mode": "lines",
         "name": "1998",
         "showlegend": true,
         "type": "scattergl",
         "x": [
          1,
          1,
          1,
          1,
          6,
          1,
          1,
          1,
          2,
          17,
          1,
          1,
          1,
          1
         ],
         "xaxis": "x",
         "y": [
          "Argentina",
          "Australia",
          "Canada",
          "Canada",
          "India",
          "Ireland, United Kingdom, France, Germany",
          "Japan",
          "Japan",
          "United Kingdom",
          "United States",
          "United States",
          "United States, France, Japan",
          "United States, Germany, Mexico",
          "United States, New Zealand"
         ],
         "yaxis": "y"
        },
        {
         "hovertemplate": "release_year=2004<br>total count=%{x}<br>country=%{y}<extra></extra>",
         "legendgroup": "2004",
         "line": {
          "color": "#FFA15A",
          "dash": "solid"
         },
         "marker": {
          "symbol": "circle"
         },
         "mode": "lines",
         "name": "2004",
         "showlegend": true,
         "type": "scattergl",
         "x": [
          1,
          1,
          1,
          2,
          1,
          1,
          1,
          15,
          3,
          1,
          2,
          1,
          1,
          2,
          1,
          2,
          1,
          1,
          1,
          15,
          2,
          1,
          1,
          1,
          2,
          1
         ],
         "xaxis": "x",
         "y": [
          "Argentina",
          "Canada",
          "Canada, United States",
          "Egypt",
          "France",
          "Hong Kong, China",
          "Hong Kong, China, United States",
          "India",
          "Japan",
          "Malaysia",
          "Mexico",
          "South Korea",
          "Spain, France, United Kingdom, United States",
          "Taiwan",
          "Thailand",
          "Turkey",
          "United Kingdom",
          "United Kingdom",
          "United Kingdom, United States",
          "United States",
          "United States",
          "United States, Canada",
          "United States, Canada, Germany",
          "United States, Czech Republic",
          "United States, Germany",
          "Uruguay, Argentina, Germany, Spain"
         ],
         "yaxis": "y"
        },
        {
         "hovertemplate": "release_year=2006<br>total count=%{x}<br>country=%{y}<extra></extra>",
         "legendgroup": "2006",
         "line": {
          "color": "#19d3f3",
          "dash": "solid"
         },
         "marker": {
          "symbol": "circle"
         },
         "mode": "lines",
         "name": "2006",
         "showlegend": true,
         "type": "scattergl",
         "x": [
          1,
          1,
          1,
          1,
          2,
          1,
          5,
          1,
          1,
          1,
          20,
          1,
          4,
          1,
          1,
          1,
          1,
          1,
          2,
          2,
          1,
          1,
          1,
          1,
          1,
          27,
          5,
          1,
          1,
          3,
          1,
          1,
          1,
          1
         ],
         "xaxis": "x",
         "y": [
          "Argentina",
          "Argentina, Chile",
          "Argentina, Spain",
          "Australia, United States",
          "Canada",
          "Canada, United States",
          "Egypt",
          "France, United States, Mexico",
          "Germany",
          "Hong Kong, China",
          "India",
          "Japan",
          "Japan",
          "Malaysia",
          "Mexico, Spain",
          "Netherlands",
          "Philippines",
          "Saudi Arabia, United Arab Emirates",
          "Turkey",
          "United Kingdom",
          "United Kingdom, Czech Republic, United States, Germany, Bahamas",
          "United Kingdom, Thailand",
          "United Kingdom, United States",
          "United Kingdom, United States",
          "United Kingdom, United States, France, Italy",
          "United States",
          "United States",
          "United States, Canada",
          "United States, Czech Republic",
          "United States, Germany",
          "United States, Hong Kong",
          "United States, Malta, France, United Kingdom",
          "United States, Mexico",
          "United States, United Kingdom"
         ],
         "yaxis": "y"
        },
        {
         "hovertemplate": "release_year=2007<br>total count=%{x}<br>country=%{y}<extra></extra>",
         "legendgroup": "2007",
         "line": {
          "color": "#FF6692",
          "dash": "solid"
         },
         "marker": {
          "symbol": "circle"
         },
         "mode": "lines",
         "name": "2007",
         "showlegend": true,
         "type": "scattergl",
         "x": [
          1,
          1,
          2,
          1,
          1,
          2,
          1,
          1,
          1,
          1,
          1,
          1,
          1,
          16,
          1,
          1,
          1,
          1,
          1,
          1,
          2,
          1,
          1,
          1,
          29,
          4,
          1,
          3,
          1,
          1,
          3,
          1,
          1,
          1
         ],
         "xaxis": "x",
         "y": [
          "Argentina",
          "Australia",
          "Canada",
          "Colombia",
          "Denmark",
          "Egypt",
          "France, Belgium",
          "France, Lebanon, United Kingdom",
          "Germany",
          "Germany, United States",
          "Hong Kong, China",
          "Hong Kong, Taiwan",
          "Hong Kong, United States",
          "India",
          "Japan",
          "Japan",
          "Mexico",
          "New Zealand, United Kingdom, Australia",
          "Norway",
          "Philippines",
          "Thailand",
          "United Kingdom, India",
          "United Kingdom, Ireland",
          "United Kingdom, United States",
          "United States",
          "United States",
          "United States, Australia",
          "United States, Canada",
          "United States, Germany",
          "United States, New Zealand, Japan",
          "United States, United Kingdom",
          "United States, United Kingdom",
          "United States, United Kingdom, Canada",
          "Venezuela, Colombia"
         ],
         "yaxis": "y"
        },
        {
         "hovertemplate": "release_year=2015<br>total count=%{x}<br>country=%{y}<extra></extra>",
         "legendgroup": "2015",
         "line": {
          "color": "#B6E880",
          "dash": "solid"
         },
         "marker": {
          "symbol": "circle"
         },
         "mode": "lines",
         "name": "2015",
         "showlegend": true,
         "type": "scattergl",
         "x": [
          2,
          2,
          1,
          5,
          4,
          1,
          1,
          1,
          1,
          3,
          11,
          2,
          1,
          1,
          1,
          1,
          2,
          1,
          1,
          1,
          1,
          1,
          1,
          1,
          2,
          1,
          1,
          1,
          1,
          1,
          1,
          1,
          2,
          1,
          8,
          2,
          3,
          1,
          1,
          1,
          1,
          1,
          1,
          4,
          1,
          1,
          1,
          1,
          1,
          53,
          9,
          1,
          1,
          2,
          4,
          1,
          1,
          1,
          1,
          1,
          1,
          1,
          2,
          1,
          1,
          2,
          9,
          1,
          1,
          1,
          1,
          2,
          1,
          1,
          5,
          1,
          1,
          3,
          1,
          1,
          2,
          5,
          1,
          2,
          1,
          1,
          10,
          1,
          1,
          1,
          4,
          1,
          1,
          1,
          1,
          2,
          2,
          1,
          11,
          1,
          10,
          1,
          1,
          1,
          8,
          2,
          2,
          10,
          3,
          1,
          1,
          1,
          17,
          19,
          1,
          2,
          1,
          2,
          1,
          1,
          1,
          1,
          1,
          2,
          1,
          1,
          1,
          113,
          32,
          1,
          2,
          3,
          1,
          1,
          1,
          1,
          2,
          1,
          1,
          1,
          1,
          1,
          1,
          1,
          1,
          1,
          1,
          1,
          1,
          1,
          1,
          1,
          1,
          1
         ],
         "xaxis": "x",
         "y": [
          "Argentina",
          "Argentina",
          "Argentina, Chile, Peru",
          "Australia",
          "Australia",
          "Australia, Iraq",
          "Australia, United Kingdom, United Arab Emirates, Canada",
          "Australia, United States",
          "Belgium",
          "Brazil",
          "Canada",
          "Canada",
          "Canada, Australia",
          "Canada, Mexico, Germany, South Africa",
          "Canada, Nigeria, United States",
          "Canada, United Kingdom, Netherlands",
          "Canada, United States",
          "Canada, United States",
          "Canada, United States, France",
          "Canada, United States, Mexico",
          "Canada, United States, United Kingdom",
          "Chile",
          "Chile",
          "Chile, Spain, Argentina, Germany",
          "China",
          "China, Germany, India, United States",
          "China, Hong Kong",
          "China, South Korea, United States",
          "Colombia",
          "Croatia, Slovenia, Serbia, Montenegro",
          "Denmark",
          "Denmark, United Kingdom, Sweden",
          "Egypt",
          "Egypt",
          "France",
          "France",
          "France, Belgium",
          "France, Canada, Belgium",
          "France, Canada, Italy, United States, China",
          "France, Germany",
          "France, Malta, United States",
          "France, Morocco",
          "France, United States, Canada",
          "Germany",
          "Germany, Australia, France, China",
          "Germany, France, Luxembourg, United Kingdom, United States",
          "Hong Kong",
          "Hong Kong, China, United States",
          "Iceland",
          "India",
          "India",
          "India, France",
          "India, Germany",
          "India, United States",
          "Indonesia",
          "Indonesia",
          "Ireland",
          "Ireland, Canada, United Kingdom, United States",
          "Ireland, United Kingdom, Greece, France, Netherlands",
          "Israel",
          "Israel, Sweden, Germany, Netherlands",
          "Israel, United States",
          "Italy",
          "Italy",
          "Italy, France",
          "Japan",
          "Japan",
          "Japan, Canada",
          "Japan, United States",
          "Japan, United States",
          "Lebanon, Qatar",
          "Malaysia",
          "Malaysia",
          "Malaysia, Singapore, Hong Kong",
          "Mexico",
          "Mexico",
          "Mexico, France",
          "Netherlands",
          "Netherlands, Belgium, United Kingdom, United States",
          "Netherlands, Denmark, South Africa",
          "New Zealand",
          "Nigeria",
          "Nigeria",
          "Pakistan",
          "Pakistan, United States",
          "Peru",
          "Philippines",
          "Poland",
          "Romania",
          "Romania, Bulgaria, Hungary",
          "Russia",
          "Russia, Spain",
          "Russia, United States, China",
          "Singapore",
          "Singapore",
          "South Africa",
          "South Africa, United States",
          "South Korea",
          "South Korea",
          "South Korea, China, United States",
          "Spain",
          "Spain",
          "Spain, France, Uruguay",
          "Switzerland",
          "Taiwan",
          "Thailand",
          "Thailand",
          "Turkey",
          "Turkey",
          "Ukraine",
          "United Arab Emirates",
          "United Arab Emirates, Jordan",
          "United Kingdom",
          "United Kingdom",
          "United Kingdom, Canada, United States",
          "United Kingdom, France",
          "United Kingdom, France",
          "United Kingdom, France, United States",
          "United Kingdom, Lithuania",
          "United Kingdom, New Zealand",
          "United Kingdom, Russia, United States",
          "United Kingdom, South Korea",
          "United Kingdom, Ukraine, United States",
          "United Kingdom, United States",
          "United Kingdom, United States",
          "United Kingdom, United States, Australia",
          "United Kingdom, United States, Germany, Denmark, Belgium, Japan",
          "United States",
          "United States",
          "United States, Argentina",
          "United States, Australia",
          "United States, Canada",
          "United States, Canada",
          "United States, Canada, Japan, Panama",
          "United States, Chile",
          "United States, Chile, Israel",
          "United States, India",
          "United States, Indonesia",
          "United States, Ireland, United Kingdom, India",
          "United States, Morocco",
          "United States, Nicaragua",
          "United States, Senegal",
          "United States, Spain, Germany",
          "United States, Sweden",
          "United States, Switzerland",
          "United States, Thailand",
          "United States, United Arab Emirates",
          "United States, United Kingdom",
          "United States, United Kingdom, Canada",
          "United States, United Kingdom, France",
          "United States, United Kingdom, Morocco",
          "United States, United Kingdom, Spain, South Korea",
          "United States, Uruguay",
          "Vietnam"
         ],
         "yaxis": "y"
        },
        {
         "hovertemplate": "release_year=2016<br>total count=%{x}<br>country=%{y}<extra></extra>",
         "legendgroup": "2016",
         "line": {
          "color": "#FF97FF",
          "dash": "solid"
         },
         "marker": {
          "symbol": "circle"
         },
         "mode": "lines",
         "name": "2016",
         "showlegend": true,
         "type": "scattergl",
         "x": [
          6,
          1,
          1,
          6,
          10,
          1,
          1,
          1,
          2,
          1,
          1,
          5,
          1,
          1,
          1,
          15,
          12,
          1,
          1,
          1,
          1,
          1,
          1,
          5,
          1,
          2,
          2,
          1,
          1,
          1,
          1,
          6,
          2,
          4,
          1,
          1,
          2,
          1,
          1,
          1,
          1,
          2,
          1,
          1,
          1,
          5,
          1,
          1,
          1,
          12,
          2,
          5,
          1,
          1,
          1,
          1,
          1,
          1,
          1,
          1,
          8,
          1,
          1,
          2,
          4,
          1,
          2,
          1,
          72,
          1,
          1,
          1,
          8,
          3,
          1,
          1,
          1,
          1,
          1,
          1,
          1,
          1,
          1,
          3,
          2,
          1,
          1,
          1,
          7,
          12,
          3,
          1,
          14,
          4,
          1,
          1,
          1,
          1,
          1,
          1,
          4,
          13,
          1,
          2,
          1,
          1,
          4,
          1,
          9,
          1,
          1,
          1,
          1,
          1,
          1,
          1,
          2,
          1,
          1,
          3,
          1,
          6,
          23,
          1,
          1,
          1,
          14,
          2,
          1,
          1,
          1,
          1,
          1,
          2,
          1,
          2,
          1,
          8,
          1,
          3,
          7,
          4,
          1,
          1,
          2,
          1,
          36,
          26,
          1,
          1,
          1,
          1,
          1,
          1,
          1,
          1,
          1,
          1,
          1,
          1,
          1,
          1,
          1,
          1,
          1,
          1,
          1,
          7,
          210,
          53,
          1,
          1,
          1,
          1,
          5,
          1,
          1,
          2,
          1,
          1,
          2,
          1,
          1,
          1,
          1,
          1,
          1,
          1,
          1,
          1,
          1,
          2,
          1,
          1,
          1,
          1
         ],
         "xaxis": "x",
         "y": [
          "Argentina",
          "Argentina",
          "Argentina, Spain",
          "Australia",
          "Australia",
          "Australia, India",
          "Austria",
          "Belarus",
          "Belgium, France",
          "Belgium, France, Netherlands",
          "Belgium, Ireland, Netherlands, Germany, Afghanistan",
          "Brazil",
          "Brazil",
          "Brazil, Netherlands, United States, Colombia, Austria, Germany",
          "Bulgaria, United States",
          "Canada",
          "Canada",
          "Canada, France",
          "Canada, India, Thailand, United States, United Arab Emirates",
          "Canada, Ireland, United States",
          "Canada, Spain",
          "Canada, United Kingdom",
          "Canada, United Kingdom, United States",
          "Canada, United States",
          "Canada, United States",
          "Canada, United States, United Kingdom",
          "Chile",
          "Chile",
          "Chile, Argentina, France, Spain, United States",
          "Chile, France",
          "Chile, United States, France",
          "China",
          "China",
          "China, Hong Kong",
          "China, Hong Kong, United States",
          "China, United States",
          "Colombia",
          "Colombia, Mexico, United States",
          "Czech Republic, France",
          "Czech Republic, Slovakia",
          "Denmark",
          "Denmark",
          "Denmark, China",
          "Denmark, Spain",
          "Denmark, United States",
          "Egypt",
          "Egypt",
          "Egypt, France",
          "Finland, Sweden, Norway, Latvia, Germany",
          "France",
          "France",
          "France, Belgium",
          "France, Canada",
          "France, Canada, China, Cambodia",
          "France, Canada, United States",
          "France, Germany, Czech Republic, Belgium",
          "France, Qatar",
          "France, South Korea, Japan",
          "France, United Kingdom, United States",
          "France, United States, United Kingdom, Canada",
          "Germany",
          "Germany",
          "Germany, Jordan, Netherlands",
          "Germany, United States",
          "Hong Kong",
          "Hong Kong, Canada, United States",
          "Hong Kong, China",
          "Hungary",
          "India",
          "India",
          "India, United Kingdom",
          "India, United States",
          "Indonesia",
          "Ireland",
          "Ireland",
          "Ireland, South Africa",
          "Ireland, United Kingdom",
          "Ireland, United Kingdom, Italy, United States",
          "Ireland, United Kingdom, United States",
          "Ireland, United States, United Kingdom",
          "Israel",
          "Israel",
          "Israel, Germany, France",
          "Italy",
          "Italy",
          "Italy, France",
          "Italy, Germany",
          "Italy, India",
          "Japan",
          "Japan",
          "Japan, United States",
          "Malaysia",
          "Mexico",
          "Mexico",
          "Mexico, Spain",
          "Mexico, United States",
          "Netherlands",
          "Netherlands, Belgium",
          "Netherlands, Belgium, Germany, Jordan",
          "Netherlands, Denmark, France, Germany",
          "New Zealand",
          "Nigeria",
          "Nigeria",
          "Norway",
          "Norway",
          "Norway, Germany",
          "Pakistan",
          "Peru, United States, United Kingdom",
          "Philippines",
          "Philippines, Qatar",
          "Portugal, France, Poland, United States",
          "Portugal, Spain",
          "Romania",
          "Russia",
          "Saudi Arabia",
          "Serbia, South Korea, Slovenia",
          "Singapore",
          "Singapore, France",
          "Slovenia, Croatia, Germany, Czech Republic, Qatar",
          "South Africa",
          "South Africa, United States, Germany",
          "South Korea",
          "South Korea",
          "South Korea, Canada, United States, China",
          "South Korea, China",
          "South Korea, France",
          "Spain",
          "Spain",
          "Spain, Argentina",
          "Spain, Cuba",
          "Spain, Italy, Argentina",
          "Spain, Mexico",
          "Spain, Switzerland",
          "Sweden",
          "Sweden",
          "Sweden, United States",
          "Switzerland, France",
          "Taiwan",
          "Thailand",
          "Thailand",
          "Turkey",
          "Turkey",
          "Turkey, France, Germany, Poland",
          "Turkey, India",
          "United Arab Emirates",
          "United Arab Emirates, Romania",
          "United Kingdom",
          "United Kingdom",
          "United Kingdom, Canada, Italy",
          "United Kingdom, Canada, United States",
          "United Kingdom, Finland, Germany, United States, Australia, Japan, France, Ireland",
          "United Kingdom, France",
          "United Kingdom, France, Belgium",
          "United Kingdom, France, Germany",
          "United Kingdom, France, Germany, United States",
          "United Kingdom, France, United States, Belgium, Luxembourg, China, Germany",
          "United Kingdom, Germany, Canada",
          "United Kingdom, Germany, United Arab Emirates, New Zealand",
          "United Kingdom, Hong Kong",
          "United Kingdom, Israel, Russia",
          "United Kingdom, Italy, Israel, Peru, United States",
          "United Kingdom, Jordan, Qatar, Iran",
          "United Kingdom, Poland, United States",
          "United Kingdom, Russia",
          "United Kingdom, South Africa",
          "United Kingdom, Spain, Belgium",
          "United Kingdom, Spain, United States",
          "United Kingdom, United States",
          "United States",
          "United States",
          "United States, Botswana",
          "United States, Bulgaria",
          "United States, Cambodia",
          "United States, Cambodia, Romania",
          "United States, Canada",
          "United States, Canada, China",
          "United States, Canada, Ireland",
          "United States, China",
          "United States, France",
          "United States, France, South Korea, Indonesia",
          "United States, Greece",
          "United States, Greece, Brazil",
          "United States, Hong Kong",
          "United States, Hungary",
          "United States, India, United Kingdom",
          "United States, Ireland",
          "United States, Ireland",
          "United States, Italy",
          "United States, Kazakhstan",
          "United States, Mexico",
          "United States, South Korea, China",
          "United States, Spain",
          "United States, Sweden",
          "United States, United Kingdom, Japan",
          "United States, Venezuela",
          "Vietnam"
         ],
         "yaxis": "y"
        },
        {
         "hovertemplate": "release_year=2017<br>total count=%{x}<br>country=%{y}<extra></extra>",
         "legendgroup": "2017",
         "line": {
          "color": "#FECB52",
          "dash": "solid"
         },
         "marker": {
          "symbol": "circle"
         },
         "mode": "lines",
         "name": "2017",
         "showlegend": true,
         "type": "scattergl",
         "x": [
          2,
          2,
          1,
          1,
          1,
          1,
          1,
          2,
          1,
          4,
          5,
          1,
          1,
          1,
          2,
          1,
          1,
          1,
          1,
          3,
          8,
          1,
          1,
          1,
          2,
          1,
          1,
          22,
          4,
          1,
          1,
          1,
          8,
          1,
          1,
          1,
          1,
          7,
          4,
          2,
          3,
          1,
          1,
          1,
          1,
          1,
          1,
          1,
          1,
          11,
          2,
          11,
          6,
          3,
          1,
          1,
          1,
          1,
          1,
          1,
          5,
          1,
          1,
          1,
          1,
          1,
          1,
          1,
          1,
          1,
          1,
          1,
          1,
          1,
          98,
          3,
          1,
          1,
          1,
          7,
          1,
          3,
          1,
          1,
          2,
          1,
          3,
          1,
          1,
          1,
          1,
          1,
          1,
          10,
          19,
          1,
          1,
          3,
          1,
          3,
          10,
          2,
          2,
          1,
          1,
          1,
          1,
          1,
          1,
          13,
          2,
          1,
          4,
          1,
          2,
          1,
          8,
          1,
          2,
          3,
          1,
          1,
          1,
          1,
          3,
          1,
          1,
          1,
          1,
          8,
          23,
          1,
          18,
          6,
          1,
          1,
          1,
          1,
          1,
          1,
          2,
          1,
          1,
          1,
          7,
          3,
          2,
          1,
          7,
          1,
          1,
          1,
          1,
          35,
          31,
          1,
          2,
          1,
          1,
          1,
          1,
          1,
          1,
          1,
          1,
          1,
          1,
          2,
          2,
          1,
          1,
          284,
          68,
          1,
          1,
          1,
          1,
          3,
          3,
          1,
          2,
          1,
          1,
          1,
          1,
          1,
          1,
          2,
          1,
          1,
          1,
          3,
          1,
          1,
          1,
          1,
          1
         ],
         "xaxis": "x",
         "y": [
          "Argentina",
          "Argentina",
          "Argentina, Brazil, France, Poland, Germany, Denmark",
          "Argentina, Chile",
          "Argentina, France",
          "Argentina, France, United States, Germany, Qatar",
          "Argentina, Italy",
          "Argentina, Spain",
          "Argentina, Uruguay, Spain, France",
          "Australia",
          "Australia",
          "Australia, Armenia, Japan, Jordan, Mexico, Mongolia, New Zealand, Philippines, South Africa, Sweden, United States, Uruguay",
          "Australia, Canada",
          "Australia, New Zealand, United States",
          "Australia, United Arab Emirates",
          "Australia, United States",
          "Austria",
          "Austria, United States",
          "Bangladesh",
          "Belgium",
          "Brazil",
          "Brazil",
          "Brazil, France",
          "Brazil, India, China, United States",
          "Bulgaria, United States",
          "Cambodia",
          "Cambodia, United States",
          "Canada",
          "Canada",
          "Canada, Germany, South Africa",
          "Canada, India",
          "Canada, Japan, Netherlands",
          "Canada, United States",
          "Canada, United States",
          "Canada, United States, France",
          "Chile",
          "Chile, Peru",
          "China",
          "China",
          "China, Canada, United States",
          "China, Hong Kong",
          "China, India, Nepal",
          "Colombia",
          "Colombia",
          "Cyprus",
          "Czech Republic, United Kingdom, United States",
          "Czech Republic, United States",
          "Denmark",
          "Denmark, Sweden, Israel, United States",
          "Egypt",
          "Egypt",
          "France",
          "France",
          "France, Belgium",
          "France, Belgium",
          "France, Belgium, China, United States",
          "France, Canada",
          "France, Japan",
          "France, Netherlands, South Africa, Finland",
          "Georgia, Germany, France",
          "Germany",
          "Germany",
          "Germany, Australia",
          "Germany, Belgium",
          "Germany, France, Russia",
          "Germany, Italy",
          "Germany, United Kingdom",
          "Ghana",
          "Greece, United States",
          "Guatemala",
          "Hong Kong",
          "Hong Kong, China",
          "Hungary",
          "Iceland",
          "India",
          "India",
          "India, France",
          "India, Mexico",
          "India, United States",
          "Indonesia",
          "Indonesia, Netherlands",
          "Ireland",
          "Ireland, Canada, Luxembourg, United States, United Kingdom, Philippines, India",
          "Ireland, United Kingdom",
          "Israel",
          "Israel, Germany",
          "Italy",
          "Italy",
          "Italy, France, Switzerland",
          "Italy, Turkey",
          "Italy, United States",
          "Italy, United States",
          "Italy, United States, Argentina",
          "Japan",
          "Japan",
          "Japan, United States",
          "Kuwait, United States",
          "Lebanon",
          "Lebanon",
          "Malaysia",
          "Mexico",
          "Mexico",
          "Mexico, United States",
          "Netherlands",
          "Netherlands",
          "Netherlands, Germany, Denmark, United Kingdom",
          "Netherlands, Germany, Italy, Canada",
          "Netherlands, United States",
          "New Zealand, United Kingdom",
          "Nigeria",
          "Nigeria",
          "Norway, Germany, Sweden",
          "Pakistan",
          "Pakistan",
          "Peru",
          "Peru, Germany, Norway",
          "Philippines",
          "Philippines",
          "Poland",
          "Russia",
          "Saudi Arabia, Syria, Egypt, Lebanon, Kuwait",
          "Serbia, United States",
          "Singapore, United States",
          "Somalia, Kenya, Sudan, South Africa, United States",
          "South Africa",
          "South Africa",
          "South Africa, China, United States",
          "South Africa, Germany, Netherlands, France",
          "South Africa, Nigeria",
          "South Korea",
          "South Korea",
          "South Korea, United States",
          "Spain",
          "Spain",
          "Spain, Argentina",
          "Spain, Canada, United States",
          "Spain, Colombia",
          "Spain, Germany",
          "Spain, Mexico",
          "Spain, United Kingdom",
          "Sweden",
          "Sweden, Netherlands",
          "Switzerland, France, Belgium, United States",
          "Switzerland, United States",
          "Taiwan",
          "Thailand",
          "Thailand",
          "Thailand, United States",
          "Turkey",
          "Turkey",
          "Turkey, United States",
          "Ukraine",
          "United Arab Emirates, United States, United Kingdom",
          "United Kingdom",
          "United Kingdom",
          "United Kingdom, Canada, Japan",
          "United Kingdom, Canada, United States",
          "United Kingdom, China, United States, India",
          "United Kingdom, France, Belgium, Canada, United States",
          "United Kingdom, France, Belgium, United States",
          "United Kingdom, France, United States, Belgium",
          "United Kingdom, India, Sweden",
          "United Kingdom, India, United States",
          "United Kingdom, Ireland",
          "United Kingdom, Namibia, South Africa, Zimbabwe, United States",
          "United Kingdom, Nigeria",
          "United Kingdom, Singapore",
          "United Kingdom, United States",
          "United Kingdom, United States",
          "United Kingdom, United States, Canada",
          "United Kingdom, United States, Dominican Republic",
          "United States",
          "United States",
          "United States, Australia, China",
          "United States, Australia, Samoa, United Kingdom",
          "United States, Australia, South Africa, United Kingdom",
          "United States, Bulgaria",
          "United States, Canada",
          "United States, Canada",
          "United States, Canada, Indonesia, United Kingdom, China, Singapore",
          "United States, China",
          "United States, China, Hong Kong",
          "United States, Colombia, Mexico",
          "United States, Denmark",
          "United States, Iceland",
          "United States, Japan",
          "United States, Japan",
          "United States, Mexico",
          "United States, South Africa",
          "United States, South Korea, Japan",
          "United States, Sweden",
          "United States, United Kingdom",
          "United States, United Kingdom",
          "United States, United Kingdom, Australia",
          "Uruguay",
          "Venezuela",
          "Zimbabwe"
         ],
         "yaxis": "y"
        },
        {
         "hovertemplate": "release_year=2018<br>total count=%{x}<br>country=%{y}<extra></extra>",
         "legendgroup": "2018",
         "line": {
          "color": "#636efa",
          "dash": "solid"
         },
         "marker": {
          "symbol": "circle"
         },
         "mode": "lines",
         "name": "2018",
         "showlegend": true,
         "type": "scattergl",
         "x": [
          8,
          2,
          2,
          1,
          6,
          8,
          1,
          2,
          1,
          2,
          1,
          1,
          8,
          5,
          1,
          27,
          9,
          1,
          1,
          2,
          5,
          2,
          1,
          3,
          1,
          4,
          6,
          1,
          2,
          1,
          1,
          1,
          1,
          1,
          6,
          3,
          1,
          1,
          1,
          1,
          2,
          3,
          8,
          6,
          1,
          1,
          8,
          11,
          6,
          1,
          1,
          1,
          1,
          1,
          1,
          2,
          1,
          3,
          2,
          1,
          1,
          1,
          1,
          1,
          1,
          1,
          1,
          1,
          81,
          13,
          1,
          1,
          1,
          1,
          1,
          13,
          1,
          1,
          1,
          2,
          1,
          1,
          1,
          1,
          2,
          1,
          1,
          3,
          1,
          1,
          1,
          10,
          30,
          1,
          1,
          1,
          1,
          1,
          2,
          6,
          11,
          4,
          1,
          1,
          1,
          2,
          4,
          1,
          3,
          1,
          16,
          2,
          1,
          1,
          2,
          3,
          1,
          1,
          1,
          9,
          1,
          1,
          1,
          1,
          1,
          2,
          1,
          1,
          1,
          2,
          1,
          11,
          17,
          1,
          2,
          25,
          8,
          1,
          4,
          1,
          1,
          1,
          1,
          1,
          3,
          4,
          1,
          2,
          4,
          6,
          3,
          1,
          3,
          1,
          1,
          26,
          29,
          1,
          1,
          1,
          1,
          1,
          1,
          1,
          1,
          1,
          1,
          1,
          1,
          1,
          11,
          3,
          1,
          246,
          110,
          1,
          1,
          1,
          1,
          3,
          3,
          1,
          1,
          2,
          2,
          1,
          1,
          1,
          1,
          1,
          1,
          1,
          1,
          1,
          5,
          1,
          1
         ],
         "xaxis": "x",
         "y": [
          "Argentina",
          "Argentina",
          "Argentina, Spain",
          "Argentina, Uruguay, Serbia",
          "Australia",
          "Australia",
          "Australia, Canada",
          "Australia, United States",
          "Austria, Iraq, United States",
          "Bangladesh",
          "Belgium",
          "Belgium, United Kingdom, United States",
          "Brazil",
          "Brazil",
          "Bulgaria",
          "Canada",
          "Canada",
          "Canada, Belgium",
          "Canada, Japan, United States",
          "Canada, South Africa",
          "Canada, United States",
          "Canada, United States",
          "Canada, United States, Germany",
          "Chile",
          "Chile, Argentina",
          "China",
          "China",
          "China, Canada, United States",
          "China, Hong Kong",
          "China, Japan",
          "China, Morocco, Hong Kong",
          "China, United Kingdom",
          "China, United States, Australia",
          "China, United States, United Kingdom",
          "Colombia",
          "Colombia",
          "Colombia, Mexico",
          "Colombia, Peru, United Kingdom",
          "Croatia",
          "Czech Republic, United States",
          "Denmark",
          "Denmark",
          "Egypt",
          "Egypt",
          "Egypt, Austria, United States",
          "Finland",
          "France",
          "France",
          "France, Belgium",
          "France, Belgium, Luxembourg, Cambodia,",
          "France, Belgium, Luxembourg, Romania, Canada, United States",
          "France, Canada",
          "France, China, Japan, United States",
          "France, Iran, United States",
          "France, Luxembourg, United States",
          "France, United States",
          "Georgia",
          "Germany",
          "Germany",
          "Germany, United States, Sweden",
          "Ghana",
          "Ghana, United States",
          "Hong Kong",
          "Hong Kong, China",
          "Hong Kong, Iceland, United States",
          "Hong Kong, United States",
          "Hungary",
          "Iceland, Sweden, Belgium",
          "India",
          "India",
          "India, France",
          "India, Germany, Austria",
          "India, Iran",
          "India, Nepal",
          "India, United States",
          "Indonesia",
          "Indonesia, Singapore",
          "Indonesia, South Korea, Singapore",
          "Indonesia, United States",
          "Ireland",
          "Ireland, Canada",
          "Ireland, Luxembourg, Belgium",
          "Ireland, Switzerland, United Kingdom, France, United States",
          "Ireland, United States, France",
          "Israel",
          "Israel",
          "Israel, United States",
          "Italy",
          "Italy, Switzerland, Albania, Poland",
          "Italy, Switzerland, France, Germany",
          "Jamaica, United States",
          "Japan",
          "Japan",
          "Japan, Canada, United States",
          "Japan, United States",
          "Kenya",
          "Kuwait",
          "Lebanon",
          "Lebanon",
          "Malaysia",
          "Mexico",
          "Mexico",
          "Mexico, Argentina",
          "Mexico, Netherlands",
          "Mexico, United States",
          "Mexico, United States",
          "Netherlands",
          "Netherlands, Belgium",
          "New Zealand",
          "New Zealand",
          "Nigeria",
          "Nigeria",
          "Norway",
          "Norway, Denmark, Netherlands, Sweden",
          "Norway, Iceland, United States",
          "Pakistan",
          "Pakistan, United Arab Emirates",
          "Paraguay, Argentina",
          "Peru",
          "Philippines",
          "Poland",
          "Poland, United States",
          "Poland, United States",
          "Puerto Rico, United States, Colombia",
          "Romania, United Kingdom",
          "Russia",
          "Russia, Poland, Serbia",
          "Singapore",
          "Singapore, Japan, France",
          "South Africa",
          "South Africa, United States",
          "South Korea",
          "South Korea",
          "South Korea, Japan",
          "South Korea, United States",
          "Spain",
          "Spain",
          "Spain, Belgium",
          "Spain, France",
          "Spain, Italy",
          "Spain, Portugal",
          "Switzerland",
          "Switzerland, Vatican City, Italy, Germany, France",
          "Syria, France, Lebanon, Qatar",
          "Taiwan",
          "Taiwan",
          "Taiwan, China, France, United States",
          "Thailand",
          "Thailand",
          "Turkey",
          "Turkey",
          "Turkey, South Korea",
          "United Arab Emirates",
          "United Arab Emirates, United Kingdom, India",
          "United Arab Emirates, United States",
          "United Kingdom",
          "United Kingdom",
          "United Kingdom, Belgium",
          "United Kingdom, Canada",
          "United Kingdom, Canada, United States",
          "United Kingdom, Canada, United States, Cayman Islands",
          "United Kingdom, Canada, United States, Germany",
          "United Kingdom, France, United States",
          "United Kingdom, Germany",
          "United Kingdom, Ireland, United States",
          "United Kingdom, Kenya",
          "United Kingdom, Pakistan",
          "United Kingdom, Poland",
          "United Kingdom, South Africa, Australia, United States",
          "United Kingdom, Spain, United States, Germany",
          "United Kingdom, United States",
          "United Kingdom, United States",
          "United Kingdom, United States, Czech Republic",
          "United States",
          "United States",
          "United States,",
          "United States, Australia",
          "United States, Brazil, India, Uganda, China",
          "United States, Brazil, South Korea, Mexico, Japan, Germany",
          "United States, Canada",
          "United States, Canada",
          "United States, China, Canada",
          "United States, China, Colombia",
          "United States, Colombia",
          "United States, Czech Republic",
          "United States, France",
          "United States, Israel, United Kingdom, Canada",
          "United States, Japan, Canada",
          "United States, Mexico",
          "United States, Mexico, Spain, Malta",
          "United States, New Zealand",
          "United States, Nigeria",
          "United States, South Africa",
          "United States, Taiwan",
          "United States, United Kingdom",
          "Uruguay, Argentina, Spain",
          "Uruguay, Spain, Mexico"
         ],
         "yaxis": "y"
        },
        {
         "hovertemplate": "release_year=2019<br>total count=%{x}<br>country=%{y}<extra></extra>",
         "legendgroup": "2019",
         "line": {
          "color": "#EF553B",
          "dash": "solid"
         },
         "marker": {
          "symbol": "circle"
         },
         "mode": "lines",
         "name": "2019",
         "showlegend": true,
         "type": "scattergl",
         "x": [
          6,
          5,
          1,
          4,
          7,
          2,
          1,
          2,
          10,
          7,
          13,
          5,
          1,
          1,
          1,
          1,
          2,
          1,
          2,
          4,
          12,
          1,
          1,
          1,
          2,
          5,
          1,
          1,
          4,
          1,
          1,
          1,
          1,
          1,
          14,
          11,
          2,
          1,
          1,
          1,
          1,
          1,
          1,
          1,
          1,
          1,
          5,
          3,
          1,
          2,
          1,
          1,
          1,
          74,
          13,
          1,
          1,
          1,
          1,
          1,
          9,
          1,
          1,
          5,
          1,
          1,
          1,
          1,
          7,
          18,
          1,
          1,
          1,
          1,
          2,
          2,
          2,
          1,
          1,
          1,
          1,
          1,
          6,
          9,
          1,
          2,
          1,
          1,
          1,
          1,
          1,
          1,
          16,
          1,
          12,
          1,
          1,
          1,
          1,
          1,
          2,
          1,
          2,
          1,
          1,
          1,
          1,
          3,
          1,
          3,
          19,
          1,
          12,
          10,
          1,
          1,
          1,
          1,
          1,
          1,
          1,
          1,
          1,
          2,
          1,
          2,
          5,
          4,
          7,
          1,
          6,
          1,
          5,
          18,
          19,
          1,
          1,
          1,
          2,
          1,
          1,
          1,
          1,
          1,
          1,
          1,
          5,
          2,
          217,
          134,
          3,
          5,
          1,
          1,
          1,
          1,
          1,
          1,
          1,
          4,
          4,
          1,
          1,
          1,
          1,
          1,
          1,
          1,
          1,
          1,
          1,
          1,
          2
         ],
         "xaxis": "x",
         "y": [
          "Argentina",
          "Argentina",
          "Argentina, United States",
          "Australia",
          "Australia",
          "Australia, United States",
          "Austria",
          "Belgium",
          "Brazil",
          "Brazil",
          "Canada",
          "Canada",
          "Canada, Australia",
          "Canada, Brazil",
          "Canada, Germany",
          "Canada, Norway",
          "Canada, United States",
          "Canada, United States",
          "Chile",
          "China",
          "China",
          "China, Hong Kong",
          "China, Taiwan",
          "China, United Kingdom",
          "Colombia",
          "Colombia",
          "Denmark, France, Belgium, Italy, Netherlands, United States, United Kingdom",
          "Denmark, Singapore, Canada, United States",
          "Egypt",
          "Egypt",
          "Egypt, Saudi Arabia",
          "Finland, France",
          "Finland, Germany, Belgium",
          "Finland, United States",
          "France",
          "France",
          "France, Belgium",
          "France, Belgium",
          "France, Israel, Germany, United States, United Kingdom",
          "France, Luxembourg, Canada",
          "France, Netherlands, Singapore",
          "France, New Zealand",
          "France, Senegal, Belgium",
          "France, South Korea, Japan, United States",
          "France, United Kingdom",
          "France, United States",
          "Germany",
          "Germany",
          "Ghana",
          "Hong Kong",
          "Hong Kong",
          "Hong Kong, China",
          "Hungary",
          "India",
          "India",
          "India, Turkey",
          "India, United Kingdom, Canada, United States",
          "India, United Kingdom, China, Canada, Japan, South Korea, United States",
          "India, United States",
          "India, United States",
          "Indonesia",
          "Ireland, France, Iceland, United States, Mexico, Belgium, United Kingdom, Hong Kong",
          "Israel, United States",
          "Italy",
          "Italy",
          "Italy, Belgium",
          "Italy, France",
          "Italy, United Kingdom, France",
          "Japan",
          "Japan",
          "Japan, United States",
          "Japan, United States",
          "Jordan",
          "Kenya",
          "Kuwait",
          "Kuwait",
          "Lebanon",
          "Lebanon, Palestine, Denmark, Qatar",
          "Lebanon, Syria",
          "Luxembourg",
          "Malaysia",
          "Mauritius, South Africa",
          "Mexico",
          "Mexico",
          "Mexico, Finland",
          "Mexico, United States",
          "Mexico, United States, Spain, Colombia",
          "Mozambique",
          "Namibia",
          "Netherlands",
          "Netherlands",
          "New Zealand",
          "Nigeria",
          "Norway, Sweden",
          "Philippines",
          "Philippines, Singapore",
          "Philippines, United States",
          "Poland",
          "Poland",
          "Poland, United States",
          "Romania",
          "Romania, United States",
          "Russia",
          "Senegal",
          "Serbia, United States",
          "Singapore, Malaysia",
          "Singapore, United States",
          "South Africa",
          "South Africa",
          "South Korea",
          "South Korea",
          "South Korea, United States",
          "Spain",
          "Spain",
          "Spain, France",
          "Spain, France, Canada",
          "Spain, France, Canada, United States",
          "Spain, France, Italy",
          "Spain, France, United States",
          "Spain, Germany",
          "Spain, Italy",
          "Spain, United Kingdom",
          "Spain, United States",
          "Sweden",
          "Sweden, United States",
          "Taiwan",
          "Taiwan",
          "Thailand",
          "Thailand",
          "Thailand, China, United States",
          "Turkey",
          "Turkey",
          "United Arab Emirates",
          "United Kingdom",
          "United Kingdom",
          "United Kingdom, Australia, United States",
          "United Kingdom, Belgium",
          "United Kingdom, Belgium, Sweden",
          "United Kingdom, Canada",
          "United Kingdom, Canada, United States",
          "United Kingdom, Canada, United States",
          "United Kingdom, France, Belgium, Ireland, United States",
          "United Kingdom, Hungary, Australia",
          "United Kingdom, Italy",
          "United Kingdom, Japan, United States",
          "United Kingdom, Malawi",
          "United Kingdom, United States",
          "United Kingdom, United States",
          "United States",
          "United States",
          "United States, Canada",
          "United States, Canada",
          "United States, China",
          "United States, Colombia",
          "United States, France, Denmark",
          "United States, France, Japan",
          "United States, Germany",
          "United States, India, South Korea, China",
          "United States, Japan",
          "United States, Japan",
          "United States, Mexico",
          "United States, Mexico, Colombia",
          "United States, Norway, Canada",
          "United States, Philippines",
          "United States, Poland",
          "United States, South Korea",
          "United States, United Kingdom",
          "United States, United Kingdom",
          "United States, United Kingdom, Germany",
          "Uruguay",
          "Uruguay, Argentina",
          "Uruguay, Guatemala",
          "Vietnam"
         ],
         "yaxis": "y"
        },
        {
         "hovertemplate": "release_year=2020<br>total count=%{x}<br>country=%{y}<extra></extra>",
         "legendgroup": "2020",
         "line": {
          "color": "#00cc96",
          "dash": "solid"
         },
         "marker": {
          "symbol": "circle"
         },
         "mode": "lines",
         "name": "2020",
         "showlegend": true,
         "type": "scattergl",
         "x": [
          7,
          5,
          1,
          5,
          4,
          1,
          1,
          2,
          1,
          1,
          9,
          11,
          1,
          1,
          1,
          16,
          10,
          1,
          1,
          2,
          3,
          1,
          1,
          1,
          2,
          6,
          1,
          1,
          2,
          4,
          1,
          2,
          1,
          2,
          1,
          8,
          8,
          1,
          1,
          1,
          1,
          11,
          9,
          1,
          1,
          1,
          1,
          1,
          1,
          59,
          16,
          14,
          1,
          1,
          1,
          1,
          10,
          6,
          7,
          13,
          1,
          1,
          1,
          1,
          1,
          10,
          8,
          1,
          1,
          2,
          2,
          2,
          12,
          2,
          3,
          1,
          4,
          1,
          5,
          1,
          1,
          1,
          1,
          1,
          2,
          1,
          1,
          2,
          3,
          1,
          4,
          24,
          1,
          11,
          10,
          1,
          1,
          1,
          1,
          2,
          8,
          3,
          1,
          1,
          1,
          3,
          1,
          3,
          3,
          19,
          25,
          1,
          1,
          1,
          1,
          1,
          1,
          1,
          1,
          1,
          3,
          2,
          1,
          177,
          159,
          1,
          1,
          3,
          1,
          1,
          1,
          1,
          1,
          1,
          1,
          1,
          1,
          1,
          1,
          1,
          1
         ],
         "xaxis": "x",
         "y": [
          "Argentina",
          "Argentina",
          "Argentina, United States, Mexico",
          "Australia",
          "Australia",
          "Australia, Germany",
          "Australia, New Zealand",
          "Austria",
          "Austria, Germany",
          "Belgium, Netherlands",
          "Brazil",
          "Brazil",
          "Brazil, France",
          "Brazil, United Kingdom",
          "Cameroon",
          "Canada",
          "Canada",
          "Canada, Hungary, United States",
          "Canada, United Kingdom",
          "Canada, United States",
          "Canada, United States",
          "Canada, United States, United Kingdom",
          "Chile",
          "Chile, Italy",
          "China",
          "China",
          "China, Spain, South Korea, United States",
          "China, United States",
          "Colombia",
          "Colombia",
          "Denmark",
          "Denmark, United States",
          "Egypt",
          "Egypt",
          "Finland, Germany",
          "France",
          "France",
          "France, Algeria",
          "France, Australia, Germany",
          "France, Belgium",
          "France, Brazil, Spain, Belgium",
          "Germany",
          "Germany",
          "Germany, China, United Kingdom",
          "Germany, Czech Republic",
          "Germany, France",
          "Germany, United States",
          "Iceland",
          "Iceland",
          "India",
          "India",
          "Indonesia",
          "Indonesia",
          "Indonesia, United Kingdom",
          "Israel",
          "Israel, United States",
          "Italy",
          "Italy",
          "Japan",
          "Japan",
          "Japan, United States",
          "Japan, United States",
          "Kenya",
          "Lebanon",
          "Malaysia",
          "Mexico",
          "Mexico",
          "Mexico, Spain",
          "Mexico, Spain",
          "Mexico, United States",
          "Netherlands",
          "Netherlands",
          "Nigeria",
          "Norway",
          "Norway",
          "Pakistan, United States",
          "Philippines",
          "Philippines",
          "Poland",
          "Poland",
          "Poland, United States",
          "Portugal, Spain",
          "Portugal, United States",
          "Russia",
          "Saudi Arabia",
          "Saudi Arabia",
          "Singapore",
          "South Africa",
          "South Africa",
          "South Africa, Angola",
          "South Korea",
          "South Korea",
          "South Korea, United States",
          "Spain",
          "Spain",
          "Spain, Belgium, United States",
          "Spain, Germany",
          "Spain, Germany, Denmark, United States",
          "Sweden",
          "Sweden",
          "Taiwan",
          "Taiwan",
          "Taiwan, China",
          "Taiwan, Malaysia",
          "Thailand",
          "Thailand",
          "Thailand, United States",
          "Turkey",
          "Turkey",
          "United Kingdom",
          "United Kingdom",
          "United Kingdom,",
          "United Kingdom, Australia",
          "United Kingdom, China",
          "United Kingdom, France, Germany, Spain",
          "United Kingdom, Germany",
          "United Kingdom, Germany, United States, France",
          "United Kingdom, Ireland",
          "United Kingdom, Italy",
          "United Kingdom, Spain",
          "United Kingdom, United States",
          "United Kingdom, United States",
          "United Kingdom, United States, Ireland",
          "United States",
          "United States",
          "United States, Argentina",
          "United States, Bulgaria",
          "United States, Canada",
          "United States, Canada, United Kingdom",
          "United States, China, United Kingdom",
          "United States, France",
          "United States, France, Canada",
          "United States, India",
          "United States, Japan",
          "United States, Japan",
          "United States, South Korea, China",
          "United States, Thailand",
          "United States, United Kingdom",
          "United States, United Kingdom, India",
          "Uruguay",
          "Vietnam"
         ],
         "yaxis": "y"
        },
        {
         "hovertemplate": "release_year=1993<br>total count=%{x}<br>country=%{y}<extra></extra>",
         "legendgroup": "1993",
         "line": {
          "color": "#ab63fa",
          "dash": "solid"
         },
         "marker": {
          "symbol": "circle"
         },
         "mode": "lines",
         "name": "1993",
         "showlegend": true,
         "type": "scattergl",
         "x": [
          1,
          1,
          2,
          3,
          1,
          1,
          1,
          11,
          2,
          1,
          1,
          1,
          1
         ],
         "xaxis": "x",
         "y": [
          "Argentina, Spain",
          "France, United Kingdom, India",
          "Hong Kong",
          "India",
          "New Zealand, Australia, France, United States",
          "United Kingdom",
          "United Kingdom, United States",
          "United States",
          "United States",
          "United States, Canada",
          "United States, France, Mexico",
          "United States, Ghana, Burkina Faso, United Kingdom, Germany, Ethiopia",
          "United States, Italy, France, Japan"
         ],
         "yaxis": "y"
        },
        {
         "hovertemplate": "release_year=2013<br>total count=%{x}<br>country=%{y}<extra></extra>",
         "legendgroup": "2013",
         "line": {
          "color": "#FFA15A",
          "dash": "solid"
         },
         "marker": {
          "symbol": "circle"
         },
         "mode": "lines",
         "name": "2013",
         "showlegend": true,
         "type": "scattergl",
         "x": [
          1,
          1,
          1,
          3,
          1,
          1,
          1,
          1,
          1,
          1,
          1,
          1,
          5,
          2,
          1,
          2,
          2,
          2,
          51,
          3,
          1,
          3,
          1,
          1,
          1,
          5,
          5,
          1,
          1,
          1,
          1,
          2,
          1,
          1,
          1,
          6,
          1,
          1,
          1,
          2,
          5,
          1,
          2,
          1,
          1,
          6,
          1,
          6,
          3,
          1,
          5,
          10,
          1,
          1,
          1,
          1,
          3,
          1,
          71,
          14,
          3,
          1,
          1,
          1,
          1,
          1,
          1,
          1,
          1,
          1,
          1,
          1,
          1,
          1
         ],
         "xaxis": "x",
         "y": [
          "Argentina, Spain",
          "Australia",
          "Australia, France",
          "Brazil",
          "Canada",
          "Canada, Spain, France",
          "Canada, United States",
          "Chile",
          "Chile",
          "Denmark, France, United States, Sweden",
          "Denmark, Germany, Belgium, United Kingdom, France",
          "Denmark, Germany, Belgium, United Kingdom, France, Sweden",
          "Egypt",
          "France, Belgium",
          "France, Belgium, Spain",
          "Germany",
          "Hong Kong",
          "Hong Kong, China",
          "India",
          "India",
          "India, Switzerland",
          "Indonesia",
          "Israel, Germany, Poland, Luxembourg, Belgium, France, United States",
          "Italy",
          "Italy, France",
          "Japan",
          "Japan",
          "Lebanon",
          "Malaysia",
          "Mexico",
          "Mexico",
          "Nigeria",
          "Nigeria",
          "Norway",
          "Pakistan",
          "Philippines",
          "Russia",
          "Saudi Arabia",
          "Singapore",
          "South Africa",
          "South Korea",
          "South Korea, Czech Republic",
          "Spain",
          "Switzerland, United Kingdom, Australia",
          "Switzerland, United Kingdom, United States",
          "Taiwan",
          "Thailand",
          "Turkey",
          "Turkey",
          "Turkey, Azerbaijan",
          "United Kingdom",
          "United Kingdom",
          "United Kingdom, Egypt, United States",
          "United Kingdom, Germany, United States",
          "United Kingdom, India, United States",
          "United Kingdom, South Africa, France",
          "United Kingdom, United States",
          "United Kingdom, United States, France",
          "United States",
          "United States",
          "United States, Canada",
          "United States, Chile",
          "United States, China, Hong Kong",
          "United States, France",
          "United States, France, Canada, Belgium",
          "United States, Hungary, Ireland, Canada",
          "United States, India",
          "United States, India, France",
          "United States, Israel, Italy, South Africa",
          "United States, Italy",
          "United States, Russia",
          "United States, Spain",
          "United States, United Kingdom, Australia",
          "United States, United Kingdom, France, Germany, Japan"
         ],
         "yaxis": "y"
        },
        {
         "hovertemplate": "release_year=1981<br>total count=%{x}<br>country=%{y}<extra></extra>",
         "legendgroup": "1981",
         "line": {
          "color": "#19d3f3",
          "dash": "solid"
         },
         "marker": {
          "symbol": "circle"
         },
         "mode": "lines",
         "name": "1981",
         "showlegend": true,
         "type": "scattergl",
         "x": [
          1,
          1,
          1,
          1,
          1,
          1,
          5
         ],
         "xaxis": "x",
         "y": [
          "Australia",
          "Egypt",
          "Hong Kong",
          "India",
          "Japan",
          "Kuwait",
          "United States"
         ],
         "yaxis": "y"
        },
        {
         "hovertemplate": "release_year=1992<br>total count=%{x}<br>country=%{y}<extra></extra>",
         "legendgroup": "1992",
         "line": {
          "color": "#FF6692",
          "dash": "solid"
         },
         "marker": {
          "symbol": "circle"
         },
         "mode": "lines",
         "name": "1992",
         "showlegend": true,
         "type": "scattergl",
         "x": [
          1,
          1,
          1,
          3,
          1,
          1,
          1,
          1,
          2,
          6,
          2,
          1,
          1
         ],
         "xaxis": "x",
         "y": [
          "Australia",
          "Australia, United Kingdom",
          "France, United States",
          "Hong Kong",
          "India",
          "Mexico",
          "United Kingdom",
          "United Kingdom",
          "United Kingdom, Japan, United States",
          "United States",
          "United States",
          "United States, France",
          "United States, United Kingdom"
         ],
         "yaxis": "y"
        },
        {
         "hovertemplate": "release_year=1999<br>total count=%{x}<br>country=%{y}<extra></extra>",
         "legendgroup": "1999",
         "line": {
          "color": "#B6E880",
          "dash": "solid"
         },
         "marker": {
          "symbol": "circle"
         },
         "mode": "lines",
         "name": "1999",
         "showlegend": true,
         "type": "scattergl",
         "x": [
          1,
          1,
          1,
          2,
          6,
          1,
          1,
          1,
          1,
          1,
          1,
          1,
          14,
          3,
          1,
          1,
          1
         ],
         "xaxis": "x",
         "y": [
          "Australia",
          "France, Egypt",
          "France, Norway, Lebanon, Belgium",
          "Germany, United States",
          "India",
          "Japan",
          "Mexico",
          "Thailand",
          "Turkey",
          "United Kingdom",
          "United Kingdom",
          "United Kingdom, United States",
          "United States",
          "United States",
          "United States, France, Japan",
          "United States, Germany, Canada",
          "United States, Mexico"
         ],
         "yaxis": "y"
        },
        {
         "hovertemplate": "release_year=2005<br>total count=%{x}<br>country=%{y}<extra></extra>",
         "legendgroup": "2005",
         "line": {
          "color": "#FF97FF",
          "dash": "solid"
         },
         "marker": {
          "symbol": "circle"
         },
         "mode": "lines",
         "name": "2005",
         "showlegend": true,
         "type": "scattergl",
         "x": [
          1,
          1,
          1,
          1,
          1,
          1,
          20,
          1,
          1,
          1,
          1,
          1,
          1,
          2,
          1,
          2,
          1,
          1,
          1,
          1,
          1,
          1,
          19,
          6,
          1,
          1,
          1,
          1,
          2,
          1,
          1,
          1,
          1,
          1
         ],
         "xaxis": "x",
         "y": [
          "Australia",
          "China, Hong Kong",
          "Egypt",
          "France, Japan, United States",
          "Germany, United States",
          "Germany, United States, Canada",
          "India",
          "Indonesia",
          "Japan",
          "Japan",
          "Lebanon",
          "Romania",
          "Sweden, Czech Republic, United Kingdom, Denmark, Netherlands",
          "Taiwan",
          "Thailand",
          "Turkey",
          "Turkey",
          "United Kingdom",
          "United Kingdom, Czech Republic, Germany, United States",
          "United Kingdom, France, Germany, United States",
          "United Kingdom, United States",
          "United Kingdom, United States, Japan",
          "United States",
          "United States",
          "United States, Australia",
          "United States, Canada",
          "United States, Czech Republic, United Kingdom",
          "United States, France, United Kingdom, Japan",
          "United States, Germany",
          "United States, Germany, Australia",
          "United States, New Zealand",
          "United States, United Kingdom",
          "United States, United Kingdom",
          "United States, United Kingdom, Germany"
         ],
         "yaxis": "y"
        },
        {
         "hovertemplate": "release_year=2009<br>total count=%{x}<br>country=%{y}<extra></extra>",
         "legendgroup": "2009",
         "line": {
          "color": "#FECB52",
          "dash": "solid"
         },
         "marker": {
          "symbol": "circle"
         },
         "mode": "lines",
         "name": "2009",
         "showlegend": true,
         "type": "scattergl",
         "x": [
          1,
          1,
          1,
          1,
          1,
          4,
          1,
          1,
          2,
          1,
          3,
          27,
          1,
          3,
          1,
          3,
          1,
          1,
          1,
          3,
          1,
          3,
          1,
          1,
          6,
          2,
          1,
          1,
          2,
          1,
          1,
          1,
          2,
          37,
          5,
          2,
          1,
          2,
          1,
          1,
          1,
          1,
          1,
          1,
          2,
          2,
          1,
          2,
          1
         ],
         "xaxis": "x",
         "y": [
          "Australia",
          "Canada",
          "Canada",
          "Canada, United States",
          "Czech Republic, United Kingdom, France",
          "Egypt",
          "France",
          "France, Switzerland, Spain, United States, United Arab Emirates",
          "Germany, United States",
          "Germany, United States, France",
          "Hong Kong",
          "India",
          "India",
          "Indonesia",
          "Japan",
          "Japan",
          "Malaysia",
          "Nigeria",
          "Philippines",
          "Singapore",
          "South Africa, United States, New Zealand, Canada",
          "South Korea",
          "South Korea, United States",
          "Spain, United Kingdom, United States",
          "Taiwan",
          "Thailand",
          "Turkey",
          "Turkey",
          "United Kingdom",
          "United Kingdom, Australia, France",
          "United Kingdom, Canada",
          "United Kingdom, Canada, France, United States",
          "United Kingdom, United States",
          "United States",
          "United States",
          "United States, Canada",
          "United States, Canada, France",
          "United States, Germany",
          "United States, Germany, United Kingdom, Australia",
          "United States, Germany, United Kingdom, Italy",
          "United States, Italy",
          "United States, Japan",
          "United States, New Zealand",
          "United States, United Arab Emirates",
          "United States, United Kingdom",
          "United States, United Kingdom",
          "United States, United Kingdom, Australia",
          "United States, United Kingdom, France",
          "United States, United Kingdom, New Zealand"
         ],
         "yaxis": "y"
        },
        {
         "hovertemplate": "release_year=2011<br>total count=%{x}<br>country=%{y}<extra></extra>",
         "legendgroup": "2011",
         "line": {
          "color": "#636efa",
          "dash": "solid"
         },
         "marker": {
          "symbol": "circle"
         },
         "mode": "lines",
         "name": "2011",
         "showlegend": true,
         "type": "scattergl",
         "x": [
          1,
          2,
          1,
          1,
          1,
          1,
          8,
          1,
          1,
          1,
          1,
          1,
          1,
          29,
          1,
          1,
          4,
          1,
          1,
          1,
          3,
          5,
          1,
          1,
          1,
          1,
          3,
          1,
          4,
          4,
          3,
          3,
          6,
          1,
          1,
          1,
          2,
          1,
          2,
          1,
          47,
          9,
          1,
          6,
          1,
          1,
          1,
          2,
          1,
          1,
          1,
          1,
          1,
          2
         ],
         "xaxis": "x",
         "y": [
          "Australia",
          "Canada",
          "Canada",
          "Canada, United States, United Kingdom, France, Luxembourg",
          "China",
          "China, Hong Kong",
          "Egypt",
          "France",
          "France",
          "France, Belgium",
          "France, Belgium, United States",
          "Hong Kong",
          "Hong Kong, China",
          "India",
          "India",
          "India, Germany",
          "Indonesia",
          "Iran, France",
          "Ireland, United States",
          "Italy, Canada, France",
          "Japan",
          "Japan",
          "Malaysia",
          "Pakistan",
          "Philippines",
          "Singapore",
          "Singapore",
          "South Korea",
          "Taiwan",
          "Thailand",
          "Turkey",
          "United Kingdom",
          "United Kingdom",
          "United Kingdom, France",
          "United Kingdom, Germany, France, United States",
          "United Kingdom, Nigeria",
          "United Kingdom, United States",
          "United Kingdom, United States, France",
          "United Kingdom, United States, Spain, Germany, Greece, Canada",
          "United Kingdom, United States, Spain, Germany, Greece, Canada",
          "United States",
          "United States",
          "United States, Belgium, Canada, France",
          "United States, Canada",
          "United States, China",
          "United States, France, Japan",
          "United States, Germany",
          "United States, India",
          "United States, Italy",
          "United States, Japan",
          "United States, New Zealand, United Kingdom",
          "United States, Russia",
          "United States, Sweden, Norway",
          "United States, United Kingdom"
         ],
         "yaxis": "y"
        },
        {
         "hovertemplate": "release_year=2012<br>total count=%{x}<br>country=%{y}<extra></extra>",
         "legendgroup": "2012",
         "line": {
          "color": "#EF553B",
          "dash": "solid"
         },
         "marker": {
          "symbol": "circle"
         },
         "mode": "lines",
         "name": "2012",
         "showlegend": true,
         "type": "scattergl",
         "x": [
          2,
          1,
          1,
          1,
          3,
          1,
          1,
          2,
          2,
          1,
          9,
          1,
          1,
          1,
          1,
          36,
          2,
          1,
          1,
          1,
          2,
          4,
          1,
          1,
          2,
          1,
          1,
          1,
          3,
          1,
          1,
          1,
          2,
          2,
          1,
          1,
          10,
          1,
          1,
          5,
          3,
          3,
          2,
          7,
          1,
          2,
          1,
          1,
          2,
          1,
          59,
          11,
          1,
          6,
          1,
          1,
          1,
          3,
          1,
          1,
          1,
          1,
          1
         ],
         "xaxis": "x",
         "y": [
          "Australia",
          "Australia",
          "Brazil",
          "Brazil, United States",
          "Canada",
          "Canada, France, United States",
          "Canada, United States",
          "China",
          "Colombia",
          "Denmark",
          "Egypt",
          "France",
          "France",
          "France, United States",
          "Germany, United States, Hong Kong, Singapore",
          "India",
          "India",
          "Indonesia",
          "Indonesia, Singapore",
          "Israel",
          "Japan",
          "Japan",
          "Lebanon, United Arab Emirates",
          "Lebanon, United States, United Arab Emirates",
          "Mexico",
          "Nigeria",
          "Nigeria, United Kingdom",
          "Pakistan",
          "Philippines",
          "Philippines, Canada, United Kingdom, United States",
          "Saudi Arabia, Netherlands, Germany, Jordan, United Arab Emirates, United States",
          "Singapore",
          "Singapore",
          "South Africa",
          "South Africa, United States, Japan",
          "South Korea",
          "South Korea",
          "Spain, Thailand, United States",
          "Sweden, United Kingdom, Finland",
          "Taiwan",
          "Thailand",
          "Turkey",
          "United Kingdom",
          "United Kingdom",
          "United Kingdom, Denmark, Canada, Croatia",
          "United Kingdom, Germany",
          "United Kingdom, India",
          "United Kingdom, Norway, Denmark, Germany, Sweden",
          "United Kingdom, United States",
          "United Kingdom, United States, Spain, Germany, Greece, Canada",
          "United States",
          "United States",
          "United States, Brazil",
          "United States, Canada",
          "United States, Canada",
          "United States, Canada, Belgium, United Kingdom",
          "United States, Chile",
          "United States, France",
          "United States, India",
          "United States, India, Bangladesh",
          "United States, Mexico",
          "United States, Russia",
          "United States, United Kingdom"
         ],
         "yaxis": "y"
        },
        {
         "hovertemplate": "release_year=2010<br>total count=%{x}<br>country=%{y}<extra></extra>",
         "legendgroup": "2010",
         "line": {
          "color": "#00cc96",
          "dash": "solid"
         },
         "marker": {
          "symbol": "circle"
         },
         "mode": "lines",
         "name": "2010",
         "showlegend": true,
         "type": "scattergl",
         "x": [
          1,
          3,
          1,
          1,
          1,
          2,
          1,
          5,
          1,
          1,
          1,
          1,
          1,
          3,
          1,
          1,
          32,
          3,
          1,
          1,
          1,
          1,
          1,
          1,
          2,
          5,
          1,
          2,
          2,
          1,
          1,
          1,
          1,
          1,
          2,
          1,
          1,
          4,
          4,
          1,
          1,
          2,
          3,
          1,
          1,
          1,
          1,
          48,
          6,
          2,
          1,
          3,
          1,
          3,
          1,
          1,
          1,
          1,
          2,
          1,
          1
         ],
         "xaxis": "x",
         "y": [
          "Australia, France, Ireland",
          "Canada",
          "Canada",
          "Canada, Nigeria",
          "Canada, United States, India, United Kingdom",
          "China",
          "Colombia",
          "Egypt",
          "France",
          "France, United Kingdom, United States",
          "France, United States",
          "Germany, France, United States, Canada, United Kingdom",
          "Germany, Sri Lanka",
          "Hong Kong",
          "Hong Kong, China",
          "Hong Kong, China, Singapore",
          "India",
          "India",
          "India, Australia",
          "India, Germany, France",
          "India, Japan",
          "India, Pakistan",
          "India, United States",
          "Ireland, Canada, United States, United Kingdom",
          "Japan",
          "Japan",
          "Japan, United States",
          "Lebanon",
          "Mexico",
          "Mexico, United States",
          "Nigeria",
          "Philippines",
          "Romania, France, Switzerland, Germany",
          "South Africa",
          "South Korea",
          "Spain, Mexico, France",
          "Taiwan",
          "Thailand",
          "Turkey",
          "Turkey",
          "Turkey, United States",
          "United Kingdom",
          "United Kingdom",
          "United Kingdom, Australia, Canada, United States",
          "United Kingdom, France, Spain, United States",
          "United Kingdom, France, United States",
          "United Kingdom, United States, Australia",
          "United States",
          "United States",
          "United States, Australia",
          "United States, Australia, Mexico",
          "United States, Canada",
          "United States, Canada",
          "United States, France",
          "United States, France, Italy, United Kingdom",
          "United States, Ireland",
          "United States, Japan",
          "United States, Nigeria",
          "United States, United Kingdom",
          "United States, United Kingdom, Australia",
          "United States, United Kingdom, Canada, Japan"
         ],
         "yaxis": "y"
        },
        {
         "hovertemplate": "release_year=1979<br>total count=%{x}<br>country=%{y}<extra></extra>",
         "legendgroup": "1979",
         "line": {
          "color": "#ab63fa",
          "dash": "solid"
         },
         "marker": {
          "symbol": "circle"
         },
         "mode": "lines",
         "name": "1979",
         "showlegend": true,
         "type": "scattergl",
         "x": [
          1,
          1,
          1,
          2,
          1,
          1,
          1,
          1,
          2
         ],
         "xaxis": "x",
         "y": [
          "Australia, United States",
          "Egypt",
          "Egypt, Algeria",
          "India",
          "Japan",
          "Lebanon, Canada, France",
          "Mexico",
          "United Kingdom",
          "United States"
         ],
         "yaxis": "y"
        },
        {
         "hovertemplate": "release_year=1990<br>total count=%{x}<br>country=%{y}<extra></extra>",
         "legendgroup": "1990",
         "line": {
          "color": "#FFA15A",
          "dash": "solid"
         },
         "marker": {
          "symbol": "circle"
         },
         "mode": "lines",
         "name": "1990",
         "showlegend": true,
         "type": "scattergl",
         "x": [
          1,
          1,
          4,
          1,
          8,
          3,
          1,
          1
         ],
         "xaxis": "x",
         "y": [
          "Australia, United States",
          "Hong Kong",
          "India",
          "Poland",
          "United States",
          "United States",
          "United States, Mexico",
          "United States, United Kingdom"
         ],
         "yaxis": "y"
        },
        {
         "hovertemplate": "release_year=2001<br>total count=%{x}<br>country=%{y}<extra></extra>",
         "legendgroup": "2001",
         "line": {
          "color": "#19d3f3",
          "dash": "solid"
         },
         "marker": {
          "symbol": "circle"
         },
         "mode": "lines",
         "name": "2001",
         "showlegend": true,
         "type": "scattergl",
         "x": [
          1,
          1,
          1,
          7,
          1,
          1,
          1,
          1,
          1,
          1,
          1,
          20,
          3,
          1,
          1,
          1,
          1
         ],
         "xaxis": "x",
         "y": [
          "Australia, United States",
          "Germany, Canada, United States",
          "Hong Kong",
          "India",
          "India, United Kingdom",
          "Japan",
          "Japan",
          "Mexico",
          "Turkey",
          "United Kingdom",
          "United Kingdom",
          "United States",
          "United States",
          "United States, Germany, Canada",
          "United States, Spain",
          "United States, United Kingdom",
          "United States, United Kingdom, Italy"
         ],
         "yaxis": "y"
        },
        {
         "hovertemplate": "release_year=2002<br>total count=%{x}<br>country=%{y}<extra></extra>",
         "legendgroup": "2002",
         "line": {
          "color": "#FF6692",
          "dash": "solid"
         },
         "marker": {
          "symbol": "circle"
         },
         "mode": "lines",
         "name": "2002",
         "showlegend": true,
         "type": "scattergl",
         "x": [
          1,
          1,
          1,
          1,
          10,
          1,
          2,
          1,
          1,
          1,
          2,
          1,
          1,
          1,
          1,
          1,
          1,
          15,
          1,
          1,
          1,
          1,
          1,
          1,
          1
         ],
         "xaxis": "x",
         "y": [
          "Brazil, France, Germany",
          "France",
          "France, United States",
          "Hong Kong",
          "India",
          "Indonesia",
          "Japan",
          "Japan",
          "New Zealand, United States",
          "South Africa, United States",
          "Taiwan",
          "Thailand",
          "United Kingdom",
          "United Kingdom, France, Poland, Germany, United States",
          "United Kingdom, Germany, Canada, United States",
          "United Kingdom, United States",
          "United Kingdom, United States, France, Germany",
          "United States",
          "United States",
          "United States, Canada",
          "United States, Germany",
          "United States, Germany, Canada",
          "United States, Italy",
          "United States, Netherlands, Japan, France",
          "United States, United Arab Emirates"
         ],
         "yaxis": "y"
        },
        {
         "hovertemplate": "release_year=2008<br>total count=%{x}<br>country=%{y}<extra></extra>",
         "legendgroup": "2008",
         "line": {
          "color": "#B6E880",
          "dash": "solid"
         },
         "marker": {
          "symbol": "circle"
         },
         "mode": "lines",
         "name": "2008",
         "showlegend": true,
         "type": "scattergl",
         "x": [
          1,
          1,
          1,
          1,
          1,
          1,
          1,
          5,
          1,
          1,
          1,
          2,
          1,
          1,
          25,
          1,
          3,
          2,
          8,
          3,
          1,
          1,
          1,
          1,
          4,
          2,
          1,
          2,
          1,
          39,
          6,
          1,
          2,
          2,
          2,
          1,
          1,
          2,
          1
         ],
         "xaxis": "x",
         "y": [
          "Canada",
          "Canada, United States",
          "Chile, Brazil",
          "China",
          "China",
          "Colombia",
          "Colombia, Mexico, United States",
          "Egypt",
          "France",
          "Germany",
          "Germany, United Kingdom, United States",
          "Germany, United States",
          "Hong Kong",
          "Hong Kong, China",
          "India",
          "India, United States",
          "Indonesia",
          "Japan",
          "Japan",
          "Philippines",
          "Saudi Arabia",
          "Spain",
          "Taiwan",
          "Thailand",
          "United Kingdom",
          "United Kingdom",
          "United Kingdom, Germany, United States",
          "United Kingdom, United States",
          "United Kingdom, United States, Australia",
          "United States",
          "United States",
          "United States, Australia",
          "United States, Canada",
          "United States, China",
          "United States, France",
          "United States, South Africa",
          "United States, South Korea",
          "United States, United Kingdom",
          "United States, United Kingdom, France"
         ],
         "yaxis": "y"
        },
        {
         "hovertemplate": "release_year=1997<br>total count=%{x}<br>country=%{y}<extra></extra>",
         "legendgroup": "1997",
         "line": {
          "color": "#FF97FF",
          "dash": "solid"
         },
         "marker": {
          "symbol": "circle"
         },
         "mode": "lines",
         "name": "1997",
         "showlegend": true,
         "type": "scattergl",
         "x": [
          1,
          2,
          1,
          1,
          1,
          3,
          1,
          3,
          20,
          2,
          2
         ],
         "xaxis": "x",
         "y": [
          "Canada, United States",
          "Canada, United States",
          "France, Egypt",
          "Hong Kong",
          "Hong Kong, China",
          "India",
          "Japan",
          "United Kingdom, United States",
          "United States",
          "United States, France, Japan",
          "United States, Germany"
         ],
         "yaxis": "y"
        },
        {
         "hovertemplate": "release_year=2003<br>total count=%{x}<br>country=%{y}<extra></extra>",
         "legendgroup": "2003",
         "line": {
          "color": "#FECB52",
          "dash": "solid"
         },
         "marker": {
          "symbol": "circle"
         },
         "mode": "lines",
         "name": "2003",
         "showlegend": true,
         "type": "scattergl",
         "x": [
          1,
          12,
          1,
          1,
          2,
          2,
          1,
          1,
          1,
          1,
          1,
          1,
          1,
          19,
          3,
          2,
          1,
          1,
          1,
          1,
          1,
          1,
          1,
          1,
          1
         ],
         "xaxis": "x",
         "y": [
          "Colombia, United States",
          "India",
          "India, France",
          "Indonesia",
          "Japan",
          "Japan",
          "Lebanon, France",
          "Malaysia",
          "New Zealand, United States",
          "Nigeria",
          "Taiwan",
          "United Kingdom, Australia, France, United States",
          "United Kingdom, Germany, Spain, United States",
          "United States",
          "United States",
          "United States, Australia",
          "United States, Canada",
          "United States, France, Canada, Spain",
          "United States, Germany",
          "United States, Germany, United Kingdom",
          "United States, Italy, Romania, United Kingdom",
          "United States, Japan",
          "United States, New Zealand",
          "United States, United Kingdom",
          "United States, United Kingdom, Germany, Hungary"
         ],
         "yaxis": "y"
        },
        {
         "hovertemplate": "release_year=1989<br>total count=%{x}<br>country=%{y}<extra></extra>",
         "legendgroup": "1989",
         "line": {
          "color": "#636efa",
          "dash": "solid"
         },
         "marker": {
          "symbol": "circle"
         },
         "mode": "lines",
         "name": "1989",
         "showlegend": true,
         "type": "scattergl",
         "x": [
          1,
          1,
          1,
          2,
          1,
          1,
          8,
          1
         ],
         "xaxis": "x",
         "y": [
          "Denmark, France, Poland",
          "France, Egypt",
          "Hong Kong",
          "India",
          "Ireland, United Kingdom, United States",
          "United Kingdom",
          "United States",
          "United States, Canada"
         ],
         "yaxis": "y"
        },
        {
         "hovertemplate": "release_year=1954<br>total count=%{x}<br>country=%{y}<extra></extra>",
         "legendgroup": "1954",
         "line": {
          "color": "#EF553B",
          "dash": "solid"
         },
         "marker": {
          "symbol": "circle"
         },
         "mode": "lines",
         "name": "1954",
         "showlegend": true,
         "type": "scattergl",
         "x": [
          1,
          1
         ],
         "xaxis": "x",
         "y": [
          "Egypt",
          "United States"
         ],
         "yaxis": "y"
        },
        {
         "hovertemplate": "release_year=1956<br>total count=%{x}<br>country=%{y}<extra></extra>",
         "legendgroup": "1956",
         "line": {
          "color": "#00cc96",
          "dash": "solid"
         },
         "marker": {
          "symbol": "circle"
         },
         "mode": "lines",
         "name": "1956",
         "showlegend": true,
         "type": "scattergl",
         "x": [
          1,
          1
         ],
         "xaxis": "x",
         "y": [
          "Egypt",
          "United States"
         ],
         "yaxis": "y"
        },
        {
         "hovertemplate": "release_year=1958<br>total count=%{x}<br>country=%{y}<extra></extra>",
         "legendgroup": "1958",
         "line": {
          "color": "#ab63fa",
          "dash": "solid"
         },
         "marker": {
          "symbol": "circle"
         },
         "mode": "lines",
         "name": "1958",
         "showlegend": true,
         "type": "scattergl",
         "x": [
          1,
          2
         ],
         "xaxis": "x",
         "y": [
          "Egypt",
          "United States"
         ],
         "yaxis": "y"
        },
        {
         "hovertemplate": "release_year=1963<br>total count=%{x}<br>country=%{y}<extra></extra>",
         "legendgroup": "1963",
         "line": {
          "color": "#FFA15A",
          "dash": "solid"
         },
         "marker": {
          "symbol": "circle"
         },
         "mode": "lines",
         "name": "1963",
         "showlegend": true,
         "type": "scattergl",
         "x": [
          1,
          1
         ],
         "xaxis": "x",
         "y": [
          "Egypt",
          "United States"
         ],
         "yaxis": "y"
        },
        {
         "hovertemplate": "release_year=1970<br>total count=%{x}<br>country=%{y}<extra></extra>",
         "legendgroup": "1970",
         "line": {
          "color": "#19d3f3",
          "dash": "solid"
         },
         "marker": {
          "symbol": "circle"
         },
         "mode": "lines",
         "name": "1970",
         "showlegend": true,
         "type": "scattergl",
         "x": [
          1,
          1
         ],
         "xaxis": "x",
         "y": [
          "Egypt",
          "Poland"
         ],
         "yaxis": "y"
        },
        {
         "hovertemplate": "release_year=1973<br>total count=%{x}<br>country=%{y}<extra></extra>",
         "legendgroup": "1973",
         "line": {
          "color": "#FF6692",
          "dash": "solid"
         },
         "marker": {
          "symbol": "circle"
         },
         "mode": "lines",
         "name": "1973",
         "showlegend": true,
         "type": "scattergl",
         "x": [
          1,
          1,
          1,
          2,
          1,
          4
         ],
         "xaxis": "x",
         "y": [
          "Egypt",
          "Hong Kong",
          "Hong Kong, United States",
          "India",
          "Poland",
          "United States"
         ],
         "yaxis": "y"
        },
        {
         "hovertemplate": "release_year=1976<br>total count=%{x}<br>country=%{y}<extra></extra>",
         "legendgroup": "1976",
         "line": {
          "color": "#B6E880",
          "dash": "solid"
         },
         "marker": {
          "symbol": "circle"
         },
         "mode": "lines",
         "name": "1976",
         "showlegend": true,
         "type": "scattergl",
         "x": [
          2,
          2,
          5
         ],
         "xaxis": "x",
         "y": [
          "Egypt",
          "India",
          "United States"
         ],
         "yaxis": "y"
        },
        {
         "hovertemplate": "release_year=1982<br>total count=%{x}<br>country=%{y}<extra></extra>",
         "legendgroup": "1982",
         "line": {
          "color": "#FF97FF",
          "dash": "solid"
         },
         "marker": {
          "symbol": "circle"
         },
         "mode": "lines",
         "name": "1982",
         "showlegend": true,
         "type": "scattergl",
         "x": [
          1,
          1,
          2,
          6,
          1,
          1,
          2,
          1
         ],
         "xaxis": "x",
         "y": [
          "Egypt",
          "France, Lebanon",
          "Hong Kong",
          "India",
          "Poland",
          "United Kingdom",
          "United States",
          "United States, United Kingdom"
         ],
         "yaxis": "y"
        },
        {
         "hovertemplate": "release_year=1994<br>total count=%{x}<br>country=%{y}<extra></extra>",
         "legendgroup": "1994",
         "line": {
          "color": "#FECB52",
          "dash": "solid"
         },
         "marker": {
          "symbol": "circle"
         },
         "mode": "lines",
         "name": "1994",
         "showlegend": true,
         "type": "scattergl",
         "x": [
          1,
          1,
          5,
          3,
          8,
          1,
          1,
          1
         ],
         "xaxis": "x",
         "y": [
          "Egypt, France",
          "Hong Kong",
          "India",
          "United Kingdom",
          "United States",
          "United States",
          "United States, France",
          "United States, Mexico"
         ],
         "yaxis": "y"
        },
        {
         "hovertemplate": "release_year=1974<br>total count=%{x}<br>country=%{y}<extra></extra>",
         "legendgroup": "1974",
         "line": {
          "color": "#636efa",
          "dash": "solid"
         },
         "marker": {
          "symbol": "circle"
         },
         "mode": "lines",
         "name": "1974",
         "showlegend": true,
         "type": "scattergl",
         "x": [
          1,
          2,
          1,
          3
         ],
         "xaxis": "x",
         "y": [
          "France",
          "India",
          "United Kingdom",
          "United States"
         ],
         "yaxis": "y"
        },
        {
         "hovertemplate": "release_year=1991<br>total count=%{x}<br>country=%{y}<extra></extra>",
         "legendgroup": "1991",
         "line": {
          "color": "#EF553B",
          "dash": "solid"
         },
         "marker": {
          "symbol": "circle"
         },
         "mode": "lines",
         "name": "1991",
         "showlegend": true,
         "type": "scattergl",
         "x": [
          1,
          1,
          1,
          1,
          1,
          9,
          1
         ],
         "xaxis": "x",
         "y": [
          "France, Belgium, Italy",
          "India, Soviet Union",
          "Mexico",
          "United Kingdom",
          "United Kingdom, United States",
          "United States",
          "United States, Hong Kong"
         ],
         "yaxis": "y"
        },
        {
         "hovertemplate": "release_year=2000<br>total count=%{x}<br>country=%{y}<extra></extra>",
         "legendgroup": "2000",
         "line": {
          "color": "#00cc96",
          "dash": "solid"
         },
         "marker": {
          "symbol": "circle"
         },
         "mode": "lines",
         "name": "2000",
         "showlegend": true,
         "type": "scattergl",
         "x": [
          1,
          1,
          1,
          7,
          1,
          1,
          1,
          1,
          16,
          2,
          2,
          1,
          1
         ],
         "xaxis": "x",
         "y": [
          "France, Japan, United States",
          "Germany, United States",
          "Germany, United States, United Kingdom, Canada",
          "India",
          "Japan",
          "Taiwan, Hong Kong, United States, China",
          "United Kingdom",
          "United Kingdom, France",
          "United States",
          "United States",
          "United States, Canada",
          "United States, France, United Kingdom",
          "United States, Germany"
         ],
         "yaxis": "y"
        },
        {
         "hovertemplate": "release_year=1975<br>total count=%{x}<br>country=%{y}<extra></extra>",
         "legendgroup": "1975",
         "line": {
          "color": "#ab63fa",
          "dash": "solid"
         },
         "marker": {
          "symbol": "circle"
         },
         "mode": "lines",
         "name": "1975",
         "showlegend": true,
         "type": "scattergl",
         "x": [
          1,
          2,
          1,
          1,
          1,
          1
         ],
         "xaxis": "x",
         "y": [
          "Hong Kong",
          "India",
          "Lebanon",
          "Poland,",
          "United Kingdom",
          "United States"
         ],
         "yaxis": "y"
        },
        {
         "hovertemplate": "release_year=1978<br>total count=%{x}<br>country=%{y}<extra></extra>",
         "legendgroup": "1978",
         "line": {
          "color": "#FFA15A",
          "dash": "solid"
         },
         "marker": {
          "symbol": "circle"
         },
         "mode": "lines",
         "name": "1978",
         "showlegend": true,
         "type": "scattergl",
         "x": [
          2,
          1,
          1,
          3
         ],
         "xaxis": "x",
         "y": [
          "Hong Kong",
          "India",
          "Poland",
          "United States"
         ],
         "yaxis": "y"
        },
        {
         "hovertemplate": "release_year=1980<br>total count=%{x}<br>country=%{y}<extra></extra>",
         "legendgroup": "1980",
         "line": {
          "color": "#19d3f3",
          "dash": "solid"
         },
         "marker": {
          "symbol": "circle"
         },
         "mode": "lines",
         "name": "1980",
         "showlegend": true,
         "type": "scattergl",
         "x": [
          2,
          2,
          1,
          1,
          5
         ],
         "xaxis": "x",
         "y": [
          "Hong Kong",
          "India",
          "Lebanon, Canada, France",
          "Soviet Union, India",
          "United States"
         ],
         "yaxis": "y"
        },
        {
         "hovertemplate": "release_year=1983<br>total count=%{x}<br>country=%{y}<extra></extra>",
         "legendgroup": "1983",
         "line": {
          "color": "#FF6692",
          "dash": "solid"
         },
         "marker": {
          "symbol": "circle"
         },
         "mode": "lines",
         "name": "1983",
         "showlegend": true,
         "type": "scattergl",
         "x": [
          3,
          4,
          1,
          2
         ],
         "xaxis": "x",
         "y": [
          "Hong Kong",
          "India",
          "Poland",
          "United States"
         ],
         "yaxis": "y"
        },
        {
         "hovertemplate": "release_year=1984<br>total count=%{x}<br>country=%{y}<extra></extra>",
         "legendgroup": "1984",
         "line": {
          "color": "#B6E880",
          "dash": "solid"
         },
         "marker": {
          "symbol": "circle"
         },
         "mode": "lines",
         "name": "1984",
         "showlegend": true,
         "type": "scattergl",
         "x": [
          3,
          1,
          1,
          1,
          5
         ],
         "xaxis": "x",
         "y": [
          "Hong Kong",
          "India",
          "India, Soviet Union",
          "Italy, United States",
          "United States"
         ],
         "yaxis": "y"
        },
        {
         "hovertemplate": "release_year=1988<br>total count=%{x}<br>country=%{y}<extra></extra>",
         "legendgroup": "1988",
         "line": {
          "color": "#FF97FF",
          "dash": "solid"
         },
         "marker": {
          "symbol": "circle"
         },
         "mode": "lines",
         "name": "1988",
         "showlegend": true,
         "type": "scattergl",
         "x": [
          1,
          2,
          12,
          2
         ],
         "xaxis": "x",
         "y": [
          "Hong Kong",
          "India",
          "United States",
          "United States"
         ],
         "yaxis": "y"
        },
        {
         "hovertemplate": "release_year=1995<br>total count=%{x}<br>country=%{y}<extra></extra>",
         "legendgroup": "1995",
         "line": {
          "color": "#FECB52",
          "dash": "solid"
         },
         "marker": {
          "symbol": "circle"
         },
         "mode": "lines",
         "name": "1995",
         "showlegend": true,
         "type": "scattergl",
         "x": [
          2,
          5,
          1,
          1,
          14,
          1
         ],
         "xaxis": "x",
         "y": [
          "Hong Kong",
          "India",
          "Japan",
          "United Kingdom, United States",
          "United States",
          "United States"
         ],
         "yaxis": "y"
        },
        {
         "hovertemplate": "release_year=1986<br>total count=%{x}<br>country=%{y}<extra></extra>",
         "legendgroup": "1986",
         "line": {
          "color": "#636efa",
          "dash": "solid"
         },
         "marker": {
          "symbol": "circle"
         },
         "mode": "lines",
         "name": "1986",
         "showlegend": true,
         "type": "scattergl",
         "x": [
          1,
          2,
          1,
          1,
          1,
          6,
          1
         ],
         "xaxis": "x",
         "y": [
          "Hong Kong, China",
          "India",
          "Italy, South Africa, West Germany, Australia, United States",
          "Japan",
          "United Kingdom, United States",
          "United States",
          "United States, United Kingdom"
         ],
         "yaxis": "y"
        },
        {
         "hovertemplate": "release_year=1959<br>total count=%{x}<br>country=%{y}<extra></extra>",
         "legendgroup": "1959",
         "line": {
          "color": "#EF553B",
          "dash": "solid"
         },
         "marker": {
          "symbol": "circle"
         },
         "mode": "lines",
         "name": "1959",
         "showlegend": true,
         "type": "scattergl",
         "x": [
          1
         ],
         "xaxis": "x",
         "y": [
          "India"
         ],
         "yaxis": "y"
        },
        {
         "hovertemplate": "release_year=1962<br>total count=%{x}<br>country=%{y}<extra></extra>",
         "legendgroup": "1962",
         "line": {
          "color": "#00cc96",
          "dash": "solid"
         },
         "marker": {
          "symbol": "circle"
         },
         "mode": "lines",
         "name": "1962",
         "showlegend": true,
         "type": "scattergl",
         "x": [
          1,
          1,
          1
         ],
         "xaxis": "x",
         "y": [
          "India",
          "United Kingdom, United States",
          "United States"
         ],
         "yaxis": "y"
        },
        {
         "hovertemplate": "release_year=1964<br>total count=%{x}<br>country=%{y}<extra></extra>",
         "legendgroup": "1964",
         "line": {
          "color": "#ab63fa",
          "dash": "solid"
         },
         "marker": {
          "symbol": "circle"
         },
         "mode": "lines",
         "name": "1964",
         "showlegend": true,
         "type": "scattergl",
         "x": [
          1,
          1
         ],
         "xaxis": "x",
         "y": [
          "India",
          "United States"
         ],
         "yaxis": "y"
        },
        {
         "hovertemplate": "release_year=1966<br>total count=%{x}<br>country=%{y}<extra></extra>",
         "legendgroup": "1966",
         "line": {
          "color": "#FFA15A",
          "dash": "solid"
         },
         "marker": {
          "symbol": "circle"
         },
         "mode": "lines",
         "name": "1966",
         "showlegend": true,
         "type": "scattergl",
         "x": [
          1
         ],
         "xaxis": "x",
         "y": [
          "India"
         ],
         "yaxis": "y"
        },
        {
         "hovertemplate": "release_year=1969<br>total count=%{x}<br>country=%{y}<extra></extra>",
         "legendgroup": "1969",
         "line": {
          "color": "#19d3f3",
          "dash": "solid"
         },
         "marker": {
          "symbol": "circle"
         },
         "mode": "lines",
         "name": "1969",
         "showlegend": true,
         "type": "scattergl",
         "x": [
          1,
          1
         ],
         "xaxis": "x",
         "y": [
          "India",
          "United States"
         ],
         "yaxis": "y"
        },
        {
         "hovertemplate": "release_year=1971<br>total count=%{x}<br>country=%{y}<extra></extra>",
         "legendgroup": "1971",
         "line": {
          "color": "#FF6692",
          "dash": "solid"
         },
         "marker": {
          "symbol": "circle"
         },
         "mode": "lines",
         "name": "1971",
         "showlegend": true,
         "type": "scattergl",
         "x": [
          2,
          1,
          1,
          1
         ],
         "xaxis": "x",
         "y": [
          "India",
          "United Kingdom, United States",
          "United States",
          "United States, East Germany, West Germany"
         ],
         "yaxis": "y"
        },
        {
         "hovertemplate": "release_year=1972<br>total count=%{x}<br>country=%{y}<extra></extra>",
         "legendgroup": "1972",
         "line": {
          "color": "#B6E880",
          "dash": "solid"
         },
         "marker": {
          "symbol": "circle"
         },
         "mode": "lines",
         "name": "1972",
         "showlegend": true,
         "type": "scattergl",
         "x": [
          2,
          1,
          2
         ],
         "xaxis": "x",
         "y": [
          "India",
          "United Kingdom, West Germany",
          "United States"
         ],
         "yaxis": "y"
        },
        {
         "hovertemplate": "release_year=1977<br>total count=%{x}<br>country=%{y}<extra></extra>",
         "legendgroup": "1977",
         "line": {
          "color": "#FF97FF",
          "dash": "solid"
         },
         "marker": {
          "symbol": "circle"
         },
         "mode": "lines",
         "name": "1977",
         "showlegend": true,
         "type": "scattergl",
         "x": [
          2,
          1,
          2,
          1,
          1
         ],
         "xaxis": "x",
         "y": [
          "India",
          "United Kingdom",
          "United States",
          "United States, United Kingdom",
          "West Germany"
         ],
         "yaxis": "y"
        },
        {
         "hovertemplate": "release_year=1987<br>total count=%{x}<br>country=%{y}<extra></extra>",
         "legendgroup": "1987",
         "line": {
          "color": "#FECB52",
          "dash": "solid"
         },
         "marker": {
          "symbol": "circle"
         },
         "mode": "lines",
         "name": "1987",
         "showlegend": true,
         "type": "scattergl",
         "x": [
          1,
          7
         ],
         "xaxis": "x",
         "y": [
          "India",
          "United States"
         ],
         "yaxis": "y"
        },
        {
         "hovertemplate": "release_year=1996<br>total count=%{x}<br>country=%{y}<extra></extra>",
         "legendgroup": "1996",
         "line": {
          "color": "#636efa",
          "dash": "solid"
         },
         "marker": {
          "symbol": "circle"
         },
         "mode": "lines",
         "name": "1996",
         "showlegend": true,
         "type": "scattergl",
         "x": [
          3,
          1,
          15,
          1,
          1
         ],
         "xaxis": "x",
         "y": [
          "India",
          "United Kingdom",
          "United States",
          "United States",
          "United States, France, Japan"
         ],
         "yaxis": "y"
        },
        {
         "hovertemplate": "release_year=1960<br>total count=%{x}<br>country=%{y}<extra></extra>",
         "legendgroup": "1960",
         "line": {
          "color": "#EF553B",
          "dash": "solid"
         },
         "marker": {
          "symbol": "circle"
         },
         "mode": "lines",
         "name": "1960",
         "showlegend": true,
         "type": "scattergl",
         "x": [
          1,
          2
         ],
         "xaxis": "x",
         "y": [
          "India, Malaysia",
          "United States"
         ],
         "yaxis": "y"
        },
        {
         "hovertemplate": "release_year=1955<br>total count=%{x}<br>country=%{y}<extra></extra>",
         "legendgroup": "1955",
         "line": {
          "color": "#00cc96",
          "dash": "solid"
         },
         "marker": {
          "symbol": "circle"
         },
         "mode": "lines",
         "name": "1955",
         "showlegend": true,
         "type": "scattergl",
         "x": [
          1,
          1,
          1
         ],
         "xaxis": "x",
         "y": [
          "Italy",
          "Italy, France",
          "United States"
         ],
         "yaxis": "y"
        },
        {
         "hovertemplate": "release_year=1968<br>total count=%{x}<br>country=%{y}<extra></extra>",
         "legendgroup": "1968",
         "line": {
          "color": "#ab63fa",
          "dash": "solid"
         },
         "marker": {
          "symbol": "circle"
         },
         "mode": "lines",
         "name": "1968",
         "showlegend": true,
         "type": "scattergl",
         "x": [
          1,
          1,
          1
         ],
         "xaxis": "x",
         "y": [
          "Italy, United States",
          "United Kingdom, United States",
          "United States"
         ],
         "yaxis": "y"
        },
        {
         "hovertemplate": "release_year=1967<br>total count=%{x}<br>country=%{y}<extra></extra>",
         "legendgroup": "1967",
         "line": {
          "color": "#FFA15A",
          "dash": "solid"
         },
         "marker": {
          "symbol": "circle"
         },
         "mode": "lines",
         "name": "1967",
         "showlegend": true,
         "type": "scattergl",
         "x": [
          1,
          3,
          1
         ],
         "xaxis": "x",
         "y": [
          "Poland",
          "United States",
          "United States"
         ],
         "yaxis": "y"
        },
        {
         "hovertemplate": "release_year=1961<br>total count=%{x}<br>country=%{y}<extra></extra>",
         "legendgroup": "1961",
         "line": {
          "color": "#19d3f3",
          "dash": "solid"
         },
         "marker": {
          "symbol": "circle"
         },
         "mode": "lines",
         "name": "1961",
         "showlegend": true,
         "type": "scattergl",
         "x": [
          1
         ],
         "xaxis": "x",
         "y": [
          "United Kingdom, United States"
         ],
         "yaxis": "y"
        },
        {
         "hovertemplate": "release_year=1942<br>total count=%{x}<br>country=%{y}<extra></extra>",
         "legendgroup": "1942",
         "line": {
          "color": "#FF6692",
          "dash": "solid"
         },
         "marker": {
          "symbol": "circle"
         },
         "mode": "lines",
         "name": "1942",
         "showlegend": true,
         "type": "scattergl",
         "x": [
          2
         ],
         "xaxis": "x",
         "y": [
          "United States"
         ],
         "yaxis": "y"
        },
        {
         "hovertemplate": "release_year=1943<br>total count=%{x}<br>country=%{y}<extra></extra>",
         "legendgroup": "1943",
         "line": {
          "color": "#B6E880",
          "dash": "solid"
         },
         "marker": {
          "symbol": "circle"
         },
         "mode": "lines",
         "name": "1943",
         "showlegend": true,
         "type": "scattergl",
         "x": [
          3
         ],
         "xaxis": "x",
         "y": [
          "United States"
         ],
         "yaxis": "y"
        },
        {
         "hovertemplate": "release_year=1944<br>total count=%{x}<br>country=%{y}<extra></extra>",
         "legendgroup": "1944",
         "line": {
          "color": "#FF97FF",
          "dash": "solid"
         },
         "marker": {
          "symbol": "circle"
         },
         "mode": "lines",
         "name": "1944",
         "showlegend": true,
         "type": "scattergl",
         "x": [
          2,
          1
         ],
         "xaxis": "x",
         "y": [
          "United States",
          "United States, United Kingdom"
         ],
         "yaxis": "y"
        },
        {
         "hovertemplate": "release_year=1945<br>total count=%{x}<br>country=%{y}<extra></extra>",
         "legendgroup": "1945",
         "line": {
          "color": "#FECB52",
          "dash": "solid"
         },
         "marker": {
          "symbol": "circle"
         },
         "mode": "lines",
         "name": "1945",
         "showlegend": true,
         "type": "scattergl",
         "x": [
          3,
          1
         ],
         "xaxis": "x",
         "y": [
          "United States",
          "United States"
         ],
         "yaxis": "y"
        },
        {
         "hovertemplate": "release_year=1946<br>total count=%{x}<br>country=%{y}<extra></extra>",
         "legendgroup": "1946",
         "line": {
          "color": "#636efa",
          "dash": "solid"
         },
         "marker": {
          "symbol": "circle"
         },
         "mode": "lines",
         "name": "1946",
         "showlegend": true,
         "type": "scattergl",
         "x": [
          1,
          1
         ],
         "xaxis": "x",
         "y": [
          "United States",
          "United States"
         ],
         "yaxis": "y"
        },
        {
         "hovertemplate": "release_year=1947<br>total count=%{x}<br>country=%{y}<extra></extra>",
         "legendgroup": "1947",
         "line": {
          "color": "#EF553B",
          "dash": "solid"
         },
         "marker": {
          "symbol": "circle"
         },
         "mode": "lines",
         "name": "1947",
         "showlegend": true,
         "type": "scattergl",
         "x": [
          1
         ],
         "xaxis": "x",
         "y": [
          "United States"
         ],
         "yaxis": "y"
        },
        {
         "hovertemplate": "release_year=1965<br>total count=%{x}<br>country=%{y}<extra></extra>",
         "legendgroup": "1965",
         "line": {
          "color": "#00cc96",
          "dash": "solid"
         },
         "marker": {
          "symbol": "circle"
         },
         "mode": "lines",
         "name": "1965",
         "showlegend": true,
         "type": "scattergl",
         "x": [
          1,
          1
         ],
         "xaxis": "x",
         "y": [
          "United States",
          "United States, Italy, United Kingdom, Liechtenstein"
         ],
         "yaxis": "y"
        }
       ],
       "layout": {
        "legend": {
         "title": {
          "text": "release_year"
         },
         "tracegroupgap": 0
        },
        "template": {
         "data": {
          "bar": [
           {
            "error_x": {
             "color": "#2a3f5f"
            },
            "error_y": {
             "color": "#2a3f5f"
            },
            "marker": {
             "line": {
              "color": "#E5ECF6",
              "width": 0.5
             },
             "pattern": {
              "fillmode": "overlay",
              "size": 10,
              "solidity": 0.2
             }
            },
            "type": "bar"
           }
          ],
          "barpolar": [
           {
            "marker": {
             "line": {
              "color": "#E5ECF6",
              "width": 0.5
             },
             "pattern": {
              "fillmode": "overlay",
              "size": 10,
              "solidity": 0.2
             }
            },
            "type": "barpolar"
           }
          ],
          "carpet": [
           {
            "aaxis": {
             "endlinecolor": "#2a3f5f",
             "gridcolor": "white",
             "linecolor": "white",
             "minorgridcolor": "white",
             "startlinecolor": "#2a3f5f"
            },
            "baxis": {
             "endlinecolor": "#2a3f5f",
             "gridcolor": "white",
             "linecolor": "white",
             "minorgridcolor": "white",
             "startlinecolor": "#2a3f5f"
            },
            "type": "carpet"
           }
          ],
          "choropleth": [
           {
            "colorbar": {
             "outlinewidth": 0,
             "ticks": ""
            },
            "type": "choropleth"
           }
          ],
          "contour": [
           {
            "colorbar": {
             "outlinewidth": 0,
             "ticks": ""
            },
            "colorscale": [
             [
              0,
              "#0d0887"
             ],
             [
              0.1111111111111111,
              "#46039f"
             ],
             [
              0.2222222222222222,
              "#7201a8"
             ],
             [
              0.3333333333333333,
              "#9c179e"
             ],
             [
              0.4444444444444444,
              "#bd3786"
             ],
             [
              0.5555555555555556,
              "#d8576b"
             ],
             [
              0.6666666666666666,
              "#ed7953"
             ],
             [
              0.7777777777777778,
              "#fb9f3a"
             ],
             [
              0.8888888888888888,
              "#fdca26"
             ],
             [
              1,
              "#f0f921"
             ]
            ],
            "type": "contour"
           }
          ],
          "contourcarpet": [
           {
            "colorbar": {
             "outlinewidth": 0,
             "ticks": ""
            },
            "type": "contourcarpet"
           }
          ],
          "heatmap": [
           {
            "colorbar": {
             "outlinewidth": 0,
             "ticks": ""
            },
            "colorscale": [
             [
              0,
              "#0d0887"
             ],
             [
              0.1111111111111111,
              "#46039f"
             ],
             [
              0.2222222222222222,
              "#7201a8"
             ],
             [
              0.3333333333333333,
              "#9c179e"
             ],
             [
              0.4444444444444444,
              "#bd3786"
             ],
             [
              0.5555555555555556,
              "#d8576b"
             ],
             [
              0.6666666666666666,
              "#ed7953"
             ],
             [
              0.7777777777777778,
              "#fb9f3a"
             ],
             [
              0.8888888888888888,
              "#fdca26"
             ],
             [
              1,
              "#f0f921"
             ]
            ],
            "type": "heatmap"
           }
          ],
          "heatmapgl": [
           {
            "colorbar": {
             "outlinewidth": 0,
             "ticks": ""
            },
            "colorscale": [
             [
              0,
              "#0d0887"
             ],
             [
              0.1111111111111111,
              "#46039f"
             ],
             [
              0.2222222222222222,
              "#7201a8"
             ],
             [
              0.3333333333333333,
              "#9c179e"
             ],
             [
              0.4444444444444444,
              "#bd3786"
             ],
             [
              0.5555555555555556,
              "#d8576b"
             ],
             [
              0.6666666666666666,
              "#ed7953"
             ],
             [
              0.7777777777777778,
              "#fb9f3a"
             ],
             [
              0.8888888888888888,
              "#fdca26"
             ],
             [
              1,
              "#f0f921"
             ]
            ],
            "type": "heatmapgl"
           }
          ],
          "histogram": [
           {
            "marker": {
             "pattern": {
              "fillmode": "overlay",
              "size": 10,
              "solidity": 0.2
             }
            },
            "type": "histogram"
           }
          ],
          "histogram2d": [
           {
            "colorbar": {
             "outlinewidth": 0,
             "ticks": ""
            },
            "colorscale": [
             [
              0,
              "#0d0887"
             ],
             [
              0.1111111111111111,
              "#46039f"
             ],
             [
              0.2222222222222222,
              "#7201a8"
             ],
             [
              0.3333333333333333,
              "#9c179e"
             ],
             [
              0.4444444444444444,
              "#bd3786"
             ],
             [
              0.5555555555555556,
              "#d8576b"
             ],
             [
              0.6666666666666666,
              "#ed7953"
             ],
             [
              0.7777777777777778,
              "#fb9f3a"
             ],
             [
              0.8888888888888888,
              "#fdca26"
             ],
             [
              1,
              "#f0f921"
             ]
            ],
            "type": "histogram2d"
           }
          ],
          "histogram2dcontour": [
           {
            "colorbar": {
             "outlinewidth": 0,
             "ticks": ""
            },
            "colorscale": [
             [
              0,
              "#0d0887"
             ],
             [
              0.1111111111111111,
              "#46039f"
             ],
             [
              0.2222222222222222,
              "#7201a8"
             ],
             [
              0.3333333333333333,
              "#9c179e"
             ],
             [
              0.4444444444444444,
              "#bd3786"
             ],
             [
              0.5555555555555556,
              "#d8576b"
             ],
             [
              0.6666666666666666,
              "#ed7953"
             ],
             [
              0.7777777777777778,
              "#fb9f3a"
             ],
             [
              0.8888888888888888,
              "#fdca26"
             ],
             [
              1,
              "#f0f921"
             ]
            ],
            "type": "histogram2dcontour"
           }
          ],
          "mesh3d": [
           {
            "colorbar": {
             "outlinewidth": 0,
             "ticks": ""
            },
            "type": "mesh3d"
           }
          ],
          "parcoords": [
           {
            "line": {
             "colorbar": {
              "outlinewidth": 0,
              "ticks": ""
             }
            },
            "type": "parcoords"
           }
          ],
          "pie": [
           {
            "automargin": true,
            "type": "pie"
           }
          ],
          "scatter": [
           {
            "fillpattern": {
             "fillmode": "overlay",
             "size": 10,
             "solidity": 0.2
            },
            "type": "scatter"
           }
          ],
          "scatter3d": [
           {
            "line": {
             "colorbar": {
              "outlinewidth": 0,
              "ticks": ""
             }
            },
            "marker": {
             "colorbar": {
              "outlinewidth": 0,
              "ticks": ""
             }
            },
            "type": "scatter3d"
           }
          ],
          "scattercarpet": [
           {
            "marker": {
             "colorbar": {
              "outlinewidth": 0,
              "ticks": ""
             }
            },
            "type": "scattercarpet"
           }
          ],
          "scattergeo": [
           {
            "marker": {
             "colorbar": {
              "outlinewidth": 0,
              "ticks": ""
             }
            },
            "type": "scattergeo"
           }
          ],
          "scattergl": [
           {
            "marker": {
             "colorbar": {
              "outlinewidth": 0,
              "ticks": ""
             }
            },
            "type": "scattergl"
           }
          ],
          "scattermapbox": [
           {
            "marker": {
             "colorbar": {
              "outlinewidth": 0,
              "ticks": ""
             }
            },
            "type": "scattermapbox"
           }
          ],
          "scatterpolar": [
           {
            "marker": {
             "colorbar": {
              "outlinewidth": 0,
              "ticks": ""
             }
            },
            "type": "scatterpolar"
           }
          ],
          "scatterpolargl": [
           {
            "marker": {
             "colorbar": {
              "outlinewidth": 0,
              "ticks": ""
             }
            },
            "type": "scatterpolargl"
           }
          ],
          "scatterternary": [
           {
            "marker": {
             "colorbar": {
              "outlinewidth": 0,
              "ticks": ""
             }
            },
            "type": "scatterternary"
           }
          ],
          "surface": [
           {
            "colorbar": {
             "outlinewidth": 0,
             "ticks": ""
            },
            "colorscale": [
             [
              0,
              "#0d0887"
             ],
             [
              0.1111111111111111,
              "#46039f"
             ],
             [
              0.2222222222222222,
              "#7201a8"
             ],
             [
              0.3333333333333333,
              "#9c179e"
             ],
             [
              0.4444444444444444,
              "#bd3786"
             ],
             [
              0.5555555555555556,
              "#d8576b"
             ],
             [
              0.6666666666666666,
              "#ed7953"
             ],
             [
              0.7777777777777778,
              "#fb9f3a"
             ],
             [
              0.8888888888888888,
              "#fdca26"
             ],
             [
              1,
              "#f0f921"
             ]
            ],
            "type": "surface"
           }
          ],
          "table": [
           {
            "cells": {
             "fill": {
              "color": "#EBF0F8"
             },
             "line": {
              "color": "white"
             }
            },
            "header": {
             "fill": {
              "color": "#C8D4E3"
             },
             "line": {
              "color": "white"
             }
            },
            "type": "table"
           }
          ]
         },
         "layout": {
          "annotationdefaults": {
           "arrowcolor": "#2a3f5f",
           "arrowhead": 0,
           "arrowwidth": 1
          },
          "autotypenumbers": "strict",
          "coloraxis": {
           "colorbar": {
            "outlinewidth": 0,
            "ticks": ""
           }
          },
          "colorscale": {
           "diverging": [
            [
             0,
             "#8e0152"
            ],
            [
             0.1,
             "#c51b7d"
            ],
            [
             0.2,
             "#de77ae"
            ],
            [
             0.3,
             "#f1b6da"
            ],
            [
             0.4,
             "#fde0ef"
            ],
            [
             0.5,
             "#f7f7f7"
            ],
            [
             0.6,
             "#e6f5d0"
            ],
            [
             0.7,
             "#b8e186"
            ],
            [
             0.8,
             "#7fbc41"
            ],
            [
             0.9,
             "#4d9221"
            ],
            [
             1,
             "#276419"
            ]
           ],
           "sequential": [
            [
             0,
             "#0d0887"
            ],
            [
             0.1111111111111111,
             "#46039f"
            ],
            [
             0.2222222222222222,
             "#7201a8"
            ],
            [
             0.3333333333333333,
             "#9c179e"
            ],
            [
             0.4444444444444444,
             "#bd3786"
            ],
            [
             0.5555555555555556,
             "#d8576b"
            ],
            [
             0.6666666666666666,
             "#ed7953"
            ],
            [
             0.7777777777777778,
             "#fb9f3a"
            ],
            [
             0.8888888888888888,
             "#fdca26"
            ],
            [
             1,
             "#f0f921"
            ]
           ],
           "sequentialminus": [
            [
             0,
             "#0d0887"
            ],
            [
             0.1111111111111111,
             "#46039f"
            ],
            [
             0.2222222222222222,
             "#7201a8"
            ],
            [
             0.3333333333333333,
             "#9c179e"
            ],
            [
             0.4444444444444444,
             "#bd3786"
            ],
            [
             0.5555555555555556,
             "#d8576b"
            ],
            [
             0.6666666666666666,
             "#ed7953"
            ],
            [
             0.7777777777777778,
             "#fb9f3a"
            ],
            [
             0.8888888888888888,
             "#fdca26"
            ],
            [
             1,
             "#f0f921"
            ]
           ]
          },
          "colorway": [
           "#636efa",
           "#EF553B",
           "#00cc96",
           "#ab63fa",
           "#FFA15A",
           "#19d3f3",
           "#FF6692",
           "#B6E880",
           "#FF97FF",
           "#FECB52"
          ],
          "font": {
           "color": "#2a3f5f"
          },
          "geo": {
           "bgcolor": "white",
           "lakecolor": "white",
           "landcolor": "#E5ECF6",
           "showlakes": true,
           "showland": true,
           "subunitcolor": "white"
          },
          "hoverlabel": {
           "align": "left"
          },
          "hovermode": "closest",
          "mapbox": {
           "style": "light"
          },
          "paper_bgcolor": "white",
          "plot_bgcolor": "#E5ECF6",
          "polar": {
           "angularaxis": {
            "gridcolor": "white",
            "linecolor": "white",
            "ticks": ""
           },
           "bgcolor": "#E5ECF6",
           "radialaxis": {
            "gridcolor": "white",
            "linecolor": "white",
            "ticks": ""
           }
          },
          "scene": {
           "xaxis": {
            "backgroundcolor": "#E5ECF6",
            "gridcolor": "white",
            "gridwidth": 2,
            "linecolor": "white",
            "showbackground": true,
            "ticks": "",
            "zerolinecolor": "white"
           },
           "yaxis": {
            "backgroundcolor": "#E5ECF6",
            "gridcolor": "white",
            "gridwidth": 2,
            "linecolor": "white",
            "showbackground": true,
            "ticks": "",
            "zerolinecolor": "white"
           },
           "zaxis": {
            "backgroundcolor": "#E5ECF6",
            "gridcolor": "white",
            "gridwidth": 2,
            "linecolor": "white",
            "showbackground": true,
            "ticks": "",
            "zerolinecolor": "white"
           }
          },
          "shapedefaults": {
           "line": {
            "color": "#2a3f5f"
           }
          },
          "ternary": {
           "aaxis": {
            "gridcolor": "white",
            "linecolor": "white",
            "ticks": ""
           },
           "baxis": {
            "gridcolor": "white",
            "linecolor": "white",
            "ticks": ""
           },
           "bgcolor": "#E5ECF6",
           "caxis": {
            "gridcolor": "white",
            "linecolor": "white",
            "ticks": ""
           }
          },
          "title": {
           "x": 0.05
          },
          "xaxis": {
           "automargin": true,
           "gridcolor": "white",
           "linecolor": "white",
           "ticks": "",
           "title": {
            "standoff": 15
           },
           "zerolinecolor": "white",
           "zerolinewidth": 2
          },
          "yaxis": {
           "automargin": true,
           "gridcolor": "white",
           "linecolor": "white",
           "ticks": "",
           "title": {
            "standoff": 15
           },
           "zerolinecolor": "white",
           "zerolinewidth": 2
          }
         }
        },
        "title": {
         "text": "content produced in a country based on every year"
        },
        "xaxis": {
         "anchor": "y",
         "domain": [
          0,
          1
         ],
         "title": {
          "text": "total count"
         }
        },
        "yaxis": {
         "anchor": "x",
         "domain": [
          0,
          1
         ],
         "title": {
          "text": "country"
         }
        }
       }
      },
      "text/html": [
       "<div>                            <div id=\"79e8e66b-87f3-401b-8cd6-dcb83e6a4853\" class=\"plotly-graph-div\" style=\"height:525px; width:100%;\"></div>            <script type=\"text/javascript\">                require([\"plotly\"], function(Plotly) {                    window.PLOTLYENV=window.PLOTLYENV || {};                                    if (document.getElementById(\"79e8e66b-87f3-401b-8cd6-dcb83e6a4853\")) {                    Plotly.newPlot(                        \"79e8e66b-87f3-401b-8cd6-dcb83e6a4853\",                        [{\"hovertemplate\":\"release_year=2014<br>total count=%{x}<br>country=%{y}<extra></extra>\",\"legendgroup\":\"2014\",\"line\":{\"color\":\"#636efa\",\"dash\":\"solid\"},\"marker\":{\"symbol\":\"circle\"},\"mode\":\"lines\",\"name\":\"2014\",\"showlegend\":true,\"x\":[1,1,1,1,2,1,1,1,7,4,1,1,1,1,1,1,1,1,1,1,1,1,1,4,4,2,1,1,1,5,1,1,2,1,1,46,5,1,1,1,1,2,12,1,1,1,3,1,3,1,1,1,1,1,4,1,1,1,1,1,5,7,1,3,1,1,1,10,5,1,1,1,15,9,1,1,1,1,1,2,1,76,18,1,1,2,2,1,1,1,1,1,1,1,4,1,1,1],\"xaxis\":\"x\",\"y\":[\", France, Algeria\",\"Argentina, Venezuela\",\"Australia, United Kingdom, Canada\",\"Australia, United Kingdom, United States, New Zealand, Italy, France\",\"Australia, United States\",\"Austria, Czech Republic\",\"Brazil\",\"Bulgaria, United States, Spain, Canada\",\"Canada\",\"Canada\",\"Canada, France, Italy, Morocco, United States\",\"Canada, Germany, France, United States\",\"Canada, India\",\"Canada, Luxembourg\",\"Canada, South Korea, United States\",\"Canada, United Kingdom, United States\",\"Canada, United States\",\"Canada, United States, Denmark\",\"China, Hong Kong\",\"Denmark, Brazil, France, Portugal, Sweden\",\"Denmark, Indonesia, Finland, Norway, United Kingdom, Israel, France, United States, Germany, Netherlands\",\"Denmark, United Kingdom, South Africa, Sweden, Belgium\",\"Denmark, Zimbabwe\",\"Egypt\",\"France\",\"France\",\"France, Belgium\",\"France, Canada, United States, Spain\",\"France, Germany, Switzerland\",\"Germany\",\"Germany, United Kingdom\",\"Germany, United States, Italy\",\"Hong Kong\",\"Hong Kong, China\",\"Hong Kong, United States\",\"India\",\"India\",\"India, Canada\",\"India, France\",\"Indonesia\",\"Israel\",\"Japan\",\"Japan\",\"Kenya, United States\",\"Lebanon, United Arab Emirates, France, Switzerland, Germany\",\"Malaysia\",\"Mexico\",\"Mexico, United States\",\"Nigeria\",\"Norway, Denmark, Sweden\",\"Norway, United Kingdom, France, Ireland\",\"Norway, United States\",\"Pakistan\",\"Pakistan, Norway, United States\",\"Philippines\",\"Poland\",\"Romania\",\"Russia\",\"Saudi Arabia\",\"Singapore\",\"Singapore\",\"South Korea\",\"Spain\",\"Taiwan\",\"Thailand\",\"Thailand\",\"Thailand, Canada, United States\",\"Turkey\",\"Turkey\",\"United Arab Emirates\",\"United Arab Emirates, Jordan, Lebanon, Saudi Arabia\",\"United Arab Emirates, United States\",\"United Kingdom\",\"United Kingdom\",\"United Kingdom,\",\"United Kingdom, Brazil, Germany\",\"United Kingdom, China, United States\",\"United Kingdom, France, Canada, Belgium, United States\",\"United Kingdom, Japan\",\"United Kingdom, United States\",\"United Kingdom, United States, Morocco\",\"United States\",\"United States\",\"United States, Bermuda, Ecuador\",\"United States, Bulgaria\",\"United States, Canada\",\"United States, France\",\"United States, France, Canada, Lebanon, Qatar\",\"United States, France, Serbia\",\"United States, Greece, United Kingdom\",\"United States, India\",\"United States, India, United Arab Emirates\",\"United States, Japan, Canada\",\"United States, Russia\",\"United States, United Kingdom\",\"United States, United Kingdom, Canada, China\",\"United States, United Kingdom, Denmark, Sweden\",\"Vietnam\"],\"yaxis\":\"y\",\"type\":\"scattergl\"},{\"hovertemplate\":\"release_year=2021<br>total count=%{x}<br>country=%{y}<extra></extra>\",\"legendgroup\":\"2021\",\"line\":{\"color\":\"#EF553B\",\"dash\":\"solid\"},\"marker\":{\"symbol\":\"circle\"},\"mode\":\"lines\",\"name\":\"2021\",\"showlegend\":true,\"x\":[1,1,1,2,5,1,1,2,1,1,1,3,1,3,1,1,1,1,4,1,1,1,2,1,1,1,5,2,1,2,1,4,1,1,1,1,22,9,1,1,4,2,1,4,2,1,1,2,10,1,1,3,6,1,1,1,2,1,2,2,1,1,2,2,1,1,4,1,6,13,5,9,1,2,1,2,2,2,3,1,1,6,16,1,4,49,89,1,1,1,2,1,1,1,1,1,1,1,3,1,1],\"xaxis\":\"x\",\"y\":[\", South Korea\",\"Argentina\",\"Argentina\",\"Australia\",\"Australia\",\"Australia, United Kingdom\",\"Australia, United States\",\"Belgium\",\"Belgium, France\",\"Belgium, Netherlands\",\"Belgium, United Kingdom\",\"Brazil\",\"Brazil\",\"Canada\",\"Canada, United States\",\"Canada, United States\",\"Canada, United States, Cayman Islands\",\"Canada, United States, Ireland\",\"China\",\"China, Taiwan\",\"China, United Kingdom\",\"China, United States, Canada\",\"Colombia\",\"Colombia\",\"Egypt\",\"Egypt, Denmark, Germany\",\"France\",\"France\",\"France, United States\",\"France, United States\",\"Germany\",\"Germany\",\"Germany, Czech Republic\",\"Germany, United States\",\"Hungary, United States\",\"Iceland\",\"India\",\"India\",\"India, United Kingdom, France, Qatar\",\"India, United States\",\"Indonesia\",\"Israel\",\"Israel, United States\",\"Italy\",\"Italy\",\"Italy, Brazil, Greece\",\"Italy, United Kingdom\",\"Japan\",\"Japan\",\"Jordan\",\"Mauritius\",\"Mexico\",\"Mexico\",\"Mexico, Brazil\",\"Mexico, France, Colombia\",\"Mexico, United States\",\"Netherlands\",\"New Zealand\",\"Nigeria\",\"Nigeria\",\"Norway, Denmark\",\"Philippines, Singapore, Indonesia\",\"Poland\",\"Poland\",\"Russia, United States\",\"Saudi Arabia\",\"South Africa\",\"South Africa\",\"South Korea\",\"South Korea\",\"Spain\",\"Spain\",\"Spain, Argentina\",\"Sweden\",\"Sweden\",\"Thailand\",\"Thailand\",\"Turkey\",\"Turkey\",\"United Arab Emirates\",\"United Arab Emirates\",\"United Kingdom\",\"United Kingdom\",\"United Kingdom, Canada, United States\",\"United Kingdom, United States\",\"United States\",\"United States\",\"United States, Australia\",\"United States, Brazil, Japan, Spain, India\",\"United States, Canada\",\"United States, Canada\",\"United States, Czech Republic\",\"United States, India\",\"United States, Japan\",\"United States, Japan\",\"United States, Mexico\",\"United States, Singapore\",\"United States, United Kingdom\",\"United States, United Kingdom\",\"Uruguay, Germany\",\"Vietnam\"],\"yaxis\":\"y\",\"type\":\"scattergl\"},{\"hovertemplate\":\"release_year=1985<br>total count=%{x}<br>country=%{y}<extra></extra>\",\"legendgroup\":\"1985\",\"line\":{\"color\":\"#00cc96\",\"dash\":\"solid\"},\"marker\":{\"symbol\":\"circle\"},\"mode\":\"lines\",\"name\":\"1985\",\"showlegend\":true,\"x\":[2,2,2,1,1,1],\"xaxis\":\"x\",\"y\":[\"Argentina\",\"Hong Kong\",\"India\",\"Poland, West Germany\",\"United States\",\"United States, Japan\"],\"yaxis\":\"y\",\"type\":\"scattergl\"},{\"hovertemplate\":\"release_year=1998<br>total count=%{x}<br>country=%{y}<extra></extra>\",\"legendgroup\":\"1998\",\"line\":{\"color\":\"#ab63fa\",\"dash\":\"solid\"},\"marker\":{\"symbol\":\"circle\"},\"mode\":\"lines\",\"name\":\"1998\",\"showlegend\":true,\"x\":[1,1,1,1,6,1,1,1,2,17,1,1,1,1],\"xaxis\":\"x\",\"y\":[\"Argentina\",\"Australia\",\"Canada\",\"Canada\",\"India\",\"Ireland, United Kingdom, France, Germany\",\"Japan\",\"Japan\",\"United Kingdom\",\"United States\",\"United States\",\"United States, France, Japan\",\"United States, Germany, Mexico\",\"United States, New Zealand\"],\"yaxis\":\"y\",\"type\":\"scattergl\"},{\"hovertemplate\":\"release_year=2004<br>total count=%{x}<br>country=%{y}<extra></extra>\",\"legendgroup\":\"2004\",\"line\":{\"color\":\"#FFA15A\",\"dash\":\"solid\"},\"marker\":{\"symbol\":\"circle\"},\"mode\":\"lines\",\"name\":\"2004\",\"showlegend\":true,\"x\":[1,1,1,2,1,1,1,15,3,1,2,1,1,2,1,2,1,1,1,15,2,1,1,1,2,1],\"xaxis\":\"x\",\"y\":[\"Argentina\",\"Canada\",\"Canada, United States\",\"Egypt\",\"France\",\"Hong Kong, China\",\"Hong Kong, China, United States\",\"India\",\"Japan\",\"Malaysia\",\"Mexico\",\"South Korea\",\"Spain, France, United Kingdom, United States\",\"Taiwan\",\"Thailand\",\"Turkey\",\"United Kingdom\",\"United Kingdom\",\"United Kingdom, United States\",\"United States\",\"United States\",\"United States, Canada\",\"United States, Canada, Germany\",\"United States, Czech Republic\",\"United States, Germany\",\"Uruguay, Argentina, Germany, Spain\"],\"yaxis\":\"y\",\"type\":\"scattergl\"},{\"hovertemplate\":\"release_year=2006<br>total count=%{x}<br>country=%{y}<extra></extra>\",\"legendgroup\":\"2006\",\"line\":{\"color\":\"#19d3f3\",\"dash\":\"solid\"},\"marker\":{\"symbol\":\"circle\"},\"mode\":\"lines\",\"name\":\"2006\",\"showlegend\":true,\"x\":[1,1,1,1,2,1,5,1,1,1,20,1,4,1,1,1,1,1,2,2,1,1,1,1,1,27,5,1,1,3,1,1,1,1],\"xaxis\":\"x\",\"y\":[\"Argentina\",\"Argentina, Chile\",\"Argentina, Spain\",\"Australia, United States\",\"Canada\",\"Canada, United States\",\"Egypt\",\"France, United States, Mexico\",\"Germany\",\"Hong Kong, China\",\"India\",\"Japan\",\"Japan\",\"Malaysia\",\"Mexico, Spain\",\"Netherlands\",\"Philippines\",\"Saudi Arabia, United Arab Emirates\",\"Turkey\",\"United Kingdom\",\"United Kingdom, Czech Republic, United States, Germany, Bahamas\",\"United Kingdom, Thailand\",\"United Kingdom, United States\",\"United Kingdom, United States\",\"United Kingdom, United States, France, Italy\",\"United States\",\"United States\",\"United States, Canada\",\"United States, Czech Republic\",\"United States, Germany\",\"United States, Hong Kong\",\"United States, Malta, France, United Kingdom\",\"United States, Mexico\",\"United States, United Kingdom\"],\"yaxis\":\"y\",\"type\":\"scattergl\"},{\"hovertemplate\":\"release_year=2007<br>total count=%{x}<br>country=%{y}<extra></extra>\",\"legendgroup\":\"2007\",\"line\":{\"color\":\"#FF6692\",\"dash\":\"solid\"},\"marker\":{\"symbol\":\"circle\"},\"mode\":\"lines\",\"name\":\"2007\",\"showlegend\":true,\"x\":[1,1,2,1,1,2,1,1,1,1,1,1,1,16,1,1,1,1,1,1,2,1,1,1,29,4,1,3,1,1,3,1,1,1],\"xaxis\":\"x\",\"y\":[\"Argentina\",\"Australia\",\"Canada\",\"Colombia\",\"Denmark\",\"Egypt\",\"France, Belgium\",\"France, Lebanon, United Kingdom\",\"Germany\",\"Germany, United States\",\"Hong Kong, China\",\"Hong Kong, Taiwan\",\"Hong Kong, United States\",\"India\",\"Japan\",\"Japan\",\"Mexico\",\"New Zealand, United Kingdom, Australia\",\"Norway\",\"Philippines\",\"Thailand\",\"United Kingdom, India\",\"United Kingdom, Ireland\",\"United Kingdom, United States\",\"United States\",\"United States\",\"United States, Australia\",\"United States, Canada\",\"United States, Germany\",\"United States, New Zealand, Japan\",\"United States, United Kingdom\",\"United States, United Kingdom\",\"United States, United Kingdom, Canada\",\"Venezuela, Colombia\"],\"yaxis\":\"y\",\"type\":\"scattergl\"},{\"hovertemplate\":\"release_year=2015<br>total count=%{x}<br>country=%{y}<extra></extra>\",\"legendgroup\":\"2015\",\"line\":{\"color\":\"#B6E880\",\"dash\":\"solid\"},\"marker\":{\"symbol\":\"circle\"},\"mode\":\"lines\",\"name\":\"2015\",\"showlegend\":true,\"x\":[2,2,1,5,4,1,1,1,1,3,11,2,1,1,1,1,2,1,1,1,1,1,1,1,2,1,1,1,1,1,1,1,2,1,8,2,3,1,1,1,1,1,1,4,1,1,1,1,1,53,9,1,1,2,4,1,1,1,1,1,1,1,2,1,1,2,9,1,1,1,1,2,1,1,5,1,1,3,1,1,2,5,1,2,1,1,10,1,1,1,4,1,1,1,1,2,2,1,11,1,10,1,1,1,8,2,2,10,3,1,1,1,17,19,1,2,1,2,1,1,1,1,1,2,1,1,1,113,32,1,2,3,1,1,1,1,2,1,1,1,1,1,1,1,1,1,1,1,1,1,1,1,1,1],\"xaxis\":\"x\",\"y\":[\"Argentina\",\"Argentina\",\"Argentina, Chile, Peru\",\"Australia\",\"Australia\",\"Australia, Iraq\",\"Australia, United Kingdom, United Arab Emirates, Canada\",\"Australia, United States\",\"Belgium\",\"Brazil\",\"Canada\",\"Canada\",\"Canada, Australia\",\"Canada, Mexico, Germany, South Africa\",\"Canada, Nigeria, United States\",\"Canada, United Kingdom, Netherlands\",\"Canada, United States\",\"Canada, United States\",\"Canada, United States, France\",\"Canada, United States, Mexico\",\"Canada, United States, United Kingdom\",\"Chile\",\"Chile\",\"Chile, Spain, Argentina, Germany\",\"China\",\"China, Germany, India, United States\",\"China, Hong Kong\",\"China, South Korea, United States\",\"Colombia\",\"Croatia, Slovenia, Serbia, Montenegro\",\"Denmark\",\"Denmark, United Kingdom, Sweden\",\"Egypt\",\"Egypt\",\"France\",\"France\",\"France, Belgium\",\"France, Canada, Belgium\",\"France, Canada, Italy, United States, China\",\"France, Germany\",\"France, Malta, United States\",\"France, Morocco\",\"France, United States, Canada\",\"Germany\",\"Germany, Australia, France, China\",\"Germany, France, Luxembourg, United Kingdom, United States\",\"Hong Kong\",\"Hong Kong, China, United States\",\"Iceland\",\"India\",\"India\",\"India, France\",\"India, Germany\",\"India, United States\",\"Indonesia\",\"Indonesia\",\"Ireland\",\"Ireland, Canada, United Kingdom, United States\",\"Ireland, United Kingdom, Greece, France, Netherlands\",\"Israel\",\"Israel, Sweden, Germany, Netherlands\",\"Israel, United States\",\"Italy\",\"Italy\",\"Italy, France\",\"Japan\",\"Japan\",\"Japan, Canada\",\"Japan, United States\",\"Japan, United States\",\"Lebanon, Qatar\",\"Malaysia\",\"Malaysia\",\"Malaysia, Singapore, Hong Kong\",\"Mexico\",\"Mexico\",\"Mexico, France\",\"Netherlands\",\"Netherlands, Belgium, United Kingdom, United States\",\"Netherlands, Denmark, South Africa\",\"New Zealand\",\"Nigeria\",\"Nigeria\",\"Pakistan\",\"Pakistan, United States\",\"Peru\",\"Philippines\",\"Poland\",\"Romania\",\"Romania, Bulgaria, Hungary\",\"Russia\",\"Russia, Spain\",\"Russia, United States, China\",\"Singapore\",\"Singapore\",\"South Africa\",\"South Africa, United States\",\"South Korea\",\"South Korea\",\"South Korea, China, United States\",\"Spain\",\"Spain\",\"Spain, France, Uruguay\",\"Switzerland\",\"Taiwan\",\"Thailand\",\"Thailand\",\"Turkey\",\"Turkey\",\"Ukraine\",\"United Arab Emirates\",\"United Arab Emirates, Jordan\",\"United Kingdom\",\"United Kingdom\",\"United Kingdom, Canada, United States\",\"United Kingdom, France\",\"United Kingdom, France\",\"United Kingdom, France, United States\",\"United Kingdom, Lithuania\",\"United Kingdom, New Zealand\",\"United Kingdom, Russia, United States\",\"United Kingdom, South Korea\",\"United Kingdom, Ukraine, United States\",\"United Kingdom, United States\",\"United Kingdom, United States\",\"United Kingdom, United States, Australia\",\"United Kingdom, United States, Germany, Denmark, Belgium, Japan\",\"United States\",\"United States\",\"United States, Argentina\",\"United States, Australia\",\"United States, Canada\",\"United States, Canada\",\"United States, Canada, Japan, Panama\",\"United States, Chile\",\"United States, Chile, Israel\",\"United States, India\",\"United States, Indonesia\",\"United States, Ireland, United Kingdom, India\",\"United States, Morocco\",\"United States, Nicaragua\",\"United States, Senegal\",\"United States, Spain, Germany\",\"United States, Sweden\",\"United States, Switzerland\",\"United States, Thailand\",\"United States, United Arab Emirates\",\"United States, United Kingdom\",\"United States, United Kingdom, Canada\",\"United States, United Kingdom, France\",\"United States, United Kingdom, Morocco\",\"United States, United Kingdom, Spain, South Korea\",\"United States, Uruguay\",\"Vietnam\"],\"yaxis\":\"y\",\"type\":\"scattergl\"},{\"hovertemplate\":\"release_year=2016<br>total count=%{x}<br>country=%{y}<extra></extra>\",\"legendgroup\":\"2016\",\"line\":{\"color\":\"#FF97FF\",\"dash\":\"solid\"},\"marker\":{\"symbol\":\"circle\"},\"mode\":\"lines\",\"name\":\"2016\",\"showlegend\":true,\"x\":[6,1,1,6,10,1,1,1,2,1,1,5,1,1,1,15,12,1,1,1,1,1,1,5,1,2,2,1,1,1,1,6,2,4,1,1,2,1,1,1,1,2,1,1,1,5,1,1,1,12,2,5,1,1,1,1,1,1,1,1,8,1,1,2,4,1,2,1,72,1,1,1,8,3,1,1,1,1,1,1,1,1,1,3,2,1,1,1,7,12,3,1,14,4,1,1,1,1,1,1,4,13,1,2,1,1,4,1,9,1,1,1,1,1,1,1,2,1,1,3,1,6,23,1,1,1,14,2,1,1,1,1,1,2,1,2,1,8,1,3,7,4,1,1,2,1,36,26,1,1,1,1,1,1,1,1,1,1,1,1,1,1,1,1,1,1,1,7,210,53,1,1,1,1,5,1,1,2,1,1,2,1,1,1,1,1,1,1,1,1,1,2,1,1,1,1],\"xaxis\":\"x\",\"y\":[\"Argentina\",\"Argentina\",\"Argentina, Spain\",\"Australia\",\"Australia\",\"Australia, India\",\"Austria\",\"Belarus\",\"Belgium, France\",\"Belgium, France, Netherlands\",\"Belgium, Ireland, Netherlands, Germany, Afghanistan\",\"Brazil\",\"Brazil\",\"Brazil, Netherlands, United States, Colombia, Austria, Germany\",\"Bulgaria, United States\",\"Canada\",\"Canada\",\"Canada, France\",\"Canada, India, Thailand, United States, United Arab Emirates\",\"Canada, Ireland, United States\",\"Canada, Spain\",\"Canada, United Kingdom\",\"Canada, United Kingdom, United States\",\"Canada, United States\",\"Canada, United States\",\"Canada, United States, United Kingdom\",\"Chile\",\"Chile\",\"Chile, Argentina, France, Spain, United States\",\"Chile, France\",\"Chile, United States, France\",\"China\",\"China\",\"China, Hong Kong\",\"China, Hong Kong, United States\",\"China, United States\",\"Colombia\",\"Colombia, Mexico, United States\",\"Czech Republic, France\",\"Czech Republic, Slovakia\",\"Denmark\",\"Denmark\",\"Denmark, China\",\"Denmark, Spain\",\"Denmark, United States\",\"Egypt\",\"Egypt\",\"Egypt, France\",\"Finland, Sweden, Norway, Latvia, Germany\",\"France\",\"France\",\"France, Belgium\",\"France, Canada\",\"France, Canada, China, Cambodia\",\"France, Canada, United States\",\"France, Germany, Czech Republic, Belgium\",\"France, Qatar\",\"France, South Korea, Japan\",\"France, United Kingdom, United States\",\"France, United States, United Kingdom, Canada\",\"Germany\",\"Germany\",\"Germany, Jordan, Netherlands\",\"Germany, United States\",\"Hong Kong\",\"Hong Kong, Canada, United States\",\"Hong Kong, China\",\"Hungary\",\"India\",\"India\",\"India, United Kingdom\",\"India, United States\",\"Indonesia\",\"Ireland\",\"Ireland\",\"Ireland, South Africa\",\"Ireland, United Kingdom\",\"Ireland, United Kingdom, Italy, United States\",\"Ireland, United Kingdom, United States\",\"Ireland, United States, United Kingdom\",\"Israel\",\"Israel\",\"Israel, Germany, France\",\"Italy\",\"Italy\",\"Italy, France\",\"Italy, Germany\",\"Italy, India\",\"Japan\",\"Japan\",\"Japan, United States\",\"Malaysia\",\"Mexico\",\"Mexico\",\"Mexico, Spain\",\"Mexico, United States\",\"Netherlands\",\"Netherlands, Belgium\",\"Netherlands, Belgium, Germany, Jordan\",\"Netherlands, Denmark, France, Germany\",\"New Zealand\",\"Nigeria\",\"Nigeria\",\"Norway\",\"Norway\",\"Norway, Germany\",\"Pakistan\",\"Peru, United States, United Kingdom\",\"Philippines\",\"Philippines, Qatar\",\"Portugal, France, Poland, United States\",\"Portugal, Spain\",\"Romania\",\"Russia\",\"Saudi Arabia\",\"Serbia, South Korea, Slovenia\",\"Singapore\",\"Singapore, France\",\"Slovenia, Croatia, Germany, Czech Republic, Qatar\",\"South Africa\",\"South Africa, United States, Germany\",\"South Korea\",\"South Korea\",\"South Korea, Canada, United States, China\",\"South Korea, China\",\"South Korea, France\",\"Spain\",\"Spain\",\"Spain, Argentina\",\"Spain, Cuba\",\"Spain, Italy, Argentina\",\"Spain, Mexico\",\"Spain, Switzerland\",\"Sweden\",\"Sweden\",\"Sweden, United States\",\"Switzerland, France\",\"Taiwan\",\"Thailand\",\"Thailand\",\"Turkey\",\"Turkey\",\"Turkey, France, Germany, Poland\",\"Turkey, India\",\"United Arab Emirates\",\"United Arab Emirates, Romania\",\"United Kingdom\",\"United Kingdom\",\"United Kingdom, Canada, Italy\",\"United Kingdom, Canada, United States\",\"United Kingdom, Finland, Germany, United States, Australia, Japan, France, Ireland\",\"United Kingdom, France\",\"United Kingdom, France, Belgium\",\"United Kingdom, France, Germany\",\"United Kingdom, France, Germany, United States\",\"United Kingdom, France, United States, Belgium, Luxembourg, China, Germany\",\"United Kingdom, Germany, Canada\",\"United Kingdom, Germany, United Arab Emirates, New Zealand\",\"United Kingdom, Hong Kong\",\"United Kingdom, Israel, Russia\",\"United Kingdom, Italy, Israel, Peru, United States\",\"United Kingdom, Jordan, Qatar, Iran\",\"United Kingdom, Poland, United States\",\"United Kingdom, Russia\",\"United Kingdom, South Africa\",\"United Kingdom, Spain, Belgium\",\"United Kingdom, Spain, United States\",\"United Kingdom, United States\",\"United States\",\"United States\",\"United States, Botswana\",\"United States, Bulgaria\",\"United States, Cambodia\",\"United States, Cambodia, Romania\",\"United States, Canada\",\"United States, Canada, China\",\"United States, Canada, Ireland\",\"United States, China\",\"United States, France\",\"United States, France, South Korea, Indonesia\",\"United States, Greece\",\"United States, Greece, Brazil\",\"United States, Hong Kong\",\"United States, Hungary\",\"United States, India, United Kingdom\",\"United States, Ireland\",\"United States, Ireland\",\"United States, Italy\",\"United States, Kazakhstan\",\"United States, Mexico\",\"United States, South Korea, China\",\"United States, Spain\",\"United States, Sweden\",\"United States, United Kingdom, Japan\",\"United States, Venezuela\",\"Vietnam\"],\"yaxis\":\"y\",\"type\":\"scattergl\"},{\"hovertemplate\":\"release_year=2017<br>total count=%{x}<br>country=%{y}<extra></extra>\",\"legendgroup\":\"2017\",\"line\":{\"color\":\"#FECB52\",\"dash\":\"solid\"},\"marker\":{\"symbol\":\"circle\"},\"mode\":\"lines\",\"name\":\"2017\",\"showlegend\":true,\"x\":[2,2,1,1,1,1,1,2,1,4,5,1,1,1,2,1,1,1,1,3,8,1,1,1,2,1,1,22,4,1,1,1,8,1,1,1,1,7,4,2,3,1,1,1,1,1,1,1,1,11,2,11,6,3,1,1,1,1,1,1,5,1,1,1,1,1,1,1,1,1,1,1,1,1,98,3,1,1,1,7,1,3,1,1,2,1,3,1,1,1,1,1,1,10,19,1,1,3,1,3,10,2,2,1,1,1,1,1,1,13,2,1,4,1,2,1,8,1,2,3,1,1,1,1,3,1,1,1,1,8,23,1,18,6,1,1,1,1,1,1,2,1,1,1,7,3,2,1,7,1,1,1,1,35,31,1,2,1,1,1,1,1,1,1,1,1,1,2,2,1,1,284,68,1,1,1,1,3,3,1,2,1,1,1,1,1,1,2,1,1,1,3,1,1,1,1,1],\"xaxis\":\"x\",\"y\":[\"Argentina\",\"Argentina\",\"Argentina, Brazil, France, Poland, Germany, Denmark\",\"Argentina, Chile\",\"Argentina, France\",\"Argentina, France, United States, Germany, Qatar\",\"Argentina, Italy\",\"Argentina, Spain\",\"Argentina, Uruguay, Spain, France\",\"Australia\",\"Australia\",\"Australia, Armenia, Japan, Jordan, Mexico, Mongolia, New Zealand, Philippines, South Africa, Sweden, United States, Uruguay\",\"Australia, Canada\",\"Australia, New Zealand, United States\",\"Australia, United Arab Emirates\",\"Australia, United States\",\"Austria\",\"Austria, United States\",\"Bangladesh\",\"Belgium\",\"Brazil\",\"Brazil\",\"Brazil, France\",\"Brazil, India, China, United States\",\"Bulgaria, United States\",\"Cambodia\",\"Cambodia, United States\",\"Canada\",\"Canada\",\"Canada, Germany, South Africa\",\"Canada, India\",\"Canada, Japan, Netherlands\",\"Canada, United States\",\"Canada, United States\",\"Canada, United States, France\",\"Chile\",\"Chile, Peru\",\"China\",\"China\",\"China, Canada, United States\",\"China, Hong Kong\",\"China, India, Nepal\",\"Colombia\",\"Colombia\",\"Cyprus\",\"Czech Republic, United Kingdom, United States\",\"Czech Republic, United States\",\"Denmark\",\"Denmark, Sweden, Israel, United States\",\"Egypt\",\"Egypt\",\"France\",\"France\",\"France, Belgium\",\"France, Belgium\",\"France, Belgium, China, United States\",\"France, Canada\",\"France, Japan\",\"France, Netherlands, South Africa, Finland\",\"Georgia, Germany, France\",\"Germany\",\"Germany\",\"Germany, Australia\",\"Germany, Belgium\",\"Germany, France, Russia\",\"Germany, Italy\",\"Germany, United Kingdom\",\"Ghana\",\"Greece, United States\",\"Guatemala\",\"Hong Kong\",\"Hong Kong, China\",\"Hungary\",\"Iceland\",\"India\",\"India\",\"India, France\",\"India, Mexico\",\"India, United States\",\"Indonesia\",\"Indonesia, Netherlands\",\"Ireland\",\"Ireland, Canada, Luxembourg, United States, United Kingdom, Philippines, India\",\"Ireland, United Kingdom\",\"Israel\",\"Israel, Germany\",\"Italy\",\"Italy\",\"Italy, France, Switzerland\",\"Italy, Turkey\",\"Italy, United States\",\"Italy, United States\",\"Italy, United States, Argentina\",\"Japan\",\"Japan\",\"Japan, United States\",\"Kuwait, United States\",\"Lebanon\",\"Lebanon\",\"Malaysia\",\"Mexico\",\"Mexico\",\"Mexico, United States\",\"Netherlands\",\"Netherlands\",\"Netherlands, Germany, Denmark, United Kingdom\",\"Netherlands, Germany, Italy, Canada\",\"Netherlands, United States\",\"New Zealand, United Kingdom\",\"Nigeria\",\"Nigeria\",\"Norway, Germany, Sweden\",\"Pakistan\",\"Pakistan\",\"Peru\",\"Peru, Germany, Norway\",\"Philippines\",\"Philippines\",\"Poland\",\"Russia\",\"Saudi Arabia, Syria, Egypt, Lebanon, Kuwait\",\"Serbia, United States\",\"Singapore, United States\",\"Somalia, Kenya, Sudan, South Africa, United States\",\"South Africa\",\"South Africa\",\"South Africa, China, United States\",\"South Africa, Germany, Netherlands, France\",\"South Africa, Nigeria\",\"South Korea\",\"South Korea\",\"South Korea, United States\",\"Spain\",\"Spain\",\"Spain, Argentina\",\"Spain, Canada, United States\",\"Spain, Colombia\",\"Spain, Germany\",\"Spain, Mexico\",\"Spain, United Kingdom\",\"Sweden\",\"Sweden, Netherlands\",\"Switzerland, France, Belgium, United States\",\"Switzerland, United States\",\"Taiwan\",\"Thailand\",\"Thailand\",\"Thailand, United States\",\"Turkey\",\"Turkey\",\"Turkey, United States\",\"Ukraine\",\"United Arab Emirates, United States, United Kingdom\",\"United Kingdom\",\"United Kingdom\",\"United Kingdom, Canada, Japan\",\"United Kingdom, Canada, United States\",\"United Kingdom, China, United States, India\",\"United Kingdom, France, Belgium, Canada, United States\",\"United Kingdom, France, Belgium, United States\",\"United Kingdom, France, United States, Belgium\",\"United Kingdom, India, Sweden\",\"United Kingdom, India, United States\",\"United Kingdom, Ireland\",\"United Kingdom, Namibia, South Africa, Zimbabwe, United States\",\"United Kingdom, Nigeria\",\"United Kingdom, Singapore\",\"United Kingdom, United States\",\"United Kingdom, United States\",\"United Kingdom, United States, Canada\",\"United Kingdom, United States, Dominican Republic\",\"United States\",\"United States\",\"United States, Australia, China\",\"United States, Australia, Samoa, United Kingdom\",\"United States, Australia, South Africa, United Kingdom\",\"United States, Bulgaria\",\"United States, Canada\",\"United States, Canada\",\"United States, Canada, Indonesia, United Kingdom, China, Singapore\",\"United States, China\",\"United States, China, Hong Kong\",\"United States, Colombia, Mexico\",\"United States, Denmark\",\"United States, Iceland\",\"United States, Japan\",\"United States, Japan\",\"United States, Mexico\",\"United States, South Africa\",\"United States, South Korea, Japan\",\"United States, Sweden\",\"United States, United Kingdom\",\"United States, United Kingdom\",\"United States, United Kingdom, Australia\",\"Uruguay\",\"Venezuela\",\"Zimbabwe\"],\"yaxis\":\"y\",\"type\":\"scattergl\"},{\"hovertemplate\":\"release_year=2018<br>total count=%{x}<br>country=%{y}<extra></extra>\",\"legendgroup\":\"2018\",\"line\":{\"color\":\"#636efa\",\"dash\":\"solid\"},\"marker\":{\"symbol\":\"circle\"},\"mode\":\"lines\",\"name\":\"2018\",\"showlegend\":true,\"x\":[8,2,2,1,6,8,1,2,1,2,1,1,8,5,1,27,9,1,1,2,5,2,1,3,1,4,6,1,2,1,1,1,1,1,6,3,1,1,1,1,2,3,8,6,1,1,8,11,6,1,1,1,1,1,1,2,1,3,2,1,1,1,1,1,1,1,1,1,81,13,1,1,1,1,1,13,1,1,1,2,1,1,1,1,2,1,1,3,1,1,1,10,30,1,1,1,1,1,2,6,11,4,1,1,1,2,4,1,3,1,16,2,1,1,2,3,1,1,1,9,1,1,1,1,1,2,1,1,1,2,1,11,17,1,2,25,8,1,4,1,1,1,1,1,3,4,1,2,4,6,3,1,3,1,1,26,29,1,1,1,1,1,1,1,1,1,1,1,1,1,11,3,1,246,110,1,1,1,1,3,3,1,1,2,2,1,1,1,1,1,1,1,1,1,5,1,1],\"xaxis\":\"x\",\"y\":[\"Argentina\",\"Argentina\",\"Argentina, Spain\",\"Argentina, Uruguay, Serbia\",\"Australia\",\"Australia\",\"Australia, Canada\",\"Australia, United States\",\"Austria, Iraq, United States\",\"Bangladesh\",\"Belgium\",\"Belgium, United Kingdom, United States\",\"Brazil\",\"Brazil\",\"Bulgaria\",\"Canada\",\"Canada\",\"Canada, Belgium\",\"Canada, Japan, United States\",\"Canada, South Africa\",\"Canada, United States\",\"Canada, United States\",\"Canada, United States, Germany\",\"Chile\",\"Chile, Argentina\",\"China\",\"China\",\"China, Canada, United States\",\"China, Hong Kong\",\"China, Japan\",\"China, Morocco, Hong Kong\",\"China, United Kingdom\",\"China, United States, Australia\",\"China, United States, United Kingdom\",\"Colombia\",\"Colombia\",\"Colombia, Mexico\",\"Colombia, Peru, United Kingdom\",\"Croatia\",\"Czech Republic, United States\",\"Denmark\",\"Denmark\",\"Egypt\",\"Egypt\",\"Egypt, Austria, United States\",\"Finland\",\"France\",\"France\",\"France, Belgium\",\"France, Belgium, Luxembourg, Cambodia,\",\"France, Belgium, Luxembourg, Romania, Canada, United States\",\"France, Canada\",\"France, China, Japan, United States\",\"France, Iran, United States\",\"France, Luxembourg, United States\",\"France, United States\",\"Georgia\",\"Germany\",\"Germany\",\"Germany, United States, Sweden\",\"Ghana\",\"Ghana, United States\",\"Hong Kong\",\"Hong Kong, China\",\"Hong Kong, Iceland, United States\",\"Hong Kong, United States\",\"Hungary\",\"Iceland, Sweden, Belgium\",\"India\",\"India\",\"India, France\",\"India, Germany, Austria\",\"India, Iran\",\"India, Nepal\",\"India, United States\",\"Indonesia\",\"Indonesia, Singapore\",\"Indonesia, South Korea, Singapore\",\"Indonesia, United States\",\"Ireland\",\"Ireland, Canada\",\"Ireland, Luxembourg, Belgium\",\"Ireland, Switzerland, United Kingdom, France, United States\",\"Ireland, United States, France\",\"Israel\",\"Israel\",\"Israel, United States\",\"Italy\",\"Italy, Switzerland, Albania, Poland\",\"Italy, Switzerland, France, Germany\",\"Jamaica, United States\",\"Japan\",\"Japan\",\"Japan, Canada, United States\",\"Japan, United States\",\"Kenya\",\"Kuwait\",\"Lebanon\",\"Lebanon\",\"Malaysia\",\"Mexico\",\"Mexico\",\"Mexico, Argentina\",\"Mexico, Netherlands\",\"Mexico, United States\",\"Mexico, United States\",\"Netherlands\",\"Netherlands, Belgium\",\"New Zealand\",\"New Zealand\",\"Nigeria\",\"Nigeria\",\"Norway\",\"Norway, Denmark, Netherlands, Sweden\",\"Norway, Iceland, United States\",\"Pakistan\",\"Pakistan, United Arab Emirates\",\"Paraguay, Argentina\",\"Peru\",\"Philippines\",\"Poland\",\"Poland, United States\",\"Poland, United States\",\"Puerto Rico, United States, Colombia\",\"Romania, United Kingdom\",\"Russia\",\"Russia, Poland, Serbia\",\"Singapore\",\"Singapore, Japan, France\",\"South Africa\",\"South Africa, United States\",\"South Korea\",\"South Korea\",\"South Korea, Japan\",\"South Korea, United States\",\"Spain\",\"Spain\",\"Spain, Belgium\",\"Spain, France\",\"Spain, Italy\",\"Spain, Portugal\",\"Switzerland\",\"Switzerland, Vatican City, Italy, Germany, France\",\"Syria, France, Lebanon, Qatar\",\"Taiwan\",\"Taiwan\",\"Taiwan, China, France, United States\",\"Thailand\",\"Thailand\",\"Turkey\",\"Turkey\",\"Turkey, South Korea\",\"United Arab Emirates\",\"United Arab Emirates, United Kingdom, India\",\"United Arab Emirates, United States\",\"United Kingdom\",\"United Kingdom\",\"United Kingdom, Belgium\",\"United Kingdom, Canada\",\"United Kingdom, Canada, United States\",\"United Kingdom, Canada, United States, Cayman Islands\",\"United Kingdom, Canada, United States, Germany\",\"United Kingdom, France, United States\",\"United Kingdom, Germany\",\"United Kingdom, Ireland, United States\",\"United Kingdom, Kenya\",\"United Kingdom, Pakistan\",\"United Kingdom, Poland\",\"United Kingdom, South Africa, Australia, United States\",\"United Kingdom, Spain, United States, Germany\",\"United Kingdom, United States\",\"United Kingdom, United States\",\"United Kingdom, United States, Czech Republic\",\"United States\",\"United States\",\"United States,\",\"United States, Australia\",\"United States, Brazil, India, Uganda, China\",\"United States, Brazil, South Korea, Mexico, Japan, Germany\",\"United States, Canada\",\"United States, Canada\",\"United States, China, Canada\",\"United States, China, Colombia\",\"United States, Colombia\",\"United States, Czech Republic\",\"United States, France\",\"United States, Israel, United Kingdom, Canada\",\"United States, Japan, Canada\",\"United States, Mexico\",\"United States, Mexico, Spain, Malta\",\"United States, New Zealand\",\"United States, Nigeria\",\"United States, South Africa\",\"United States, Taiwan\",\"United States, United Kingdom\",\"Uruguay, Argentina, Spain\",\"Uruguay, Spain, Mexico\"],\"yaxis\":\"y\",\"type\":\"scattergl\"},{\"hovertemplate\":\"release_year=2019<br>total count=%{x}<br>country=%{y}<extra></extra>\",\"legendgroup\":\"2019\",\"line\":{\"color\":\"#EF553B\",\"dash\":\"solid\"},\"marker\":{\"symbol\":\"circle\"},\"mode\":\"lines\",\"name\":\"2019\",\"showlegend\":true,\"x\":[6,5,1,4,7,2,1,2,10,7,13,5,1,1,1,1,2,1,2,4,12,1,1,1,2,5,1,1,4,1,1,1,1,1,14,11,2,1,1,1,1,1,1,1,1,1,5,3,1,2,1,1,1,74,13,1,1,1,1,1,9,1,1,5,1,1,1,1,7,18,1,1,1,1,2,2,2,1,1,1,1,1,6,9,1,2,1,1,1,1,1,1,16,1,12,1,1,1,1,1,2,1,2,1,1,1,1,3,1,3,19,1,12,10,1,1,1,1,1,1,1,1,1,2,1,2,5,4,7,1,6,1,5,18,19,1,1,1,2,1,1,1,1,1,1,1,5,2,217,134,3,5,1,1,1,1,1,1,1,4,4,1,1,1,1,1,1,1,1,1,1,1,2],\"xaxis\":\"x\",\"y\":[\"Argentina\",\"Argentina\",\"Argentina, United States\",\"Australia\",\"Australia\",\"Australia, United States\",\"Austria\",\"Belgium\",\"Brazil\",\"Brazil\",\"Canada\",\"Canada\",\"Canada, Australia\",\"Canada, Brazil\",\"Canada, Germany\",\"Canada, Norway\",\"Canada, United States\",\"Canada, United States\",\"Chile\",\"China\",\"China\",\"China, Hong Kong\",\"China, Taiwan\",\"China, United Kingdom\",\"Colombia\",\"Colombia\",\"Denmark, France, Belgium, Italy, Netherlands, United States, United Kingdom\",\"Denmark, Singapore, Canada, United States\",\"Egypt\",\"Egypt\",\"Egypt, Saudi Arabia\",\"Finland, France\",\"Finland, Germany, Belgium\",\"Finland, United States\",\"France\",\"France\",\"France, Belgium\",\"France, Belgium\",\"France, Israel, Germany, United States, United Kingdom\",\"France, Luxembourg, Canada\",\"France, Netherlands, Singapore\",\"France, New Zealand\",\"France, Senegal, Belgium\",\"France, South Korea, Japan, United States\",\"France, United Kingdom\",\"France, United States\",\"Germany\",\"Germany\",\"Ghana\",\"Hong Kong\",\"Hong Kong\",\"Hong Kong, China\",\"Hungary\",\"India\",\"India\",\"India, Turkey\",\"India, United Kingdom, Canada, United States\",\"India, United Kingdom, China, Canada, Japan, South Korea, United States\",\"India, United States\",\"India, United States\",\"Indonesia\",\"Ireland, France, Iceland, United States, Mexico, Belgium, United Kingdom, Hong Kong\",\"Israel, United States\",\"Italy\",\"Italy\",\"Italy, Belgium\",\"Italy, France\",\"Italy, United Kingdom, France\",\"Japan\",\"Japan\",\"Japan, United States\",\"Japan, United States\",\"Jordan\",\"Kenya\",\"Kuwait\",\"Kuwait\",\"Lebanon\",\"Lebanon, Palestine, Denmark, Qatar\",\"Lebanon, Syria\",\"Luxembourg\",\"Malaysia\",\"Mauritius, South Africa\",\"Mexico\",\"Mexico\",\"Mexico, Finland\",\"Mexico, United States\",\"Mexico, United States, Spain, Colombia\",\"Mozambique\",\"Namibia\",\"Netherlands\",\"Netherlands\",\"New Zealand\",\"Nigeria\",\"Norway, Sweden\",\"Philippines\",\"Philippines, Singapore\",\"Philippines, United States\",\"Poland\",\"Poland\",\"Poland, United States\",\"Romania\",\"Romania, United States\",\"Russia\",\"Senegal\",\"Serbia, United States\",\"Singapore, Malaysia\",\"Singapore, United States\",\"South Africa\",\"South Africa\",\"South Korea\",\"South Korea\",\"South Korea, United States\",\"Spain\",\"Spain\",\"Spain, France\",\"Spain, France, Canada\",\"Spain, France, Canada, United States\",\"Spain, France, Italy\",\"Spain, France, United States\",\"Spain, Germany\",\"Spain, Italy\",\"Spain, United Kingdom\",\"Spain, United States\",\"Sweden\",\"Sweden, United States\",\"Taiwan\",\"Taiwan\",\"Thailand\",\"Thailand\",\"Thailand, China, United States\",\"Turkey\",\"Turkey\",\"United Arab Emirates\",\"United Kingdom\",\"United Kingdom\",\"United Kingdom, Australia, United States\",\"United Kingdom, Belgium\",\"United Kingdom, Belgium, Sweden\",\"United Kingdom, Canada\",\"United Kingdom, Canada, United States\",\"United Kingdom, Canada, United States\",\"United Kingdom, France, Belgium, Ireland, United States\",\"United Kingdom, Hungary, Australia\",\"United Kingdom, Italy\",\"United Kingdom, Japan, United States\",\"United Kingdom, Malawi\",\"United Kingdom, United States\",\"United Kingdom, United States\",\"United States\",\"United States\",\"United States, Canada\",\"United States, Canada\",\"United States, China\",\"United States, Colombia\",\"United States, France, Denmark\",\"United States, France, Japan\",\"United States, Germany\",\"United States, India, South Korea, China\",\"United States, Japan\",\"United States, Japan\",\"United States, Mexico\",\"United States, Mexico, Colombia\",\"United States, Norway, Canada\",\"United States, Philippines\",\"United States, Poland\",\"United States, South Korea\",\"United States, United Kingdom\",\"United States, United Kingdom\",\"United States, United Kingdom, Germany\",\"Uruguay\",\"Uruguay, Argentina\",\"Uruguay, Guatemala\",\"Vietnam\"],\"yaxis\":\"y\",\"type\":\"scattergl\"},{\"hovertemplate\":\"release_year=2020<br>total count=%{x}<br>country=%{y}<extra></extra>\",\"legendgroup\":\"2020\",\"line\":{\"color\":\"#00cc96\",\"dash\":\"solid\"},\"marker\":{\"symbol\":\"circle\"},\"mode\":\"lines\",\"name\":\"2020\",\"showlegend\":true,\"x\":[7,5,1,5,4,1,1,2,1,1,9,11,1,1,1,16,10,1,1,2,3,1,1,1,2,6,1,1,2,4,1,2,1,2,1,8,8,1,1,1,1,11,9,1,1,1,1,1,1,59,16,14,1,1,1,1,10,6,7,13,1,1,1,1,1,10,8,1,1,2,2,2,12,2,3,1,4,1,5,1,1,1,1,1,2,1,1,2,3,1,4,24,1,11,10,1,1,1,1,2,8,3,1,1,1,3,1,3,3,19,25,1,1,1,1,1,1,1,1,1,3,2,1,177,159,1,1,3,1,1,1,1,1,1,1,1,1,1,1,1,1],\"xaxis\":\"x\",\"y\":[\"Argentina\",\"Argentina\",\"Argentina, United States, Mexico\",\"Australia\",\"Australia\",\"Australia, Germany\",\"Australia, New Zealand\",\"Austria\",\"Austria, Germany\",\"Belgium, Netherlands\",\"Brazil\",\"Brazil\",\"Brazil, France\",\"Brazil, United Kingdom\",\"Cameroon\",\"Canada\",\"Canada\",\"Canada, Hungary, United States\",\"Canada, United Kingdom\",\"Canada, United States\",\"Canada, United States\",\"Canada, United States, United Kingdom\",\"Chile\",\"Chile, Italy\",\"China\",\"China\",\"China, Spain, South Korea, United States\",\"China, United States\",\"Colombia\",\"Colombia\",\"Denmark\",\"Denmark, United States\",\"Egypt\",\"Egypt\",\"Finland, Germany\",\"France\",\"France\",\"France, Algeria\",\"France, Australia, Germany\",\"France, Belgium\",\"France, Brazil, Spain, Belgium\",\"Germany\",\"Germany\",\"Germany, China, United Kingdom\",\"Germany, Czech Republic\",\"Germany, France\",\"Germany, United States\",\"Iceland\",\"Iceland\",\"India\",\"India\",\"Indonesia\",\"Indonesia\",\"Indonesia, United Kingdom\",\"Israel\",\"Israel, United States\",\"Italy\",\"Italy\",\"Japan\",\"Japan\",\"Japan, United States\",\"Japan, United States\",\"Kenya\",\"Lebanon\",\"Malaysia\",\"Mexico\",\"Mexico\",\"Mexico, Spain\",\"Mexico, Spain\",\"Mexico, United States\",\"Netherlands\",\"Netherlands\",\"Nigeria\",\"Norway\",\"Norway\",\"Pakistan, United States\",\"Philippines\",\"Philippines\",\"Poland\",\"Poland\",\"Poland, United States\",\"Portugal, Spain\",\"Portugal, United States\",\"Russia\",\"Saudi Arabia\",\"Saudi Arabia\",\"Singapore\",\"South Africa\",\"South Africa\",\"South Africa, Angola\",\"South Korea\",\"South Korea\",\"South Korea, United States\",\"Spain\",\"Spain\",\"Spain, Belgium, United States\",\"Spain, Germany\",\"Spain, Germany, Denmark, United States\",\"Sweden\",\"Sweden\",\"Taiwan\",\"Taiwan\",\"Taiwan, China\",\"Taiwan, Malaysia\",\"Thailand\",\"Thailand\",\"Thailand, United States\",\"Turkey\",\"Turkey\",\"United Kingdom\",\"United Kingdom\",\"United Kingdom,\",\"United Kingdom, Australia\",\"United Kingdom, China\",\"United Kingdom, France, Germany, Spain\",\"United Kingdom, Germany\",\"United Kingdom, Germany, United States, France\",\"United Kingdom, Ireland\",\"United Kingdom, Italy\",\"United Kingdom, Spain\",\"United Kingdom, United States\",\"United Kingdom, United States\",\"United Kingdom, United States, Ireland\",\"United States\",\"United States\",\"United States, Argentina\",\"United States, Bulgaria\",\"United States, Canada\",\"United States, Canada, United Kingdom\",\"United States, China, United Kingdom\",\"United States, France\",\"United States, France, Canada\",\"United States, India\",\"United States, Japan\",\"United States, Japan\",\"United States, South Korea, China\",\"United States, Thailand\",\"United States, United Kingdom\",\"United States, United Kingdom, India\",\"Uruguay\",\"Vietnam\"],\"yaxis\":\"y\",\"type\":\"scattergl\"},{\"hovertemplate\":\"release_year=1993<br>total count=%{x}<br>country=%{y}<extra></extra>\",\"legendgroup\":\"1993\",\"line\":{\"color\":\"#ab63fa\",\"dash\":\"solid\"},\"marker\":{\"symbol\":\"circle\"},\"mode\":\"lines\",\"name\":\"1993\",\"showlegend\":true,\"x\":[1,1,2,3,1,1,1,11,2,1,1,1,1],\"xaxis\":\"x\",\"y\":[\"Argentina, Spain\",\"France, United Kingdom, India\",\"Hong Kong\",\"India\",\"New Zealand, Australia, France, United States\",\"United Kingdom\",\"United Kingdom, United States\",\"United States\",\"United States\",\"United States, Canada\",\"United States, France, Mexico\",\"United States, Ghana, Burkina Faso, United Kingdom, Germany, Ethiopia\",\"United States, Italy, France, Japan\"],\"yaxis\":\"y\",\"type\":\"scattergl\"},{\"hovertemplate\":\"release_year=2013<br>total count=%{x}<br>country=%{y}<extra></extra>\",\"legendgroup\":\"2013\",\"line\":{\"color\":\"#FFA15A\",\"dash\":\"solid\"},\"marker\":{\"symbol\":\"circle\"},\"mode\":\"lines\",\"name\":\"2013\",\"showlegend\":true,\"x\":[1,1,1,3,1,1,1,1,1,1,1,1,5,2,1,2,2,2,51,3,1,3,1,1,1,5,5,1,1,1,1,2,1,1,1,6,1,1,1,2,5,1,2,1,1,6,1,6,3,1,5,10,1,1,1,1,3,1,71,14,3,1,1,1,1,1,1,1,1,1,1,1,1,1],\"xaxis\":\"x\",\"y\":[\"Argentina, Spain\",\"Australia\",\"Australia, France\",\"Brazil\",\"Canada\",\"Canada, Spain, France\",\"Canada, United States\",\"Chile\",\"Chile\",\"Denmark, France, United States, Sweden\",\"Denmark, Germany, Belgium, United Kingdom, France\",\"Denmark, Germany, Belgium, United Kingdom, France, Sweden\",\"Egypt\",\"France, Belgium\",\"France, Belgium, Spain\",\"Germany\",\"Hong Kong\",\"Hong Kong, China\",\"India\",\"India\",\"India, Switzerland\",\"Indonesia\",\"Israel, Germany, Poland, Luxembourg, Belgium, France, United States\",\"Italy\",\"Italy, France\",\"Japan\",\"Japan\",\"Lebanon\",\"Malaysia\",\"Mexico\",\"Mexico\",\"Nigeria\",\"Nigeria\",\"Norway\",\"Pakistan\",\"Philippines\",\"Russia\",\"Saudi Arabia\",\"Singapore\",\"South Africa\",\"South Korea\",\"South Korea, Czech Republic\",\"Spain\",\"Switzerland, United Kingdom, Australia\",\"Switzerland, United Kingdom, United States\",\"Taiwan\",\"Thailand\",\"Turkey\",\"Turkey\",\"Turkey, Azerbaijan\",\"United Kingdom\",\"United Kingdom\",\"United Kingdom, Egypt, United States\",\"United Kingdom, Germany, United States\",\"United Kingdom, India, United States\",\"United Kingdom, South Africa, France\",\"United Kingdom, United States\",\"United Kingdom, United States, France\",\"United States\",\"United States\",\"United States, Canada\",\"United States, Chile\",\"United States, China, Hong Kong\",\"United States, France\",\"United States, France, Canada, Belgium\",\"United States, Hungary, Ireland, Canada\",\"United States, India\",\"United States, India, France\",\"United States, Israel, Italy, South Africa\",\"United States, Italy\",\"United States, Russia\",\"United States, Spain\",\"United States, United Kingdom, Australia\",\"United States, United Kingdom, France, Germany, Japan\"],\"yaxis\":\"y\",\"type\":\"scattergl\"},{\"hovertemplate\":\"release_year=1981<br>total count=%{x}<br>country=%{y}<extra></extra>\",\"legendgroup\":\"1981\",\"line\":{\"color\":\"#19d3f3\",\"dash\":\"solid\"},\"marker\":{\"symbol\":\"circle\"},\"mode\":\"lines\",\"name\":\"1981\",\"showlegend\":true,\"x\":[1,1,1,1,1,1,5],\"xaxis\":\"x\",\"y\":[\"Australia\",\"Egypt\",\"Hong Kong\",\"India\",\"Japan\",\"Kuwait\",\"United States\"],\"yaxis\":\"y\",\"type\":\"scattergl\"},{\"hovertemplate\":\"release_year=1992<br>total count=%{x}<br>country=%{y}<extra></extra>\",\"legendgroup\":\"1992\",\"line\":{\"color\":\"#FF6692\",\"dash\":\"solid\"},\"marker\":{\"symbol\":\"circle\"},\"mode\":\"lines\",\"name\":\"1992\",\"showlegend\":true,\"x\":[1,1,1,3,1,1,1,1,2,6,2,1,1],\"xaxis\":\"x\",\"y\":[\"Australia\",\"Australia, United Kingdom\",\"France, United States\",\"Hong Kong\",\"India\",\"Mexico\",\"United Kingdom\",\"United Kingdom\",\"United Kingdom, Japan, United States\",\"United States\",\"United States\",\"United States, France\",\"United States, United Kingdom\"],\"yaxis\":\"y\",\"type\":\"scattergl\"},{\"hovertemplate\":\"release_year=1999<br>total count=%{x}<br>country=%{y}<extra></extra>\",\"legendgroup\":\"1999\",\"line\":{\"color\":\"#B6E880\",\"dash\":\"solid\"},\"marker\":{\"symbol\":\"circle\"},\"mode\":\"lines\",\"name\":\"1999\",\"showlegend\":true,\"x\":[1,1,1,2,6,1,1,1,1,1,1,1,14,3,1,1,1],\"xaxis\":\"x\",\"y\":[\"Australia\",\"France, Egypt\",\"France, Norway, Lebanon, Belgium\",\"Germany, United States\",\"India\",\"Japan\",\"Mexico\",\"Thailand\",\"Turkey\",\"United Kingdom\",\"United Kingdom\",\"United Kingdom, United States\",\"United States\",\"United States\",\"United States, France, Japan\",\"United States, Germany, Canada\",\"United States, Mexico\"],\"yaxis\":\"y\",\"type\":\"scattergl\"},{\"hovertemplate\":\"release_year=2005<br>total count=%{x}<br>country=%{y}<extra></extra>\",\"legendgroup\":\"2005\",\"line\":{\"color\":\"#FF97FF\",\"dash\":\"solid\"},\"marker\":{\"symbol\":\"circle\"},\"mode\":\"lines\",\"name\":\"2005\",\"showlegend\":true,\"x\":[1,1,1,1,1,1,20,1,1,1,1,1,1,2,1,2,1,1,1,1,1,1,19,6,1,1,1,1,2,1,1,1,1,1],\"xaxis\":\"x\",\"y\":[\"Australia\",\"China, Hong Kong\",\"Egypt\",\"France, Japan, United States\",\"Germany, United States\",\"Germany, United States, Canada\",\"India\",\"Indonesia\",\"Japan\",\"Japan\",\"Lebanon\",\"Romania\",\"Sweden, Czech Republic, United Kingdom, Denmark, Netherlands\",\"Taiwan\",\"Thailand\",\"Turkey\",\"Turkey\",\"United Kingdom\",\"United Kingdom, Czech Republic, Germany, United States\",\"United Kingdom, France, Germany, United States\",\"United Kingdom, United States\",\"United Kingdom, United States, Japan\",\"United States\",\"United States\",\"United States, Australia\",\"United States, Canada\",\"United States, Czech Republic, United Kingdom\",\"United States, France, United Kingdom, Japan\",\"United States, Germany\",\"United States, Germany, Australia\",\"United States, New Zealand\",\"United States, United Kingdom\",\"United States, United Kingdom\",\"United States, United Kingdom, Germany\"],\"yaxis\":\"y\",\"type\":\"scattergl\"},{\"hovertemplate\":\"release_year=2009<br>total count=%{x}<br>country=%{y}<extra></extra>\",\"legendgroup\":\"2009\",\"line\":{\"color\":\"#FECB52\",\"dash\":\"solid\"},\"marker\":{\"symbol\":\"circle\"},\"mode\":\"lines\",\"name\":\"2009\",\"showlegend\":true,\"x\":[1,1,1,1,1,4,1,1,2,1,3,27,1,3,1,3,1,1,1,3,1,3,1,1,6,2,1,1,2,1,1,1,2,37,5,2,1,2,1,1,1,1,1,1,2,2,1,2,1],\"xaxis\":\"x\",\"y\":[\"Australia\",\"Canada\",\"Canada\",\"Canada, United States\",\"Czech Republic, United Kingdom, France\",\"Egypt\",\"France\",\"France, Switzerland, Spain, United States, United Arab Emirates\",\"Germany, United States\",\"Germany, United States, France\",\"Hong Kong\",\"India\",\"India\",\"Indonesia\",\"Japan\",\"Japan\",\"Malaysia\",\"Nigeria\",\"Philippines\",\"Singapore\",\"South Africa, United States, New Zealand, Canada\",\"South Korea\",\"South Korea, United States\",\"Spain, United Kingdom, United States\",\"Taiwan\",\"Thailand\",\"Turkey\",\"Turkey\",\"United Kingdom\",\"United Kingdom, Australia, France\",\"United Kingdom, Canada\",\"United Kingdom, Canada, France, United States\",\"United Kingdom, United States\",\"United States\",\"United States\",\"United States, Canada\",\"United States, Canada, France\",\"United States, Germany\",\"United States, Germany, United Kingdom, Australia\",\"United States, Germany, United Kingdom, Italy\",\"United States, Italy\",\"United States, Japan\",\"United States, New Zealand\",\"United States, United Arab Emirates\",\"United States, United Kingdom\",\"United States, United Kingdom\",\"United States, United Kingdom, Australia\",\"United States, United Kingdom, France\",\"United States, United Kingdom, New Zealand\"],\"yaxis\":\"y\",\"type\":\"scattergl\"},{\"hovertemplate\":\"release_year=2011<br>total count=%{x}<br>country=%{y}<extra></extra>\",\"legendgroup\":\"2011\",\"line\":{\"color\":\"#636efa\",\"dash\":\"solid\"},\"marker\":{\"symbol\":\"circle\"},\"mode\":\"lines\",\"name\":\"2011\",\"showlegend\":true,\"x\":[1,2,1,1,1,1,8,1,1,1,1,1,1,29,1,1,4,1,1,1,3,5,1,1,1,1,3,1,4,4,3,3,6,1,1,1,2,1,2,1,47,9,1,6,1,1,1,2,1,1,1,1,1,2],\"xaxis\":\"x\",\"y\":[\"Australia\",\"Canada\",\"Canada\",\"Canada, United States, United Kingdom, France, Luxembourg\",\"China\",\"China, Hong Kong\",\"Egypt\",\"France\",\"France\",\"France, Belgium\",\"France, Belgium, United States\",\"Hong Kong\",\"Hong Kong, China\",\"India\",\"India\",\"India, Germany\",\"Indonesia\",\"Iran, France\",\"Ireland, United States\",\"Italy, Canada, France\",\"Japan\",\"Japan\",\"Malaysia\",\"Pakistan\",\"Philippines\",\"Singapore\",\"Singapore\",\"South Korea\",\"Taiwan\",\"Thailand\",\"Turkey\",\"United Kingdom\",\"United Kingdom\",\"United Kingdom, France\",\"United Kingdom, Germany, France, United States\",\"United Kingdom, Nigeria\",\"United Kingdom, United States\",\"United Kingdom, United States, France\",\"United Kingdom, United States, Spain, Germany, Greece, Canada\",\"United Kingdom, United States, Spain, Germany, Greece, Canada\",\"United States\",\"United States\",\"United States, Belgium, Canada, France\",\"United States, Canada\",\"United States, China\",\"United States, France, Japan\",\"United States, Germany\",\"United States, India\",\"United States, Italy\",\"United States, Japan\",\"United States, New Zealand, United Kingdom\",\"United States, Russia\",\"United States, Sweden, Norway\",\"United States, United Kingdom\"],\"yaxis\":\"y\",\"type\":\"scattergl\"},{\"hovertemplate\":\"release_year=2012<br>total count=%{x}<br>country=%{y}<extra></extra>\",\"legendgroup\":\"2012\",\"line\":{\"color\":\"#EF553B\",\"dash\":\"solid\"},\"marker\":{\"symbol\":\"circle\"},\"mode\":\"lines\",\"name\":\"2012\",\"showlegend\":true,\"x\":[2,1,1,1,3,1,1,2,2,1,9,1,1,1,1,36,2,1,1,1,2,4,1,1,2,1,1,1,3,1,1,1,2,2,1,1,10,1,1,5,3,3,2,7,1,2,1,1,2,1,59,11,1,6,1,1,1,3,1,1,1,1,1],\"xaxis\":\"x\",\"y\":[\"Australia\",\"Australia\",\"Brazil\",\"Brazil, United States\",\"Canada\",\"Canada, France, United States\",\"Canada, United States\",\"China\",\"Colombia\",\"Denmark\",\"Egypt\",\"France\",\"France\",\"France, United States\",\"Germany, United States, Hong Kong, Singapore\",\"India\",\"India\",\"Indonesia\",\"Indonesia, Singapore\",\"Israel\",\"Japan\",\"Japan\",\"Lebanon, United Arab Emirates\",\"Lebanon, United States, United Arab Emirates\",\"Mexico\",\"Nigeria\",\"Nigeria, United Kingdom\",\"Pakistan\",\"Philippines\",\"Philippines, Canada, United Kingdom, United States\",\"Saudi Arabia, Netherlands, Germany, Jordan, United Arab Emirates, United States\",\"Singapore\",\"Singapore\",\"South Africa\",\"South Africa, United States, Japan\",\"South Korea\",\"South Korea\",\"Spain, Thailand, United States\",\"Sweden, United Kingdom, Finland\",\"Taiwan\",\"Thailand\",\"Turkey\",\"United Kingdom\",\"United Kingdom\",\"United Kingdom, Denmark, Canada, Croatia\",\"United Kingdom, Germany\",\"United Kingdom, India\",\"United Kingdom, Norway, Denmark, Germany, Sweden\",\"United Kingdom, United States\",\"United Kingdom, United States, Spain, Germany, Greece, Canada\",\"United States\",\"United States\",\"United States, Brazil\",\"United States, Canada\",\"United States, Canada\",\"United States, Canada, Belgium, United Kingdom\",\"United States, Chile\",\"United States, France\",\"United States, India\",\"United States, India, Bangladesh\",\"United States, Mexico\",\"United States, Russia\",\"United States, United Kingdom\"],\"yaxis\":\"y\",\"type\":\"scattergl\"},{\"hovertemplate\":\"release_year=2010<br>total count=%{x}<br>country=%{y}<extra></extra>\",\"legendgroup\":\"2010\",\"line\":{\"color\":\"#00cc96\",\"dash\":\"solid\"},\"marker\":{\"symbol\":\"circle\"},\"mode\":\"lines\",\"name\":\"2010\",\"showlegend\":true,\"x\":[1,3,1,1,1,2,1,5,1,1,1,1,1,3,1,1,32,3,1,1,1,1,1,1,2,5,1,2,2,1,1,1,1,1,2,1,1,4,4,1,1,2,3,1,1,1,1,48,6,2,1,3,1,3,1,1,1,1,2,1,1],\"xaxis\":\"x\",\"y\":[\"Australia, France, Ireland\",\"Canada\",\"Canada\",\"Canada, Nigeria\",\"Canada, United States, India, United Kingdom\",\"China\",\"Colombia\",\"Egypt\",\"France\",\"France, United Kingdom, United States\",\"France, United States\",\"Germany, France, United States, Canada, United Kingdom\",\"Germany, Sri Lanka\",\"Hong Kong\",\"Hong Kong, China\",\"Hong Kong, China, Singapore\",\"India\",\"India\",\"India, Australia\",\"India, Germany, France\",\"India, Japan\",\"India, Pakistan\",\"India, United States\",\"Ireland, Canada, United States, United Kingdom\",\"Japan\",\"Japan\",\"Japan, United States\",\"Lebanon\",\"Mexico\",\"Mexico, United States\",\"Nigeria\",\"Philippines\",\"Romania, France, Switzerland, Germany\",\"South Africa\",\"South Korea\",\"Spain, Mexico, France\",\"Taiwan\",\"Thailand\",\"Turkey\",\"Turkey\",\"Turkey, United States\",\"United Kingdom\",\"United Kingdom\",\"United Kingdom, Australia, Canada, United States\",\"United Kingdom, France, Spain, United States\",\"United Kingdom, France, United States\",\"United Kingdom, United States, Australia\",\"United States\",\"United States\",\"United States, Australia\",\"United States, Australia, Mexico\",\"United States, Canada\",\"United States, Canada\",\"United States, France\",\"United States, France, Italy, United Kingdom\",\"United States, Ireland\",\"United States, Japan\",\"United States, Nigeria\",\"United States, United Kingdom\",\"United States, United Kingdom, Australia\",\"United States, United Kingdom, Canada, Japan\"],\"yaxis\":\"y\",\"type\":\"scattergl\"},{\"hovertemplate\":\"release_year=1979<br>total count=%{x}<br>country=%{y}<extra></extra>\",\"legendgroup\":\"1979\",\"line\":{\"color\":\"#ab63fa\",\"dash\":\"solid\"},\"marker\":{\"symbol\":\"circle\"},\"mode\":\"lines\",\"name\":\"1979\",\"showlegend\":true,\"x\":[1,1,1,2,1,1,1,1,2],\"xaxis\":\"x\",\"y\":[\"Australia, United States\",\"Egypt\",\"Egypt, Algeria\",\"India\",\"Japan\",\"Lebanon, Canada, France\",\"Mexico\",\"United Kingdom\",\"United States\"],\"yaxis\":\"y\",\"type\":\"scattergl\"},{\"hovertemplate\":\"release_year=1990<br>total count=%{x}<br>country=%{y}<extra></extra>\",\"legendgroup\":\"1990\",\"line\":{\"color\":\"#FFA15A\",\"dash\":\"solid\"},\"marker\":{\"symbol\":\"circle\"},\"mode\":\"lines\",\"name\":\"1990\",\"showlegend\":true,\"x\":[1,1,4,1,8,3,1,1],\"xaxis\":\"x\",\"y\":[\"Australia, United States\",\"Hong Kong\",\"India\",\"Poland\",\"United States\",\"United States\",\"United States, Mexico\",\"United States, United Kingdom\"],\"yaxis\":\"y\",\"type\":\"scattergl\"},{\"hovertemplate\":\"release_year=2001<br>total count=%{x}<br>country=%{y}<extra></extra>\",\"legendgroup\":\"2001\",\"line\":{\"color\":\"#19d3f3\",\"dash\":\"solid\"},\"marker\":{\"symbol\":\"circle\"},\"mode\":\"lines\",\"name\":\"2001\",\"showlegend\":true,\"x\":[1,1,1,7,1,1,1,1,1,1,1,20,3,1,1,1,1],\"xaxis\":\"x\",\"y\":[\"Australia, United States\",\"Germany, Canada, United States\",\"Hong Kong\",\"India\",\"India, United Kingdom\",\"Japan\",\"Japan\",\"Mexico\",\"Turkey\",\"United Kingdom\",\"United Kingdom\",\"United States\",\"United States\",\"United States, Germany, Canada\",\"United States, Spain\",\"United States, United Kingdom\",\"United States, United Kingdom, Italy\"],\"yaxis\":\"y\",\"type\":\"scattergl\"},{\"hovertemplate\":\"release_year=2002<br>total count=%{x}<br>country=%{y}<extra></extra>\",\"legendgroup\":\"2002\",\"line\":{\"color\":\"#FF6692\",\"dash\":\"solid\"},\"marker\":{\"symbol\":\"circle\"},\"mode\":\"lines\",\"name\":\"2002\",\"showlegend\":true,\"x\":[1,1,1,1,10,1,2,1,1,1,2,1,1,1,1,1,1,15,1,1,1,1,1,1,1],\"xaxis\":\"x\",\"y\":[\"Brazil, France, Germany\",\"France\",\"France, United States\",\"Hong Kong\",\"India\",\"Indonesia\",\"Japan\",\"Japan\",\"New Zealand, United States\",\"South Africa, United States\",\"Taiwan\",\"Thailand\",\"United Kingdom\",\"United Kingdom, France, Poland, Germany, United States\",\"United Kingdom, Germany, Canada, United States\",\"United Kingdom, United States\",\"United Kingdom, United States, France, Germany\",\"United States\",\"United States\",\"United States, Canada\",\"United States, Germany\",\"United States, Germany, Canada\",\"United States, Italy\",\"United States, Netherlands, Japan, France\",\"United States, United Arab Emirates\"],\"yaxis\":\"y\",\"type\":\"scattergl\"},{\"hovertemplate\":\"release_year=2008<br>total count=%{x}<br>country=%{y}<extra></extra>\",\"legendgroup\":\"2008\",\"line\":{\"color\":\"#B6E880\",\"dash\":\"solid\"},\"marker\":{\"symbol\":\"circle\"},\"mode\":\"lines\",\"name\":\"2008\",\"showlegend\":true,\"x\":[1,1,1,1,1,1,1,5,1,1,1,2,1,1,25,1,3,2,8,3,1,1,1,1,4,2,1,2,1,39,6,1,2,2,2,1,1,2,1],\"xaxis\":\"x\",\"y\":[\"Canada\",\"Canada, United States\",\"Chile, Brazil\",\"China\",\"China\",\"Colombia\",\"Colombia, Mexico, United States\",\"Egypt\",\"France\",\"Germany\",\"Germany, United Kingdom, United States\",\"Germany, United States\",\"Hong Kong\",\"Hong Kong, China\",\"India\",\"India, United States\",\"Indonesia\",\"Japan\",\"Japan\",\"Philippines\",\"Saudi Arabia\",\"Spain\",\"Taiwan\",\"Thailand\",\"United Kingdom\",\"United Kingdom\",\"United Kingdom, Germany, United States\",\"United Kingdom, United States\",\"United Kingdom, United States, Australia\",\"United States\",\"United States\",\"United States, Australia\",\"United States, Canada\",\"United States, China\",\"United States, France\",\"United States, South Africa\",\"United States, South Korea\",\"United States, United Kingdom\",\"United States, United Kingdom, France\"],\"yaxis\":\"y\",\"type\":\"scattergl\"},{\"hovertemplate\":\"release_year=1997<br>total count=%{x}<br>country=%{y}<extra></extra>\",\"legendgroup\":\"1997\",\"line\":{\"color\":\"#FF97FF\",\"dash\":\"solid\"},\"marker\":{\"symbol\":\"circle\"},\"mode\":\"lines\",\"name\":\"1997\",\"showlegend\":true,\"x\":[1,2,1,1,1,3,1,3,20,2,2],\"xaxis\":\"x\",\"y\":[\"Canada, United States\",\"Canada, United States\",\"France, Egypt\",\"Hong Kong\",\"Hong Kong, China\",\"India\",\"Japan\",\"United Kingdom, United States\",\"United States\",\"United States, France, Japan\",\"United States, Germany\"],\"yaxis\":\"y\",\"type\":\"scattergl\"},{\"hovertemplate\":\"release_year=2003<br>total count=%{x}<br>country=%{y}<extra></extra>\",\"legendgroup\":\"2003\",\"line\":{\"color\":\"#FECB52\",\"dash\":\"solid\"},\"marker\":{\"symbol\":\"circle\"},\"mode\":\"lines\",\"name\":\"2003\",\"showlegend\":true,\"x\":[1,12,1,1,2,2,1,1,1,1,1,1,1,19,3,2,1,1,1,1,1,1,1,1,1],\"xaxis\":\"x\",\"y\":[\"Colombia, United States\",\"India\",\"India, France\",\"Indonesia\",\"Japan\",\"Japan\",\"Lebanon, France\",\"Malaysia\",\"New Zealand, United States\",\"Nigeria\",\"Taiwan\",\"United Kingdom, Australia, France, United States\",\"United Kingdom, Germany, Spain, United States\",\"United States\",\"United States\",\"United States, Australia\",\"United States, Canada\",\"United States, France, Canada, Spain\",\"United States, Germany\",\"United States, Germany, United Kingdom\",\"United States, Italy, Romania, United Kingdom\",\"United States, Japan\",\"United States, New Zealand\",\"United States, United Kingdom\",\"United States, United Kingdom, Germany, Hungary\"],\"yaxis\":\"y\",\"type\":\"scattergl\"},{\"hovertemplate\":\"release_year=1989<br>total count=%{x}<br>country=%{y}<extra></extra>\",\"legendgroup\":\"1989\",\"line\":{\"color\":\"#636efa\",\"dash\":\"solid\"},\"marker\":{\"symbol\":\"circle\"},\"mode\":\"lines\",\"name\":\"1989\",\"showlegend\":true,\"x\":[1,1,1,2,1,1,8,1],\"xaxis\":\"x\",\"y\":[\"Denmark, France, Poland\",\"France, Egypt\",\"Hong Kong\",\"India\",\"Ireland, United Kingdom, United States\",\"United Kingdom\",\"United States\",\"United States, Canada\"],\"yaxis\":\"y\",\"type\":\"scattergl\"},{\"hovertemplate\":\"release_year=1954<br>total count=%{x}<br>country=%{y}<extra></extra>\",\"legendgroup\":\"1954\",\"line\":{\"color\":\"#EF553B\",\"dash\":\"solid\"},\"marker\":{\"symbol\":\"circle\"},\"mode\":\"lines\",\"name\":\"1954\",\"showlegend\":true,\"x\":[1,1],\"xaxis\":\"x\",\"y\":[\"Egypt\",\"United States\"],\"yaxis\":\"y\",\"type\":\"scattergl\"},{\"hovertemplate\":\"release_year=1956<br>total count=%{x}<br>country=%{y}<extra></extra>\",\"legendgroup\":\"1956\",\"line\":{\"color\":\"#00cc96\",\"dash\":\"solid\"},\"marker\":{\"symbol\":\"circle\"},\"mode\":\"lines\",\"name\":\"1956\",\"showlegend\":true,\"x\":[1,1],\"xaxis\":\"x\",\"y\":[\"Egypt\",\"United States\"],\"yaxis\":\"y\",\"type\":\"scattergl\"},{\"hovertemplate\":\"release_year=1958<br>total count=%{x}<br>country=%{y}<extra></extra>\",\"legendgroup\":\"1958\",\"line\":{\"color\":\"#ab63fa\",\"dash\":\"solid\"},\"marker\":{\"symbol\":\"circle\"},\"mode\":\"lines\",\"name\":\"1958\",\"showlegend\":true,\"x\":[1,2],\"xaxis\":\"x\",\"y\":[\"Egypt\",\"United States\"],\"yaxis\":\"y\",\"type\":\"scattergl\"},{\"hovertemplate\":\"release_year=1963<br>total count=%{x}<br>country=%{y}<extra></extra>\",\"legendgroup\":\"1963\",\"line\":{\"color\":\"#FFA15A\",\"dash\":\"solid\"},\"marker\":{\"symbol\":\"circle\"},\"mode\":\"lines\",\"name\":\"1963\",\"showlegend\":true,\"x\":[1,1],\"xaxis\":\"x\",\"y\":[\"Egypt\",\"United States\"],\"yaxis\":\"y\",\"type\":\"scattergl\"},{\"hovertemplate\":\"release_year=1970<br>total count=%{x}<br>country=%{y}<extra></extra>\",\"legendgroup\":\"1970\",\"line\":{\"color\":\"#19d3f3\",\"dash\":\"solid\"},\"marker\":{\"symbol\":\"circle\"},\"mode\":\"lines\",\"name\":\"1970\",\"showlegend\":true,\"x\":[1,1],\"xaxis\":\"x\",\"y\":[\"Egypt\",\"Poland\"],\"yaxis\":\"y\",\"type\":\"scattergl\"},{\"hovertemplate\":\"release_year=1973<br>total count=%{x}<br>country=%{y}<extra></extra>\",\"legendgroup\":\"1973\",\"line\":{\"color\":\"#FF6692\",\"dash\":\"solid\"},\"marker\":{\"symbol\":\"circle\"},\"mode\":\"lines\",\"name\":\"1973\",\"showlegend\":true,\"x\":[1,1,1,2,1,4],\"xaxis\":\"x\",\"y\":[\"Egypt\",\"Hong Kong\",\"Hong Kong, United States\",\"India\",\"Poland\",\"United States\"],\"yaxis\":\"y\",\"type\":\"scattergl\"},{\"hovertemplate\":\"release_year=1976<br>total count=%{x}<br>country=%{y}<extra></extra>\",\"legendgroup\":\"1976\",\"line\":{\"color\":\"#B6E880\",\"dash\":\"solid\"},\"marker\":{\"symbol\":\"circle\"},\"mode\":\"lines\",\"name\":\"1976\",\"showlegend\":true,\"x\":[2,2,5],\"xaxis\":\"x\",\"y\":[\"Egypt\",\"India\",\"United States\"],\"yaxis\":\"y\",\"type\":\"scattergl\"},{\"hovertemplate\":\"release_year=1982<br>total count=%{x}<br>country=%{y}<extra></extra>\",\"legendgroup\":\"1982\",\"line\":{\"color\":\"#FF97FF\",\"dash\":\"solid\"},\"marker\":{\"symbol\":\"circle\"},\"mode\":\"lines\",\"name\":\"1982\",\"showlegend\":true,\"x\":[1,1,2,6,1,1,2,1],\"xaxis\":\"x\",\"y\":[\"Egypt\",\"France, Lebanon\",\"Hong Kong\",\"India\",\"Poland\",\"United Kingdom\",\"United States\",\"United States, United Kingdom\"],\"yaxis\":\"y\",\"type\":\"scattergl\"},{\"hovertemplate\":\"release_year=1994<br>total count=%{x}<br>country=%{y}<extra></extra>\",\"legendgroup\":\"1994\",\"line\":{\"color\":\"#FECB52\",\"dash\":\"solid\"},\"marker\":{\"symbol\":\"circle\"},\"mode\":\"lines\",\"name\":\"1994\",\"showlegend\":true,\"x\":[1,1,5,3,8,1,1,1],\"xaxis\":\"x\",\"y\":[\"Egypt, France\",\"Hong Kong\",\"India\",\"United Kingdom\",\"United States\",\"United States\",\"United States, France\",\"United States, Mexico\"],\"yaxis\":\"y\",\"type\":\"scattergl\"},{\"hovertemplate\":\"release_year=1974<br>total count=%{x}<br>country=%{y}<extra></extra>\",\"legendgroup\":\"1974\",\"line\":{\"color\":\"#636efa\",\"dash\":\"solid\"},\"marker\":{\"symbol\":\"circle\"},\"mode\":\"lines\",\"name\":\"1974\",\"showlegend\":true,\"x\":[1,2,1,3],\"xaxis\":\"x\",\"y\":[\"France\",\"India\",\"United Kingdom\",\"United States\"],\"yaxis\":\"y\",\"type\":\"scattergl\"},{\"hovertemplate\":\"release_year=1991<br>total count=%{x}<br>country=%{y}<extra></extra>\",\"legendgroup\":\"1991\",\"line\":{\"color\":\"#EF553B\",\"dash\":\"solid\"},\"marker\":{\"symbol\":\"circle\"},\"mode\":\"lines\",\"name\":\"1991\",\"showlegend\":true,\"x\":[1,1,1,1,1,9,1],\"xaxis\":\"x\",\"y\":[\"France, Belgium, Italy\",\"India, Soviet Union\",\"Mexico\",\"United Kingdom\",\"United Kingdom, United States\",\"United States\",\"United States, Hong Kong\"],\"yaxis\":\"y\",\"type\":\"scattergl\"},{\"hovertemplate\":\"release_year=2000<br>total count=%{x}<br>country=%{y}<extra></extra>\",\"legendgroup\":\"2000\",\"line\":{\"color\":\"#00cc96\",\"dash\":\"solid\"},\"marker\":{\"symbol\":\"circle\"},\"mode\":\"lines\",\"name\":\"2000\",\"showlegend\":true,\"x\":[1,1,1,7,1,1,1,1,16,2,2,1,1],\"xaxis\":\"x\",\"y\":[\"France, Japan, United States\",\"Germany, United States\",\"Germany, United States, United Kingdom, Canada\",\"India\",\"Japan\",\"Taiwan, Hong Kong, United States, China\",\"United Kingdom\",\"United Kingdom, France\",\"United States\",\"United States\",\"United States, Canada\",\"United States, France, United Kingdom\",\"United States, Germany\"],\"yaxis\":\"y\",\"type\":\"scattergl\"},{\"hovertemplate\":\"release_year=1975<br>total count=%{x}<br>country=%{y}<extra></extra>\",\"legendgroup\":\"1975\",\"line\":{\"color\":\"#ab63fa\",\"dash\":\"solid\"},\"marker\":{\"symbol\":\"circle\"},\"mode\":\"lines\",\"name\":\"1975\",\"showlegend\":true,\"x\":[1,2,1,1,1,1],\"xaxis\":\"x\",\"y\":[\"Hong Kong\",\"India\",\"Lebanon\",\"Poland,\",\"United Kingdom\",\"United States\"],\"yaxis\":\"y\",\"type\":\"scattergl\"},{\"hovertemplate\":\"release_year=1978<br>total count=%{x}<br>country=%{y}<extra></extra>\",\"legendgroup\":\"1978\",\"line\":{\"color\":\"#FFA15A\",\"dash\":\"solid\"},\"marker\":{\"symbol\":\"circle\"},\"mode\":\"lines\",\"name\":\"1978\",\"showlegend\":true,\"x\":[2,1,1,3],\"xaxis\":\"x\",\"y\":[\"Hong Kong\",\"India\",\"Poland\",\"United States\"],\"yaxis\":\"y\",\"type\":\"scattergl\"},{\"hovertemplate\":\"release_year=1980<br>total count=%{x}<br>country=%{y}<extra></extra>\",\"legendgroup\":\"1980\",\"line\":{\"color\":\"#19d3f3\",\"dash\":\"solid\"},\"marker\":{\"symbol\":\"circle\"},\"mode\":\"lines\",\"name\":\"1980\",\"showlegend\":true,\"x\":[2,2,1,1,5],\"xaxis\":\"x\",\"y\":[\"Hong Kong\",\"India\",\"Lebanon, Canada, France\",\"Soviet Union, India\",\"United States\"],\"yaxis\":\"y\",\"type\":\"scattergl\"},{\"hovertemplate\":\"release_year=1983<br>total count=%{x}<br>country=%{y}<extra></extra>\",\"legendgroup\":\"1983\",\"line\":{\"color\":\"#FF6692\",\"dash\":\"solid\"},\"marker\":{\"symbol\":\"circle\"},\"mode\":\"lines\",\"name\":\"1983\",\"showlegend\":true,\"x\":[3,4,1,2],\"xaxis\":\"x\",\"y\":[\"Hong Kong\",\"India\",\"Poland\",\"United States\"],\"yaxis\":\"y\",\"type\":\"scattergl\"},{\"hovertemplate\":\"release_year=1984<br>total count=%{x}<br>country=%{y}<extra></extra>\",\"legendgroup\":\"1984\",\"line\":{\"color\":\"#B6E880\",\"dash\":\"solid\"},\"marker\":{\"symbol\":\"circle\"},\"mode\":\"lines\",\"name\":\"1984\",\"showlegend\":true,\"x\":[3,1,1,1,5],\"xaxis\":\"x\",\"y\":[\"Hong Kong\",\"India\",\"India, Soviet Union\",\"Italy, United States\",\"United States\"],\"yaxis\":\"y\",\"type\":\"scattergl\"},{\"hovertemplate\":\"release_year=1988<br>total count=%{x}<br>country=%{y}<extra></extra>\",\"legendgroup\":\"1988\",\"line\":{\"color\":\"#FF97FF\",\"dash\":\"solid\"},\"marker\":{\"symbol\":\"circle\"},\"mode\":\"lines\",\"name\":\"1988\",\"showlegend\":true,\"x\":[1,2,12,2],\"xaxis\":\"x\",\"y\":[\"Hong Kong\",\"India\",\"United States\",\"United States\"],\"yaxis\":\"y\",\"type\":\"scattergl\"},{\"hovertemplate\":\"release_year=1995<br>total count=%{x}<br>country=%{y}<extra></extra>\",\"legendgroup\":\"1995\",\"line\":{\"color\":\"#FECB52\",\"dash\":\"solid\"},\"marker\":{\"symbol\":\"circle\"},\"mode\":\"lines\",\"name\":\"1995\",\"showlegend\":true,\"x\":[2,5,1,1,14,1],\"xaxis\":\"x\",\"y\":[\"Hong Kong\",\"India\",\"Japan\",\"United Kingdom, United States\",\"United States\",\"United States\"],\"yaxis\":\"y\",\"type\":\"scattergl\"},{\"hovertemplate\":\"release_year=1986<br>total count=%{x}<br>country=%{y}<extra></extra>\",\"legendgroup\":\"1986\",\"line\":{\"color\":\"#636efa\",\"dash\":\"solid\"},\"marker\":{\"symbol\":\"circle\"},\"mode\":\"lines\",\"name\":\"1986\",\"showlegend\":true,\"x\":[1,2,1,1,1,6,1],\"xaxis\":\"x\",\"y\":[\"Hong Kong, China\",\"India\",\"Italy, South Africa, West Germany, Australia, United States\",\"Japan\",\"United Kingdom, United States\",\"United States\",\"United States, United Kingdom\"],\"yaxis\":\"y\",\"type\":\"scattergl\"},{\"hovertemplate\":\"release_year=1959<br>total count=%{x}<br>country=%{y}<extra></extra>\",\"legendgroup\":\"1959\",\"line\":{\"color\":\"#EF553B\",\"dash\":\"solid\"},\"marker\":{\"symbol\":\"circle\"},\"mode\":\"lines\",\"name\":\"1959\",\"showlegend\":true,\"x\":[1],\"xaxis\":\"x\",\"y\":[\"India\"],\"yaxis\":\"y\",\"type\":\"scattergl\"},{\"hovertemplate\":\"release_year=1962<br>total count=%{x}<br>country=%{y}<extra></extra>\",\"legendgroup\":\"1962\",\"line\":{\"color\":\"#00cc96\",\"dash\":\"solid\"},\"marker\":{\"symbol\":\"circle\"},\"mode\":\"lines\",\"name\":\"1962\",\"showlegend\":true,\"x\":[1,1,1],\"xaxis\":\"x\",\"y\":[\"India\",\"United Kingdom, United States\",\"United States\"],\"yaxis\":\"y\",\"type\":\"scattergl\"},{\"hovertemplate\":\"release_year=1964<br>total count=%{x}<br>country=%{y}<extra></extra>\",\"legendgroup\":\"1964\",\"line\":{\"color\":\"#ab63fa\",\"dash\":\"solid\"},\"marker\":{\"symbol\":\"circle\"},\"mode\":\"lines\",\"name\":\"1964\",\"showlegend\":true,\"x\":[1,1],\"xaxis\":\"x\",\"y\":[\"India\",\"United States\"],\"yaxis\":\"y\",\"type\":\"scattergl\"},{\"hovertemplate\":\"release_year=1966<br>total count=%{x}<br>country=%{y}<extra></extra>\",\"legendgroup\":\"1966\",\"line\":{\"color\":\"#FFA15A\",\"dash\":\"solid\"},\"marker\":{\"symbol\":\"circle\"},\"mode\":\"lines\",\"name\":\"1966\",\"showlegend\":true,\"x\":[1],\"xaxis\":\"x\",\"y\":[\"India\"],\"yaxis\":\"y\",\"type\":\"scattergl\"},{\"hovertemplate\":\"release_year=1969<br>total count=%{x}<br>country=%{y}<extra></extra>\",\"legendgroup\":\"1969\",\"line\":{\"color\":\"#19d3f3\",\"dash\":\"solid\"},\"marker\":{\"symbol\":\"circle\"},\"mode\":\"lines\",\"name\":\"1969\",\"showlegend\":true,\"x\":[1,1],\"xaxis\":\"x\",\"y\":[\"India\",\"United States\"],\"yaxis\":\"y\",\"type\":\"scattergl\"},{\"hovertemplate\":\"release_year=1971<br>total count=%{x}<br>country=%{y}<extra></extra>\",\"legendgroup\":\"1971\",\"line\":{\"color\":\"#FF6692\",\"dash\":\"solid\"},\"marker\":{\"symbol\":\"circle\"},\"mode\":\"lines\",\"name\":\"1971\",\"showlegend\":true,\"x\":[2,1,1,1],\"xaxis\":\"x\",\"y\":[\"India\",\"United Kingdom, United States\",\"United States\",\"United States, East Germany, West Germany\"],\"yaxis\":\"y\",\"type\":\"scattergl\"},{\"hovertemplate\":\"release_year=1972<br>total count=%{x}<br>country=%{y}<extra></extra>\",\"legendgroup\":\"1972\",\"line\":{\"color\":\"#B6E880\",\"dash\":\"solid\"},\"marker\":{\"symbol\":\"circle\"},\"mode\":\"lines\",\"name\":\"1972\",\"showlegend\":true,\"x\":[2,1,2],\"xaxis\":\"x\",\"y\":[\"India\",\"United Kingdom, West Germany\",\"United States\"],\"yaxis\":\"y\",\"type\":\"scattergl\"},{\"hovertemplate\":\"release_year=1977<br>total count=%{x}<br>country=%{y}<extra></extra>\",\"legendgroup\":\"1977\",\"line\":{\"color\":\"#FF97FF\",\"dash\":\"solid\"},\"marker\":{\"symbol\":\"circle\"},\"mode\":\"lines\",\"name\":\"1977\",\"showlegend\":true,\"x\":[2,1,2,1,1],\"xaxis\":\"x\",\"y\":[\"India\",\"United Kingdom\",\"United States\",\"United States, United Kingdom\",\"West Germany\"],\"yaxis\":\"y\",\"type\":\"scattergl\"},{\"hovertemplate\":\"release_year=1987<br>total count=%{x}<br>country=%{y}<extra></extra>\",\"legendgroup\":\"1987\",\"line\":{\"color\":\"#FECB52\",\"dash\":\"solid\"},\"marker\":{\"symbol\":\"circle\"},\"mode\":\"lines\",\"name\":\"1987\",\"showlegend\":true,\"x\":[1,7],\"xaxis\":\"x\",\"y\":[\"India\",\"United States\"],\"yaxis\":\"y\",\"type\":\"scattergl\"},{\"hovertemplate\":\"release_year=1996<br>total count=%{x}<br>country=%{y}<extra></extra>\",\"legendgroup\":\"1996\",\"line\":{\"color\":\"#636efa\",\"dash\":\"solid\"},\"marker\":{\"symbol\":\"circle\"},\"mode\":\"lines\",\"name\":\"1996\",\"showlegend\":true,\"x\":[3,1,15,1,1],\"xaxis\":\"x\",\"y\":[\"India\",\"United Kingdom\",\"United States\",\"United States\",\"United States, France, Japan\"],\"yaxis\":\"y\",\"type\":\"scattergl\"},{\"hovertemplate\":\"release_year=1960<br>total count=%{x}<br>country=%{y}<extra></extra>\",\"legendgroup\":\"1960\",\"line\":{\"color\":\"#EF553B\",\"dash\":\"solid\"},\"marker\":{\"symbol\":\"circle\"},\"mode\":\"lines\",\"name\":\"1960\",\"showlegend\":true,\"x\":[1,2],\"xaxis\":\"x\",\"y\":[\"India, Malaysia\",\"United States\"],\"yaxis\":\"y\",\"type\":\"scattergl\"},{\"hovertemplate\":\"release_year=1955<br>total count=%{x}<br>country=%{y}<extra></extra>\",\"legendgroup\":\"1955\",\"line\":{\"color\":\"#00cc96\",\"dash\":\"solid\"},\"marker\":{\"symbol\":\"circle\"},\"mode\":\"lines\",\"name\":\"1955\",\"showlegend\":true,\"x\":[1,1,1],\"xaxis\":\"x\",\"y\":[\"Italy\",\"Italy, France\",\"United States\"],\"yaxis\":\"y\",\"type\":\"scattergl\"},{\"hovertemplate\":\"release_year=1968<br>total count=%{x}<br>country=%{y}<extra></extra>\",\"legendgroup\":\"1968\",\"line\":{\"color\":\"#ab63fa\",\"dash\":\"solid\"},\"marker\":{\"symbol\":\"circle\"},\"mode\":\"lines\",\"name\":\"1968\",\"showlegend\":true,\"x\":[1,1,1],\"xaxis\":\"x\",\"y\":[\"Italy, United States\",\"United Kingdom, United States\",\"United States\"],\"yaxis\":\"y\",\"type\":\"scattergl\"},{\"hovertemplate\":\"release_year=1967<br>total count=%{x}<br>country=%{y}<extra></extra>\",\"legendgroup\":\"1967\",\"line\":{\"color\":\"#FFA15A\",\"dash\":\"solid\"},\"marker\":{\"symbol\":\"circle\"},\"mode\":\"lines\",\"name\":\"1967\",\"showlegend\":true,\"x\":[1,3,1],\"xaxis\":\"x\",\"y\":[\"Poland\",\"United States\",\"United States\"],\"yaxis\":\"y\",\"type\":\"scattergl\"},{\"hovertemplate\":\"release_year=1961<br>total count=%{x}<br>country=%{y}<extra></extra>\",\"legendgroup\":\"1961\",\"line\":{\"color\":\"#19d3f3\",\"dash\":\"solid\"},\"marker\":{\"symbol\":\"circle\"},\"mode\":\"lines\",\"name\":\"1961\",\"showlegend\":true,\"x\":[1],\"xaxis\":\"x\",\"y\":[\"United Kingdom, United States\"],\"yaxis\":\"y\",\"type\":\"scattergl\"},{\"hovertemplate\":\"release_year=1942<br>total count=%{x}<br>country=%{y}<extra></extra>\",\"legendgroup\":\"1942\",\"line\":{\"color\":\"#FF6692\",\"dash\":\"solid\"},\"marker\":{\"symbol\":\"circle\"},\"mode\":\"lines\",\"name\":\"1942\",\"showlegend\":true,\"x\":[2],\"xaxis\":\"x\",\"y\":[\"United States\"],\"yaxis\":\"y\",\"type\":\"scattergl\"},{\"hovertemplate\":\"release_year=1943<br>total count=%{x}<br>country=%{y}<extra></extra>\",\"legendgroup\":\"1943\",\"line\":{\"color\":\"#B6E880\",\"dash\":\"solid\"},\"marker\":{\"symbol\":\"circle\"},\"mode\":\"lines\",\"name\":\"1943\",\"showlegend\":true,\"x\":[3],\"xaxis\":\"x\",\"y\":[\"United States\"],\"yaxis\":\"y\",\"type\":\"scattergl\"},{\"hovertemplate\":\"release_year=1944<br>total count=%{x}<br>country=%{y}<extra></extra>\",\"legendgroup\":\"1944\",\"line\":{\"color\":\"#FF97FF\",\"dash\":\"solid\"},\"marker\":{\"symbol\":\"circle\"},\"mode\":\"lines\",\"name\":\"1944\",\"showlegend\":true,\"x\":[2,1],\"xaxis\":\"x\",\"y\":[\"United States\",\"United States, United Kingdom\"],\"yaxis\":\"y\",\"type\":\"scattergl\"},{\"hovertemplate\":\"release_year=1945<br>total count=%{x}<br>country=%{y}<extra></extra>\",\"legendgroup\":\"1945\",\"line\":{\"color\":\"#FECB52\",\"dash\":\"solid\"},\"marker\":{\"symbol\":\"circle\"},\"mode\":\"lines\",\"name\":\"1945\",\"showlegend\":true,\"x\":[3,1],\"xaxis\":\"x\",\"y\":[\"United States\",\"United States\"],\"yaxis\":\"y\",\"type\":\"scattergl\"},{\"hovertemplate\":\"release_year=1946<br>total count=%{x}<br>country=%{y}<extra></extra>\",\"legendgroup\":\"1946\",\"line\":{\"color\":\"#636efa\",\"dash\":\"solid\"},\"marker\":{\"symbol\":\"circle\"},\"mode\":\"lines\",\"name\":\"1946\",\"showlegend\":true,\"x\":[1,1],\"xaxis\":\"x\",\"y\":[\"United States\",\"United States\"],\"yaxis\":\"y\",\"type\":\"scattergl\"},{\"hovertemplate\":\"release_year=1947<br>total count=%{x}<br>country=%{y}<extra></extra>\",\"legendgroup\":\"1947\",\"line\":{\"color\":\"#EF553B\",\"dash\":\"solid\"},\"marker\":{\"symbol\":\"circle\"},\"mode\":\"lines\",\"name\":\"1947\",\"showlegend\":true,\"x\":[1],\"xaxis\":\"x\",\"y\":[\"United States\"],\"yaxis\":\"y\",\"type\":\"scattergl\"},{\"hovertemplate\":\"release_year=1965<br>total count=%{x}<br>country=%{y}<extra></extra>\",\"legendgroup\":\"1965\",\"line\":{\"color\":\"#00cc96\",\"dash\":\"solid\"},\"marker\":{\"symbol\":\"circle\"},\"mode\":\"lines\",\"name\":\"1965\",\"showlegend\":true,\"x\":[1,1],\"xaxis\":\"x\",\"y\":[\"United States\",\"United States, Italy, United Kingdom, Liechtenstein\"],\"yaxis\":\"y\",\"type\":\"scattergl\"}],                        {\"template\":{\"data\":{\"histogram2dcontour\":[{\"type\":\"histogram2dcontour\",\"colorbar\":{\"outlinewidth\":0,\"ticks\":\"\"},\"colorscale\":[[0.0,\"#0d0887\"],[0.1111111111111111,\"#46039f\"],[0.2222222222222222,\"#7201a8\"],[0.3333333333333333,\"#9c179e\"],[0.4444444444444444,\"#bd3786\"],[0.5555555555555556,\"#d8576b\"],[0.6666666666666666,\"#ed7953\"],[0.7777777777777778,\"#fb9f3a\"],[0.8888888888888888,\"#fdca26\"],[1.0,\"#f0f921\"]]}],\"choropleth\":[{\"type\":\"choropleth\",\"colorbar\":{\"outlinewidth\":0,\"ticks\":\"\"}}],\"histogram2d\":[{\"type\":\"histogram2d\",\"colorbar\":{\"outlinewidth\":0,\"ticks\":\"\"},\"colorscale\":[[0.0,\"#0d0887\"],[0.1111111111111111,\"#46039f\"],[0.2222222222222222,\"#7201a8\"],[0.3333333333333333,\"#9c179e\"],[0.4444444444444444,\"#bd3786\"],[0.5555555555555556,\"#d8576b\"],[0.6666666666666666,\"#ed7953\"],[0.7777777777777778,\"#fb9f3a\"],[0.8888888888888888,\"#fdca26\"],[1.0,\"#f0f921\"]]}],\"heatmap\":[{\"type\":\"heatmap\",\"colorbar\":{\"outlinewidth\":0,\"ticks\":\"\"},\"colorscale\":[[0.0,\"#0d0887\"],[0.1111111111111111,\"#46039f\"],[0.2222222222222222,\"#7201a8\"],[0.3333333333333333,\"#9c179e\"],[0.4444444444444444,\"#bd3786\"],[0.5555555555555556,\"#d8576b\"],[0.6666666666666666,\"#ed7953\"],[0.7777777777777778,\"#fb9f3a\"],[0.8888888888888888,\"#fdca26\"],[1.0,\"#f0f921\"]]}],\"heatmapgl\":[{\"type\":\"heatmapgl\",\"colorbar\":{\"outlinewidth\":0,\"ticks\":\"\"},\"colorscale\":[[0.0,\"#0d0887\"],[0.1111111111111111,\"#46039f\"],[0.2222222222222222,\"#7201a8\"],[0.3333333333333333,\"#9c179e\"],[0.4444444444444444,\"#bd3786\"],[0.5555555555555556,\"#d8576b\"],[0.6666666666666666,\"#ed7953\"],[0.7777777777777778,\"#fb9f3a\"],[0.8888888888888888,\"#fdca26\"],[1.0,\"#f0f921\"]]}],\"contourcarpet\":[{\"type\":\"contourcarpet\",\"colorbar\":{\"outlinewidth\":0,\"ticks\":\"\"}}],\"contour\":[{\"type\":\"contour\",\"colorbar\":{\"outlinewidth\":0,\"ticks\":\"\"},\"colorscale\":[[0.0,\"#0d0887\"],[0.1111111111111111,\"#46039f\"],[0.2222222222222222,\"#7201a8\"],[0.3333333333333333,\"#9c179e\"],[0.4444444444444444,\"#bd3786\"],[0.5555555555555556,\"#d8576b\"],[0.6666666666666666,\"#ed7953\"],[0.7777777777777778,\"#fb9f3a\"],[0.8888888888888888,\"#fdca26\"],[1.0,\"#f0f921\"]]}],\"surface\":[{\"type\":\"surface\",\"colorbar\":{\"outlinewidth\":0,\"ticks\":\"\"},\"colorscale\":[[0.0,\"#0d0887\"],[0.1111111111111111,\"#46039f\"],[0.2222222222222222,\"#7201a8\"],[0.3333333333333333,\"#9c179e\"],[0.4444444444444444,\"#bd3786\"],[0.5555555555555556,\"#d8576b\"],[0.6666666666666666,\"#ed7953\"],[0.7777777777777778,\"#fb9f3a\"],[0.8888888888888888,\"#fdca26\"],[1.0,\"#f0f921\"]]}],\"mesh3d\":[{\"type\":\"mesh3d\",\"colorbar\":{\"outlinewidth\":0,\"ticks\":\"\"}}],\"scatter\":[{\"fillpattern\":{\"fillmode\":\"overlay\",\"size\":10,\"solidity\":0.2},\"type\":\"scatter\"}],\"parcoords\":[{\"type\":\"parcoords\",\"line\":{\"colorbar\":{\"outlinewidth\":0,\"ticks\":\"\"}}}],\"scatterpolargl\":[{\"type\":\"scatterpolargl\",\"marker\":{\"colorbar\":{\"outlinewidth\":0,\"ticks\":\"\"}}}],\"bar\":[{\"error_x\":{\"color\":\"#2a3f5f\"},\"error_y\":{\"color\":\"#2a3f5f\"},\"marker\":{\"line\":{\"color\":\"#E5ECF6\",\"width\":0.5},\"pattern\":{\"fillmode\":\"overlay\",\"size\":10,\"solidity\":0.2}},\"type\":\"bar\"}],\"scattergeo\":[{\"type\":\"scattergeo\",\"marker\":{\"colorbar\":{\"outlinewidth\":0,\"ticks\":\"\"}}}],\"scatterpolar\":[{\"type\":\"scatterpolar\",\"marker\":{\"colorbar\":{\"outlinewidth\":0,\"ticks\":\"\"}}}],\"histogram\":[{\"marker\":{\"pattern\":{\"fillmode\":\"overlay\",\"size\":10,\"solidity\":0.2}},\"type\":\"histogram\"}],\"scattergl\":[{\"type\":\"scattergl\",\"marker\":{\"colorbar\":{\"outlinewidth\":0,\"ticks\":\"\"}}}],\"scatter3d\":[{\"type\":\"scatter3d\",\"line\":{\"colorbar\":{\"outlinewidth\":0,\"ticks\":\"\"}},\"marker\":{\"colorbar\":{\"outlinewidth\":0,\"ticks\":\"\"}}}],\"scattermapbox\":[{\"type\":\"scattermapbox\",\"marker\":{\"colorbar\":{\"outlinewidth\":0,\"ticks\":\"\"}}}],\"scatterternary\":[{\"type\":\"scatterternary\",\"marker\":{\"colorbar\":{\"outlinewidth\":0,\"ticks\":\"\"}}}],\"scattercarpet\":[{\"type\":\"scattercarpet\",\"marker\":{\"colorbar\":{\"outlinewidth\":0,\"ticks\":\"\"}}}],\"carpet\":[{\"aaxis\":{\"endlinecolor\":\"#2a3f5f\",\"gridcolor\":\"white\",\"linecolor\":\"white\",\"minorgridcolor\":\"white\",\"startlinecolor\":\"#2a3f5f\"},\"baxis\":{\"endlinecolor\":\"#2a3f5f\",\"gridcolor\":\"white\",\"linecolor\":\"white\",\"minorgridcolor\":\"white\",\"startlinecolor\":\"#2a3f5f\"},\"type\":\"carpet\"}],\"table\":[{\"cells\":{\"fill\":{\"color\":\"#EBF0F8\"},\"line\":{\"color\":\"white\"}},\"header\":{\"fill\":{\"color\":\"#C8D4E3\"},\"line\":{\"color\":\"white\"}},\"type\":\"table\"}],\"barpolar\":[{\"marker\":{\"line\":{\"color\":\"#E5ECF6\",\"width\":0.5},\"pattern\":{\"fillmode\":\"overlay\",\"size\":10,\"solidity\":0.2}},\"type\":\"barpolar\"}],\"pie\":[{\"automargin\":true,\"type\":\"pie\"}]},\"layout\":{\"autotypenumbers\":\"strict\",\"colorway\":[\"#636efa\",\"#EF553B\",\"#00cc96\",\"#ab63fa\",\"#FFA15A\",\"#19d3f3\",\"#FF6692\",\"#B6E880\",\"#FF97FF\",\"#FECB52\"],\"font\":{\"color\":\"#2a3f5f\"},\"hovermode\":\"closest\",\"hoverlabel\":{\"align\":\"left\"},\"paper_bgcolor\":\"white\",\"plot_bgcolor\":\"#E5ECF6\",\"polar\":{\"bgcolor\":\"#E5ECF6\",\"angularaxis\":{\"gridcolor\":\"white\",\"linecolor\":\"white\",\"ticks\":\"\"},\"radialaxis\":{\"gridcolor\":\"white\",\"linecolor\":\"white\",\"ticks\":\"\"}},\"ternary\":{\"bgcolor\":\"#E5ECF6\",\"aaxis\":{\"gridcolor\":\"white\",\"linecolor\":\"white\",\"ticks\":\"\"},\"baxis\":{\"gridcolor\":\"white\",\"linecolor\":\"white\",\"ticks\":\"\"},\"caxis\":{\"gridcolor\":\"white\",\"linecolor\":\"white\",\"ticks\":\"\"}},\"coloraxis\":{\"colorbar\":{\"outlinewidth\":0,\"ticks\":\"\"}},\"colorscale\":{\"sequential\":[[0.0,\"#0d0887\"],[0.1111111111111111,\"#46039f\"],[0.2222222222222222,\"#7201a8\"],[0.3333333333333333,\"#9c179e\"],[0.4444444444444444,\"#bd3786\"],[0.5555555555555556,\"#d8576b\"],[0.6666666666666666,\"#ed7953\"],[0.7777777777777778,\"#fb9f3a\"],[0.8888888888888888,\"#fdca26\"],[1.0,\"#f0f921\"]],\"sequentialminus\":[[0.0,\"#0d0887\"],[0.1111111111111111,\"#46039f\"],[0.2222222222222222,\"#7201a8\"],[0.3333333333333333,\"#9c179e\"],[0.4444444444444444,\"#bd3786\"],[0.5555555555555556,\"#d8576b\"],[0.6666666666666666,\"#ed7953\"],[0.7777777777777778,\"#fb9f3a\"],[0.8888888888888888,\"#fdca26\"],[1.0,\"#f0f921\"]],\"diverging\":[[0,\"#8e0152\"],[0.1,\"#c51b7d\"],[0.2,\"#de77ae\"],[0.3,\"#f1b6da\"],[0.4,\"#fde0ef\"],[0.5,\"#f7f7f7\"],[0.6,\"#e6f5d0\"],[0.7,\"#b8e186\"],[0.8,\"#7fbc41\"],[0.9,\"#4d9221\"],[1,\"#276419\"]]},\"xaxis\":{\"gridcolor\":\"white\",\"linecolor\":\"white\",\"ticks\":\"\",\"title\":{\"standoff\":15},\"zerolinecolor\":\"white\",\"automargin\":true,\"zerolinewidth\":2},\"yaxis\":{\"gridcolor\":\"white\",\"linecolor\":\"white\",\"ticks\":\"\",\"title\":{\"standoff\":15},\"zerolinecolor\":\"white\",\"automargin\":true,\"zerolinewidth\":2},\"scene\":{\"xaxis\":{\"backgroundcolor\":\"#E5ECF6\",\"gridcolor\":\"white\",\"linecolor\":\"white\",\"showbackground\":true,\"ticks\":\"\",\"zerolinecolor\":\"white\",\"gridwidth\":2},\"yaxis\":{\"backgroundcolor\":\"#E5ECF6\",\"gridcolor\":\"white\",\"linecolor\":\"white\",\"showbackground\":true,\"ticks\":\"\",\"zerolinecolor\":\"white\",\"gridwidth\":2},\"zaxis\":{\"backgroundcolor\":\"#E5ECF6\",\"gridcolor\":\"white\",\"linecolor\":\"white\",\"showbackground\":true,\"ticks\":\"\",\"zerolinecolor\":\"white\",\"gridwidth\":2}},\"shapedefaults\":{\"line\":{\"color\":\"#2a3f5f\"}},\"annotationdefaults\":{\"arrowcolor\":\"#2a3f5f\",\"arrowhead\":0,\"arrowwidth\":1},\"geo\":{\"bgcolor\":\"white\",\"landcolor\":\"#E5ECF6\",\"subunitcolor\":\"white\",\"showland\":true,\"showlakes\":true,\"lakecolor\":\"white\"},\"title\":{\"x\":0.05},\"mapbox\":{\"style\":\"light\"}}},\"xaxis\":{\"anchor\":\"y\",\"domain\":[0.0,1.0],\"title\":{\"text\":\"total count\"}},\"yaxis\":{\"anchor\":\"x\",\"domain\":[0.0,1.0],\"title\":{\"text\":\"country\"}},\"legend\":{\"title\":{\"text\":\"release_year\"},\"tracegroupgap\":0},\"title\":{\"text\":\"content produced in a country based on every year\"}},                        {\"responsive\": true}                    ).then(function(){\n",
       "                            \n",
       "var gd = document.getElementById('79e8e66b-87f3-401b-8cd6-dcb83e6a4853');\n",
       "var x = new MutationObserver(function (mutations, observer) {{\n",
       "        var display = window.getComputedStyle(gd).display;\n",
       "        if (!display || display === 'none') {{\n",
       "            console.log([gd, 'removed!']);\n",
       "            Plotly.purge(gd);\n",
       "            observer.disconnect();\n",
       "        }}\n",
       "}});\n",
       "\n",
       "// Listen for the removal of the full notebook cells\n",
       "var notebookContainer = gd.closest('#notebook-container');\n",
       "if (notebookContainer) {{\n",
       "    x.observe(notebookContainer, {childList: true});\n",
       "}}\n",
       "\n",
       "// Listen for the clearing of the current output cell\n",
       "var outputEl = gd.closest('.output');\n",
       "if (outputEl) {{\n",
       "    x.observe(outputEl, {childList: true});\n",
       "}}\n",
       "\n",
       "                        })                };                });            </script>        </div>"
      ]
     },
     "metadata": {},
     "output_type": "display_data"
    }
   ],
   "source": [
    "linegraph=ps.line(dff1,x='total count',y='country',color='release_year',title='content produced in a country based on every year')\n",
    "linegraph.show()"
   ]
  },
  {
   "cell_type": "code",
   "execution_count": null,
   "id": "a045836e",
   "metadata": {},
   "outputs": [],
   "source": []
  },
  {
   "cell_type": "code",
   "execution_count": null,
   "id": "8c03a669",
   "metadata": {},
   "outputs": [],
   "source": []
  },
  {
   "cell_type": "code",
   "execution_count": null,
   "id": "abb39e69",
   "metadata": {},
   "outputs": [],
   "source": []
  },
  {
   "cell_type": "markdown",
   "id": "292e530f",
   "metadata": {},
   "source": [
    "## Sentiment Analysis of netflix content"
   ]
  },
  {
   "cell_type": "code",
   "execution_count": 160,
   "id": "f18e50d3",
   "metadata": {},
   "outputs": [
    {
     "data": {
      "application/vnd.plotly.v1+json": {
       "config": {
        "plotlyServerURL": "https://plot.ly"
       },
       "data": [
        {
         "alignmentgroup": "True",
         "hovertemplate": "Sentiment=Negative<br>Release Year=%{x}<br>Total Count=%{y}<extra></extra>",
         "legendgroup": "Negative",
         "marker": {
          "color": "#636efa",
          "pattern": {
           "shape": ""
          }
         },
         "name": "Negative",
         "offsetgroup": "Negative",
         "orientation": "v",
         "showlegend": true,
         "textposition": "auto",
         "type": "bar",
         "x": [
          2006,
          2007,
          2008,
          2009,
          2010,
          2011,
          2012,
          2013,
          2014,
          2015,
          2016,
          2017,
          2018,
          2019,
          2020,
          2021
         ],
         "xaxis": "x",
         "y": [
          29,
          26,
          32,
          40,
          53,
          46,
          73,
          93,
          117,
          167,
          283,
          323,
          355,
          308,
          273,
          164
         ],
         "yaxis": "y"
        },
        {
         "alignmentgroup": "True",
         "hovertemplate": "Sentiment=Neutral<br>Release Year=%{x}<br>Total Count=%{y}<extra></extra>",
         "legendgroup": "Neutral",
         "marker": {
          "color": "#EF553B",
          "pattern": {
           "shape": ""
          }
         },
         "name": "Neutral",
         "offsetgroup": "Neutral",
         "orientation": "v",
         "showlegend": true,
         "textposition": "auto",
         "type": "bar",
         "x": [
          2006,
          2007,
          2008,
          2009,
          2010,
          2011,
          2012,
          2013,
          2014,
          2015,
          2016,
          2017,
          2018,
          2019,
          2020,
          2021
         ],
         "xaxis": "x",
         "y": [
          18,
          21,
          34,
          33,
          40,
          33,
          39,
          44,
          67,
          96,
          152,
          210,
          212,
          170,
          161,
          85
         ],
         "yaxis": "y"
        },
        {
         "alignmentgroup": "True",
         "hovertemplate": "Sentiment=Positive<br>Release Year=%{x}<br>Total Count=%{y}<extra></extra>",
         "legendgroup": "Positive",
         "marker": {
          "color": "#00cc96",
          "pattern": {
           "shape": ""
          }
         },
         "name": "Positive",
         "offsetgroup": "Positive",
         "orientation": "v",
         "showlegend": true,
         "textposition": "auto",
         "type": "bar",
         "x": [
          2006,
          2007,
          2008,
          2009,
          2010,
          2011,
          2012,
          2013,
          2014,
          2015,
          2016,
          2017,
          2018,
          2019,
          2020,
          2021
         ],
         "xaxis": "x",
         "y": [
          49,
          41,
          70,
          79,
          101,
          106,
          125,
          151,
          168,
          297,
          467,
          499,
          580,
          552,
          519,
          343
         ],
         "yaxis": "y"
        }
       ],
       "layout": {
        "barmode": "relative",
        "legend": {
         "title": {
          "text": "Sentiment"
         },
         "tracegroupgap": 0
        },
        "template": {
         "data": {
          "bar": [
           {
            "error_x": {
             "color": "#2a3f5f"
            },
            "error_y": {
             "color": "#2a3f5f"
            },
            "marker": {
             "line": {
              "color": "#E5ECF6",
              "width": 0.5
             },
             "pattern": {
              "fillmode": "overlay",
              "size": 10,
              "solidity": 0.2
             }
            },
            "type": "bar"
           }
          ],
          "barpolar": [
           {
            "marker": {
             "line": {
              "color": "#E5ECF6",
              "width": 0.5
             },
             "pattern": {
              "fillmode": "overlay",
              "size": 10,
              "solidity": 0.2
             }
            },
            "type": "barpolar"
           }
          ],
          "carpet": [
           {
            "aaxis": {
             "endlinecolor": "#2a3f5f",
             "gridcolor": "white",
             "linecolor": "white",
             "minorgridcolor": "white",
             "startlinecolor": "#2a3f5f"
            },
            "baxis": {
             "endlinecolor": "#2a3f5f",
             "gridcolor": "white",
             "linecolor": "white",
             "minorgridcolor": "white",
             "startlinecolor": "#2a3f5f"
            },
            "type": "carpet"
           }
          ],
          "choropleth": [
           {
            "colorbar": {
             "outlinewidth": 0,
             "ticks": ""
            },
            "type": "choropleth"
           }
          ],
          "contour": [
           {
            "colorbar": {
             "outlinewidth": 0,
             "ticks": ""
            },
            "colorscale": [
             [
              0,
              "#0d0887"
             ],
             [
              0.1111111111111111,
              "#46039f"
             ],
             [
              0.2222222222222222,
              "#7201a8"
             ],
             [
              0.3333333333333333,
              "#9c179e"
             ],
             [
              0.4444444444444444,
              "#bd3786"
             ],
             [
              0.5555555555555556,
              "#d8576b"
             ],
             [
              0.6666666666666666,
              "#ed7953"
             ],
             [
              0.7777777777777778,
              "#fb9f3a"
             ],
             [
              0.8888888888888888,
              "#fdca26"
             ],
             [
              1,
              "#f0f921"
             ]
            ],
            "type": "contour"
           }
          ],
          "contourcarpet": [
           {
            "colorbar": {
             "outlinewidth": 0,
             "ticks": ""
            },
            "type": "contourcarpet"
           }
          ],
          "heatmap": [
           {
            "colorbar": {
             "outlinewidth": 0,
             "ticks": ""
            },
            "colorscale": [
             [
              0,
              "#0d0887"
             ],
             [
              0.1111111111111111,
              "#46039f"
             ],
             [
              0.2222222222222222,
              "#7201a8"
             ],
             [
              0.3333333333333333,
              "#9c179e"
             ],
             [
              0.4444444444444444,
              "#bd3786"
             ],
             [
              0.5555555555555556,
              "#d8576b"
             ],
             [
              0.6666666666666666,
              "#ed7953"
             ],
             [
              0.7777777777777778,
              "#fb9f3a"
             ],
             [
              0.8888888888888888,
              "#fdca26"
             ],
             [
              1,
              "#f0f921"
             ]
            ],
            "type": "heatmap"
           }
          ],
          "heatmapgl": [
           {
            "colorbar": {
             "outlinewidth": 0,
             "ticks": ""
            },
            "colorscale": [
             [
              0,
              "#0d0887"
             ],
             [
              0.1111111111111111,
              "#46039f"
             ],
             [
              0.2222222222222222,
              "#7201a8"
             ],
             [
              0.3333333333333333,
              "#9c179e"
             ],
             [
              0.4444444444444444,
              "#bd3786"
             ],
             [
              0.5555555555555556,
              "#d8576b"
             ],
             [
              0.6666666666666666,
              "#ed7953"
             ],
             [
              0.7777777777777778,
              "#fb9f3a"
             ],
             [
              0.8888888888888888,
              "#fdca26"
             ],
             [
              1,
              "#f0f921"
             ]
            ],
            "type": "heatmapgl"
           }
          ],
          "histogram": [
           {
            "marker": {
             "pattern": {
              "fillmode": "overlay",
              "size": 10,
              "solidity": 0.2
             }
            },
            "type": "histogram"
           }
          ],
          "histogram2d": [
           {
            "colorbar": {
             "outlinewidth": 0,
             "ticks": ""
            },
            "colorscale": [
             [
              0,
              "#0d0887"
             ],
             [
              0.1111111111111111,
              "#46039f"
             ],
             [
              0.2222222222222222,
              "#7201a8"
             ],
             [
              0.3333333333333333,
              "#9c179e"
             ],
             [
              0.4444444444444444,
              "#bd3786"
             ],
             [
              0.5555555555555556,
              "#d8576b"
             ],
             [
              0.6666666666666666,
              "#ed7953"
             ],
             [
              0.7777777777777778,
              "#fb9f3a"
             ],
             [
              0.8888888888888888,
              "#fdca26"
             ],
             [
              1,
              "#f0f921"
             ]
            ],
            "type": "histogram2d"
           }
          ],
          "histogram2dcontour": [
           {
            "colorbar": {
             "outlinewidth": 0,
             "ticks": ""
            },
            "colorscale": [
             [
              0,
              "#0d0887"
             ],
             [
              0.1111111111111111,
              "#46039f"
             ],
             [
              0.2222222222222222,
              "#7201a8"
             ],
             [
              0.3333333333333333,
              "#9c179e"
             ],
             [
              0.4444444444444444,
              "#bd3786"
             ],
             [
              0.5555555555555556,
              "#d8576b"
             ],
             [
              0.6666666666666666,
              "#ed7953"
             ],
             [
              0.7777777777777778,
              "#fb9f3a"
             ],
             [
              0.8888888888888888,
              "#fdca26"
             ],
             [
              1,
              "#f0f921"
             ]
            ],
            "type": "histogram2dcontour"
           }
          ],
          "mesh3d": [
           {
            "colorbar": {
             "outlinewidth": 0,
             "ticks": ""
            },
            "type": "mesh3d"
           }
          ],
          "parcoords": [
           {
            "line": {
             "colorbar": {
              "outlinewidth": 0,
              "ticks": ""
             }
            },
            "type": "parcoords"
           }
          ],
          "pie": [
           {
            "automargin": true,
            "type": "pie"
           }
          ],
          "scatter": [
           {
            "fillpattern": {
             "fillmode": "overlay",
             "size": 10,
             "solidity": 0.2
            },
            "type": "scatter"
           }
          ],
          "scatter3d": [
           {
            "line": {
             "colorbar": {
              "outlinewidth": 0,
              "ticks": ""
             }
            },
            "marker": {
             "colorbar": {
              "outlinewidth": 0,
              "ticks": ""
             }
            },
            "type": "scatter3d"
           }
          ],
          "scattercarpet": [
           {
            "marker": {
             "colorbar": {
              "outlinewidth": 0,
              "ticks": ""
             }
            },
            "type": "scattercarpet"
           }
          ],
          "scattergeo": [
           {
            "marker": {
             "colorbar": {
              "outlinewidth": 0,
              "ticks": ""
             }
            },
            "type": "scattergeo"
           }
          ],
          "scattergl": [
           {
            "marker": {
             "colorbar": {
              "outlinewidth": 0,
              "ticks": ""
             }
            },
            "type": "scattergl"
           }
          ],
          "scattermapbox": [
           {
            "marker": {
             "colorbar": {
              "outlinewidth": 0,
              "ticks": ""
             }
            },
            "type": "scattermapbox"
           }
          ],
          "scatterpolar": [
           {
            "marker": {
             "colorbar": {
              "outlinewidth": 0,
              "ticks": ""
             }
            },
            "type": "scatterpolar"
           }
          ],
          "scatterpolargl": [
           {
            "marker": {
             "colorbar": {
              "outlinewidth": 0,
              "ticks": ""
             }
            },
            "type": "scatterpolargl"
           }
          ],
          "scatterternary": [
           {
            "marker": {
             "colorbar": {
              "outlinewidth": 0,
              "ticks": ""
             }
            },
            "type": "scatterternary"
           }
          ],
          "surface": [
           {
            "colorbar": {
             "outlinewidth": 0,
             "ticks": ""
            },
            "colorscale": [
             [
              0,
              "#0d0887"
             ],
             [
              0.1111111111111111,
              "#46039f"
             ],
             [
              0.2222222222222222,
              "#7201a8"
             ],
             [
              0.3333333333333333,
              "#9c179e"
             ],
             [
              0.4444444444444444,
              "#bd3786"
             ],
             [
              0.5555555555555556,
              "#d8576b"
             ],
             [
              0.6666666666666666,
              "#ed7953"
             ],
             [
              0.7777777777777778,
              "#fb9f3a"
             ],
             [
              0.8888888888888888,
              "#fdca26"
             ],
             [
              1,
              "#f0f921"
             ]
            ],
            "type": "surface"
           }
          ],
          "table": [
           {
            "cells": {
             "fill": {
              "color": "#EBF0F8"
             },
             "line": {
              "color": "white"
             }
            },
            "header": {
             "fill": {
              "color": "#C8D4E3"
             },
             "line": {
              "color": "white"
             }
            },
            "type": "table"
           }
          ]
         },
         "layout": {
          "annotationdefaults": {
           "arrowcolor": "#2a3f5f",
           "arrowhead": 0,
           "arrowwidth": 1
          },
          "autotypenumbers": "strict",
          "coloraxis": {
           "colorbar": {
            "outlinewidth": 0,
            "ticks": ""
           }
          },
          "colorscale": {
           "diverging": [
            [
             0,
             "#8e0152"
            ],
            [
             0.1,
             "#c51b7d"
            ],
            [
             0.2,
             "#de77ae"
            ],
            [
             0.3,
             "#f1b6da"
            ],
            [
             0.4,
             "#fde0ef"
            ],
            [
             0.5,
             "#f7f7f7"
            ],
            [
             0.6,
             "#e6f5d0"
            ],
            [
             0.7,
             "#b8e186"
            ],
            [
             0.8,
             "#7fbc41"
            ],
            [
             0.9,
             "#4d9221"
            ],
            [
             1,
             "#276419"
            ]
           ],
           "sequential": [
            [
             0,
             "#0d0887"
            ],
            [
             0.1111111111111111,
             "#46039f"
            ],
            [
             0.2222222222222222,
             "#7201a8"
            ],
            [
             0.3333333333333333,
             "#9c179e"
            ],
            [
             0.4444444444444444,
             "#bd3786"
            ],
            [
             0.5555555555555556,
             "#d8576b"
            ],
            [
             0.6666666666666666,
             "#ed7953"
            ],
            [
             0.7777777777777778,
             "#fb9f3a"
            ],
            [
             0.8888888888888888,
             "#fdca26"
            ],
            [
             1,
             "#f0f921"
            ]
           ],
           "sequentialminus": [
            [
             0,
             "#0d0887"
            ],
            [
             0.1111111111111111,
             "#46039f"
            ],
            [
             0.2222222222222222,
             "#7201a8"
            ],
            [
             0.3333333333333333,
             "#9c179e"
            ],
            [
             0.4444444444444444,
             "#bd3786"
            ],
            [
             0.5555555555555556,
             "#d8576b"
            ],
            [
             0.6666666666666666,
             "#ed7953"
            ],
            [
             0.7777777777777778,
             "#fb9f3a"
            ],
            [
             0.8888888888888888,
             "#fdca26"
            ],
            [
             1,
             "#f0f921"
            ]
           ]
          },
          "colorway": [
           "#636efa",
           "#EF553B",
           "#00cc96",
           "#ab63fa",
           "#FFA15A",
           "#19d3f3",
           "#FF6692",
           "#B6E880",
           "#FF97FF",
           "#FECB52"
          ],
          "font": {
           "color": "#2a3f5f"
          },
          "geo": {
           "bgcolor": "white",
           "lakecolor": "white",
           "landcolor": "#E5ECF6",
           "showlakes": true,
           "showland": true,
           "subunitcolor": "white"
          },
          "hoverlabel": {
           "align": "left"
          },
          "hovermode": "closest",
          "mapbox": {
           "style": "light"
          },
          "paper_bgcolor": "white",
          "plot_bgcolor": "#E5ECF6",
          "polar": {
           "angularaxis": {
            "gridcolor": "white",
            "linecolor": "white",
            "ticks": ""
           },
           "bgcolor": "#E5ECF6",
           "radialaxis": {
            "gridcolor": "white",
            "linecolor": "white",
            "ticks": ""
           }
          },
          "scene": {
           "xaxis": {
            "backgroundcolor": "#E5ECF6",
            "gridcolor": "white",
            "gridwidth": 2,
            "linecolor": "white",
            "showbackground": true,
            "ticks": "",
            "zerolinecolor": "white"
           },
           "yaxis": {
            "backgroundcolor": "#E5ECF6",
            "gridcolor": "white",
            "gridwidth": 2,
            "linecolor": "white",
            "showbackground": true,
            "ticks": "",
            "zerolinecolor": "white"
           },
           "zaxis": {
            "backgroundcolor": "#E5ECF6",
            "gridcolor": "white",
            "gridwidth": 2,
            "linecolor": "white",
            "showbackground": true,
            "ticks": "",
            "zerolinecolor": "white"
           }
          },
          "shapedefaults": {
           "line": {
            "color": "#2a3f5f"
           }
          },
          "ternary": {
           "aaxis": {
            "gridcolor": "white",
            "linecolor": "white",
            "ticks": ""
           },
           "baxis": {
            "gridcolor": "white",
            "linecolor": "white",
            "ticks": ""
           },
           "bgcolor": "#E5ECF6",
           "caxis": {
            "gridcolor": "white",
            "linecolor": "white",
            "ticks": ""
           }
          },
          "title": {
           "x": 0.05
          },
          "xaxis": {
           "automargin": true,
           "gridcolor": "white",
           "linecolor": "white",
           "ticks": "",
           "title": {
            "standoff": 15
           },
           "zerolinecolor": "white",
           "zerolinewidth": 2
          },
          "yaxis": {
           "automargin": true,
           "gridcolor": "white",
           "linecolor": "white",
           "ticks": "",
           "title": {
            "standoff": 15
           },
           "zerolinecolor": "white",
           "zerolinewidth": 2
          }
         }
        },
        "title": {
         "text": "Sentiment Analysis of Content on Netflix"
        },
        "xaxis": {
         "anchor": "y",
         "domain": [
          0,
          1
         ],
         "title": {
          "text": "Release Year"
         }
        },
        "yaxis": {
         "anchor": "x",
         "domain": [
          0,
          1
         ],
         "title": {
          "text": "Total Count"
         }
        }
       }
      },
      "text/html": [
       "<div>                            <div id=\"221db9f5-f8bd-4e07-9dcd-c3a0d3c8abc5\" class=\"plotly-graph-div\" style=\"height:525px; width:100%;\"></div>            <script type=\"text/javascript\">                require([\"plotly\"], function(Plotly) {                    window.PLOTLYENV=window.PLOTLYENV || {};                                    if (document.getElementById(\"221db9f5-f8bd-4e07-9dcd-c3a0d3c8abc5\")) {                    Plotly.newPlot(                        \"221db9f5-f8bd-4e07-9dcd-c3a0d3c8abc5\",                        [{\"alignmentgroup\":\"True\",\"hovertemplate\":\"Sentiment=Negative<br>Release Year=%{x}<br>Total Count=%{y}<extra></extra>\",\"legendgroup\":\"Negative\",\"marker\":{\"color\":\"#636efa\",\"pattern\":{\"shape\":\"\"}},\"name\":\"Negative\",\"offsetgroup\":\"Negative\",\"orientation\":\"v\",\"showlegend\":true,\"textposition\":\"auto\",\"x\":[2006,2007,2008,2009,2010,2011,2012,2013,2014,2015,2016,2017,2018,2019,2020,2021],\"xaxis\":\"x\",\"y\":[29,26,32,40,53,46,73,93,117,167,283,323,355,308,273,164],\"yaxis\":\"y\",\"type\":\"bar\"},{\"alignmentgroup\":\"True\",\"hovertemplate\":\"Sentiment=Neutral<br>Release Year=%{x}<br>Total Count=%{y}<extra></extra>\",\"legendgroup\":\"Neutral\",\"marker\":{\"color\":\"#EF553B\",\"pattern\":{\"shape\":\"\"}},\"name\":\"Neutral\",\"offsetgroup\":\"Neutral\",\"orientation\":\"v\",\"showlegend\":true,\"textposition\":\"auto\",\"x\":[2006,2007,2008,2009,2010,2011,2012,2013,2014,2015,2016,2017,2018,2019,2020,2021],\"xaxis\":\"x\",\"y\":[18,21,34,33,40,33,39,44,67,96,152,210,212,170,161,85],\"yaxis\":\"y\",\"type\":\"bar\"},{\"alignmentgroup\":\"True\",\"hovertemplate\":\"Sentiment=Positive<br>Release Year=%{x}<br>Total Count=%{y}<extra></extra>\",\"legendgroup\":\"Positive\",\"marker\":{\"color\":\"#00cc96\",\"pattern\":{\"shape\":\"\"}},\"name\":\"Positive\",\"offsetgroup\":\"Positive\",\"orientation\":\"v\",\"showlegend\":true,\"textposition\":\"auto\",\"x\":[2006,2007,2008,2009,2010,2011,2012,2013,2014,2015,2016,2017,2018,2019,2020,2021],\"xaxis\":\"x\",\"y\":[49,41,70,79,101,106,125,151,168,297,467,499,580,552,519,343],\"yaxis\":\"y\",\"type\":\"bar\"}],                        {\"template\":{\"data\":{\"histogram2dcontour\":[{\"type\":\"histogram2dcontour\",\"colorbar\":{\"outlinewidth\":0,\"ticks\":\"\"},\"colorscale\":[[0.0,\"#0d0887\"],[0.1111111111111111,\"#46039f\"],[0.2222222222222222,\"#7201a8\"],[0.3333333333333333,\"#9c179e\"],[0.4444444444444444,\"#bd3786\"],[0.5555555555555556,\"#d8576b\"],[0.6666666666666666,\"#ed7953\"],[0.7777777777777778,\"#fb9f3a\"],[0.8888888888888888,\"#fdca26\"],[1.0,\"#f0f921\"]]}],\"choropleth\":[{\"type\":\"choropleth\",\"colorbar\":{\"outlinewidth\":0,\"ticks\":\"\"}}],\"histogram2d\":[{\"type\":\"histogram2d\",\"colorbar\":{\"outlinewidth\":0,\"ticks\":\"\"},\"colorscale\":[[0.0,\"#0d0887\"],[0.1111111111111111,\"#46039f\"],[0.2222222222222222,\"#7201a8\"],[0.3333333333333333,\"#9c179e\"],[0.4444444444444444,\"#bd3786\"],[0.5555555555555556,\"#d8576b\"],[0.6666666666666666,\"#ed7953\"],[0.7777777777777778,\"#fb9f3a\"],[0.8888888888888888,\"#fdca26\"],[1.0,\"#f0f921\"]]}],\"heatmap\":[{\"type\":\"heatmap\",\"colorbar\":{\"outlinewidth\":0,\"ticks\":\"\"},\"colorscale\":[[0.0,\"#0d0887\"],[0.1111111111111111,\"#46039f\"],[0.2222222222222222,\"#7201a8\"],[0.3333333333333333,\"#9c179e\"],[0.4444444444444444,\"#bd3786\"],[0.5555555555555556,\"#d8576b\"],[0.6666666666666666,\"#ed7953\"],[0.7777777777777778,\"#fb9f3a\"],[0.8888888888888888,\"#fdca26\"],[1.0,\"#f0f921\"]]}],\"heatmapgl\":[{\"type\":\"heatmapgl\",\"colorbar\":{\"outlinewidth\":0,\"ticks\":\"\"},\"colorscale\":[[0.0,\"#0d0887\"],[0.1111111111111111,\"#46039f\"],[0.2222222222222222,\"#7201a8\"],[0.3333333333333333,\"#9c179e\"],[0.4444444444444444,\"#bd3786\"],[0.5555555555555556,\"#d8576b\"],[0.6666666666666666,\"#ed7953\"],[0.7777777777777778,\"#fb9f3a\"],[0.8888888888888888,\"#fdca26\"],[1.0,\"#f0f921\"]]}],\"contourcarpet\":[{\"type\":\"contourcarpet\",\"colorbar\":{\"outlinewidth\":0,\"ticks\":\"\"}}],\"contour\":[{\"type\":\"contour\",\"colorbar\":{\"outlinewidth\":0,\"ticks\":\"\"},\"colorscale\":[[0.0,\"#0d0887\"],[0.1111111111111111,\"#46039f\"],[0.2222222222222222,\"#7201a8\"],[0.3333333333333333,\"#9c179e\"],[0.4444444444444444,\"#bd3786\"],[0.5555555555555556,\"#d8576b\"],[0.6666666666666666,\"#ed7953\"],[0.7777777777777778,\"#fb9f3a\"],[0.8888888888888888,\"#fdca26\"],[1.0,\"#f0f921\"]]}],\"surface\":[{\"type\":\"surface\",\"colorbar\":{\"outlinewidth\":0,\"ticks\":\"\"},\"colorscale\":[[0.0,\"#0d0887\"],[0.1111111111111111,\"#46039f\"],[0.2222222222222222,\"#7201a8\"],[0.3333333333333333,\"#9c179e\"],[0.4444444444444444,\"#bd3786\"],[0.5555555555555556,\"#d8576b\"],[0.6666666666666666,\"#ed7953\"],[0.7777777777777778,\"#fb9f3a\"],[0.8888888888888888,\"#fdca26\"],[1.0,\"#f0f921\"]]}],\"mesh3d\":[{\"type\":\"mesh3d\",\"colorbar\":{\"outlinewidth\":0,\"ticks\":\"\"}}],\"scatter\":[{\"fillpattern\":{\"fillmode\":\"overlay\",\"size\":10,\"solidity\":0.2},\"type\":\"scatter\"}],\"parcoords\":[{\"type\":\"parcoords\",\"line\":{\"colorbar\":{\"outlinewidth\":0,\"ticks\":\"\"}}}],\"scatterpolargl\":[{\"type\":\"scatterpolargl\",\"marker\":{\"colorbar\":{\"outlinewidth\":0,\"ticks\":\"\"}}}],\"bar\":[{\"error_x\":{\"color\":\"#2a3f5f\"},\"error_y\":{\"color\":\"#2a3f5f\"},\"marker\":{\"line\":{\"color\":\"#E5ECF6\",\"width\":0.5},\"pattern\":{\"fillmode\":\"overlay\",\"size\":10,\"solidity\":0.2}},\"type\":\"bar\"}],\"scattergeo\":[{\"type\":\"scattergeo\",\"marker\":{\"colorbar\":{\"outlinewidth\":0,\"ticks\":\"\"}}}],\"scatterpolar\":[{\"type\":\"scatterpolar\",\"marker\":{\"colorbar\":{\"outlinewidth\":0,\"ticks\":\"\"}}}],\"histogram\":[{\"marker\":{\"pattern\":{\"fillmode\":\"overlay\",\"size\":10,\"solidity\":0.2}},\"type\":\"histogram\"}],\"scattergl\":[{\"type\":\"scattergl\",\"marker\":{\"colorbar\":{\"outlinewidth\":0,\"ticks\":\"\"}}}],\"scatter3d\":[{\"type\":\"scatter3d\",\"line\":{\"colorbar\":{\"outlinewidth\":0,\"ticks\":\"\"}},\"marker\":{\"colorbar\":{\"outlinewidth\":0,\"ticks\":\"\"}}}],\"scattermapbox\":[{\"type\":\"scattermapbox\",\"marker\":{\"colorbar\":{\"outlinewidth\":0,\"ticks\":\"\"}}}],\"scatterternary\":[{\"type\":\"scatterternary\",\"marker\":{\"colorbar\":{\"outlinewidth\":0,\"ticks\":\"\"}}}],\"scattercarpet\":[{\"type\":\"scattercarpet\",\"marker\":{\"colorbar\":{\"outlinewidth\":0,\"ticks\":\"\"}}}],\"carpet\":[{\"aaxis\":{\"endlinecolor\":\"#2a3f5f\",\"gridcolor\":\"white\",\"linecolor\":\"white\",\"minorgridcolor\":\"white\",\"startlinecolor\":\"#2a3f5f\"},\"baxis\":{\"endlinecolor\":\"#2a3f5f\",\"gridcolor\":\"white\",\"linecolor\":\"white\",\"minorgridcolor\":\"white\",\"startlinecolor\":\"#2a3f5f\"},\"type\":\"carpet\"}],\"table\":[{\"cells\":{\"fill\":{\"color\":\"#EBF0F8\"},\"line\":{\"color\":\"white\"}},\"header\":{\"fill\":{\"color\":\"#C8D4E3\"},\"line\":{\"color\":\"white\"}},\"type\":\"table\"}],\"barpolar\":[{\"marker\":{\"line\":{\"color\":\"#E5ECF6\",\"width\":0.5},\"pattern\":{\"fillmode\":\"overlay\",\"size\":10,\"solidity\":0.2}},\"type\":\"barpolar\"}],\"pie\":[{\"automargin\":true,\"type\":\"pie\"}]},\"layout\":{\"autotypenumbers\":\"strict\",\"colorway\":[\"#636efa\",\"#EF553B\",\"#00cc96\",\"#ab63fa\",\"#FFA15A\",\"#19d3f3\",\"#FF6692\",\"#B6E880\",\"#FF97FF\",\"#FECB52\"],\"font\":{\"color\":\"#2a3f5f\"},\"hovermode\":\"closest\",\"hoverlabel\":{\"align\":\"left\"},\"paper_bgcolor\":\"white\",\"plot_bgcolor\":\"#E5ECF6\",\"polar\":{\"bgcolor\":\"#E5ECF6\",\"angularaxis\":{\"gridcolor\":\"white\",\"linecolor\":\"white\",\"ticks\":\"\"},\"radialaxis\":{\"gridcolor\":\"white\",\"linecolor\":\"white\",\"ticks\":\"\"}},\"ternary\":{\"bgcolor\":\"#E5ECF6\",\"aaxis\":{\"gridcolor\":\"white\",\"linecolor\":\"white\",\"ticks\":\"\"},\"baxis\":{\"gridcolor\":\"white\",\"linecolor\":\"white\",\"ticks\":\"\"},\"caxis\":{\"gridcolor\":\"white\",\"linecolor\":\"white\",\"ticks\":\"\"}},\"coloraxis\":{\"colorbar\":{\"outlinewidth\":0,\"ticks\":\"\"}},\"colorscale\":{\"sequential\":[[0.0,\"#0d0887\"],[0.1111111111111111,\"#46039f\"],[0.2222222222222222,\"#7201a8\"],[0.3333333333333333,\"#9c179e\"],[0.4444444444444444,\"#bd3786\"],[0.5555555555555556,\"#d8576b\"],[0.6666666666666666,\"#ed7953\"],[0.7777777777777778,\"#fb9f3a\"],[0.8888888888888888,\"#fdca26\"],[1.0,\"#f0f921\"]],\"sequentialminus\":[[0.0,\"#0d0887\"],[0.1111111111111111,\"#46039f\"],[0.2222222222222222,\"#7201a8\"],[0.3333333333333333,\"#9c179e\"],[0.4444444444444444,\"#bd3786\"],[0.5555555555555556,\"#d8576b\"],[0.6666666666666666,\"#ed7953\"],[0.7777777777777778,\"#fb9f3a\"],[0.8888888888888888,\"#fdca26\"],[1.0,\"#f0f921\"]],\"diverging\":[[0,\"#8e0152\"],[0.1,\"#c51b7d\"],[0.2,\"#de77ae\"],[0.3,\"#f1b6da\"],[0.4,\"#fde0ef\"],[0.5,\"#f7f7f7\"],[0.6,\"#e6f5d0\"],[0.7,\"#b8e186\"],[0.8,\"#7fbc41\"],[0.9,\"#4d9221\"],[1,\"#276419\"]]},\"xaxis\":{\"gridcolor\":\"white\",\"linecolor\":\"white\",\"ticks\":\"\",\"title\":{\"standoff\":15},\"zerolinecolor\":\"white\",\"automargin\":true,\"zerolinewidth\":2},\"yaxis\":{\"gridcolor\":\"white\",\"linecolor\":\"white\",\"ticks\":\"\",\"title\":{\"standoff\":15},\"zerolinecolor\":\"white\",\"automargin\":true,\"zerolinewidth\":2},\"scene\":{\"xaxis\":{\"backgroundcolor\":\"#E5ECF6\",\"gridcolor\":\"white\",\"linecolor\":\"white\",\"showbackground\":true,\"ticks\":\"\",\"zerolinecolor\":\"white\",\"gridwidth\":2},\"yaxis\":{\"backgroundcolor\":\"#E5ECF6\",\"gridcolor\":\"white\",\"linecolor\":\"white\",\"showbackground\":true,\"ticks\":\"\",\"zerolinecolor\":\"white\",\"gridwidth\":2},\"zaxis\":{\"backgroundcolor\":\"#E5ECF6\",\"gridcolor\":\"white\",\"linecolor\":\"white\",\"showbackground\":true,\"ticks\":\"\",\"zerolinecolor\":\"white\",\"gridwidth\":2}},\"shapedefaults\":{\"line\":{\"color\":\"#2a3f5f\"}},\"annotationdefaults\":{\"arrowcolor\":\"#2a3f5f\",\"arrowhead\":0,\"arrowwidth\":1},\"geo\":{\"bgcolor\":\"white\",\"landcolor\":\"#E5ECF6\",\"subunitcolor\":\"white\",\"showland\":true,\"showlakes\":true,\"lakecolor\":\"white\"},\"title\":{\"x\":0.05},\"mapbox\":{\"style\":\"light\"}}},\"xaxis\":{\"anchor\":\"y\",\"domain\":[0.0,1.0],\"title\":{\"text\":\"Release Year\"}},\"yaxis\":{\"anchor\":\"x\",\"domain\":[0.0,1.0],\"title\":{\"text\":\"Total Count\"}},\"legend\":{\"title\":{\"text\":\"Sentiment\"},\"tracegroupgap\":0},\"title\":{\"text\":\"Sentiment Analysis of Content on Netflix\"},\"barmode\":\"relative\"},                        {\"responsive\": true}                    ).then(function(){\n",
       "                            \n",
       "var gd = document.getElementById('221db9f5-f8bd-4e07-9dcd-c3a0d3c8abc5');\n",
       "var x = new MutationObserver(function (mutations, observer) {{\n",
       "        var display = window.getComputedStyle(gd).display;\n",
       "        if (!display || display === 'none') {{\n",
       "            console.log([gd, 'removed!']);\n",
       "            Plotly.purge(gd);\n",
       "            observer.disconnect();\n",
       "        }}\n",
       "}});\n",
       "\n",
       "// Listen for the removal of the full notebook cells\n",
       "var notebookContainer = gd.closest('#notebook-container');\n",
       "if (notebookContainer) {{\n",
       "    x.observe(notebookContainer, {childList: true});\n",
       "}}\n",
       "\n",
       "// Listen for the clearing of the current output cell\n",
       "var outputEl = gd.closest('.output');\n",
       "if (outputEl) {{\n",
       "    x.observe(outputEl, {childList: true});\n",
       "}}\n",
       "\n",
       "                        })                };                });            </script>        </div>"
      ]
     },
     "metadata": {},
     "output_type": "display_data"
    }
   ],
   "source": [
    "df3 = df[['release_year', 'description']]\n",
    "df3 = df3.rename(columns = {'release_year':'Release Year', 'description':'Description'})\n",
    "for index, row in df3.iterrows():\n",
    "  d=row['Description']\n",
    "  testimonial = TextBlob(d)\n",
    "  p = testimonial.sentiment.polarity\n",
    "  if p==0:\n",
    "    sent = 'Neutral'\n",
    "  elif p>0:\n",
    "    sent = 'Positive'\n",
    "  else:\n",
    "    sent = 'Negative'\n",
    "  df3.loc[[index, 2], 'Sentiment']=sent\n",
    "\n",
    "df3 = df3.groupby(['Release Year', 'Sentiment']).size().reset_index(name = 'Total Count')\n",
    "\n",
    "df3 = df3[df3['Release Year']>2005]\n",
    "barGraph = ps.bar(df3, x=\"Release Year\", y=\"Total Count\", color = \"Sentiment\", title = \"Sentiment Analysis of Content on Netflix\")\n",
    "barGraph.show()"
   ]
  },
  {
   "cell_type": "code",
   "execution_count": null,
   "id": "ce23432b",
   "metadata": {},
   "outputs": [],
   "source": []
  }
 ],
 "metadata": {
  "kernelspec": {
   "display_name": "Python 3 (ipykernel)",
   "language": "python",
   "name": "python3"
  },
  "language_info": {
   "codemirror_mode": {
    "name": "ipython",
    "version": 3
   },
   "file_extension": ".py",
   "mimetype": "text/x-python",
   "name": "python",
   "nbconvert_exporter": "python",
   "pygments_lexer": "ipython3",
   "version": "3.11.4"
  }
 },
 "nbformat": 4,
 "nbformat_minor": 5
}
